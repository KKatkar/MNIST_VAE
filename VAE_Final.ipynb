{
 "cells": [
  {
   "cell_type": "code",
   "execution_count": null,
   "metadata": {
    "id": "5WlcEjk4yEok"
   },
   "outputs": [],
   "source": []
  },
  {
   "cell_type": "code",
   "execution_count": 1,
   "metadata": {
    "colab": {
     "base_uri": "https://localhost:8080/"
    },
    "id": "_NRih-yCyGgD",
    "outputId": "e9250b0d-d9f9-4170-f0bd-61a4a848beaf"
   },
   "outputs": [
    {
     "name": "stdout",
     "output_type": "stream",
     "text": [
      "Mounted at /content/drive\n"
     ]
    }
   ],
   "source": [
    "from google.colab import drive\n",
    "drive.mount('/content/drive')"
   ]
  },
  {
   "cell_type": "code",
   "execution_count": 3,
   "metadata": {
    "id": "YYagUp5eoovN"
   },
   "outputs": [],
   "source": [
    "import torch\n",
    "import torchvision\n",
    "import torch.optim as optim\n",
    "import argparse\n",
    "import matplotlib\n",
    "import numpy as np\n",
    "import torch.nn as nn\n",
    "import matplotlib.pyplot as plt\n",
    "import torchvision.transforms as transforms\n",
    "import model\n",
    "from tqdm import tqdm\n",
    "from torchvision import datasets\n",
    "from scipy.stats import norm\n",
    "from torch.utils.data import DataLoader\n",
    "from torchvision.utils import save_image\n",
    "\n",
    "from matplotlib import pyplot as plt\n",
    "matplotlib.style.use('ggplot')"
   ]
  },
  {
   "cell_type": "code",
   "execution_count": 4,
   "metadata": {
    "id": "wE9ySe5CoovU"
   },
   "outputs": [],
   "source": [
    "losses_train = []\n",
    "losses_val = []\n",
    "e_list = (0,4,9,49,99,149,199,249,299,349,399,449,499,549,599,649,699,749,799,849,899,949,999,1099,1199)"
   ]
  },
  {
   "cell_type": "code",
   "execution_count": 5,
   "metadata": {
    "id": "Qa1LJrNgoovV"
   },
   "outputs": [],
   "source": [
    "#Learning parameters\n",
    "epochs = 1000\n",
    "batch_size = 128\n",
    "lr = 0.0002\n",
    "device = torch.device('cuda' if torch.cuda.is_available() else 'cpu')\n"
   ]
  },
  {
   "cell_type": "code",
   "execution_count": 6,
   "metadata": {
    "colab": {
     "base_uri": "https://localhost:8080/",
     "height": 400,
     "referenced_widgets": [
      "8d9d36ab060a4055b99a7d8f4347885b",
      "06414e5d171b40fd9dd8bf6d1594cbdc",
      "d6f86e2771944036bbd94f0c334c0255",
      "88a058621fb14db2a8dea8ace306262d",
      "46ffd51377004b1785888c9eeb26f3b7",
      "fdeb9f227a834824acbb191eb45b6fe9",
      "0a762bea95364e5592483a7ba2582074",
      "70423fcb83354cc0aa0ced8c6ce1dab0",
      "62a7bf4565334a6893c2e91b339b46a1",
      "dbdd45daf5df450a8d7f94c650fc5785",
      "f6fb469a43384914aad143ee2f3811d1",
      "16ae78af864d413fae2f9ebb578fa691",
      "201fb1b9b5cd41a0a903c820196f0e58",
      "afc96e36db4a42d08d9c20ba605c2393",
      "de7f2bbbf59d4e10bac61a6f3f5e2bdc",
      "424dd7bca80c43bcad2a26efd687cf35",
      "d95ee6d717d8441997a37e89e1b1cf0f",
      "df55ec5e20f34269958e4988f669203b",
      "48b821cf7ca84fe59dc171348c6701b9",
      "7d14f26937964464bba06a49786eb0ee",
      "5f5c253dc6b64e48916186347186e17f",
      "45d2f4088fc5482c9ec3f72b3a7ad34c",
      "906fb5f2a9674c4b9a77097df748b276",
      "c90f117d7e5d4a00a1fba245f229e659",
      "80c91a7abcbe476ea55b2c159ea0f2bb",
      "d1d0527ab6904934bfb9a1f8fcc78719",
      "98930ac0ccc146e8bfffa6764e98f978",
      "dd4e4e14a8df4f90b03435379270414a",
      "4e30042b6b2d4f4d804217ce77c156e4",
      "81d76bd01fa94e82af40c689a4cea9cc",
      "0a5a8acbfa93418596b8b46b40eb1ece",
      "2998eaebde29480382cbd946013a4d5c"
     ]
    },
    "id": "x1oVtTTBoovV",
    "outputId": "0b81f6b4-7d4c-42d3-a99a-84fb515786fa"
   },
   "outputs": [
    {
     "name": "stdout",
     "output_type": "stream",
     "text": [
      "Downloading http://yann.lecun.com/exdb/mnist/train-images-idx3-ubyte.gz to ../input/data/MNIST/raw/train-images-idx3-ubyte.gz\n"
     ]
    },
    {
     "data": {
      "application/vnd.jupyter.widget-view+json": {
       "model_id": "8d9d36ab060a4055b99a7d8f4347885b",
       "version_major": 2,
       "version_minor": 0
      },
      "text/plain": [
       "HBox(children=(FloatProgress(value=1.0, bar_style='info', max=1.0), HTML(value='')))"
      ]
     },
     "metadata": {
      "tags": []
     },
     "output_type": "display_data"
    },
    {
     "name": "stdout",
     "output_type": "stream",
     "text": [
      "Extracting ../input/data/MNIST/raw/train-images-idx3-ubyte.gz to ../input/data/MNIST/raw\n",
      "Downloading http://yann.lecun.com/exdb/mnist/train-labels-idx1-ubyte.gz to ../input/data/MNIST/raw/train-labels-idx1-ubyte.gz\n"
     ]
    },
    {
     "data": {
      "application/vnd.jupyter.widget-view+json": {
       "model_id": "62a7bf4565334a6893c2e91b339b46a1",
       "version_major": 2,
       "version_minor": 0
      },
      "text/plain": [
       "HBox(children=(FloatProgress(value=1.0, bar_style='info', max=1.0), HTML(value='')))"
      ]
     },
     "metadata": {
      "tags": []
     },
     "output_type": "display_data"
    },
    {
     "name": "stdout",
     "output_type": "stream",
     "text": [
      "Extracting ../input/data/MNIST/raw/train-labels-idx1-ubyte.gz to ../input/data/MNIST/raw\n",
      "Downloading http://yann.lecun.com/exdb/mnist/t10k-images-idx3-ubyte.gz to ../input/data/MNIST/raw/t10k-images-idx3-ubyte.gz\n"
     ]
    },
    {
     "data": {
      "application/vnd.jupyter.widget-view+json": {
       "model_id": "d95ee6d717d8441997a37e89e1b1cf0f",
       "version_major": 2,
       "version_minor": 0
      },
      "text/plain": [
       "HBox(children=(FloatProgress(value=1.0, bar_style='info', max=1.0), HTML(value='')))"
      ]
     },
     "metadata": {
      "tags": []
     },
     "output_type": "display_data"
    },
    {
     "name": "stdout",
     "output_type": "stream",
     "text": [
      "Extracting ../input/data/MNIST/raw/t10k-images-idx3-ubyte.gz to ../input/data/MNIST/raw\n",
      "Downloading http://yann.lecun.com/exdb/mnist/t10k-labels-idx1-ubyte.gz to ../input/data/MNIST/raw/t10k-labels-idx1-ubyte.gz\n",
      "\n",
      "\n"
     ]
    },
    {
     "data": {
      "application/vnd.jupyter.widget-view+json": {
       "model_id": "80c91a7abcbe476ea55b2c159ea0f2bb",
       "version_major": 2,
       "version_minor": 0
      },
      "text/plain": [
       "HBox(children=(FloatProgress(value=1.0, bar_style='info', max=1.0), HTML(value='')))"
      ]
     },
     "metadata": {
      "tags": []
     },
     "output_type": "display_data"
    },
    {
     "name": "stdout",
     "output_type": "stream",
     "text": [
      "Extracting ../input/data/MNIST/raw/t10k-labels-idx1-ubyte.gz to ../input/data/MNIST/raw\n",
      "Processing...\n",
      "Done!\n"
     ]
    },
    {
     "name": "stderr",
     "output_type": "stream",
     "text": [
      "/usr/local/lib/python3.6/dist-packages/torchvision/datasets/mnist.py:480: UserWarning: The given NumPy array is not writeable, and PyTorch does not support non-writeable tensors. This means you can write to the underlying (supposedly non-writeable) NumPy array using the tensor. You may want to copy the array to protect its data or make it writeable before converting it to a tensor. This type of warning will be suppressed for the rest of this program. (Triggered internally at  /pytorch/torch/csrc/utils/tensor_numpy.cpp:141.)\n",
      "  return torch.from_numpy(parsed.astype(m[2], copy=False)).view(*s)\n"
     ]
    }
   ],
   "source": [
    "# transforms\n",
    "transform = transforms.Compose([\n",
    "    transforms.ToTensor(),\n",
    "])\n",
    "\n",
    "train_data = datasets.MNIST(\n",
    "    root='../input/data',\n",
    "    train=True,\n",
    "    download=True,\n",
    "    transform=transform\n",
    ")\n",
    "torch.Size([14000,28,28])\n",
    "val_data = datasets.MNIST(\n",
    "    root='../input/data',\n",
    "    train=False,\n",
    "    download=True,\n",
    "    transform=transform\n",
    ")\n",
    "torch.Size([6000,28,28])\n",
    "# training and validation data loaders\n",
    "train_loader = DataLoader(\n",
    "    train_data,\n",
    "    batch_size=batch_size,\n",
    "    shuffle=True\n",
    ")\n",
    "val_loader = DataLoader(\n",
    "    val_data,\n",
    "    batch_size=batch_size,\n",
    "    shuffle=False\n",
    ")"
   ]
  },
  {
   "cell_type": "code",
   "execution_count": 7,
   "metadata": {
    "colab": {
     "base_uri": "https://localhost:8080/"
    },
    "id": "L5t07cY8oovW",
    "outputId": "c438f3ef-bc56-4347-8d6a-fae9eb8abca1"
   },
   "outputs": [
    {
     "name": "stdout",
     "output_type": "stream",
     "text": [
      "LinearVAE(\n",
      "  (fc1): Linear(in_features=784, out_features=512, bias=True)\n",
      "  (fc2): Linear(in_features=512, out_features=256, bias=True)\n",
      "  (fc31): Linear(in_features=256, out_features=2, bias=True)\n",
      "  (fc32): Linear(in_features=256, out_features=2, bias=True)\n",
      "  (fc4): Linear(in_features=2, out_features=256, bias=True)\n",
      "  (fc5): Linear(in_features=256, out_features=512, bias=True)\n",
      "  (fc6): Linear(in_features=512, out_features=784, bias=True)\n",
      ")\n"
     ]
    }
   ],
   "source": [
    "model = model.LinearVAE().to(device)\n",
    "print(model)\n",
    "optimizer = optim.Adam(model.parameters(), lr=lr)\n",
    "criterion = nn.BCELoss(reduction='sum')"
   ]
  },
  {
   "cell_type": "code",
   "execution_count": 8,
   "metadata": {
    "id": "KpjBSAYQoovX"
   },
   "outputs": [],
   "source": [
    "def final_loss(bce_loss, mu, logvar):\n",
    "    \"\"\"\n",
    "    This function will add the reconstruction loss (BCELoss) and the \n",
    "    KL-Divergence.\n",
    "\"\"\"\n",
    "    BCE = bce_loss \n",
    "    KLD = -0.5 * torch.sum(1 + logvar - mu.pow(2) - logvar.exp())\n",
    "    return BCE + KLD"
   ]
  },
  {
   "cell_type": "code",
   "execution_count": 9,
   "metadata": {
    "id": "ph1xO2fdoovY"
   },
   "outputs": [],
   "source": [
    "def fit(model, dataloader):\n",
    "    model.train()\n",
    "    running_loss = 0.0\n",
    "    for i, data in tqdm(enumerate(dataloader), total=int(len(train_data)/dataloader.batch_size)):\n",
    "        data, _ = data\n",
    "        data = data.to(device)\n",
    "        data = data.view(data.size(0), -1)\n",
    "        optimizer.zero_grad()\n",
    "        reconstruction, mu, logvar = model(data)\n",
    "        bce_loss = criterion(reconstruction, data)\n",
    "        loss = final_loss(bce_loss, mu, logvar)\n",
    "        running_loss += loss.item()\n",
    "        loss.backward()\n",
    "        optimizer.step()\n",
    "    train_loss = running_loss/len(dataloader.dataset)\n",
    "    losses_train.append(train_loss)\n",
    "    return train_loss"
   ]
  },
  {
   "cell_type": "code",
   "execution_count": 10,
   "metadata": {
    "id": "Po-nZhppoovY"
   },
   "outputs": [],
   "source": [
    "def validate(model, dataloader):\n",
    "    model.eval()\n",
    "    running_loss = 0.0\n",
    "#     inception_score = 0.0\n",
    "    with torch.no_grad():\n",
    "        for i, data in tqdm(enumerate(dataloader), total=int(len(val_data)/dataloader.batch_size)):\n",
    "            data, _ = data\n",
    "            data = data.to(device)\n",
    "            data = data.view(data.size(0), -1)\n",
    "            reconstruction, mu, logvar = model(data)\n",
    "            bce_loss = criterion(reconstruction, data)\n",
    "            loss = final_loss(bce_loss, mu, logvar)\n",
    "            running_loss += loss.item()\n",
    "        \n",
    "            # save the last batch input and output of every epoch\n",
    "            if i == int(len(val_data)/dataloader.batch_size) - 1:\n",
    "                num_rows = 8\n",
    "                both = torch.cat((data.view(batch_size, 1, 28, 28)[:8], \n",
    "                                  reconstruction.view(batch_size, 1, 28, 28)[:8]))\n",
    "                if(epoch in e_list):\n",
    "                    save_image(both.cpu(), f\"drive/MyDrive/VAE_outputs/output{epoch}.png\", nrow=num_rows)\n",
    "    val_loss = running_loss/len(dataloader.dataset)\n",
    "    losses_val.append(val_loss)\n",
    "    return val_loss"
   ]
  },
  {
   "cell_type": "code",
   "execution_count": 11,
   "metadata": {
    "colab": {
     "base_uri": "https://localhost:8080/"
    },
    "id": "MrEMT5MhoovY",
    "outputId": "5262c858-cafa-49dc-8388-c51ded8179bd"
   },
   "outputs": [
    {
     "name": "stderr",
     "output_type": "stream",
     "text": [
      "\r",
      "  0%|          | 0/468 [00:00<?, ?it/s]"
     ]
    },
    {
     "name": "stdout",
     "output_type": "stream",
     "text": [
      "Epoch 1 of 1000\n"
     ]
    },
    {
     "name": "stderr",
     "output_type": "stream",
     "text": [
      "469it [00:07, 66.34it/s]                         \n",
      "79it [00:01, 66.63it/s]                        \n",
      "  1%|▏         | 7/468 [00:00<00:06, 68.75it/s]"
     ]
    },
    {
     "name": "stdout",
     "output_type": "stream",
     "text": [
      "Train Loss: 209.7679\n",
      "Val Loss: 176.4753\n",
      "Epoch 2 of 1000\n"
     ]
    },
    {
     "name": "stderr",
     "output_type": "stream",
     "text": [
      "469it [00:06, 68.08it/s]                         \n",
      "79it [00:00, 91.02it/s]                        \n",
      "  1%|▏         | 7/468 [00:00<00:06, 67.42it/s]"
     ]
    },
    {
     "name": "stdout",
     "output_type": "stream",
     "text": [
      "Train Loss: 172.5111\n",
      "Val Loss: 168.4634\n",
      "Epoch 3 of 1000\n"
     ]
    },
    {
     "name": "stderr",
     "output_type": "stream",
     "text": [
      "469it [00:06, 68.35it/s]                         \n",
      "79it [00:00, 91.51it/s]                        \n",
      "  1%|▏         | 7/468 [00:00<00:07, 63.67it/s]"
     ]
    },
    {
     "name": "stdout",
     "output_type": "stream",
     "text": [
      "Train Loss: 166.4625\n",
      "Val Loss: 163.9723\n",
      "Epoch 4 of 1000\n"
     ]
    },
    {
     "name": "stderr",
     "output_type": "stream",
     "text": [
      "469it [00:06, 68.69it/s]                         \n",
      "79it [00:00, 94.92it/s]                        \n",
      "  1%|▏         | 7/468 [00:00<00:06, 68.48it/s]"
     ]
    },
    {
     "name": "stdout",
     "output_type": "stream",
     "text": [
      "Train Loss: 162.9490\n",
      "Val Loss: 161.1164\n",
      "Epoch 5 of 1000\n"
     ]
    },
    {
     "name": "stderr",
     "output_type": "stream",
     "text": [
      "469it [00:06, 68.10it/s]                         \n",
      "79it [00:01, 72.70it/s]                        \n",
      "  1%|▏         | 7/468 [00:00<00:06, 68.81it/s]"
     ]
    },
    {
     "name": "stdout",
     "output_type": "stream",
     "text": [
      "Train Loss: 160.5067\n",
      "Val Loss: 159.1358\n",
      "Epoch 6 of 1000\n"
     ]
    },
    {
     "name": "stderr",
     "output_type": "stream",
     "text": [
      "469it [00:06, 68.63it/s]                         \n",
      "79it [00:00, 94.76it/s]                        \n",
      "  1%|▏         | 7/468 [00:00<00:06, 68.39it/s]"
     ]
    },
    {
     "name": "stdout",
     "output_type": "stream",
     "text": [
      "Train Loss: 158.6769\n",
      "Val Loss: 157.3727\n",
      "Epoch 7 of 1000\n"
     ]
    },
    {
     "name": "stderr",
     "output_type": "stream",
     "text": [
      "469it [00:06, 69.23it/s]                         \n",
      "79it [00:00, 94.73it/s]                        \n",
      "  1%|▏         | 7/468 [00:00<00:07, 65.55it/s]"
     ]
    },
    {
     "name": "stdout",
     "output_type": "stream",
     "text": [
      "Train Loss: 157.0963\n",
      "Val Loss: 155.9996\n",
      "Epoch 8 of 1000\n"
     ]
    },
    {
     "name": "stderr",
     "output_type": "stream",
     "text": [
      "469it [00:06, 70.45it/s]                         \n",
      "79it [00:00, 94.90it/s]                        \n",
      "  2%|▏         | 8/468 [00:00<00:06, 71.15it/s]"
     ]
    },
    {
     "name": "stdout",
     "output_type": "stream",
     "text": [
      "Train Loss: 155.6008\n",
      "Val Loss: 154.7151\n",
      "Epoch 9 of 1000\n"
     ]
    },
    {
     "name": "stderr",
     "output_type": "stream",
     "text": [
      "469it [00:06, 70.73it/s]                         \n",
      "79it [00:00, 97.10it/s]                        \n",
      "  2%|▏         | 8/468 [00:00<00:06, 69.70it/s]"
     ]
    },
    {
     "name": "stdout",
     "output_type": "stream",
     "text": [
      "Train Loss: 154.2615\n",
      "Val Loss: 153.6719\n",
      "Epoch 10 of 1000\n"
     ]
    },
    {
     "name": "stderr",
     "output_type": "stream",
     "text": [
      "469it [00:06, 71.09it/s]                         \n",
      "79it [00:01, 74.99it/s]                        \n",
      "  1%|▏         | 7/468 [00:00<00:06, 66.32it/s]"
     ]
    },
    {
     "name": "stdout",
     "output_type": "stream",
     "text": [
      "Train Loss: 153.1675\n",
      "Val Loss: 152.8205\n",
      "Epoch 11 of 1000\n"
     ]
    },
    {
     "name": "stderr",
     "output_type": "stream",
     "text": [
      "469it [00:06, 71.15it/s]                         \n",
      "79it [00:00, 96.98it/s]                        \n",
      "  1%|▏         | 7/468 [00:00<00:07, 63.57it/s]"
     ]
    },
    {
     "name": "stdout",
     "output_type": "stream",
     "text": [
      "Train Loss: 152.1575\n",
      "Val Loss: 152.1784\n",
      "Epoch 12 of 1000\n"
     ]
    },
    {
     "name": "stderr",
     "output_type": "stream",
     "text": [
      "469it [00:06, 70.10it/s]                         \n",
      "79it [00:00, 96.02it/s]                        \n",
      "  1%|▏         | 7/468 [00:00<00:06, 68.19it/s]"
     ]
    },
    {
     "name": "stdout",
     "output_type": "stream",
     "text": [
      "Train Loss: 151.2859\n",
      "Val Loss: 151.4188\n",
      "Epoch 13 of 1000\n"
     ]
    },
    {
     "name": "stderr",
     "output_type": "stream",
     "text": [
      "469it [00:06, 70.18it/s]                         \n",
      "79it [00:00, 94.26it/s]                        \n",
      "  1%|▏         | 6/468 [00:00<00:08, 57.21it/s]"
     ]
    },
    {
     "name": "stdout",
     "output_type": "stream",
     "text": [
      "Train Loss: 150.4626\n",
      "Val Loss: 150.5970\n",
      "Epoch 14 of 1000\n"
     ]
    },
    {
     "name": "stderr",
     "output_type": "stream",
     "text": [
      "469it [00:06, 69.48it/s]                         \n",
      "79it [00:00, 96.46it/s]                        \n",
      "  1%|▏         | 7/468 [00:00<00:07, 64.95it/s]"
     ]
    },
    {
     "name": "stdout",
     "output_type": "stream",
     "text": [
      "Train Loss: 149.7287\n",
      "Val Loss: 150.4012\n",
      "Epoch 15 of 1000\n"
     ]
    },
    {
     "name": "stderr",
     "output_type": "stream",
     "text": [
      "469it [00:06, 68.93it/s]                         \n",
      "79it [00:00, 96.16it/s]                        \n",
      "  1%|▏         | 7/468 [00:00<00:07, 62.26it/s]"
     ]
    },
    {
     "name": "stdout",
     "output_type": "stream",
     "text": [
      "Train Loss: 148.9775\n",
      "Val Loss: 149.7817\n",
      "Epoch 16 of 1000\n"
     ]
    },
    {
     "name": "stderr",
     "output_type": "stream",
     "text": [
      "469it [00:06, 69.78it/s]                         \n",
      "79it [00:00, 94.62it/s]                        \n",
      "  2%|▏         | 8/468 [00:00<00:06, 73.46it/s]"
     ]
    },
    {
     "name": "stdout",
     "output_type": "stream",
     "text": [
      "Train Loss: 148.3433\n",
      "Val Loss: 149.0066\n",
      "Epoch 17 of 1000\n"
     ]
    },
    {
     "name": "stderr",
     "output_type": "stream",
     "text": [
      "469it [00:06, 70.78it/s]                         \n",
      "79it [00:00, 95.84it/s]                        \n",
      "  1%|▏         | 7/468 [00:00<00:06, 68.85it/s]"
     ]
    },
    {
     "name": "stdout",
     "output_type": "stream",
     "text": [
      "Train Loss: 147.7435\n",
      "Val Loss: 148.5806\n",
      "Epoch 18 of 1000\n"
     ]
    },
    {
     "name": "stderr",
     "output_type": "stream",
     "text": [
      "469it [00:06, 71.60it/s]                         \n",
      "79it [00:00, 95.12it/s]                        \n",
      "  1%|▏         | 7/468 [00:00<00:06, 67.03it/s]"
     ]
    },
    {
     "name": "stdout",
     "output_type": "stream",
     "text": [
      "Train Loss: 147.1249\n",
      "Val Loss: 148.1267\n",
      "Epoch 19 of 1000\n"
     ]
    },
    {
     "name": "stderr",
     "output_type": "stream",
     "text": [
      "469it [00:06, 70.59it/s]                         \n",
      "79it [00:00, 95.91it/s]                        \n",
      "  1%|▏         | 7/468 [00:00<00:06, 69.48it/s]"
     ]
    },
    {
     "name": "stdout",
     "output_type": "stream",
     "text": [
      "Train Loss: 146.6710\n",
      "Val Loss: 147.8674\n",
      "Epoch 20 of 1000\n"
     ]
    },
    {
     "name": "stderr",
     "output_type": "stream",
     "text": [
      "469it [00:06, 70.65it/s]                         \n",
      "79it [00:00, 96.80it/s]                        \n",
      "  1%|▏         | 7/468 [00:00<00:06, 66.20it/s]"
     ]
    },
    {
     "name": "stdout",
     "output_type": "stream",
     "text": [
      "Train Loss: 146.1762\n",
      "Val Loss: 147.7910\n",
      "Epoch 21 of 1000\n"
     ]
    },
    {
     "name": "stderr",
     "output_type": "stream",
     "text": [
      "469it [00:06, 70.85it/s]                         \n",
      "79it [00:00, 95.13it/s]                        \n",
      "  1%|▏         | 7/468 [00:00<00:06, 69.64it/s]"
     ]
    },
    {
     "name": "stdout",
     "output_type": "stream",
     "text": [
      "Train Loss: 145.6834\n",
      "Val Loss: 147.2814\n",
      "Epoch 22 of 1000\n"
     ]
    },
    {
     "name": "stderr",
     "output_type": "stream",
     "text": [
      "469it [00:06, 71.26it/s]                         \n",
      "79it [00:00, 98.35it/s]                        \n",
      "  2%|▏         | 8/468 [00:00<00:06, 70.27it/s]"
     ]
    },
    {
     "name": "stdout",
     "output_type": "stream",
     "text": [
      "Train Loss: 145.3020\n",
      "Val Loss: 147.1860\n",
      "Epoch 23 of 1000\n"
     ]
    },
    {
     "name": "stderr",
     "output_type": "stream",
     "text": [
      "469it [00:06, 70.72it/s]                         \n",
      "79it [00:00, 94.15it/s]                        \n",
      "  2%|▏         | 8/468 [00:00<00:06, 71.27it/s]"
     ]
    },
    {
     "name": "stdout",
     "output_type": "stream",
     "text": [
      "Train Loss: 144.8884\n",
      "Val Loss: 146.8223\n",
      "Epoch 24 of 1000\n"
     ]
    },
    {
     "name": "stderr",
     "output_type": "stream",
     "text": [
      "469it [00:06, 70.70it/s]\n",
      "79it [00:00, 97.86it/s]                        \n",
      "  2%|▏         | 8/468 [00:00<00:06, 72.37it/s]"
     ]
    },
    {
     "name": "stdout",
     "output_type": "stream",
     "text": [
      "Train Loss: 144.5185\n",
      "Val Loss: 146.6286\n",
      "Epoch 25 of 1000\n"
     ]
    },
    {
     "name": "stderr",
     "output_type": "stream",
     "text": [
      "469it [00:06, 70.82it/s]                         \n",
      "79it [00:00, 98.58it/s]                        \n",
      "  2%|▏         | 8/468 [00:00<00:06, 72.55it/s]"
     ]
    },
    {
     "name": "stdout",
     "output_type": "stream",
     "text": [
      "Train Loss: 144.2067\n",
      "Val Loss: 146.3948\n",
      "Epoch 26 of 1000\n"
     ]
    },
    {
     "name": "stderr",
     "output_type": "stream",
     "text": [
      "469it [00:06, 71.05it/s]\n",
      "79it [00:00, 98.52it/s]                        \n",
      "  2%|▏         | 8/468 [00:00<00:06, 71.12it/s]"
     ]
    },
    {
     "name": "stdout",
     "output_type": "stream",
     "text": [
      "Train Loss: 143.8733\n",
      "Val Loss: 145.8382\n",
      "Epoch 27 of 1000\n"
     ]
    },
    {
     "name": "stderr",
     "output_type": "stream",
     "text": [
      "469it [00:06, 71.14it/s]\n",
      "79it [00:00, 98.20it/s]                        \n",
      "  2%|▏         | 8/468 [00:00<00:06, 72.64it/s]"
     ]
    },
    {
     "name": "stdout",
     "output_type": "stream",
     "text": [
      "Train Loss: 143.5119\n",
      "Val Loss: 146.0647\n",
      "Epoch 28 of 1000\n"
     ]
    },
    {
     "name": "stderr",
     "output_type": "stream",
     "text": [
      "469it [00:06, 69.49it/s]\n",
      "79it [00:00, 93.48it/s]                        \n",
      "  1%|▏         | 7/468 [00:00<00:06, 69.48it/s]"
     ]
    },
    {
     "name": "stdout",
     "output_type": "stream",
     "text": [
      "Train Loss: 143.2645\n",
      "Val Loss: 145.4864\n",
      "Epoch 29 of 1000\n"
     ]
    },
    {
     "name": "stderr",
     "output_type": "stream",
     "text": [
      "469it [00:06, 68.15it/s]                         \n",
      "79it [00:00, 97.60it/s]                        \n",
      "  1%|▏         | 7/468 [00:00<00:06, 67.10it/s]"
     ]
    },
    {
     "name": "stdout",
     "output_type": "stream",
     "text": [
      "Train Loss: 142.9369\n",
      "Val Loss: 145.6244\n",
      "Epoch 30 of 1000\n"
     ]
    },
    {
     "name": "stderr",
     "output_type": "stream",
     "text": [
      "469it [00:06, 70.76it/s]\n",
      "79it [00:00, 97.60it/s]                        \n",
      "  2%|▏         | 8/468 [00:00<00:06, 75.71it/s]"
     ]
    },
    {
     "name": "stdout",
     "output_type": "stream",
     "text": [
      "Train Loss: 142.7915\n",
      "Val Loss: 145.3870\n",
      "Epoch 31 of 1000\n"
     ]
    },
    {
     "name": "stderr",
     "output_type": "stream",
     "text": [
      "469it [00:06, 71.42it/s]                         \n",
      "79it [00:00, 96.83it/s]                        \n",
      "  1%|▏         | 7/468 [00:00<00:06, 69.68it/s]"
     ]
    },
    {
     "name": "stdout",
     "output_type": "stream",
     "text": [
      "Train Loss: 142.4985\n",
      "Val Loss: 145.2631\n",
      "Epoch 32 of 1000\n"
     ]
    },
    {
     "name": "stderr",
     "output_type": "stream",
     "text": [
      "469it [00:06, 70.60it/s]                         \n",
      "79it [00:00, 97.54it/s]                        \n",
      "  1%|▏         | 7/468 [00:00<00:06, 66.42it/s]"
     ]
    },
    {
     "name": "stdout",
     "output_type": "stream",
     "text": [
      "Train Loss: 142.2641\n",
      "Val Loss: 144.9440\n",
      "Epoch 33 of 1000\n"
     ]
    },
    {
     "name": "stderr",
     "output_type": "stream",
     "text": [
      "469it [00:06, 70.79it/s]                         \n",
      "79it [00:00, 93.33it/s]                        \n",
      "  1%|▏         | 7/468 [00:00<00:06, 69.45it/s]"
     ]
    },
    {
     "name": "stdout",
     "output_type": "stream",
     "text": [
      "Train Loss: 142.0351\n",
      "Val Loss: 144.9169\n",
      "Epoch 34 of 1000\n"
     ]
    },
    {
     "name": "stderr",
     "output_type": "stream",
     "text": [
      "469it [00:06, 69.49it/s]                         \n",
      "79it [00:00, 93.53it/s]                        \n",
      "  2%|▏         | 8/468 [00:00<00:06, 70.85it/s]"
     ]
    },
    {
     "name": "stdout",
     "output_type": "stream",
     "text": [
      "Train Loss: 141.8031\n",
      "Val Loss: 145.0314\n",
      "Epoch 35 of 1000\n"
     ]
    },
    {
     "name": "stderr",
     "output_type": "stream",
     "text": [
      "469it [00:06, 68.94it/s]                         \n",
      "79it [00:00, 95.44it/s]                        \n",
      "  2%|▏         | 8/468 [00:00<00:06, 74.43it/s]"
     ]
    },
    {
     "name": "stdout",
     "output_type": "stream",
     "text": [
      "Train Loss: 141.6211\n",
      "Val Loss: 144.6110\n",
      "Epoch 36 of 1000\n"
     ]
    },
    {
     "name": "stderr",
     "output_type": "stream",
     "text": [
      "469it [00:06, 71.29it/s]\n",
      "79it [00:00, 96.47it/s]                        \n",
      "  2%|▏         | 8/468 [00:00<00:06, 71.70it/s]"
     ]
    },
    {
     "name": "stdout",
     "output_type": "stream",
     "text": [
      "Train Loss: 141.4216\n",
      "Val Loss: 144.6997\n",
      "Epoch 37 of 1000\n"
     ]
    },
    {
     "name": "stderr",
     "output_type": "stream",
     "text": [
      "469it [00:06, 70.79it/s]                         \n",
      "79it [00:00, 97.78it/s]                        \n",
      "  1%|▏         | 7/468 [00:00<00:07, 63.21it/s]"
     ]
    },
    {
     "name": "stdout",
     "output_type": "stream",
     "text": [
      "Train Loss: 141.2279\n",
      "Val Loss: 144.6797\n",
      "Epoch 38 of 1000\n"
     ]
    },
    {
     "name": "stderr",
     "output_type": "stream",
     "text": [
      "469it [00:06, 70.56it/s]                         \n",
      "79it [00:00, 95.05it/s]                        \n",
      "  1%|▏         | 7/468 [00:00<00:06, 68.51it/s]"
     ]
    },
    {
     "name": "stdout",
     "output_type": "stream",
     "text": [
      "Train Loss: 141.0954\n",
      "Val Loss: 144.5473\n",
      "Epoch 39 of 1000\n"
     ]
    },
    {
     "name": "stderr",
     "output_type": "stream",
     "text": [
      "469it [00:06, 70.37it/s]                         \n",
      "79it [00:00, 96.24it/s]                        \n",
      "  1%|▏         | 7/468 [00:00<00:06, 66.93it/s]"
     ]
    },
    {
     "name": "stdout",
     "output_type": "stream",
     "text": [
      "Train Loss: 140.9391\n",
      "Val Loss: 144.3364\n",
      "Epoch 40 of 1000\n"
     ]
    },
    {
     "name": "stderr",
     "output_type": "stream",
     "text": [
      "469it [00:06, 70.10it/s]                         \n",
      "79it [00:00, 96.80it/s]                        \n",
      "  2%|▏         | 8/468 [00:00<00:06, 71.12it/s]"
     ]
    },
    {
     "name": "stdout",
     "output_type": "stream",
     "text": [
      "Train Loss: 140.7513\n",
      "Val Loss: 144.2997\n",
      "Epoch 41 of 1000\n"
     ]
    },
    {
     "name": "stderr",
     "output_type": "stream",
     "text": [
      "469it [00:06, 69.44it/s]                         \n",
      "79it [00:00, 93.22it/s]                        \n",
      "  1%|▏         | 7/468 [00:00<00:06, 69.31it/s]"
     ]
    },
    {
     "name": "stdout",
     "output_type": "stream",
     "text": [
      "Train Loss: 140.5543\n",
      "Val Loss: 144.4171\n",
      "Epoch 42 of 1000\n"
     ]
    },
    {
     "name": "stderr",
     "output_type": "stream",
     "text": [
      "469it [00:06, 71.21it/s]                         \n",
      "79it [00:00, 100.45it/s]                       \n",
      "  1%|▏         | 6/468 [00:00<00:07, 59.44it/s]"
     ]
    },
    {
     "name": "stdout",
     "output_type": "stream",
     "text": [
      "Train Loss: 140.4153\n",
      "Val Loss: 144.3267\n",
      "Epoch 43 of 1000\n"
     ]
    },
    {
     "name": "stderr",
     "output_type": "stream",
     "text": [
      "469it [00:06, 71.11it/s]                         \n",
      "79it [00:00, 95.53it/s]                        \n",
      "  2%|▏         | 8/468 [00:00<00:06, 71.73it/s]"
     ]
    },
    {
     "name": "stdout",
     "output_type": "stream",
     "text": [
      "Train Loss: 140.3041\n",
      "Val Loss: 144.1667\n",
      "Epoch 44 of 1000\n"
     ]
    },
    {
     "name": "stderr",
     "output_type": "stream",
     "text": [
      "469it [00:06, 70.92it/s]\n",
      "79it [00:00, 97.84it/s]                        \n",
      "  2%|▏         | 8/468 [00:00<00:06, 69.27it/s]"
     ]
    },
    {
     "name": "stdout",
     "output_type": "stream",
     "text": [
      "Train Loss: 140.0934\n",
      "Val Loss: 144.0831\n",
      "Epoch 45 of 1000\n"
     ]
    },
    {
     "name": "stderr",
     "output_type": "stream",
     "text": [
      "469it [00:06, 70.93it/s]                         \n",
      "79it [00:00, 98.94it/s]                        \n",
      "  1%|▏         | 7/468 [00:00<00:06, 68.68it/s]"
     ]
    },
    {
     "name": "stdout",
     "output_type": "stream",
     "text": [
      "Train Loss: 139.9592\n",
      "Val Loss: 143.7691\n",
      "Epoch 46 of 1000\n"
     ]
    },
    {
     "name": "stderr",
     "output_type": "stream",
     "text": [
      "469it [00:06, 71.16it/s]                         \n",
      "79it [00:00, 97.03it/s]                        \n",
      "  1%|▏         | 7/468 [00:00<00:06, 66.40it/s]"
     ]
    },
    {
     "name": "stdout",
     "output_type": "stream",
     "text": [
      "Train Loss: 139.8058\n",
      "Val Loss: 143.6188\n",
      "Epoch 47 of 1000\n"
     ]
    },
    {
     "name": "stderr",
     "output_type": "stream",
     "text": [
      "469it [00:06, 71.47it/s]\n",
      "79it [00:00, 98.08it/s]                        \n",
      "  2%|▏         | 8/468 [00:00<00:06, 67.07it/s]"
     ]
    },
    {
     "name": "stdout",
     "output_type": "stream",
     "text": [
      "Train Loss: 139.7492\n",
      "Val Loss: 143.9298\n",
      "Epoch 48 of 1000\n"
     ]
    },
    {
     "name": "stderr",
     "output_type": "stream",
     "text": [
      "469it [00:06, 71.19it/s]                         \n",
      "79it [00:00, 94.63it/s]                        \n",
      "  1%|▏         | 7/468 [00:00<00:06, 68.26it/s]"
     ]
    },
    {
     "name": "stdout",
     "output_type": "stream",
     "text": [
      "Train Loss: 139.5428\n",
      "Val Loss: 143.8302\n",
      "Epoch 49 of 1000\n"
     ]
    },
    {
     "name": "stderr",
     "output_type": "stream",
     "text": [
      "469it [00:06, 70.74it/s]                         \n",
      "79it [00:00, 97.35it/s]                        \n",
      "  2%|▏         | 8/468 [00:00<00:06, 71.79it/s]"
     ]
    },
    {
     "name": "stdout",
     "output_type": "stream",
     "text": [
      "Train Loss: 139.4942\n",
      "Val Loss: 143.4758\n",
      "Epoch 50 of 1000\n"
     ]
    },
    {
     "name": "stderr",
     "output_type": "stream",
     "text": [
      "469it [00:06, 70.74it/s]                         \n",
      "79it [00:01, 73.33it/s]                        \n",
      "  1%|▏         | 7/468 [00:00<00:06, 69.72it/s]"
     ]
    },
    {
     "name": "stdout",
     "output_type": "stream",
     "text": [
      "Train Loss: 139.3084\n",
      "Val Loss: 144.3151\n",
      "Epoch 51 of 1000\n"
     ]
    },
    {
     "name": "stderr",
     "output_type": "stream",
     "text": [
      "469it [00:06, 70.77it/s]                         \n",
      "79it [00:00, 97.21it/s]                        \n",
      "  2%|▏         | 8/468 [00:00<00:06, 74.74it/s]"
     ]
    },
    {
     "name": "stdout",
     "output_type": "stream",
     "text": [
      "Train Loss: 139.1749\n",
      "Val Loss: 143.6342\n",
      "Epoch 52 of 1000\n"
     ]
    },
    {
     "name": "stderr",
     "output_type": "stream",
     "text": [
      "469it [00:06, 72.57it/s]\n",
      "79it [00:00, 98.12it/s]                        \n",
      "  1%|▏         | 7/468 [00:00<00:07, 62.69it/s]"
     ]
    },
    {
     "name": "stdout",
     "output_type": "stream",
     "text": [
      "Train Loss: 139.0174\n",
      "Val Loss: 143.5426\n",
      "Epoch 53 of 1000\n"
     ]
    },
    {
     "name": "stderr",
     "output_type": "stream",
     "text": [
      "469it [00:06, 71.78it/s]\n",
      "79it [00:00, 96.48it/s]                        \n",
      "  2%|▏         | 8/468 [00:00<00:06, 71.92it/s]"
     ]
    },
    {
     "name": "stdout",
     "output_type": "stream",
     "text": [
      "Train Loss: 138.9486\n",
      "Val Loss: 143.5212\n",
      "Epoch 54 of 1000\n"
     ]
    },
    {
     "name": "stderr",
     "output_type": "stream",
     "text": [
      "469it [00:06, 70.81it/s]                         \n",
      "79it [00:00, 97.89it/s]                        \n",
      "  1%|▏         | 7/468 [00:00<00:07, 65.56it/s]"
     ]
    },
    {
     "name": "stdout",
     "output_type": "stream",
     "text": [
      "Train Loss: 138.8787\n",
      "Val Loss: 143.3359\n",
      "Epoch 55 of 1000\n"
     ]
    },
    {
     "name": "stderr",
     "output_type": "stream",
     "text": [
      "469it [00:06, 69.78it/s]\n",
      "79it [00:00, 94.45it/s]                        \n",
      "  1%|▏         | 7/468 [00:00<00:06, 69.24it/s]"
     ]
    },
    {
     "name": "stdout",
     "output_type": "stream",
     "text": [
      "Train Loss: 138.7748\n",
      "Val Loss: 143.3586\n",
      "Epoch 56 of 1000\n"
     ]
    },
    {
     "name": "stderr",
     "output_type": "stream",
     "text": [
      "469it [00:06, 69.42it/s]                         \n",
      "79it [00:00, 96.31it/s]                        \n",
      "  1%|▏         | 7/468 [00:00<00:07, 63.28it/s]"
     ]
    },
    {
     "name": "stdout",
     "output_type": "stream",
     "text": [
      "Train Loss: 138.6368\n",
      "Val Loss: 143.2692\n",
      "Epoch 57 of 1000\n"
     ]
    },
    {
     "name": "stderr",
     "output_type": "stream",
     "text": [
      "469it [00:06, 68.45it/s]                         \n",
      "79it [00:00, 95.90it/s]                        \n",
      "  2%|▏         | 8/468 [00:00<00:06, 72.27it/s]"
     ]
    },
    {
     "name": "stdout",
     "output_type": "stream",
     "text": [
      "Train Loss: 138.5353\n",
      "Val Loss: 143.2986\n",
      "Epoch 58 of 1000\n"
     ]
    },
    {
     "name": "stderr",
     "output_type": "stream",
     "text": [
      "469it [00:06, 70.80it/s]                         \n",
      "79it [00:00, 96.06it/s]                        \n",
      "  1%|▏         | 7/468 [00:00<00:07, 60.46it/s]"
     ]
    },
    {
     "name": "stdout",
     "output_type": "stream",
     "text": [
      "Train Loss: 138.4213\n",
      "Val Loss: 143.1638\n",
      "Epoch 59 of 1000\n"
     ]
    },
    {
     "name": "stderr",
     "output_type": "stream",
     "text": [
      "469it [00:06, 70.05it/s]                         \n",
      "79it [00:00, 94.00it/s]                        \n",
      "  2%|▏         | 8/468 [00:00<00:06, 73.95it/s]"
     ]
    },
    {
     "name": "stdout",
     "output_type": "stream",
     "text": [
      "Train Loss: 138.3134\n",
      "Val Loss: 143.0923\n",
      "Epoch 60 of 1000\n"
     ]
    },
    {
     "name": "stderr",
     "output_type": "stream",
     "text": [
      "469it [00:06, 70.33it/s]                         \n",
      "79it [00:00, 95.04it/s]                        \n",
      "  2%|▏         | 8/468 [00:00<00:06, 72.86it/s]"
     ]
    },
    {
     "name": "stdout",
     "output_type": "stream",
     "text": [
      "Train Loss: 138.2312\n",
      "Val Loss: 143.1521\n",
      "Epoch 61 of 1000\n"
     ]
    },
    {
     "name": "stderr",
     "output_type": "stream",
     "text": [
      "469it [00:06, 69.43it/s]                         \n",
      "79it [00:00, 93.65it/s]                        \n",
      "  1%|▏         | 7/468 [00:00<00:06, 69.94it/s]"
     ]
    },
    {
     "name": "stdout",
     "output_type": "stream",
     "text": [
      "Train Loss: 138.1408\n",
      "Val Loss: 142.8791\n",
      "Epoch 62 of 1000\n"
     ]
    },
    {
     "name": "stderr",
     "output_type": "stream",
     "text": [
      "469it [00:06, 69.45it/s]\n",
      "79it [00:00, 94.13it/s]                        \n",
      "  1%|▏         | 7/468 [00:00<00:06, 66.01it/s]"
     ]
    },
    {
     "name": "stdout",
     "output_type": "stream",
     "text": [
      "Train Loss: 138.0738\n",
      "Val Loss: 142.7979\n",
      "Epoch 63 of 1000\n"
     ]
    },
    {
     "name": "stderr",
     "output_type": "stream",
     "text": [
      "469it [00:06, 69.42it/s]                         \n",
      "79it [00:00, 97.09it/s]                        \n",
      "  1%|▏         | 7/468 [00:00<00:06, 67.98it/s]"
     ]
    },
    {
     "name": "stdout",
     "output_type": "stream",
     "text": [
      "Train Loss: 137.9640\n",
      "Val Loss: 143.2947\n",
      "Epoch 64 of 1000\n"
     ]
    },
    {
     "name": "stderr",
     "output_type": "stream",
     "text": [
      "469it [00:06, 69.87it/s]                         \n",
      "79it [00:00, 94.62it/s]\n",
      "  2%|▏         | 8/468 [00:00<00:06, 73.07it/s]"
     ]
    },
    {
     "name": "stdout",
     "output_type": "stream",
     "text": [
      "Train Loss: 137.8188\n",
      "Val Loss: 142.8542\n",
      "Epoch 65 of 1000\n"
     ]
    },
    {
     "name": "stderr",
     "output_type": "stream",
     "text": [
      "469it [00:06, 71.00it/s]                         \n",
      "79it [00:00, 97.14it/s]                        \n",
      "  1%|▏         | 7/468 [00:00<00:06, 67.55it/s]"
     ]
    },
    {
     "name": "stdout",
     "output_type": "stream",
     "text": [
      "Train Loss: 137.7479\n",
      "Val Loss: 143.0089\n",
      "Epoch 66 of 1000\n"
     ]
    },
    {
     "name": "stderr",
     "output_type": "stream",
     "text": [
      "469it [00:06, 70.35it/s]                         \n",
      "79it [00:00, 95.59it/s]                        \n",
      "  1%|▏         | 7/468 [00:00<00:06, 65.97it/s]"
     ]
    },
    {
     "name": "stdout",
     "output_type": "stream",
     "text": [
      "Train Loss: 137.7105\n",
      "Val Loss: 143.0591\n",
      "Epoch 67 of 1000\n"
     ]
    },
    {
     "name": "stderr",
     "output_type": "stream",
     "text": [
      "469it [00:06, 70.83it/s]                         \n",
      "79it [00:00, 97.01it/s]                        \n",
      "  2%|▏         | 8/468 [00:00<00:06, 72.45it/s]"
     ]
    },
    {
     "name": "stdout",
     "output_type": "stream",
     "text": [
      "Train Loss: 137.6257\n",
      "Val Loss: 142.8756\n",
      "Epoch 68 of 1000\n"
     ]
    },
    {
     "name": "stderr",
     "output_type": "stream",
     "text": [
      "469it [00:06, 71.54it/s]\n",
      "79it [00:00, 97.43it/s]                        \n",
      "  2%|▏         | 8/468 [00:00<00:06, 71.73it/s]"
     ]
    },
    {
     "name": "stdout",
     "output_type": "stream",
     "text": [
      "Train Loss: 137.5068\n",
      "Val Loss: 142.7543\n",
      "Epoch 69 of 1000\n"
     ]
    },
    {
     "name": "stderr",
     "output_type": "stream",
     "text": [
      "469it [00:06, 71.09it/s]                         \n",
      "79it [00:00, 93.54it/s]                        \n",
      "  1%|▏         | 6/468 [00:00<00:07, 58.20it/s]"
     ]
    },
    {
     "name": "stdout",
     "output_type": "stream",
     "text": [
      "Train Loss: 137.4447\n",
      "Val Loss: 142.7250\n",
      "Epoch 70 of 1000\n"
     ]
    },
    {
     "name": "stderr",
     "output_type": "stream",
     "text": [
      "469it [00:06, 67.92it/s]                         \n",
      "79it [00:00, 93.12it/s]                        \n",
      "  1%|▏         | 7/468 [00:00<00:06, 67.74it/s]"
     ]
    },
    {
     "name": "stdout",
     "output_type": "stream",
     "text": [
      "Train Loss: 137.3599\n",
      "Val Loss: 142.8918\n",
      "Epoch 71 of 1000\n"
     ]
    },
    {
     "name": "stderr",
     "output_type": "stream",
     "text": [
      "469it [00:06, 69.60it/s]                         \n",
      "79it [00:00, 97.31it/s]                        \n",
      "  1%|▏         | 7/468 [00:00<00:06, 68.67it/s]"
     ]
    },
    {
     "name": "stdout",
     "output_type": "stream",
     "text": [
      "Train Loss: 137.2533\n",
      "Val Loss: 142.5897\n",
      "Epoch 72 of 1000\n"
     ]
    },
    {
     "name": "stderr",
     "output_type": "stream",
     "text": [
      "469it [00:06, 71.16it/s]\n",
      "79it [00:00, 97.37it/s]                        \n",
      "  1%|▏         | 7/468 [00:00<00:06, 67.41it/s]"
     ]
    },
    {
     "name": "stdout",
     "output_type": "stream",
     "text": [
      "Train Loss: 137.2015\n",
      "Val Loss: 142.6258\n",
      "Epoch 73 of 1000\n"
     ]
    },
    {
     "name": "stderr",
     "output_type": "stream",
     "text": [
      "469it [00:06, 71.36it/s]\n",
      "79it [00:00, 97.02it/s]                        \n",
      "  1%|▏         | 7/468 [00:00<00:07, 65.18it/s]"
     ]
    },
    {
     "name": "stdout",
     "output_type": "stream",
     "text": [
      "Train Loss: 137.1408\n",
      "Val Loss: 142.8400\n",
      "Epoch 74 of 1000\n"
     ]
    },
    {
     "name": "stderr",
     "output_type": "stream",
     "text": [
      "469it [00:06, 70.55it/s]                         \n",
      "79it [00:00, 96.68it/s]                        \n",
      "  2%|▏         | 8/468 [00:00<00:06, 69.76it/s]"
     ]
    },
    {
     "name": "stdout",
     "output_type": "stream",
     "text": [
      "Train Loss: 137.0650\n",
      "Val Loss: 142.6092\n",
      "Epoch 75 of 1000\n"
     ]
    },
    {
     "name": "stderr",
     "output_type": "stream",
     "text": [
      "469it [00:06, 70.94it/s]                         \n",
      "79it [00:00, 97.03it/s]                        \n",
      "  2%|▏         | 8/468 [00:00<00:06, 70.74it/s]"
     ]
    },
    {
     "name": "stdout",
     "output_type": "stream",
     "text": [
      "Train Loss: 136.9985\n",
      "Val Loss: 142.5693\n",
      "Epoch 76 of 1000\n"
     ]
    },
    {
     "name": "stderr",
     "output_type": "stream",
     "text": [
      "469it [00:06, 70.74it/s]                         \n",
      "79it [00:00, 95.67it/s]                        \n",
      "  2%|▏         | 8/468 [00:00<00:06, 70.68it/s]"
     ]
    },
    {
     "name": "stdout",
     "output_type": "stream",
     "text": [
      "Train Loss: 136.9321\n",
      "Val Loss: 142.7371\n",
      "Epoch 77 of 1000\n"
     ]
    },
    {
     "name": "stderr",
     "output_type": "stream",
     "text": [
      "469it [00:06, 70.15it/s]                         \n",
      "79it [00:00, 96.22it/s]                        \n",
      "  1%|▏         | 7/468 [00:00<00:07, 64.87it/s]"
     ]
    },
    {
     "name": "stdout",
     "output_type": "stream",
     "text": [
      "Train Loss: 136.8330\n",
      "Val Loss: 142.7737\n",
      "Epoch 78 of 1000\n"
     ]
    },
    {
     "name": "stderr",
     "output_type": "stream",
     "text": [
      "469it [00:06, 71.40it/s]                         \n",
      "79it [00:00, 99.25it/s]                        \n",
      "  2%|▏         | 8/468 [00:00<00:06, 74.09it/s]"
     ]
    },
    {
     "name": "stdout",
     "output_type": "stream",
     "text": [
      "Train Loss: 136.7475\n",
      "Val Loss: 142.4179\n",
      "Epoch 79 of 1000\n"
     ]
    },
    {
     "name": "stderr",
     "output_type": "stream",
     "text": [
      "469it [00:06, 70.04it/s]                         \n",
      "79it [00:00, 95.33it/s]                        \n",
      "  2%|▏         | 8/468 [00:00<00:06, 69.76it/s]"
     ]
    },
    {
     "name": "stdout",
     "output_type": "stream",
     "text": [
      "Train Loss: 136.7081\n",
      "Val Loss: 142.6278\n",
      "Epoch 80 of 1000\n"
     ]
    },
    {
     "name": "stderr",
     "output_type": "stream",
     "text": [
      "469it [00:06, 71.53it/s]                         \n",
      "79it [00:00, 95.43it/s]                        \n",
      "  2%|▏         | 8/468 [00:00<00:06, 72.73it/s]"
     ]
    },
    {
     "name": "stdout",
     "output_type": "stream",
     "text": [
      "Train Loss: 136.6720\n",
      "Val Loss: 142.4607\n",
      "Epoch 81 of 1000\n"
     ]
    },
    {
     "name": "stderr",
     "output_type": "stream",
     "text": [
      "469it [00:06, 71.73it/s]\n",
      "79it [00:00, 98.49it/s]                        \n",
      "  2%|▏         | 8/468 [00:00<00:06, 72.77it/s]"
     ]
    },
    {
     "name": "stdout",
     "output_type": "stream",
     "text": [
      "Train Loss: 136.5453\n",
      "Val Loss: 142.3532\n",
      "Epoch 82 of 1000\n"
     ]
    },
    {
     "name": "stderr",
     "output_type": "stream",
     "text": [
      "469it [00:06, 71.60it/s]\n",
      "79it [00:00, 97.50it/s]                        \n",
      "  2%|▏         | 8/468 [00:00<00:06, 74.90it/s]"
     ]
    },
    {
     "name": "stdout",
     "output_type": "stream",
     "text": [
      "Train Loss: 136.5843\n",
      "Val Loss: 142.5527\n",
      "Epoch 83 of 1000\n"
     ]
    },
    {
     "name": "stderr",
     "output_type": "stream",
     "text": [
      "469it [00:06, 71.75it/s]                         \n",
      "79it [00:00, 98.39it/s]                        \n",
      "  1%|▏         | 7/468 [00:00<00:06, 66.91it/s]"
     ]
    },
    {
     "name": "stdout",
     "output_type": "stream",
     "text": [
      "Train Loss: 136.4075\n",
      "Val Loss: 142.4617\n",
      "Epoch 84 of 1000\n"
     ]
    },
    {
     "name": "stderr",
     "output_type": "stream",
     "text": [
      "469it [00:06, 72.42it/s]                         \n",
      "79it [00:00, 96.90it/s]                        \n",
      "  1%|▏         | 7/468 [00:00<00:06, 67.60it/s]"
     ]
    },
    {
     "name": "stdout",
     "output_type": "stream",
     "text": [
      "Train Loss: 136.3996\n",
      "Val Loss: 142.5290\n",
      "Epoch 85 of 1000\n"
     ]
    },
    {
     "name": "stderr",
     "output_type": "stream",
     "text": [
      "469it [00:06, 72.23it/s]                         \n",
      "79it [00:00, 98.32it/s]                        \n",
      "  2%|▏         | 8/468 [00:00<00:06, 73.38it/s]"
     ]
    },
    {
     "name": "stdout",
     "output_type": "stream",
     "text": [
      "Train Loss: 136.2849\n",
      "Val Loss: 142.3489\n",
      "Epoch 86 of 1000\n"
     ]
    },
    {
     "name": "stderr",
     "output_type": "stream",
     "text": [
      "469it [00:06, 72.29it/s]                         \n",
      "79it [00:00, 100.85it/s]                       \n",
      "  1%|▏         | 7/468 [00:00<00:06, 67.60it/s]"
     ]
    },
    {
     "name": "stdout",
     "output_type": "stream",
     "text": [
      "Train Loss: 136.2252\n",
      "Val Loss: 142.3917\n",
      "Epoch 87 of 1000\n"
     ]
    },
    {
     "name": "stderr",
     "output_type": "stream",
     "text": [
      "469it [00:06, 72.04it/s]                         \n",
      "79it [00:00, 98.27it/s]                        \n",
      "  2%|▏         | 8/468 [00:00<00:06, 71.93it/s]"
     ]
    },
    {
     "name": "stdout",
     "output_type": "stream",
     "text": [
      "Train Loss: 136.2528\n",
      "Val Loss: 142.5049\n",
      "Epoch 88 of 1000\n"
     ]
    },
    {
     "name": "stderr",
     "output_type": "stream",
     "text": [
      "469it [00:06, 71.06it/s]                         \n",
      "79it [00:00, 97.21it/s]                        \n",
      "  2%|▏         | 8/468 [00:00<00:06, 75.93it/s]"
     ]
    },
    {
     "name": "stdout",
     "output_type": "stream",
     "text": [
      "Train Loss: 136.2452\n",
      "Val Loss: 142.5341\n",
      "Epoch 89 of 1000\n"
     ]
    },
    {
     "name": "stderr",
     "output_type": "stream",
     "text": [
      "469it [00:06, 71.39it/s]                         \n",
      "79it [00:00, 98.72it/s]                        \n",
      "  2%|▏         | 8/468 [00:00<00:06, 73.07it/s]"
     ]
    },
    {
     "name": "stdout",
     "output_type": "stream",
     "text": [
      "Train Loss: 136.0502\n",
      "Val Loss: 142.3197\n",
      "Epoch 90 of 1000\n"
     ]
    },
    {
     "name": "stderr",
     "output_type": "stream",
     "text": [
      "469it [00:06, 72.42it/s]\n",
      "79it [00:00, 99.30it/s]                        \n",
      "  1%|▏         | 7/468 [00:00<00:06, 66.43it/s]"
     ]
    },
    {
     "name": "stdout",
     "output_type": "stream",
     "text": [
      "Train Loss: 135.9676\n",
      "Val Loss: 142.1615\n",
      "Epoch 91 of 1000\n"
     ]
    },
    {
     "name": "stderr",
     "output_type": "stream",
     "text": [
      "469it [00:06, 72.11it/s]                         \n",
      "79it [00:00, 98.86it/s]                        \n",
      "  2%|▏         | 8/468 [00:00<00:06, 73.78it/s]"
     ]
    },
    {
     "name": "stdout",
     "output_type": "stream",
     "text": [
      "Train Loss: 135.9452\n",
      "Val Loss: 142.4060\n",
      "Epoch 92 of 1000\n"
     ]
    },
    {
     "name": "stderr",
     "output_type": "stream",
     "text": [
      "469it [00:06, 72.46it/s]                         \n",
      "79it [00:00, 101.83it/s]                        \n",
      "  2%|▏         | 8/468 [00:00<00:06, 68.82it/s]"
     ]
    },
    {
     "name": "stdout",
     "output_type": "stream",
     "text": [
      "Train Loss: 135.9144\n",
      "Val Loss: 142.4408\n",
      "Epoch 93 of 1000\n"
     ]
    },
    {
     "name": "stderr",
     "output_type": "stream",
     "text": [
      "469it [00:06, 72.60it/s]                         \n",
      "79it [00:00, 98.75it/s]                        \n",
      "  2%|▏         | 8/468 [00:00<00:06, 71.52it/s]"
     ]
    },
    {
     "name": "stdout",
     "output_type": "stream",
     "text": [
      "Train Loss: 135.8363\n",
      "Val Loss: 142.2287\n",
      "Epoch 94 of 1000\n"
     ]
    },
    {
     "name": "stderr",
     "output_type": "stream",
     "text": [
      "469it [00:06, 72.21it/s]\n",
      "79it [00:00, 97.85it/s]                        \n",
      "  2%|▏         | 8/468 [00:00<00:06, 73.47it/s]"
     ]
    },
    {
     "name": "stdout",
     "output_type": "stream",
     "text": [
      "Train Loss: 135.8196\n",
      "Val Loss: 142.6625\n",
      "Epoch 95 of 1000\n"
     ]
    },
    {
     "name": "stderr",
     "output_type": "stream",
     "text": [
      "469it [00:06, 72.51it/s]                         \n",
      "79it [00:00, 99.59it/s]                        \n",
      "  2%|▏         | 8/468 [00:00<00:06, 70.35it/s]"
     ]
    },
    {
     "name": "stdout",
     "output_type": "stream",
     "text": [
      "Train Loss: 135.7448\n",
      "Val Loss: 142.0546\n",
      "Epoch 96 of 1000\n"
     ]
    },
    {
     "name": "stderr",
     "output_type": "stream",
     "text": [
      "469it [00:06, 72.59it/s]                         \n",
      "79it [00:00, 99.76it/s]                        \n",
      "  1%|▏         | 7/468 [00:00<00:06, 68.45it/s]"
     ]
    },
    {
     "name": "stdout",
     "output_type": "stream",
     "text": [
      "Train Loss: 135.6998\n",
      "Val Loss: 142.2650\n",
      "Epoch 97 of 1000\n"
     ]
    },
    {
     "name": "stderr",
     "output_type": "stream",
     "text": [
      "469it [00:06, 71.67it/s]                         \n",
      "79it [00:00, 97.50it/s]                        \n",
      "  2%|▏         | 8/468 [00:00<00:06, 75.30it/s]"
     ]
    },
    {
     "name": "stdout",
     "output_type": "stream",
     "text": [
      "Train Loss: 135.6268\n",
      "Val Loss: 142.5710\n",
      "Epoch 98 of 1000\n"
     ]
    },
    {
     "name": "stderr",
     "output_type": "stream",
     "text": [
      "469it [00:06, 72.46it/s]\n",
      "79it [00:00, 99.11it/s]                        \n",
      "  2%|▏         | 8/468 [00:00<00:06, 75.07it/s]"
     ]
    },
    {
     "name": "stdout",
     "output_type": "stream",
     "text": [
      "Train Loss: 135.5720\n",
      "Val Loss: 142.3427\n",
      "Epoch 99 of 1000\n"
     ]
    },
    {
     "name": "stderr",
     "output_type": "stream",
     "text": [
      "469it [00:06, 72.03it/s]\n",
      "79it [00:00, 98.80it/s]                        \n",
      "  2%|▏         | 8/468 [00:00<00:06, 70.40it/s]"
     ]
    },
    {
     "name": "stdout",
     "output_type": "stream",
     "text": [
      "Train Loss: 135.5279\n",
      "Val Loss: 142.1136\n",
      "Epoch 100 of 1000\n"
     ]
    },
    {
     "name": "stderr",
     "output_type": "stream",
     "text": [
      "469it [00:06, 72.79it/s]\n",
      "79it [00:01, 73.93it/s]                        \n",
      "  2%|▏         | 8/468 [00:00<00:06, 72.90it/s]"
     ]
    },
    {
     "name": "stdout",
     "output_type": "stream",
     "text": [
      "Train Loss: 135.5372\n",
      "Val Loss: 142.5009\n",
      "Epoch 101 of 1000\n"
     ]
    },
    {
     "name": "stderr",
     "output_type": "stream",
     "text": [
      "469it [00:06, 72.40it/s]\n",
      "79it [00:00, 99.40it/s]                        \n",
      "  2%|▏         | 8/468 [00:00<00:06, 72.46it/s]"
     ]
    },
    {
     "name": "stdout",
     "output_type": "stream",
     "text": [
      "Train Loss: 135.5230\n",
      "Val Loss: 142.0037\n",
      "Epoch 102 of 1000\n"
     ]
    },
    {
     "name": "stderr",
     "output_type": "stream",
     "text": [
      "469it [00:06, 72.63it/s]                         \n",
      "79it [00:00, 100.59it/s]                        \n",
      "  1%|▏         | 7/468 [00:00<00:06, 68.97it/s]"
     ]
    },
    {
     "name": "stdout",
     "output_type": "stream",
     "text": [
      "Train Loss: 135.4271\n",
      "Val Loss: 142.0236\n",
      "Epoch 103 of 1000\n"
     ]
    },
    {
     "name": "stderr",
     "output_type": "stream",
     "text": [
      "469it [00:06, 72.63it/s]                         \n",
      "79it [00:00, 100.42it/s]                        \n",
      "  2%|▏         | 8/468 [00:00<00:06, 72.56it/s]"
     ]
    },
    {
     "name": "stdout",
     "output_type": "stream",
     "text": [
      "Train Loss: 135.3486\n",
      "Val Loss: 142.0243\n",
      "Epoch 104 of 1000\n"
     ]
    },
    {
     "name": "stderr",
     "output_type": "stream",
     "text": [
      "469it [00:06, 72.21it/s]\n",
      "79it [00:00, 99.15it/s]                        \n",
      "  2%|▏         | 8/468 [00:00<00:06, 73.37it/s]"
     ]
    },
    {
     "name": "stdout",
     "output_type": "stream",
     "text": [
      "Train Loss: 135.2519\n",
      "Val Loss: 142.0673\n",
      "Epoch 105 of 1000\n"
     ]
    },
    {
     "name": "stderr",
     "output_type": "stream",
     "text": [
      "469it [00:06, 72.43it/s]                         \n",
      "79it [00:00, 99.25it/s]                        \n",
      "  2%|▏         | 8/468 [00:00<00:06, 70.60it/s]"
     ]
    },
    {
     "name": "stdout",
     "output_type": "stream",
     "text": [
      "Train Loss: 135.1757\n",
      "Val Loss: 142.1816\n",
      "Epoch 106 of 1000\n"
     ]
    },
    {
     "name": "stderr",
     "output_type": "stream",
     "text": [
      "469it [00:06, 72.43it/s]\n",
      "79it [00:00, 100.41it/s]                       \n",
      "  2%|▏         | 8/468 [00:00<00:06, 74.34it/s]"
     ]
    },
    {
     "name": "stdout",
     "output_type": "stream",
     "text": [
      "Train Loss: 135.1704\n",
      "Val Loss: 142.1644\n",
      "Epoch 107 of 1000\n"
     ]
    },
    {
     "name": "stderr",
     "output_type": "stream",
     "text": [
      "469it [00:06, 72.84it/s]                         \n",
      "79it [00:00, 100.68it/s]                       \n",
      "  2%|▏         | 8/468 [00:00<00:06, 71.09it/s]"
     ]
    },
    {
     "name": "stdout",
     "output_type": "stream",
     "text": [
      "Train Loss: 135.1774\n",
      "Val Loss: 142.2170\n",
      "Epoch 108 of 1000\n"
     ]
    },
    {
     "name": "stderr",
     "output_type": "stream",
     "text": [
      "469it [00:06, 72.75it/s]                         \n",
      "79it [00:00, 97.55it/s]                        \n",
      "  2%|▏         | 8/468 [00:00<00:06, 74.57it/s]"
     ]
    },
    {
     "name": "stdout",
     "output_type": "stream",
     "text": [
      "Train Loss: 135.0618\n",
      "Val Loss: 142.0339\n",
      "Epoch 109 of 1000\n"
     ]
    },
    {
     "name": "stderr",
     "output_type": "stream",
     "text": [
      "469it [00:06, 72.87it/s]                         \n",
      "79it [00:00, 98.71it/s]                        \n",
      "  2%|▏         | 8/468 [00:00<00:06, 71.50it/s]"
     ]
    },
    {
     "name": "stdout",
     "output_type": "stream",
     "text": [
      "Train Loss: 135.0115\n",
      "Val Loss: 142.3332\n",
      "Epoch 110 of 1000\n"
     ]
    },
    {
     "name": "stderr",
     "output_type": "stream",
     "text": [
      "469it [00:06, 71.60it/s]\n",
      "79it [00:00, 98.63it/s]                        \n",
      "  1%|▏         | 7/468 [00:00<00:06, 68.65it/s]"
     ]
    },
    {
     "name": "stdout",
     "output_type": "stream",
     "text": [
      "Train Loss: 135.2300\n",
      "Val Loss: 142.1356\n",
      "Epoch 111 of 1000\n"
     ]
    },
    {
     "name": "stderr",
     "output_type": "stream",
     "text": [
      "469it [00:06, 72.61it/s]                         \n",
      "79it [00:00, 97.74it/s]                        \n",
      "  1%|▏         | 7/468 [00:00<00:06, 68.22it/s]"
     ]
    },
    {
     "name": "stdout",
     "output_type": "stream",
     "text": [
      "Train Loss: 135.0421\n",
      "Val Loss: 142.2021\n",
      "Epoch 112 of 1000\n"
     ]
    },
    {
     "name": "stderr",
     "output_type": "stream",
     "text": [
      "469it [00:06, 69.58it/s]                         \n",
      "79it [00:00, 97.34it/s]                        \n",
      "  1%|▏         | 7/468 [00:00<00:06, 68.35it/s]"
     ]
    },
    {
     "name": "stdout",
     "output_type": "stream",
     "text": [
      "Train Loss: 134.9733\n",
      "Val Loss: 141.9800\n",
      "Epoch 113 of 1000\n"
     ]
    },
    {
     "name": "stderr",
     "output_type": "stream",
     "text": [
      "469it [00:06, 70.73it/s]\n",
      "79it [00:00, 99.20it/s]                        \n",
      "  1%|▏         | 7/468 [00:00<00:07, 63.78it/s]"
     ]
    },
    {
     "name": "stdout",
     "output_type": "stream",
     "text": [
      "Train Loss: 134.9020\n",
      "Val Loss: 142.1963\n",
      "Epoch 114 of 1000\n"
     ]
    },
    {
     "name": "stderr",
     "output_type": "stream",
     "text": [
      "469it [00:06, 71.81it/s]                         \n",
      "79it [00:00, 99.31it/s]                        \n",
      "  2%|▏         | 8/468 [00:00<00:06, 75.13it/s]"
     ]
    },
    {
     "name": "stdout",
     "output_type": "stream",
     "text": [
      "Train Loss: 134.7904\n",
      "Val Loss: 142.1168\n",
      "Epoch 115 of 1000\n"
     ]
    },
    {
     "name": "stderr",
     "output_type": "stream",
     "text": [
      "469it [00:06, 72.82it/s]\n",
      "79it [00:00, 97.90it/s]                        \n",
      "  2%|▏         | 8/468 [00:00<00:06, 70.72it/s]"
     ]
    },
    {
     "name": "stdout",
     "output_type": "stream",
     "text": [
      "Train Loss: 134.7456\n",
      "Val Loss: 142.3119\n",
      "Epoch 116 of 1000\n"
     ]
    },
    {
     "name": "stderr",
     "output_type": "stream",
     "text": [
      "469it [00:06, 72.03it/s]\n",
      "79it [00:00, 99.48it/s]                        \n",
      "  2%|▏         | 8/468 [00:00<00:06, 75.60it/s]"
     ]
    },
    {
     "name": "stdout",
     "output_type": "stream",
     "text": [
      "Train Loss: 134.7398\n",
      "Val Loss: 142.5881\n",
      "Epoch 117 of 1000\n"
     ]
    },
    {
     "name": "stderr",
     "output_type": "stream",
     "text": [
      "469it [00:06, 72.13it/s]                         \n",
      "79it [00:00, 100.11it/s]                       \n",
      "  2%|▏         | 8/468 [00:00<00:06, 71.26it/s]"
     ]
    },
    {
     "name": "stdout",
     "output_type": "stream",
     "text": [
      "Train Loss: 134.7233\n",
      "Val Loss: 142.1114\n",
      "Epoch 118 of 1000\n"
     ]
    },
    {
     "name": "stderr",
     "output_type": "stream",
     "text": [
      "469it [00:06, 72.28it/s]                         \n",
      "79it [00:00, 97.20it/s]                        \n",
      "  1%|▏         | 7/468 [00:00<00:06, 68.32it/s]"
     ]
    },
    {
     "name": "stdout",
     "output_type": "stream",
     "text": [
      "Train Loss: 134.7308\n",
      "Val Loss: 142.2636\n",
      "Epoch 119 of 1000\n"
     ]
    },
    {
     "name": "stderr",
     "output_type": "stream",
     "text": [
      "469it [00:06, 72.66it/s]                         \n",
      "79it [00:00, 99.03it/s]                        \n",
      "  2%|▏         | 8/468 [00:00<00:06, 75.68it/s]"
     ]
    },
    {
     "name": "stdout",
     "output_type": "stream",
     "text": [
      "Train Loss: 134.7354\n",
      "Val Loss: 142.0239\n",
      "Epoch 120 of 1000\n"
     ]
    },
    {
     "name": "stderr",
     "output_type": "stream",
     "text": [
      "469it [00:06, 72.29it/s]\n",
      "79it [00:00, 98.90it/s]                        \n",
      "  2%|▏         | 8/468 [00:00<00:06, 71.34it/s]"
     ]
    },
    {
     "name": "stdout",
     "output_type": "stream",
     "text": [
      "Train Loss: 134.5575\n",
      "Val Loss: 142.0007\n",
      "Epoch 121 of 1000\n"
     ]
    },
    {
     "name": "stderr",
     "output_type": "stream",
     "text": [
      "469it [00:06, 71.32it/s]                         \n",
      "79it [00:00, 100.10it/s]                       \n",
      "  2%|▏         | 8/468 [00:00<00:06, 70.87it/s]"
     ]
    },
    {
     "name": "stdout",
     "output_type": "stream",
     "text": [
      "Train Loss: 134.5089\n",
      "Val Loss: 142.0645\n",
      "Epoch 122 of 1000\n"
     ]
    },
    {
     "name": "stderr",
     "output_type": "stream",
     "text": [
      "469it [00:06, 72.86it/s]                         \n",
      "79it [00:00, 99.03it/s]                        \n",
      "  2%|▏         | 8/468 [00:00<00:06, 70.04it/s]"
     ]
    },
    {
     "name": "stdout",
     "output_type": "stream",
     "text": [
      "Train Loss: 134.4930\n",
      "Val Loss: 142.3360\n",
      "Epoch 123 of 1000\n"
     ]
    },
    {
     "name": "stderr",
     "output_type": "stream",
     "text": [
      "469it [00:06, 72.74it/s]                         \n",
      "79it [00:00, 99.85it/s]                        \n",
      "  1%|▏         | 7/468 [00:00<00:06, 68.69it/s]"
     ]
    },
    {
     "name": "stdout",
     "output_type": "stream",
     "text": [
      "Train Loss: 134.4313\n",
      "Val Loss: 142.0330\n",
      "Epoch 124 of 1000\n"
     ]
    },
    {
     "name": "stderr",
     "output_type": "stream",
     "text": [
      "469it [00:06, 73.11it/s]                         \n",
      "79it [00:00, 99.90it/s]                        \n",
      "  2%|▏         | 8/468 [00:00<00:06, 73.36it/s]"
     ]
    },
    {
     "name": "stdout",
     "output_type": "stream",
     "text": [
      "Train Loss: 134.3923\n",
      "Val Loss: 141.9716\n",
      "Epoch 125 of 1000\n"
     ]
    },
    {
     "name": "stderr",
     "output_type": "stream",
     "text": [
      "469it [00:06, 73.62it/s]                         \n",
      "79it [00:00, 100.46it/s]                       \n",
      "  2%|▏         | 8/468 [00:00<00:06, 74.47it/s]"
     ]
    },
    {
     "name": "stdout",
     "output_type": "stream",
     "text": [
      "Train Loss: 134.3503\n",
      "Val Loss: 142.1469\n",
      "Epoch 126 of 1000\n"
     ]
    },
    {
     "name": "stderr",
     "output_type": "stream",
     "text": [
      "469it [00:06, 72.99it/s]                         \n",
      "79it [00:00, 97.24it/s]                        \n",
      "  1%|▏         | 7/468 [00:00<00:06, 66.38it/s]"
     ]
    },
    {
     "name": "stdout",
     "output_type": "stream",
     "text": [
      "Train Loss: 134.3197\n",
      "Val Loss: 142.1837\n",
      "Epoch 127 of 1000\n"
     ]
    },
    {
     "name": "stderr",
     "output_type": "stream",
     "text": [
      "469it [00:06, 73.03it/s]                         \n",
      "79it [00:00, 99.88it/s]                         \n",
      "  2%|▏         | 8/468 [00:00<00:06, 73.57it/s]"
     ]
    },
    {
     "name": "stdout",
     "output_type": "stream",
     "text": [
      "Train Loss: 134.3617\n",
      "Val Loss: 142.2483\n",
      "Epoch 128 of 1000\n"
     ]
    },
    {
     "name": "stderr",
     "output_type": "stream",
     "text": [
      "469it [00:06, 73.08it/s]                         \n",
      "79it [00:00, 99.85it/s]                         \n",
      "  1%|▏         | 7/468 [00:00<00:07, 64.92it/s]"
     ]
    },
    {
     "name": "stdout",
     "output_type": "stream",
     "text": [
      "Train Loss: 134.2495\n",
      "Val Loss: 142.1432\n",
      "Epoch 129 of 1000\n"
     ]
    },
    {
     "name": "stderr",
     "output_type": "stream",
     "text": [
      "469it [00:06, 73.28it/s]                         \n",
      "79it [00:00, 98.38it/s]                        \n",
      "  2%|▏         | 8/468 [00:00<00:05, 76.87it/s]"
     ]
    },
    {
     "name": "stdout",
     "output_type": "stream",
     "text": [
      "Train Loss: 134.1741\n",
      "Val Loss: 141.9170\n",
      "Epoch 130 of 1000\n"
     ]
    },
    {
     "name": "stderr",
     "output_type": "stream",
     "text": [
      "469it [00:06, 72.63it/s]                         \n",
      "79it [00:00, 100.58it/s]                        \n",
      "  2%|▏         | 8/468 [00:00<00:06, 71.50it/s]"
     ]
    },
    {
     "name": "stdout",
     "output_type": "stream",
     "text": [
      "Train Loss: 134.1293\n",
      "Val Loss: 142.3189\n",
      "Epoch 131 of 1000\n"
     ]
    },
    {
     "name": "stderr",
     "output_type": "stream",
     "text": [
      "469it [00:06, 72.99it/s]                         \n",
      "79it [00:00, 99.84it/s]                        \n",
      "  2%|▏         | 8/468 [00:00<00:06, 73.75it/s]"
     ]
    },
    {
     "name": "stdout",
     "output_type": "stream",
     "text": [
      "Train Loss: 134.1397\n",
      "Val Loss: 142.3537\n",
      "Epoch 132 of 1000\n"
     ]
    },
    {
     "name": "stderr",
     "output_type": "stream",
     "text": [
      "469it [00:06, 72.16it/s]                         \n",
      "79it [00:00, 100.08it/s]                       \n",
      "  2%|▏         | 8/468 [00:00<00:06, 71.60it/s]"
     ]
    },
    {
     "name": "stdout",
     "output_type": "stream",
     "text": [
      "Train Loss: 134.1062\n",
      "Val Loss: 142.4165\n",
      "Epoch 133 of 1000\n"
     ]
    },
    {
     "name": "stderr",
     "output_type": "stream",
     "text": [
      "469it [00:06, 73.33it/s]                         \n",
      "79it [00:00, 101.12it/s]                        \n",
      "  2%|▏         | 8/468 [00:00<00:06, 76.12it/s]"
     ]
    },
    {
     "name": "stdout",
     "output_type": "stream",
     "text": [
      "Train Loss: 134.1647\n",
      "Val Loss: 142.4125\n",
      "Epoch 134 of 1000\n"
     ]
    },
    {
     "name": "stderr",
     "output_type": "stream",
     "text": [
      "469it [00:06, 73.89it/s]                         \n",
      "79it [00:00, 101.13it/s]                        \n",
      "  2%|▏         | 8/468 [00:00<00:05, 76.85it/s]"
     ]
    },
    {
     "name": "stdout",
     "output_type": "stream",
     "text": [
      "Train Loss: 134.0505\n",
      "Val Loss: 142.2224\n",
      "Epoch 135 of 1000\n"
     ]
    },
    {
     "name": "stderr",
     "output_type": "stream",
     "text": [
      "469it [00:06, 73.64it/s]                         \n",
      "79it [00:00, 101.62it/s]                        \n",
      "  2%|▏         | 8/468 [00:00<00:06, 74.91it/s]"
     ]
    },
    {
     "name": "stdout",
     "output_type": "stream",
     "text": [
      "Train Loss: 133.9837\n",
      "Val Loss: 142.4103\n",
      "Epoch 136 of 1000\n"
     ]
    },
    {
     "name": "stderr",
     "output_type": "stream",
     "text": [
      "469it [00:06, 73.37it/s]                         \n",
      "79it [00:00, 100.55it/s]                        \n",
      "  2%|▏         | 8/468 [00:00<00:06, 74.80it/s]"
     ]
    },
    {
     "name": "stdout",
     "output_type": "stream",
     "text": [
      "Train Loss: 133.9608\n",
      "Val Loss: 142.2063\n",
      "Epoch 137 of 1000\n"
     ]
    },
    {
     "name": "stderr",
     "output_type": "stream",
     "text": [
      "469it [00:06, 73.84it/s]                         \n",
      "79it [00:00, 100.97it/s]                        \n",
      "  2%|▏         | 8/468 [00:00<00:06, 75.25it/s]"
     ]
    },
    {
     "name": "stdout",
     "output_type": "stream",
     "text": [
      "Train Loss: 133.9582\n",
      "Val Loss: 142.2396\n",
      "Epoch 138 of 1000\n"
     ]
    },
    {
     "name": "stderr",
     "output_type": "stream",
     "text": [
      "469it [00:06, 72.69it/s]                         \n",
      "79it [00:00, 98.22it/s]                        \n",
      "  1%|▏         | 7/468 [00:00<00:06, 68.85it/s]"
     ]
    },
    {
     "name": "stdout",
     "output_type": "stream",
     "text": [
      "Train Loss: 133.9271\n",
      "Val Loss: 142.2468\n",
      "Epoch 139 of 1000\n"
     ]
    },
    {
     "name": "stderr",
     "output_type": "stream",
     "text": [
      "469it [00:06, 73.84it/s]                         \n",
      "79it [00:00, 101.50it/s]                        \n",
      "  2%|▏         | 8/468 [00:00<00:06, 73.60it/s]"
     ]
    },
    {
     "name": "stdout",
     "output_type": "stream",
     "text": [
      "Train Loss: 133.8513\n",
      "Val Loss: 142.2809\n",
      "Epoch 140 of 1000\n"
     ]
    },
    {
     "name": "stderr",
     "output_type": "stream",
     "text": [
      "469it [00:06, 72.67it/s]\n",
      "79it [00:00, 99.24it/s]                        \n",
      "  2%|▏         | 8/468 [00:00<00:06, 74.90it/s]"
     ]
    },
    {
     "name": "stdout",
     "output_type": "stream",
     "text": [
      "Train Loss: 133.8005\n",
      "Val Loss: 142.4185\n",
      "Epoch 141 of 1000\n"
     ]
    },
    {
     "name": "stderr",
     "output_type": "stream",
     "text": [
      "469it [00:06, 73.08it/s]                         \n",
      "79it [00:00, 102.01it/s]                        \n",
      "  1%|▏         | 7/468 [00:00<00:06, 68.65it/s]"
     ]
    },
    {
     "name": "stdout",
     "output_type": "stream",
     "text": [
      "Train Loss: 133.7602\n",
      "Val Loss: 142.2099\n",
      "Epoch 142 of 1000\n"
     ]
    },
    {
     "name": "stderr",
     "output_type": "stream",
     "text": [
      "469it [00:06, 73.10it/s]\n",
      "79it [00:00, 98.93it/s]                        \n",
      "  1%|▏         | 7/468 [00:00<00:07, 63.32it/s]"
     ]
    },
    {
     "name": "stdout",
     "output_type": "stream",
     "text": [
      "Train Loss: 133.7784\n",
      "Val Loss: 142.0322\n",
      "Epoch 143 of 1000\n"
     ]
    },
    {
     "name": "stderr",
     "output_type": "stream",
     "text": [
      "469it [00:06, 72.42it/s]\n",
      "79it [00:00, 97.58it/s]                        \n",
      "  1%|▏         | 7/468 [00:00<00:06, 69.94it/s]"
     ]
    },
    {
     "name": "stdout",
     "output_type": "stream",
     "text": [
      "Train Loss: 133.7399\n",
      "Val Loss: 142.2919\n",
      "Epoch 144 of 1000\n"
     ]
    },
    {
     "name": "stderr",
     "output_type": "stream",
     "text": [
      "469it [00:06, 72.49it/s]                         \n",
      "79it [00:00, 99.62it/s]                        \n",
      "  2%|▏         | 8/468 [00:00<00:06, 73.47it/s]"
     ]
    },
    {
     "name": "stdout",
     "output_type": "stream",
     "text": [
      "Train Loss: 133.6890\n",
      "Val Loss: 142.2258\n",
      "Epoch 145 of 1000\n"
     ]
    },
    {
     "name": "stderr",
     "output_type": "stream",
     "text": [
      "469it [00:06, 73.06it/s]\n",
      "79it [00:00, 98.21it/s]                        \n",
      "  2%|▏         | 8/468 [00:00<00:06, 75.06it/s]"
     ]
    },
    {
     "name": "stdout",
     "output_type": "stream",
     "text": [
      "Train Loss: 133.6784\n",
      "Val Loss: 142.1328\n",
      "Epoch 146 of 1000\n"
     ]
    },
    {
     "name": "stderr",
     "output_type": "stream",
     "text": [
      "469it [00:06, 72.68it/s]                         \n",
      "79it [00:00, 99.75it/s]                        \n",
      "  1%|▏         | 7/468 [00:00<00:07, 63.33it/s]"
     ]
    },
    {
     "name": "stdout",
     "output_type": "stream",
     "text": [
      "Train Loss: 133.7213\n",
      "Val Loss: 141.7592\n",
      "Epoch 147 of 1000\n"
     ]
    },
    {
     "name": "stderr",
     "output_type": "stream",
     "text": [
      "469it [00:06, 72.56it/s]                         \n",
      "79it [00:00, 99.30it/s]                        \n",
      "  2%|▏         | 8/468 [00:00<00:06, 70.12it/s]"
     ]
    },
    {
     "name": "stdout",
     "output_type": "stream",
     "text": [
      "Train Loss: 133.6019\n",
      "Val Loss: 142.1337\n",
      "Epoch 148 of 1000\n"
     ]
    },
    {
     "name": "stderr",
     "output_type": "stream",
     "text": [
      "469it [00:06, 72.68it/s]                         \n",
      "79it [00:00, 101.13it/s]                       \n",
      "  2%|▏         | 8/468 [00:00<00:06, 73.99it/s]"
     ]
    },
    {
     "name": "stdout",
     "output_type": "stream",
     "text": [
      "Train Loss: 133.5581\n",
      "Val Loss: 141.8640\n",
      "Epoch 149 of 1000\n"
     ]
    },
    {
     "name": "stderr",
     "output_type": "stream",
     "text": [
      "469it [00:06, 72.58it/s]                         \n",
      "79it [00:00, 100.11it/s]                       \n",
      "  1%|▏         | 7/468 [00:00<00:07, 63.34it/s]"
     ]
    },
    {
     "name": "stdout",
     "output_type": "stream",
     "text": [
      "Train Loss: 133.4970\n",
      "Val Loss: 142.2090\n",
      "Epoch 150 of 1000\n"
     ]
    },
    {
     "name": "stderr",
     "output_type": "stream",
     "text": [
      "469it [00:06, 73.18it/s]                         \n",
      "79it [00:01, 76.54it/s]                        \n",
      "  2%|▏         | 8/468 [00:00<00:06, 75.12it/s]"
     ]
    },
    {
     "name": "stdout",
     "output_type": "stream",
     "text": [
      "Train Loss: 133.4856\n",
      "Val Loss: 141.9488\n",
      "Epoch 151 of 1000\n"
     ]
    },
    {
     "name": "stderr",
     "output_type": "stream",
     "text": [
      "469it [00:06, 73.55it/s]                         \n",
      "79it [00:00, 100.92it/s]                        \n",
      "  2%|▏         | 8/468 [00:00<00:06, 74.74it/s]"
     ]
    },
    {
     "name": "stdout",
     "output_type": "stream",
     "text": [
      "Train Loss: 133.4508\n",
      "Val Loss: 142.0387\n",
      "Epoch 152 of 1000\n"
     ]
    },
    {
     "name": "stderr",
     "output_type": "stream",
     "text": [
      "469it [00:06, 73.83it/s]                         \n",
      "79it [00:00, 99.47it/s]                        \n",
      "  2%|▏         | 8/468 [00:00<00:06, 72.78it/s]"
     ]
    },
    {
     "name": "stdout",
     "output_type": "stream",
     "text": [
      "Train Loss: 133.4423\n",
      "Val Loss: 142.2730\n",
      "Epoch 153 of 1000\n"
     ]
    },
    {
     "name": "stderr",
     "output_type": "stream",
     "text": [
      "469it [00:06, 72.90it/s]                         \n",
      "79it [00:00, 100.62it/s]                        \n",
      "  2%|▏         | 8/468 [00:00<00:06, 70.78it/s]"
     ]
    },
    {
     "name": "stdout",
     "output_type": "stream",
     "text": [
      "Train Loss: 133.4242\n",
      "Val Loss: 142.4089\n",
      "Epoch 154 of 1000\n"
     ]
    },
    {
     "name": "stderr",
     "output_type": "stream",
     "text": [
      "469it [00:06, 72.48it/s]\n",
      "79it [00:00, 93.52it/s]\n",
      "  1%|▏         | 7/468 [00:00<00:07, 64.77it/s]"
     ]
    },
    {
     "name": "stdout",
     "output_type": "stream",
     "text": [
      "Train Loss: 133.4846\n",
      "Val Loss: 142.5075\n",
      "Epoch 155 of 1000\n"
     ]
    },
    {
     "name": "stderr",
     "output_type": "stream",
     "text": [
      "469it [00:06, 70.13it/s]                         \n",
      "79it [00:00, 93.98it/s]                        \n",
      "  1%|▏         | 7/468 [00:00<00:06, 68.34it/s]"
     ]
    },
    {
     "name": "stdout",
     "output_type": "stream",
     "text": [
      "Train Loss: 133.3289\n",
      "Val Loss: 142.2110\n",
      "Epoch 156 of 1000\n"
     ]
    },
    {
     "name": "stderr",
     "output_type": "stream",
     "text": [
      "469it [00:06, 72.23it/s]                         \n",
      "79it [00:00, 98.97it/s]                        \n",
      "  2%|▏         | 8/468 [00:00<00:06, 75.86it/s]"
     ]
    },
    {
     "name": "stdout",
     "output_type": "stream",
     "text": [
      "Train Loss: 133.3216\n",
      "Val Loss: 142.0666\n",
      "Epoch 157 of 1000\n"
     ]
    },
    {
     "name": "stderr",
     "output_type": "stream",
     "text": [
      "469it [00:06, 73.10it/s]                         \n",
      "79it [00:00, 99.39it/s]                        \n",
      "  2%|▏         | 8/468 [00:00<00:06, 73.32it/s]"
     ]
    },
    {
     "name": "stdout",
     "output_type": "stream",
     "text": [
      "Train Loss: 133.2551\n",
      "Val Loss: 142.3737\n",
      "Epoch 158 of 1000\n"
     ]
    },
    {
     "name": "stderr",
     "output_type": "stream",
     "text": [
      "469it [00:06, 73.67it/s]                         \n",
      "79it [00:00, 97.48it/s]                        \n",
      "  1%|▏         | 7/468 [00:00<00:06, 67.14it/s]"
     ]
    },
    {
     "name": "stdout",
     "output_type": "stream",
     "text": [
      "Train Loss: 133.2524\n",
      "Val Loss: 142.0534\n",
      "Epoch 159 of 1000\n"
     ]
    },
    {
     "name": "stderr",
     "output_type": "stream",
     "text": [
      "469it [00:06, 72.89it/s]                         \n",
      "79it [00:00, 101.41it/s]                        \n",
      "  1%|▏         | 7/468 [00:00<00:06, 68.39it/s]"
     ]
    },
    {
     "name": "stdout",
     "output_type": "stream",
     "text": [
      "Train Loss: 133.1992\n",
      "Val Loss: 142.1856\n",
      "Epoch 160 of 1000\n"
     ]
    },
    {
     "name": "stderr",
     "output_type": "stream",
     "text": [
      "469it [00:06, 73.20it/s]                         \n",
      "79it [00:00, 99.91it/s]                        \n",
      "  2%|▏         | 8/468 [00:00<00:06, 75.57it/s]"
     ]
    },
    {
     "name": "stdout",
     "output_type": "stream",
     "text": [
      "Train Loss: 133.2357\n",
      "Val Loss: 142.3662\n",
      "Epoch 161 of 1000\n"
     ]
    },
    {
     "name": "stderr",
     "output_type": "stream",
     "text": [
      "469it [00:06, 73.73it/s]                         \n",
      "79it [00:00, 97.59it/s]                        \n",
      "  2%|▏         | 8/468 [00:00<00:06, 72.03it/s]"
     ]
    },
    {
     "name": "stdout",
     "output_type": "stream",
     "text": [
      "Train Loss: 133.1632\n",
      "Val Loss: 142.3851\n",
      "Epoch 162 of 1000\n"
     ]
    },
    {
     "name": "stderr",
     "output_type": "stream",
     "text": [
      "469it [00:06, 73.22it/s]                         \n",
      "79it [00:00, 99.96it/s]                        \n",
      "  2%|▏         | 8/468 [00:00<00:06, 72.93it/s]"
     ]
    },
    {
     "name": "stdout",
     "output_type": "stream",
     "text": [
      "Train Loss: 133.1364\n",
      "Val Loss: 141.9619\n",
      "Epoch 163 of 1000\n"
     ]
    },
    {
     "name": "stderr",
     "output_type": "stream",
     "text": [
      "469it [00:06, 71.53it/s]\n",
      "79it [00:00, 97.39it/s]                        \n",
      "  2%|▏         | 8/468 [00:00<00:06, 74.64it/s]"
     ]
    },
    {
     "name": "stdout",
     "output_type": "stream",
     "text": [
      "Train Loss: 133.1456\n",
      "Val Loss: 142.4935\n",
      "Epoch 164 of 1000\n"
     ]
    },
    {
     "name": "stderr",
     "output_type": "stream",
     "text": [
      "469it [00:06, 73.51it/s]                         \n",
      "79it [00:00, 99.49it/s]                        \n",
      "  2%|▏         | 8/468 [00:00<00:06, 72.82it/s]"
     ]
    },
    {
     "name": "stdout",
     "output_type": "stream",
     "text": [
      "Train Loss: 133.0862\n",
      "Val Loss: 142.3619\n",
      "Epoch 165 of 1000\n"
     ]
    },
    {
     "name": "stderr",
     "output_type": "stream",
     "text": [
      "469it [00:06, 72.57it/s]                         \n",
      "79it [00:00, 99.82it/s]                        \n",
      "  2%|▏         | 8/468 [00:00<00:06, 76.16it/s]"
     ]
    },
    {
     "name": "stdout",
     "output_type": "stream",
     "text": [
      "Train Loss: 133.0353\n",
      "Val Loss: 142.1413\n",
      "Epoch 166 of 1000\n"
     ]
    },
    {
     "name": "stderr",
     "output_type": "stream",
     "text": [
      "469it [00:06, 72.57it/s]\n",
      "79it [00:00, 100.91it/s]                       \n",
      "  1%|▏         | 7/468 [00:00<00:07, 64.15it/s]"
     ]
    },
    {
     "name": "stdout",
     "output_type": "stream",
     "text": [
      "Train Loss: 133.0149\n",
      "Val Loss: 142.3926\n",
      "Epoch 167 of 1000\n"
     ]
    },
    {
     "name": "stderr",
     "output_type": "stream",
     "text": [
      "469it [00:06, 73.85it/s]                         \n",
      "79it [00:00, 101.22it/s]                       \n",
      "  2%|▏         | 8/468 [00:00<00:06, 76.64it/s]"
     ]
    },
    {
     "name": "stdout",
     "output_type": "stream",
     "text": [
      "Train Loss: 133.0594\n",
      "Val Loss: 142.3248\n",
      "Epoch 168 of 1000\n"
     ]
    },
    {
     "name": "stderr",
     "output_type": "stream",
     "text": [
      "469it [00:06, 73.07it/s]                         \n",
      "79it [00:00, 102.24it/s]                        \n",
      "  2%|▏         | 8/468 [00:00<00:06, 75.49it/s]"
     ]
    },
    {
     "name": "stdout",
     "output_type": "stream",
     "text": [
      "Train Loss: 132.9869\n",
      "Val Loss: 142.2477\n",
      "Epoch 169 of 1000\n"
     ]
    },
    {
     "name": "stderr",
     "output_type": "stream",
     "text": [
      "469it [00:06, 73.32it/s]                         \n",
      "79it [00:00, 100.06it/s]                       \n",
      "  2%|▏         | 8/468 [00:00<00:06, 76.31it/s]"
     ]
    },
    {
     "name": "stdout",
     "output_type": "stream",
     "text": [
      "Train Loss: 132.9522\n",
      "Val Loss: 142.0842\n",
      "Epoch 170 of 1000\n"
     ]
    },
    {
     "name": "stderr",
     "output_type": "stream",
     "text": [
      "469it [00:06, 73.08it/s]                         \n",
      "79it [00:00, 97.39it/s]                        \n",
      "  2%|▏         | 8/468 [00:00<00:06, 70.81it/s]"
     ]
    },
    {
     "name": "stdout",
     "output_type": "stream",
     "text": [
      "Train Loss: 132.8941\n",
      "Val Loss: 142.3221\n",
      "Epoch 171 of 1000\n"
     ]
    },
    {
     "name": "stderr",
     "output_type": "stream",
     "text": [
      "469it [00:06, 73.08it/s]                         \n",
      "79it [00:00, 97.43it/s]                        \n",
      "  2%|▏         | 8/468 [00:00<00:06, 74.93it/s]"
     ]
    },
    {
     "name": "stdout",
     "output_type": "stream",
     "text": [
      "Train Loss: 132.8895\n",
      "Val Loss: 142.3264\n",
      "Epoch 172 of 1000\n"
     ]
    },
    {
     "name": "stderr",
     "output_type": "stream",
     "text": [
      "469it [00:06, 73.25it/s]                         \n",
      "79it [00:00, 100.57it/s]                        \n",
      "  1%|▏         | 7/468 [00:00<00:06, 69.76it/s]"
     ]
    },
    {
     "name": "stdout",
     "output_type": "stream",
     "text": [
      "Train Loss: 132.8791\n",
      "Val Loss: 142.5205\n",
      "Epoch 173 of 1000\n"
     ]
    },
    {
     "name": "stderr",
     "output_type": "stream",
     "text": [
      "469it [00:06, 73.43it/s]                         \n",
      "79it [00:00, 99.81it/s]                         \n",
      "  1%|▏         | 7/468 [00:00<00:06, 68.77it/s]"
     ]
    },
    {
     "name": "stdout",
     "output_type": "stream",
     "text": [
      "Train Loss: 132.8630\n",
      "Val Loss: 142.2125\n",
      "Epoch 174 of 1000\n"
     ]
    },
    {
     "name": "stderr",
     "output_type": "stream",
     "text": [
      "469it [00:06, 72.94it/s]                         \n",
      "79it [00:00, 98.03it/s]                        \n",
      "  1%|▏         | 7/468 [00:00<00:07, 64.36it/s]"
     ]
    },
    {
     "name": "stdout",
     "output_type": "stream",
     "text": [
      "Train Loss: 132.9094\n",
      "Val Loss: 142.1764\n",
      "Epoch 175 of 1000\n"
     ]
    },
    {
     "name": "stderr",
     "output_type": "stream",
     "text": [
      "469it [00:06, 72.99it/s]                         \n",
      "79it [00:00, 100.82it/s]                       \n",
      "  2%|▏         | 8/468 [00:00<00:06, 73.80it/s]"
     ]
    },
    {
     "name": "stdout",
     "output_type": "stream",
     "text": [
      "Train Loss: 132.7932\n",
      "Val Loss: 142.3136\n",
      "Epoch 176 of 1000\n"
     ]
    },
    {
     "name": "stderr",
     "output_type": "stream",
     "text": [
      "469it [00:06, 72.53it/s]                         \n",
      "79it [00:00, 98.44it/s]                        \n",
      "  2%|▏         | 8/468 [00:00<00:06, 75.21it/s]"
     ]
    },
    {
     "name": "stdout",
     "output_type": "stream",
     "text": [
      "Train Loss: 132.7992\n",
      "Val Loss: 142.0768\n",
      "Epoch 177 of 1000\n"
     ]
    },
    {
     "name": "stderr",
     "output_type": "stream",
     "text": [
      "469it [00:06, 72.59it/s]                         \n",
      "79it [00:00, 100.74it/s]                        \n",
      "  1%|▏         | 7/468 [00:00<00:06, 69.29it/s]"
     ]
    },
    {
     "name": "stdout",
     "output_type": "stream",
     "text": [
      "Train Loss: 132.7335\n",
      "Val Loss: 142.3656\n",
      "Epoch 178 of 1000\n"
     ]
    },
    {
     "name": "stderr",
     "output_type": "stream",
     "text": [
      "469it [00:06, 73.30it/s]\n",
      "79it [00:00, 100.18it/s]                        \n",
      "  1%|▏         | 7/468 [00:00<00:06, 68.66it/s]"
     ]
    },
    {
     "name": "stdout",
     "output_type": "stream",
     "text": [
      "Train Loss: 132.7302\n",
      "Val Loss: 142.2840\n",
      "Epoch 179 of 1000\n"
     ]
    },
    {
     "name": "stderr",
     "output_type": "stream",
     "text": [
      "469it [00:06, 72.38it/s]                         \n",
      "79it [00:00, 97.29it/s]                        \n",
      "  2%|▏         | 8/468 [00:00<00:06, 73.25it/s]"
     ]
    },
    {
     "name": "stdout",
     "output_type": "stream",
     "text": [
      "Train Loss: 132.6788\n",
      "Val Loss: 142.1938\n",
      "Epoch 180 of 1000\n"
     ]
    },
    {
     "name": "stderr",
     "output_type": "stream",
     "text": [
      "469it [00:06, 72.59it/s]                         \n",
      "79it [00:00, 101.20it/s]                        \n",
      "  2%|▏         | 8/468 [00:00<00:06, 72.12it/s]"
     ]
    },
    {
     "name": "stdout",
     "output_type": "stream",
     "text": [
      "Train Loss: 132.7029\n",
      "Val Loss: 142.1467\n",
      "Epoch 181 of 1000\n"
     ]
    },
    {
     "name": "stderr",
     "output_type": "stream",
     "text": [
      "469it [00:06, 73.12it/s]                         \n",
      "79it [00:00, 100.56it/s]                        \n",
      "  1%|▏         | 7/468 [00:00<00:07, 62.58it/s]"
     ]
    },
    {
     "name": "stdout",
     "output_type": "stream",
     "text": [
      "Train Loss: 132.6520\n",
      "Val Loss: 142.2766\n",
      "Epoch 182 of 1000\n"
     ]
    },
    {
     "name": "stderr",
     "output_type": "stream",
     "text": [
      "469it [00:06, 72.75it/s]                         \n",
      "79it [00:00, 98.28it/s]                        \n",
      "  2%|▏         | 8/468 [00:00<00:06, 72.98it/s]"
     ]
    },
    {
     "name": "stdout",
     "output_type": "stream",
     "text": [
      "Train Loss: 132.6293\n",
      "Val Loss: 142.3311\n",
      "Epoch 183 of 1000\n"
     ]
    },
    {
     "name": "stderr",
     "output_type": "stream",
     "text": [
      "469it [00:06, 73.60it/s]                         \n",
      "79it [00:00, 97.97it/s]                        \n",
      "  2%|▏         | 8/468 [00:00<00:06, 73.15it/s]"
     ]
    },
    {
     "name": "stdout",
     "output_type": "stream",
     "text": [
      "Train Loss: 132.5710\n",
      "Val Loss: 142.3631\n",
      "Epoch 184 of 1000\n"
     ]
    },
    {
     "name": "stderr",
     "output_type": "stream",
     "text": [
      "469it [00:06, 73.12it/s]                         \n",
      "79it [00:00, 101.27it/s]                        \n",
      "  2%|▏         | 8/468 [00:00<00:06, 75.81it/s]"
     ]
    },
    {
     "name": "stdout",
     "output_type": "stream",
     "text": [
      "Train Loss: 132.5823\n",
      "Val Loss: 142.2719\n",
      "Epoch 185 of 1000\n"
     ]
    },
    {
     "name": "stderr",
     "output_type": "stream",
     "text": [
      "469it [00:06, 74.20it/s]\n",
      "79it [00:00, 100.39it/s]                       \n",
      "  2%|▏         | 8/468 [00:00<00:06, 70.72it/s]"
     ]
    },
    {
     "name": "stdout",
     "output_type": "stream",
     "text": [
      "Train Loss: 132.5421\n",
      "Val Loss: 142.3667\n",
      "Epoch 186 of 1000\n"
     ]
    },
    {
     "name": "stderr",
     "output_type": "stream",
     "text": [
      "469it [00:06, 73.76it/s]                         \n",
      "79it [00:00, 101.05it/s]                        \n",
      "  2%|▏         | 8/468 [00:00<00:06, 75.33it/s]"
     ]
    },
    {
     "name": "stdout",
     "output_type": "stream",
     "text": [
      "Train Loss: 132.5706\n",
      "Val Loss: 142.2945\n",
      "Epoch 187 of 1000\n"
     ]
    },
    {
     "name": "stderr",
     "output_type": "stream",
     "text": [
      "469it [00:06, 73.49it/s]                         \n",
      "79it [00:00, 97.88it/s]                        \n",
      "  2%|▏         | 8/468 [00:00<00:06, 73.55it/s]"
     ]
    },
    {
     "name": "stdout",
     "output_type": "stream",
     "text": [
      "Train Loss: 132.5759\n",
      "Val Loss: 142.3094\n",
      "Epoch 188 of 1000\n"
     ]
    },
    {
     "name": "stderr",
     "output_type": "stream",
     "text": [
      "469it [00:06, 72.14it/s]                         \n",
      "79it [00:00, 100.19it/s]                       \n",
      "  1%|▏         | 7/468 [00:00<00:07, 65.39it/s]"
     ]
    },
    {
     "name": "stdout",
     "output_type": "stream",
     "text": [
      "Train Loss: 132.4473\n",
      "Val Loss: 142.1489\n",
      "Epoch 189 of 1000\n"
     ]
    },
    {
     "name": "stderr",
     "output_type": "stream",
     "text": [
      "469it [00:06, 73.13it/s]                         \n",
      "79it [00:00, 99.79it/s]                        \n",
      "  2%|▏         | 8/468 [00:00<00:06, 74.46it/s]"
     ]
    },
    {
     "name": "stdout",
     "output_type": "stream",
     "text": [
      "Train Loss: 132.4338\n",
      "Val Loss: 142.3252\n",
      "Epoch 190 of 1000\n"
     ]
    },
    {
     "name": "stderr",
     "output_type": "stream",
     "text": [
      "469it [00:06, 73.47it/s]                         \n",
      "79it [00:00, 100.17it/s]                       \n",
      "  2%|▏         | 8/468 [00:00<00:06, 71.44it/s]"
     ]
    },
    {
     "name": "stdout",
     "output_type": "stream",
     "text": [
      "Train Loss: 132.4097\n",
      "Val Loss: 142.5424\n",
      "Epoch 191 of 1000\n"
     ]
    },
    {
     "name": "stderr",
     "output_type": "stream",
     "text": [
      "469it [00:06, 73.64it/s]                         \n",
      "79it [00:00, 99.33it/s]                        \n",
      "  2%|▏         | 8/468 [00:00<00:06, 71.75it/s]"
     ]
    },
    {
     "name": "stdout",
     "output_type": "stream",
     "text": [
      "Train Loss: 132.4103\n",
      "Val Loss: 142.1229\n",
      "Epoch 192 of 1000\n"
     ]
    },
    {
     "name": "stderr",
     "output_type": "stream",
     "text": [
      "469it [00:06, 73.31it/s]                         \n",
      "79it [00:00, 99.92it/s]                        \n",
      "  2%|▏         | 8/468 [00:00<00:06, 71.37it/s]"
     ]
    },
    {
     "name": "stdout",
     "output_type": "stream",
     "text": [
      "Train Loss: 132.4166\n",
      "Val Loss: 142.3229\n",
      "Epoch 193 of 1000\n"
     ]
    },
    {
     "name": "stderr",
     "output_type": "stream",
     "text": [
      "469it [00:06, 73.30it/s]\n",
      "79it [00:00, 101.55it/s]                        \n",
      "  2%|▏         | 8/468 [00:00<00:06, 75.39it/s]"
     ]
    },
    {
     "name": "stdout",
     "output_type": "stream",
     "text": [
      "Train Loss: 132.3288\n",
      "Val Loss: 142.3182\n",
      "Epoch 194 of 1000\n"
     ]
    },
    {
     "name": "stderr",
     "output_type": "stream",
     "text": [
      "469it [00:06, 73.66it/s]                         \n",
      "79it [00:00, 100.23it/s]                       \n",
      "  2%|▏         | 8/468 [00:00<00:06, 73.02it/s]"
     ]
    },
    {
     "name": "stdout",
     "output_type": "stream",
     "text": [
      "Train Loss: 132.3163\n",
      "Val Loss: 142.3026\n",
      "Epoch 195 of 1000\n"
     ]
    },
    {
     "name": "stderr",
     "output_type": "stream",
     "text": [
      "469it [00:06, 73.75it/s]                         \n",
      "79it [00:00, 101.90it/s]                        \n",
      "  2%|▏         | 8/468 [00:00<00:06, 73.30it/s]"
     ]
    },
    {
     "name": "stdout",
     "output_type": "stream",
     "text": [
      "Train Loss: 132.2923\n",
      "Val Loss: 142.2620\n",
      "Epoch 196 of 1000\n"
     ]
    },
    {
     "name": "stderr",
     "output_type": "stream",
     "text": [
      "469it [00:06, 73.52it/s]                         \n",
      "79it [00:00, 99.46it/s]                        \n",
      "  2%|▏         | 8/468 [00:00<00:06, 73.52it/s]"
     ]
    },
    {
     "name": "stdout",
     "output_type": "stream",
     "text": [
      "Train Loss: 132.2761\n",
      "Val Loss: 142.2354\n",
      "Epoch 197 of 1000\n"
     ]
    },
    {
     "name": "stderr",
     "output_type": "stream",
     "text": [
      "469it [00:06, 73.09it/s]                         \n",
      "79it [00:00, 100.94it/s]                        \n",
      "  2%|▏         | 8/468 [00:00<00:06, 73.04it/s]"
     ]
    },
    {
     "name": "stdout",
     "output_type": "stream",
     "text": [
      "Train Loss: 132.2983\n",
      "Val Loss: 142.3981\n",
      "Epoch 198 of 1000\n"
     ]
    },
    {
     "name": "stderr",
     "output_type": "stream",
     "text": [
      "469it [00:06, 70.20it/s]                         \n",
      "79it [00:00, 95.38it/s]                        \n",
      "  1%|▏         | 7/468 [00:00<00:07, 62.18it/s]"
     ]
    },
    {
     "name": "stdout",
     "output_type": "stream",
     "text": [
      "Train Loss: 132.2477\n",
      "Val Loss: 142.5054\n",
      "Epoch 199 of 1000\n"
     ]
    },
    {
     "name": "stderr",
     "output_type": "stream",
     "text": [
      "469it [00:06, 70.84it/s]                         \n",
      "79it [00:00, 100.28it/s]                        \n",
      "  2%|▏         | 8/468 [00:00<00:06, 75.08it/s]"
     ]
    },
    {
     "name": "stdout",
     "output_type": "stream",
     "text": [
      "Train Loss: 132.2919\n",
      "Val Loss: 142.2903\n",
      "Epoch 200 of 1000\n"
     ]
    },
    {
     "name": "stderr",
     "output_type": "stream",
     "text": [
      "469it [00:06, 73.28it/s]\n",
      "79it [00:01, 76.90it/s]                        \n",
      "  1%|▏         | 7/468 [00:00<00:06, 68.55it/s]"
     ]
    },
    {
     "name": "stdout",
     "output_type": "stream",
     "text": [
      "Train Loss: 132.1716\n",
      "Val Loss: 142.1406\n",
      "Epoch 201 of 1000\n"
     ]
    },
    {
     "name": "stderr",
     "output_type": "stream",
     "text": [
      "469it [00:06, 72.24it/s]\n",
      "79it [00:00, 98.10it/s]                        \n",
      "  2%|▏         | 8/468 [00:00<00:06, 73.32it/s]"
     ]
    },
    {
     "name": "stdout",
     "output_type": "stream",
     "text": [
      "Train Loss: 132.1828\n",
      "Val Loss: 142.1665\n",
      "Epoch 202 of 1000\n"
     ]
    },
    {
     "name": "stderr",
     "output_type": "stream",
     "text": [
      "469it [00:06, 73.20it/s]                         \n",
      "79it [00:00, 100.77it/s]                       \n",
      "  2%|▏         | 8/468 [00:00<00:06, 70.51it/s]"
     ]
    },
    {
     "name": "stdout",
     "output_type": "stream",
     "text": [
      "Train Loss: 132.1246\n",
      "Val Loss: 142.2528\n",
      "Epoch 203 of 1000\n"
     ]
    },
    {
     "name": "stderr",
     "output_type": "stream",
     "text": [
      "469it [00:06, 73.04it/s]                         \n",
      "79it [00:00, 100.28it/s]                        \n",
      "  2%|▏         | 8/468 [00:00<00:06, 73.00it/s]"
     ]
    },
    {
     "name": "stdout",
     "output_type": "stream",
     "text": [
      "Train Loss: 132.1271\n",
      "Val Loss: 142.6164\n",
      "Epoch 204 of 1000\n"
     ]
    },
    {
     "name": "stderr",
     "output_type": "stream",
     "text": [
      "469it [00:06, 73.53it/s]                         \n",
      "79it [00:00, 101.02it/s]                       \n",
      "  2%|▏         | 8/468 [00:00<00:06, 73.26it/s]"
     ]
    },
    {
     "name": "stdout",
     "output_type": "stream",
     "text": [
      "Train Loss: 132.1242\n",
      "Val Loss: 142.3855\n",
      "Epoch 205 of 1000\n"
     ]
    },
    {
     "name": "stderr",
     "output_type": "stream",
     "text": [
      "469it [00:06, 71.97it/s]                         \n",
      "79it [00:00, 98.34it/s]                        \n",
      "  2%|▏         | 8/468 [00:00<00:06, 69.01it/s]"
     ]
    },
    {
     "name": "stdout",
     "output_type": "stream",
     "text": [
      "Train Loss: 132.1206\n",
      "Val Loss: 142.3823\n",
      "Epoch 206 of 1000\n"
     ]
    },
    {
     "name": "stderr",
     "output_type": "stream",
     "text": [
      "469it [00:06, 73.38it/s]                         \n",
      "79it [00:00, 99.21it/s]                        \n",
      "  2%|▏         | 8/468 [00:00<00:06, 74.12it/s]"
     ]
    },
    {
     "name": "stdout",
     "output_type": "stream",
     "text": [
      "Train Loss: 132.0705\n",
      "Val Loss: 142.4155\n",
      "Epoch 207 of 1000\n"
     ]
    },
    {
     "name": "stderr",
     "output_type": "stream",
     "text": [
      "469it [00:06, 74.05it/s]                         \n",
      "79it [00:00, 100.66it/s]                        \n",
      "  1%|▏         | 7/468 [00:00<00:06, 67.71it/s]"
     ]
    },
    {
     "name": "stdout",
     "output_type": "stream",
     "text": [
      "Train Loss: 132.0560\n",
      "Val Loss: 142.2493\n",
      "Epoch 208 of 1000\n"
     ]
    },
    {
     "name": "stderr",
     "output_type": "stream",
     "text": [
      "469it [00:06, 73.27it/s]                         \n",
      "79it [00:00, 99.91it/s]                        \n",
      "  2%|▏         | 8/468 [00:00<00:06, 72.26it/s]"
     ]
    },
    {
     "name": "stdout",
     "output_type": "stream",
     "text": [
      "Train Loss: 132.0041\n",
      "Val Loss: 142.4841\n",
      "Epoch 209 of 1000\n"
     ]
    },
    {
     "name": "stderr",
     "output_type": "stream",
     "text": [
      "469it [00:06, 72.79it/s]                         \n",
      "79it [00:00, 97.01it/s]                        \n",
      "  2%|▏         | 8/468 [00:00<00:06, 73.46it/s]"
     ]
    },
    {
     "name": "stdout",
     "output_type": "stream",
     "text": [
      "Train Loss: 132.0536\n",
      "Val Loss: 142.5668\n",
      "Epoch 210 of 1000\n"
     ]
    },
    {
     "name": "stderr",
     "output_type": "stream",
     "text": [
      "469it [00:06, 72.16it/s]                         \n",
      "79it [00:00, 97.57it/s]                        \n",
      "  1%|▏         | 7/468 [00:00<00:06, 67.71it/s]"
     ]
    },
    {
     "name": "stdout",
     "output_type": "stream",
     "text": [
      "Train Loss: 131.9974\n",
      "Val Loss: 142.6835\n",
      "Epoch 211 of 1000\n"
     ]
    },
    {
     "name": "stderr",
     "output_type": "stream",
     "text": [
      "469it [00:06, 73.58it/s]                         \n",
      "79it [00:00, 99.24it/s]                        \n",
      "  2%|▏         | 8/468 [00:00<00:06, 69.70it/s]"
     ]
    },
    {
     "name": "stdout",
     "output_type": "stream",
     "text": [
      "Train Loss: 131.9617\n",
      "Val Loss: 142.3710\n",
      "Epoch 212 of 1000\n"
     ]
    },
    {
     "name": "stderr",
     "output_type": "stream",
     "text": [
      "469it [00:06, 72.45it/s]                         \n",
      "79it [00:00, 101.39it/s]                        \n",
      "  1%|▏         | 7/468 [00:00<00:07, 65.47it/s]"
     ]
    },
    {
     "name": "stdout",
     "output_type": "stream",
     "text": [
      "Train Loss: 131.9888\n",
      "Val Loss: 142.5533\n",
      "Epoch 213 of 1000\n"
     ]
    },
    {
     "name": "stderr",
     "output_type": "stream",
     "text": [
      "469it [00:06, 72.99it/s]                         \n",
      "79it [00:00, 99.85it/s]                         \n",
      "  2%|▏         | 8/468 [00:00<00:06, 73.92it/s]"
     ]
    },
    {
     "name": "stdout",
     "output_type": "stream",
     "text": [
      "Train Loss: 131.9530\n",
      "Val Loss: 142.3622\n",
      "Epoch 214 of 1000\n"
     ]
    },
    {
     "name": "stderr",
     "output_type": "stream",
     "text": [
      "469it [00:06, 72.95it/s]                         \n",
      "79it [00:00, 100.98it/s]                       \n",
      "  2%|▏         | 8/468 [00:00<00:06, 76.40it/s]"
     ]
    },
    {
     "name": "stdout",
     "output_type": "stream",
     "text": [
      "Train Loss: 131.9514\n",
      "Val Loss: 142.2044\n",
      "Epoch 215 of 1000\n"
     ]
    },
    {
     "name": "stderr",
     "output_type": "stream",
     "text": [
      "469it [00:06, 73.46it/s]                         \n",
      "79it [00:00, 99.95it/s]                        \n",
      "  2%|▏         | 8/468 [00:00<00:06, 75.35it/s]"
     ]
    },
    {
     "name": "stdout",
     "output_type": "stream",
     "text": [
      "Train Loss: 131.8679\n",
      "Val Loss: 142.5785\n",
      "Epoch 216 of 1000\n"
     ]
    },
    {
     "name": "stderr",
     "output_type": "stream",
     "text": [
      "469it [00:06, 73.14it/s]                         \n",
      "79it [00:00, 100.34it/s]                        \n",
      "  2%|▏         | 8/468 [00:00<00:06, 73.97it/s]"
     ]
    },
    {
     "name": "stdout",
     "output_type": "stream",
     "text": [
      "Train Loss: 131.8411\n",
      "Val Loss: 142.2753\n",
      "Epoch 217 of 1000\n"
     ]
    },
    {
     "name": "stderr",
     "output_type": "stream",
     "text": [
      "469it [00:06, 73.28it/s]                         \n",
      "79it [00:00, 95.48it/s]                        \n",
      "  2%|▏         | 8/468 [00:00<00:06, 72.60it/s]"
     ]
    },
    {
     "name": "stdout",
     "output_type": "stream",
     "text": [
      "Train Loss: 131.8340\n",
      "Val Loss: 142.6029\n",
      "Epoch 218 of 1000\n"
     ]
    },
    {
     "name": "stderr",
     "output_type": "stream",
     "text": [
      "469it [00:06, 72.80it/s]                         \n",
      "79it [00:00, 101.05it/s]                        \n",
      "  2%|▏         | 8/468 [00:00<00:06, 69.72it/s]"
     ]
    },
    {
     "name": "stdout",
     "output_type": "stream",
     "text": [
      "Train Loss: 131.8546\n",
      "Val Loss: 142.3810\n",
      "Epoch 219 of 1000\n"
     ]
    },
    {
     "name": "stderr",
     "output_type": "stream",
     "text": [
      "469it [00:06, 73.38it/s]                         \n",
      "79it [00:00, 100.41it/s]                        \n",
      "  2%|▏         | 8/468 [00:00<00:06, 74.97it/s]"
     ]
    },
    {
     "name": "stdout",
     "output_type": "stream",
     "text": [
      "Train Loss: 131.7754\n",
      "Val Loss: 142.3656\n",
      "Epoch 220 of 1000\n"
     ]
    },
    {
     "name": "stderr",
     "output_type": "stream",
     "text": [
      "469it [00:06, 73.71it/s]                         \n",
      "79it [00:00, 98.90it/s]                        \n",
      "  2%|▏         | 8/468 [00:00<00:06, 73.66it/s]"
     ]
    },
    {
     "name": "stdout",
     "output_type": "stream",
     "text": [
      "Train Loss: 131.8622\n",
      "Val Loss: 142.4341\n",
      "Epoch 221 of 1000\n"
     ]
    },
    {
     "name": "stderr",
     "output_type": "stream",
     "text": [
      "469it [00:06, 73.34it/s]                         \n",
      "79it [00:00, 99.36it/s]                        \n",
      "  2%|▏         | 8/468 [00:00<00:06, 71.41it/s]"
     ]
    },
    {
     "name": "stdout",
     "output_type": "stream",
     "text": [
      "Train Loss: 131.7448\n",
      "Val Loss: 142.4542\n",
      "Epoch 222 of 1000\n"
     ]
    },
    {
     "name": "stderr",
     "output_type": "stream",
     "text": [
      "469it [00:06, 73.41it/s]                         \n",
      "79it [00:00, 97.95it/s]                        \n",
      "  1%|▏         | 7/468 [00:00<00:07, 63.56it/s]"
     ]
    },
    {
     "name": "stdout",
     "output_type": "stream",
     "text": [
      "Train Loss: 131.7413\n",
      "Val Loss: 142.3745\n",
      "Epoch 223 of 1000\n"
     ]
    },
    {
     "name": "stderr",
     "output_type": "stream",
     "text": [
      "469it [00:06, 72.77it/s]                         \n",
      "79it [00:00, 99.99it/s]                        \n",
      "  2%|▏         | 8/468 [00:00<00:06, 73.63it/s]"
     ]
    },
    {
     "name": "stdout",
     "output_type": "stream",
     "text": [
      "Train Loss: 131.7252\n",
      "Val Loss: 142.3131\n",
      "Epoch 224 of 1000\n"
     ]
    },
    {
     "name": "stderr",
     "output_type": "stream",
     "text": [
      "469it [00:06, 72.97it/s]                         \n",
      "79it [00:00, 100.17it/s]                       \n",
      "  2%|▏         | 8/468 [00:00<00:06, 73.28it/s]"
     ]
    },
    {
     "name": "stdout",
     "output_type": "stream",
     "text": [
      "Train Loss: 131.7842\n",
      "Val Loss: 142.5291\n",
      "Epoch 225 of 1000\n"
     ]
    },
    {
     "name": "stderr",
     "output_type": "stream",
     "text": [
      "469it [00:06, 73.66it/s]                         \n",
      "79it [00:00, 99.46it/s]                        \n",
      "  2%|▏         | 8/468 [00:00<00:06, 75.79it/s]"
     ]
    },
    {
     "name": "stdout",
     "output_type": "stream",
     "text": [
      "Train Loss: 131.8204\n",
      "Val Loss: 142.8741\n",
      "Epoch 226 of 1000\n"
     ]
    },
    {
     "name": "stderr",
     "output_type": "stream",
     "text": [
      "469it [00:06, 73.20it/s]                         \n",
      "79it [00:00, 100.74it/s]                        \n",
      "  2%|▏         | 8/468 [00:00<00:06, 73.24it/s]"
     ]
    },
    {
     "name": "stdout",
     "output_type": "stream",
     "text": [
      "Train Loss: 131.6675\n",
      "Val Loss: 142.5852\n",
      "Epoch 227 of 1000\n"
     ]
    },
    {
     "name": "stderr",
     "output_type": "stream",
     "text": [
      "469it [00:06, 72.56it/s]                         \n",
      "79it [00:00, 99.59it/s]                        \n",
      "  2%|▏         | 8/468 [00:00<00:06, 72.81it/s]"
     ]
    },
    {
     "name": "stdout",
     "output_type": "stream",
     "text": [
      "Train Loss: 131.6133\n",
      "Val Loss: 142.5569\n",
      "Epoch 228 of 1000\n"
     ]
    },
    {
     "name": "stderr",
     "output_type": "stream",
     "text": [
      "469it [00:06, 73.36it/s]                         \n",
      "79it [00:00, 100.78it/s]                       \n",
      "  2%|▏         | 8/468 [00:00<00:06, 72.38it/s]"
     ]
    },
    {
     "name": "stdout",
     "output_type": "stream",
     "text": [
      "Train Loss: 131.5794\n",
      "Val Loss: 142.5433\n",
      "Epoch 229 of 1000\n"
     ]
    },
    {
     "name": "stderr",
     "output_type": "stream",
     "text": [
      "469it [00:06, 73.23it/s]                         \n",
      "79it [00:00, 100.12it/s]                       \n",
      "  1%|▏         | 7/468 [00:00<00:06, 65.89it/s]"
     ]
    },
    {
     "name": "stdout",
     "output_type": "stream",
     "text": [
      "Train Loss: 131.6343\n",
      "Val Loss: 142.3252\n",
      "Epoch 230 of 1000\n"
     ]
    },
    {
     "name": "stderr",
     "output_type": "stream",
     "text": [
      "469it [00:06, 72.70it/s]                         \n",
      "79it [00:00, 98.55it/s]                        \n",
      "  2%|▏         | 8/468 [00:00<00:06, 73.50it/s]"
     ]
    },
    {
     "name": "stdout",
     "output_type": "stream",
     "text": [
      "Train Loss: 131.5993\n",
      "Val Loss: 142.6517\n",
      "Epoch 231 of 1000\n"
     ]
    },
    {
     "name": "stderr",
     "output_type": "stream",
     "text": [
      "469it [00:06, 72.65it/s]                         \n",
      "79it [00:00, 97.12it/s]                        \n",
      "  2%|▏         | 8/468 [00:00<00:06, 72.46it/s]"
     ]
    },
    {
     "name": "stdout",
     "output_type": "stream",
     "text": [
      "Train Loss: 131.5449\n",
      "Val Loss: 142.6816\n",
      "Epoch 232 of 1000\n"
     ]
    },
    {
     "name": "stderr",
     "output_type": "stream",
     "text": [
      "469it [00:06, 72.31it/s]                         \n",
      "79it [00:00, 98.94it/s]                        \n",
      "  2%|▏         | 8/468 [00:00<00:06, 71.42it/s]"
     ]
    },
    {
     "name": "stdout",
     "output_type": "stream",
     "text": [
      "Train Loss: 131.5816\n",
      "Val Loss: 142.6743\n",
      "Epoch 233 of 1000\n"
     ]
    },
    {
     "name": "stderr",
     "output_type": "stream",
     "text": [
      "469it [00:06, 73.65it/s]                         \n",
      "79it [00:00, 100.89it/s]                       \n",
      "  2%|▏         | 8/468 [00:00<00:06, 74.29it/s]"
     ]
    },
    {
     "name": "stdout",
     "output_type": "stream",
     "text": [
      "Train Loss: 131.5241\n",
      "Val Loss: 142.6916\n",
      "Epoch 234 of 1000\n"
     ]
    },
    {
     "name": "stderr",
     "output_type": "stream",
     "text": [
      "469it [00:06, 73.16it/s]                         \n",
      "79it [00:00, 99.59it/s]                         \n",
      "  2%|▏         | 8/468 [00:00<00:06, 73.53it/s]"
     ]
    },
    {
     "name": "stdout",
     "output_type": "stream",
     "text": [
      "Train Loss: 131.4896\n",
      "Val Loss: 142.6271\n",
      "Epoch 235 of 1000\n"
     ]
    },
    {
     "name": "stderr",
     "output_type": "stream",
     "text": [
      "469it [00:06, 73.56it/s]                         \n",
      "79it [00:00, 102.24it/s]                        \n",
      "  2%|▏         | 8/468 [00:00<00:06, 72.63it/s]"
     ]
    },
    {
     "name": "stdout",
     "output_type": "stream",
     "text": [
      "Train Loss: 131.5133\n",
      "Val Loss: 143.0132\n",
      "Epoch 236 of 1000\n"
     ]
    },
    {
     "name": "stderr",
     "output_type": "stream",
     "text": [
      "469it [00:06, 73.76it/s]                         \n",
      "79it [00:00, 102.16it/s]                        \n",
      "  1%|▏         | 7/468 [00:00<00:07, 64.88it/s]"
     ]
    },
    {
     "name": "stdout",
     "output_type": "stream",
     "text": [
      "Train Loss: 131.5031\n",
      "Val Loss: 142.5751\n",
      "Epoch 237 of 1000\n"
     ]
    },
    {
     "name": "stderr",
     "output_type": "stream",
     "text": [
      "469it [00:06, 73.24it/s]\n",
      "79it [00:00, 98.33it/s]                        \n",
      "  2%|▏         | 8/468 [00:00<00:06, 72.12it/s]"
     ]
    },
    {
     "name": "stdout",
     "output_type": "stream",
     "text": [
      "Train Loss: 131.4254\n",
      "Val Loss: 142.7503\n",
      "Epoch 238 of 1000\n"
     ]
    },
    {
     "name": "stderr",
     "output_type": "stream",
     "text": [
      "469it [00:06, 73.34it/s]                         \n",
      "79it [00:00, 100.67it/s]                       \n",
      "  2%|▏         | 8/468 [00:00<00:06, 73.06it/s]"
     ]
    },
    {
     "name": "stdout",
     "output_type": "stream",
     "text": [
      "Train Loss: 131.4335\n",
      "Val Loss: 142.6444\n",
      "Epoch 239 of 1000\n"
     ]
    },
    {
     "name": "stderr",
     "output_type": "stream",
     "text": [
      "469it [00:06, 74.10it/s]                         \n",
      "79it [00:00, 100.05it/s]                       \n",
      "  2%|▏         | 8/468 [00:00<00:06, 74.83it/s]"
     ]
    },
    {
     "name": "stdout",
     "output_type": "stream",
     "text": [
      "Train Loss: 131.3955\n",
      "Val Loss: 142.6284\n",
      "Epoch 240 of 1000\n"
     ]
    },
    {
     "name": "stderr",
     "output_type": "stream",
     "text": [
      "469it [00:06, 73.49it/s]                         \n",
      "79it [00:00, 99.01it/s]                        \n",
      "  2%|▏         | 8/468 [00:00<00:06, 73.14it/s]"
     ]
    },
    {
     "name": "stdout",
     "output_type": "stream",
     "text": [
      "Train Loss: 131.5074\n",
      "Val Loss: 142.3840\n",
      "Epoch 241 of 1000\n"
     ]
    },
    {
     "name": "stderr",
     "output_type": "stream",
     "text": [
      "469it [00:06, 70.08it/s]                         \n",
      "79it [00:00, 96.77it/s]                        \n",
      "  2%|▏         | 8/468 [00:00<00:06, 73.03it/s]"
     ]
    },
    {
     "name": "stdout",
     "output_type": "stream",
     "text": [
      "Train Loss: 131.3393\n",
      "Val Loss: 142.6915\n",
      "Epoch 242 of 1000\n"
     ]
    },
    {
     "name": "stderr",
     "output_type": "stream",
     "text": [
      "469it [00:06, 71.98it/s]                         \n",
      "79it [00:00, 100.81it/s]                        \n",
      "  1%|▏         | 7/468 [00:00<00:06, 69.59it/s]"
     ]
    },
    {
     "name": "stdout",
     "output_type": "stream",
     "text": [
      "Train Loss: 131.3475\n",
      "Val Loss: 142.6761\n",
      "Epoch 243 of 1000\n"
     ]
    },
    {
     "name": "stderr",
     "output_type": "stream",
     "text": [
      "469it [00:06, 72.70it/s]\n",
      "79it [00:00, 101.86it/s]                        \n",
      "  2%|▏         | 8/468 [00:00<00:06, 71.34it/s]"
     ]
    },
    {
     "name": "stdout",
     "output_type": "stream",
     "text": [
      "Train Loss: 131.3177\n",
      "Val Loss: 142.7559\n",
      "Epoch 244 of 1000\n"
     ]
    },
    {
     "name": "stderr",
     "output_type": "stream",
     "text": [
      "469it [00:06, 73.11it/s]                         \n",
      "79it [00:00, 100.78it/s]                       \n",
      "  2%|▏         | 8/468 [00:00<00:06, 74.01it/s]"
     ]
    },
    {
     "name": "stdout",
     "output_type": "stream",
     "text": [
      "Train Loss: 131.3663\n",
      "Val Loss: 142.8933\n",
      "Epoch 245 of 1000\n"
     ]
    },
    {
     "name": "stderr",
     "output_type": "stream",
     "text": [
      "469it [00:06, 73.73it/s]                         \n",
      "79it [00:00, 99.58it/s]                        \n",
      "  1%|▏         | 7/468 [00:00<00:06, 67.76it/s]"
     ]
    },
    {
     "name": "stdout",
     "output_type": "stream",
     "text": [
      "Train Loss: 131.3786\n",
      "Val Loss: 142.6310\n",
      "Epoch 246 of 1000\n"
     ]
    },
    {
     "name": "stderr",
     "output_type": "stream",
     "text": [
      "469it [00:06, 73.36it/s]                         \n",
      "79it [00:00, 98.44it/s]                        \n",
      "  2%|▏         | 8/468 [00:00<00:06, 74.91it/s]"
     ]
    },
    {
     "name": "stdout",
     "output_type": "stream",
     "text": [
      "Train Loss: 131.3186\n",
      "Val Loss: 142.7609\n",
      "Epoch 247 of 1000\n"
     ]
    },
    {
     "name": "stderr",
     "output_type": "stream",
     "text": [
      "469it [00:06, 73.71it/s]                         \n",
      "79it [00:00, 100.10it/s]                       \n",
      "  1%|▏         | 7/468 [00:00<00:06, 67.75it/s]"
     ]
    },
    {
     "name": "stdout",
     "output_type": "stream",
     "text": [
      "Train Loss: 131.3033\n",
      "Val Loss: 143.0312\n",
      "Epoch 248 of 1000\n"
     ]
    },
    {
     "name": "stderr",
     "output_type": "stream",
     "text": [
      "469it [00:06, 73.42it/s]                         \n",
      "79it [00:00, 99.68it/s]                        \n",
      "  2%|▏         | 8/468 [00:00<00:06, 74.83it/s]"
     ]
    },
    {
     "name": "stdout",
     "output_type": "stream",
     "text": [
      "Train Loss: 131.2579\n",
      "Val Loss: 142.9049\n",
      "Epoch 249 of 1000\n"
     ]
    },
    {
     "name": "stderr",
     "output_type": "stream",
     "text": [
      "469it [00:06, 73.40it/s]                         \n",
      "79it [00:00, 101.62it/s]                        \n",
      "  2%|▏         | 8/468 [00:00<00:06, 73.12it/s]"
     ]
    },
    {
     "name": "stdout",
     "output_type": "stream",
     "text": [
      "Train Loss: 131.2252\n",
      "Val Loss: 142.8277\n",
      "Epoch 250 of 1000\n"
     ]
    },
    {
     "name": "stderr",
     "output_type": "stream",
     "text": [
      "469it [00:06, 73.31it/s]                         \n",
      "79it [00:01, 77.56it/s]                         \n",
      "  1%|▏         | 7/468 [00:00<00:07, 63.09it/s]"
     ]
    },
    {
     "name": "stdout",
     "output_type": "stream",
     "text": [
      "Train Loss: 131.2267\n",
      "Val Loss: 142.6952\n",
      "Epoch 251 of 1000\n"
     ]
    },
    {
     "name": "stderr",
     "output_type": "stream",
     "text": [
      "469it [00:06, 72.83it/s]                         \n",
      "79it [00:00, 98.69it/s]                        \n",
      "  2%|▏         | 8/468 [00:00<00:06, 71.73it/s]"
     ]
    },
    {
     "name": "stdout",
     "output_type": "stream",
     "text": [
      "Train Loss: 131.1840\n",
      "Val Loss: 142.7356\n",
      "Epoch 252 of 1000\n"
     ]
    },
    {
     "name": "stderr",
     "output_type": "stream",
     "text": [
      "469it [00:06, 73.27it/s]                         \n",
      "79it [00:00, 99.01it/s]                        \n",
      "  2%|▏         | 8/468 [00:00<00:06, 76.16it/s]"
     ]
    },
    {
     "name": "stdout",
     "output_type": "stream",
     "text": [
      "Train Loss: 131.1973\n",
      "Val Loss: 142.8358\n",
      "Epoch 253 of 1000\n"
     ]
    },
    {
     "name": "stderr",
     "output_type": "stream",
     "text": [
      "469it [00:06, 72.74it/s]                         \n",
      "79it [00:00, 101.27it/s]                       \n",
      "  2%|▏         | 8/468 [00:00<00:06, 72.19it/s]"
     ]
    },
    {
     "name": "stdout",
     "output_type": "stream",
     "text": [
      "Train Loss: 131.1824\n",
      "Val Loss: 142.7445\n",
      "Epoch 254 of 1000\n"
     ]
    },
    {
     "name": "stderr",
     "output_type": "stream",
     "text": [
      "469it [00:06, 72.73it/s]                         \n",
      "79it [00:00, 97.33it/s]                        \n",
      "  2%|▏         | 8/468 [00:00<00:06, 70.24it/s]"
     ]
    },
    {
     "name": "stdout",
     "output_type": "stream",
     "text": [
      "Train Loss: 131.1453\n",
      "Val Loss: 142.7553\n",
      "Epoch 255 of 1000\n"
     ]
    },
    {
     "name": "stderr",
     "output_type": "stream",
     "text": [
      "469it [00:06, 72.49it/s]                         \n",
      "79it [00:00, 100.67it/s]                       \n",
      "  2%|▏         | 8/468 [00:00<00:06, 73.05it/s]"
     ]
    },
    {
     "name": "stdout",
     "output_type": "stream",
     "text": [
      "Train Loss: 131.1542\n",
      "Val Loss: 142.8887\n",
      "Epoch 256 of 1000\n"
     ]
    },
    {
     "name": "stderr",
     "output_type": "stream",
     "text": [
      "469it [00:06, 71.72it/s]\n",
      "79it [00:00, 97.49it/s]                        \n",
      "  1%|▏         | 7/468 [00:00<00:07, 62.96it/s]"
     ]
    },
    {
     "name": "stdout",
     "output_type": "stream",
     "text": [
      "Train Loss: 131.1352\n",
      "Val Loss: 142.8253\n",
      "Epoch 257 of 1000\n"
     ]
    },
    {
     "name": "stderr",
     "output_type": "stream",
     "text": [
      "469it [00:06, 72.02it/s]\n",
      "79it [00:00, 98.36it/s]                        \n",
      "  2%|▏         | 8/468 [00:00<00:06, 74.93it/s]"
     ]
    },
    {
     "name": "stdout",
     "output_type": "stream",
     "text": [
      "Train Loss: 131.1428\n",
      "Val Loss: 142.6387\n",
      "Epoch 258 of 1000\n"
     ]
    },
    {
     "name": "stderr",
     "output_type": "stream",
     "text": [
      "469it [00:06, 72.18it/s]\n",
      "79it [00:00, 99.34it/s]                        \n",
      "  1%|▏         | 7/468 [00:00<00:06, 66.75it/s]"
     ]
    },
    {
     "name": "stdout",
     "output_type": "stream",
     "text": [
      "Train Loss: 131.0791\n",
      "Val Loss: 142.7573\n",
      "Epoch 259 of 1000\n"
     ]
    },
    {
     "name": "stderr",
     "output_type": "stream",
     "text": [
      "469it [00:06, 73.52it/s]\n",
      "79it [00:00, 98.03it/s]                        \n",
      "  2%|▏         | 8/468 [00:00<00:06, 76.55it/s]"
     ]
    },
    {
     "name": "stdout",
     "output_type": "stream",
     "text": [
      "Train Loss: 131.0772\n",
      "Val Loss: 142.8119\n",
      "Epoch 260 of 1000\n"
     ]
    },
    {
     "name": "stderr",
     "output_type": "stream",
     "text": [
      "469it [00:06, 73.20it/s]                         \n",
      "79it [00:00, 99.46it/s]                        \n",
      "  2%|▏         | 8/468 [00:00<00:06, 71.79it/s]"
     ]
    },
    {
     "name": "stdout",
     "output_type": "stream",
     "text": [
      "Train Loss: 131.0638\n",
      "Val Loss: 142.7261\n",
      "Epoch 261 of 1000\n"
     ]
    },
    {
     "name": "stderr",
     "output_type": "stream",
     "text": [
      "469it [00:06, 72.96it/s]\n",
      "79it [00:00, 97.31it/s]                        \n",
      "  2%|▏         | 8/468 [00:00<00:06, 75.67it/s]"
     ]
    },
    {
     "name": "stdout",
     "output_type": "stream",
     "text": [
      "Train Loss: 131.0307\n",
      "Val Loss: 142.9444\n",
      "Epoch 262 of 1000\n"
     ]
    },
    {
     "name": "stderr",
     "output_type": "stream",
     "text": [
      "469it [00:06, 71.96it/s]                         \n",
      "79it [00:00, 97.88it/s]                        \n",
      "  1%|▏         | 6/468 [00:00<00:07, 59.75it/s]"
     ]
    },
    {
     "name": "stdout",
     "output_type": "stream",
     "text": [
      "Train Loss: 131.0288\n",
      "Val Loss: 142.6789\n",
      "Epoch 263 of 1000\n"
     ]
    },
    {
     "name": "stderr",
     "output_type": "stream",
     "text": [
      "469it [00:06, 71.45it/s]                         \n",
      "79it [00:00, 97.27it/s]                        \n",
      "  1%|▏         | 7/468 [00:00<00:06, 69.09it/s]"
     ]
    },
    {
     "name": "stdout",
     "output_type": "stream",
     "text": [
      "Train Loss: 131.0374\n",
      "Val Loss: 142.7797\n",
      "Epoch 264 of 1000\n"
     ]
    },
    {
     "name": "stderr",
     "output_type": "stream",
     "text": [
      "469it [00:06, 71.84it/s]\n",
      "79it [00:00, 93.26it/s]                        \n",
      "  2%|▏         | 8/468 [00:00<00:06, 72.51it/s]"
     ]
    },
    {
     "name": "stdout",
     "output_type": "stream",
     "text": [
      "Train Loss: 131.0301\n",
      "Val Loss: 142.7821\n",
      "Epoch 265 of 1000\n"
     ]
    },
    {
     "name": "stderr",
     "output_type": "stream",
     "text": [
      "469it [00:06, 70.31it/s]                         \n",
      "79it [00:00, 95.50it/s]\n",
      "  2%|▏         | 8/468 [00:00<00:06, 69.59it/s]"
     ]
    },
    {
     "name": "stdout",
     "output_type": "stream",
     "text": [
      "Train Loss: 131.0098\n",
      "Val Loss: 142.5404\n",
      "Epoch 266 of 1000\n"
     ]
    },
    {
     "name": "stderr",
     "output_type": "stream",
     "text": [
      "469it [00:06, 71.19it/s]                         \n",
      "79it [00:00, 98.28it/s]                        \n",
      "  2%|▏         | 8/468 [00:00<00:06, 73.08it/s]"
     ]
    },
    {
     "name": "stdout",
     "output_type": "stream",
     "text": [
      "Train Loss: 130.9659\n",
      "Val Loss: 142.8433\n",
      "Epoch 267 of 1000\n"
     ]
    },
    {
     "name": "stderr",
     "output_type": "stream",
     "text": [
      "469it [00:06, 72.61it/s]\n",
      "79it [00:00, 98.85it/s]                        \n",
      "  1%|▏         | 7/468 [00:00<00:06, 68.14it/s]"
     ]
    },
    {
     "name": "stdout",
     "output_type": "stream",
     "text": [
      "Train Loss: 130.9511\n",
      "Val Loss: 142.6924\n",
      "Epoch 268 of 1000\n"
     ]
    },
    {
     "name": "stderr",
     "output_type": "stream",
     "text": [
      "469it [00:06, 72.88it/s]\n",
      "79it [00:00, 99.89it/s]                         \n",
      "  2%|▏         | 8/468 [00:00<00:06, 71.01it/s]"
     ]
    },
    {
     "name": "stdout",
     "output_type": "stream",
     "text": [
      "Train Loss: 130.9453\n",
      "Val Loss: 142.8288\n",
      "Epoch 269 of 1000\n"
     ]
    },
    {
     "name": "stderr",
     "output_type": "stream",
     "text": [
      "469it [00:06, 73.23it/s]                         \n",
      "79it [00:00, 99.75it/s]                        \n",
      "  2%|▏         | 8/468 [00:00<00:06, 71.22it/s]"
     ]
    },
    {
     "name": "stdout",
     "output_type": "stream",
     "text": [
      "Train Loss: 130.9504\n",
      "Val Loss: 142.9476\n",
      "Epoch 270 of 1000\n"
     ]
    },
    {
     "name": "stderr",
     "output_type": "stream",
     "text": [
      "469it [00:06, 72.40it/s]\n",
      "79it [00:00, 97.16it/s]                        \n",
      "  1%|▏         | 7/468 [00:00<00:07, 65.29it/s]"
     ]
    },
    {
     "name": "stdout",
     "output_type": "stream",
     "text": [
      "Train Loss: 130.9515\n",
      "Val Loss: 142.8482\n",
      "Epoch 271 of 1000\n"
     ]
    },
    {
     "name": "stderr",
     "output_type": "stream",
     "text": [
      "469it [00:06, 71.51it/s]\n",
      "79it [00:00, 97.02it/s]                        \n",
      "  1%|▏         | 7/468 [00:00<00:06, 68.12it/s]"
     ]
    },
    {
     "name": "stdout",
     "output_type": "stream",
     "text": [
      "Train Loss: 130.9036\n",
      "Val Loss: 143.2594\n",
      "Epoch 272 of 1000\n"
     ]
    },
    {
     "name": "stderr",
     "output_type": "stream",
     "text": [
      "469it [00:06, 71.60it/s]                         \n",
      "79it [00:00, 98.96it/s]                        \n",
      "  2%|▏         | 8/468 [00:00<00:06, 73.39it/s]"
     ]
    },
    {
     "name": "stdout",
     "output_type": "stream",
     "text": [
      "Train Loss: 130.8537\n",
      "Val Loss: 142.8172\n",
      "Epoch 273 of 1000\n"
     ]
    },
    {
     "name": "stderr",
     "output_type": "stream",
     "text": [
      "469it [00:06, 72.57it/s]\n",
      "79it [00:00, 97.36it/s]                        \n",
      "  2%|▏         | 8/468 [00:00<00:06, 73.63it/s]"
     ]
    },
    {
     "name": "stdout",
     "output_type": "stream",
     "text": [
      "Train Loss: 130.8231\n",
      "Val Loss: 143.0239\n",
      "Epoch 274 of 1000\n"
     ]
    },
    {
     "name": "stderr",
     "output_type": "stream",
     "text": [
      "469it [00:06, 72.12it/s]                         \n",
      "79it [00:00, 98.57it/s]                        \n",
      "  2%|▏         | 8/468 [00:00<00:06, 72.67it/s]"
     ]
    },
    {
     "name": "stdout",
     "output_type": "stream",
     "text": [
      "Train Loss: 130.8539\n",
      "Val Loss: 142.8814\n",
      "Epoch 275 of 1000\n"
     ]
    },
    {
     "name": "stderr",
     "output_type": "stream",
     "text": [
      "469it [00:06, 71.92it/s]                         \n",
      "79it [00:00, 100.24it/s]                       \n",
      "  2%|▏         | 8/468 [00:00<00:06, 71.14it/s]"
     ]
    },
    {
     "name": "stdout",
     "output_type": "stream",
     "text": [
      "Train Loss: 130.8138\n",
      "Val Loss: 142.9585\n",
      "Epoch 276 of 1000\n"
     ]
    },
    {
     "name": "stderr",
     "output_type": "stream",
     "text": [
      "469it [00:06, 72.14it/s]\n",
      "79it [00:00, 96.55it/s]                        \n",
      "  2%|▏         | 8/468 [00:00<00:06, 73.37it/s]"
     ]
    },
    {
     "name": "stdout",
     "output_type": "stream",
     "text": [
      "Train Loss: 130.8123\n",
      "Val Loss: 142.7820\n",
      "Epoch 277 of 1000\n"
     ]
    },
    {
     "name": "stderr",
     "output_type": "stream",
     "text": [
      "469it [00:06, 72.27it/s]                         \n",
      "79it [00:00, 99.92it/s]                        \n",
      "  2%|▏         | 8/468 [00:00<00:06, 74.82it/s]"
     ]
    },
    {
     "name": "stdout",
     "output_type": "stream",
     "text": [
      "Train Loss: 130.8018\n",
      "Val Loss: 142.8654\n",
      "Epoch 278 of 1000\n"
     ]
    },
    {
     "name": "stderr",
     "output_type": "stream",
     "text": [
      "469it [00:06, 72.60it/s]                         \n",
      "79it [00:00, 99.38it/s]                        \n",
      "  2%|▏         | 8/468 [00:00<00:06, 72.65it/s]"
     ]
    },
    {
     "name": "stdout",
     "output_type": "stream",
     "text": [
      "Train Loss: 130.7754\n",
      "Val Loss: 142.7912\n",
      "Epoch 279 of 1000\n"
     ]
    },
    {
     "name": "stderr",
     "output_type": "stream",
     "text": [
      "469it [00:06, 72.27it/s]                         \n",
      "79it [00:00, 99.20it/s]                        \n",
      "  1%|▏         | 7/468 [00:00<00:06, 67.45it/s]"
     ]
    },
    {
     "name": "stdout",
     "output_type": "stream",
     "text": [
      "Train Loss: 130.8319\n",
      "Val Loss: 143.0889\n",
      "Epoch 280 of 1000\n"
     ]
    },
    {
     "name": "stderr",
     "output_type": "stream",
     "text": [
      "469it [00:06, 72.96it/s]\n",
      "79it [00:00, 98.21it/s]                        \n",
      "  1%|▏         | 7/468 [00:00<00:06, 68.54it/s]"
     ]
    },
    {
     "name": "stdout",
     "output_type": "stream",
     "text": [
      "Train Loss: 130.7499\n",
      "Val Loss: 142.8744\n",
      "Epoch 281 of 1000\n"
     ]
    },
    {
     "name": "stderr",
     "output_type": "stream",
     "text": [
      "469it [00:06, 72.39it/s]\n",
      "79it [00:00, 98.38it/s]                        \n",
      "  2%|▏         | 8/468 [00:00<00:06, 75.53it/s]"
     ]
    },
    {
     "name": "stdout",
     "output_type": "stream",
     "text": [
      "Train Loss: 130.7156\n",
      "Val Loss: 143.0291\n",
      "Epoch 282 of 1000\n"
     ]
    },
    {
     "name": "stderr",
     "output_type": "stream",
     "text": [
      "469it [00:06, 72.71it/s]                         \n",
      "79it [00:00, 98.61it/s]                        \n",
      "  1%|▏         | 7/468 [00:00<00:06, 68.14it/s]"
     ]
    },
    {
     "name": "stdout",
     "output_type": "stream",
     "text": [
      "Train Loss: 130.7213\n",
      "Val Loss: 142.7802\n",
      "Epoch 283 of 1000\n"
     ]
    },
    {
     "name": "stderr",
     "output_type": "stream",
     "text": [
      "469it [00:06, 71.62it/s]                         \n",
      "79it [00:00, 96.13it/s]                        \n",
      "  2%|▏         | 8/468 [00:00<00:06, 74.82it/s]"
     ]
    },
    {
     "name": "stdout",
     "output_type": "stream",
     "text": [
      "Train Loss: 130.7180\n",
      "Val Loss: 142.7984\n",
      "Epoch 284 of 1000\n"
     ]
    },
    {
     "name": "stderr",
     "output_type": "stream",
     "text": [
      "469it [00:06, 69.36it/s]                         \n",
      "79it [00:00, 95.94it/s]                        \n",
      "  2%|▏         | 8/468 [00:00<00:06, 68.22it/s]"
     ]
    },
    {
     "name": "stdout",
     "output_type": "stream",
     "text": [
      "Train Loss: 130.6919\n",
      "Val Loss: 142.7621\n",
      "Epoch 285 of 1000\n"
     ]
    },
    {
     "name": "stderr",
     "output_type": "stream",
     "text": [
      "469it [00:06, 72.35it/s]                         \n",
      "79it [00:00, 100.48it/s]                       \n",
      "  2%|▏         | 8/468 [00:00<00:06, 73.34it/s]"
     ]
    },
    {
     "name": "stdout",
     "output_type": "stream",
     "text": [
      "Train Loss: 130.6816\n",
      "Val Loss: 143.0658\n",
      "Epoch 286 of 1000\n"
     ]
    },
    {
     "name": "stderr",
     "output_type": "stream",
     "text": [
      "469it [00:06, 72.84it/s]                         \n",
      "79it [00:00, 99.75it/s]                        \n",
      "  2%|▏         | 8/468 [00:00<00:06, 74.49it/s]"
     ]
    },
    {
     "name": "stdout",
     "output_type": "stream",
     "text": [
      "Train Loss: 130.6932\n",
      "Val Loss: 142.9553\n",
      "Epoch 287 of 1000\n"
     ]
    },
    {
     "name": "stderr",
     "output_type": "stream",
     "text": [
      "469it [00:06, 71.92it/s]                         \n",
      "79it [00:00, 96.62it/s]                        \n",
      "  2%|▏         | 8/468 [00:00<00:06, 71.17it/s]"
     ]
    },
    {
     "name": "stdout",
     "output_type": "stream",
     "text": [
      "Train Loss: 130.6302\n",
      "Val Loss: 143.2541\n",
      "Epoch 288 of 1000\n"
     ]
    },
    {
     "name": "stderr",
     "output_type": "stream",
     "text": [
      "469it [00:06, 71.77it/s]\n",
      "79it [00:00, 99.22it/s]                        \n",
      "  2%|▏         | 8/468 [00:00<00:06, 72.62it/s]"
     ]
    },
    {
     "name": "stdout",
     "output_type": "stream",
     "text": [
      "Train Loss: 130.6454\n",
      "Val Loss: 142.9996\n",
      "Epoch 289 of 1000\n"
     ]
    },
    {
     "name": "stderr",
     "output_type": "stream",
     "text": [
      "469it [00:06, 72.07it/s]                         \n",
      "79it [00:00, 97.49it/s]                        \n",
      "  2%|▏         | 8/468 [00:00<00:06, 71.63it/s]"
     ]
    },
    {
     "name": "stdout",
     "output_type": "stream",
     "text": [
      "Train Loss: 130.6078\n",
      "Val Loss: 142.9455\n",
      "Epoch 290 of 1000\n"
     ]
    },
    {
     "name": "stderr",
     "output_type": "stream",
     "text": [
      "469it [00:06, 72.02it/s]                         \n",
      "79it [00:00, 98.72it/s]                        \n",
      "  2%|▏         | 8/468 [00:00<00:06, 71.04it/s]"
     ]
    },
    {
     "name": "stdout",
     "output_type": "stream",
     "text": [
      "Train Loss: 130.6296\n",
      "Val Loss: 143.0101\n",
      "Epoch 291 of 1000\n"
     ]
    },
    {
     "name": "stderr",
     "output_type": "stream",
     "text": [
      "469it [00:06, 72.85it/s]                         \n",
      "79it [00:00, 99.92it/s]                         \n",
      "  2%|▏         | 8/468 [00:00<00:06, 74.77it/s]"
     ]
    },
    {
     "name": "stdout",
     "output_type": "stream",
     "text": [
      "Train Loss: 130.6454\n",
      "Val Loss: 142.9008\n",
      "Epoch 292 of 1000\n"
     ]
    },
    {
     "name": "stderr",
     "output_type": "stream",
     "text": [
      "469it [00:06, 72.35it/s]                         \n",
      "79it [00:00, 98.49it/s]                        \n",
      "  2%|▏         | 8/468 [00:00<00:06, 74.23it/s]"
     ]
    },
    {
     "name": "stdout",
     "output_type": "stream",
     "text": [
      "Train Loss: 130.5616\n",
      "Val Loss: 143.0027\n",
      "Epoch 293 of 1000\n"
     ]
    },
    {
     "name": "stderr",
     "output_type": "stream",
     "text": [
      "469it [00:06, 72.60it/s]                         \n",
      "79it [00:00, 98.20it/s]                        \n",
      "  2%|▏         | 8/468 [00:00<00:06, 73.51it/s]"
     ]
    },
    {
     "name": "stdout",
     "output_type": "stream",
     "text": [
      "Train Loss: 130.5250\n",
      "Val Loss: 143.0654\n",
      "Epoch 294 of 1000\n"
     ]
    },
    {
     "name": "stderr",
     "output_type": "stream",
     "text": [
      "469it [00:06, 72.31it/s]                         \n",
      "79it [00:00, 96.74it/s]                        \n",
      "  2%|▏         | 8/468 [00:00<00:06, 74.50it/s]"
     ]
    },
    {
     "name": "stdout",
     "output_type": "stream",
     "text": [
      "Train Loss: 130.5793\n",
      "Val Loss: 143.0571\n",
      "Epoch 295 of 1000\n"
     ]
    },
    {
     "name": "stderr",
     "output_type": "stream",
     "text": [
      "469it [00:06, 72.93it/s]                         \n",
      "79it [00:00, 97.71it/s]                        \n",
      "  1%|▏         | 7/468 [00:00<00:06, 68.79it/s]"
     ]
    },
    {
     "name": "stdout",
     "output_type": "stream",
     "text": [
      "Train Loss: 130.5086\n",
      "Val Loss: 143.1940\n",
      "Epoch 296 of 1000\n"
     ]
    },
    {
     "name": "stderr",
     "output_type": "stream",
     "text": [
      "469it [00:06, 71.74it/s]                         \n",
      "79it [00:00, 98.61it/s]                        \n",
      "  1%|▏         | 7/468 [00:00<00:06, 67.82it/s]"
     ]
    },
    {
     "name": "stdout",
     "output_type": "stream",
     "text": [
      "Train Loss: 130.5225\n",
      "Val Loss: 143.0186\n",
      "Epoch 297 of 1000\n"
     ]
    },
    {
     "name": "stderr",
     "output_type": "stream",
     "text": [
      "469it [00:06, 73.03it/s]                         \n",
      "79it [00:00, 100.17it/s]                        \n",
      "  1%|▏         | 7/468 [00:00<00:06, 68.36it/s]"
     ]
    },
    {
     "name": "stdout",
     "output_type": "stream",
     "text": [
      "Train Loss: 130.5051\n",
      "Val Loss: 143.2421\n",
      "Epoch 298 of 1000\n"
     ]
    },
    {
     "name": "stderr",
     "output_type": "stream",
     "text": [
      "469it [00:06, 72.34it/s]                         \n",
      "79it [00:00, 97.88it/s]                        \n",
      "  2%|▏         | 8/468 [00:00<00:06, 73.19it/s]"
     ]
    },
    {
     "name": "stdout",
     "output_type": "stream",
     "text": [
      "Train Loss: 130.4984\n",
      "Val Loss: 143.0505\n",
      "Epoch 299 of 1000\n"
     ]
    },
    {
     "name": "stderr",
     "output_type": "stream",
     "text": [
      "469it [00:06, 71.80it/s]                         \n",
      "79it [00:00, 99.48it/s]                        \n",
      "  2%|▏         | 8/468 [00:00<00:06, 74.26it/s]"
     ]
    },
    {
     "name": "stdout",
     "output_type": "stream",
     "text": [
      "Train Loss: 130.4989\n",
      "Val Loss: 143.2039\n",
      "Epoch 300 of 1000\n"
     ]
    },
    {
     "name": "stderr",
     "output_type": "stream",
     "text": [
      "469it [00:06, 72.80it/s]                         \n",
      "79it [00:01, 77.48it/s]\n",
      "  1%|▏         | 7/468 [00:00<00:06, 66.58it/s]"
     ]
    },
    {
     "name": "stdout",
     "output_type": "stream",
     "text": [
      "Train Loss: 130.4854\n",
      "Val Loss: 143.1548\n",
      "Epoch 301 of 1000\n"
     ]
    },
    {
     "name": "stderr",
     "output_type": "stream",
     "text": [
      "469it [00:06, 72.16it/s]                         \n",
      "79it [00:00, 99.70it/s]                         \n",
      "  2%|▏         | 8/468 [00:00<00:06, 73.78it/s]"
     ]
    },
    {
     "name": "stdout",
     "output_type": "stream",
     "text": [
      "Train Loss: 130.4462\n",
      "Val Loss: 143.2618\n",
      "Epoch 302 of 1000\n"
     ]
    },
    {
     "name": "stderr",
     "output_type": "stream",
     "text": [
      "469it [00:06, 72.16it/s]                         \n",
      "79it [00:00, 98.78it/s]                        \n",
      "  2%|▏         | 8/468 [00:00<00:06, 75.47it/s]"
     ]
    },
    {
     "name": "stdout",
     "output_type": "stream",
     "text": [
      "Train Loss: 130.4382\n",
      "Val Loss: 143.0591\n",
      "Epoch 303 of 1000\n"
     ]
    },
    {
     "name": "stderr",
     "output_type": "stream",
     "text": [
      "469it [00:06, 72.48it/s]\n",
      "79it [00:00, 99.76it/s]                        \n",
      "  1%|▏         | 7/468 [00:00<00:06, 66.53it/s]"
     ]
    },
    {
     "name": "stdout",
     "output_type": "stream",
     "text": [
      "Train Loss: 130.4757\n",
      "Val Loss: 143.0356\n",
      "Epoch 304 of 1000\n"
     ]
    },
    {
     "name": "stderr",
     "output_type": "stream",
     "text": [
      "469it [00:06, 72.67it/s]                         \n",
      "79it [00:00, 98.31it/s]                        \n",
      "  2%|▏         | 8/468 [00:00<00:06, 73.31it/s]"
     ]
    },
    {
     "name": "stdout",
     "output_type": "stream",
     "text": [
      "Train Loss: 130.3753\n",
      "Val Loss: 143.2035\n",
      "Epoch 305 of 1000\n"
     ]
    },
    {
     "name": "stderr",
     "output_type": "stream",
     "text": [
      "469it [00:06, 72.29it/s]\n",
      "79it [00:00, 96.98it/s]                        \n",
      "  1%|▏         | 7/468 [00:00<00:06, 68.77it/s]"
     ]
    },
    {
     "name": "stdout",
     "output_type": "stream",
     "text": [
      "Train Loss: 130.3371\n",
      "Val Loss: 143.0242\n",
      "Epoch 306 of 1000\n"
     ]
    },
    {
     "name": "stderr",
     "output_type": "stream",
     "text": [
      "469it [00:06, 71.85it/s]                         \n",
      "79it [00:00, 97.17it/s]                        \n",
      "  2%|▏         | 8/468 [00:00<00:06, 70.33it/s]"
     ]
    },
    {
     "name": "stdout",
     "output_type": "stream",
     "text": [
      "Train Loss: 130.3770\n",
      "Val Loss: 143.3815\n",
      "Epoch 307 of 1000\n"
     ]
    },
    {
     "name": "stderr",
     "output_type": "stream",
     "text": [
      "469it [00:06, 72.27it/s]\n",
      "79it [00:00, 99.13it/s]                        \n",
      "  2%|▏         | 8/468 [00:00<00:06, 72.47it/s]"
     ]
    },
    {
     "name": "stdout",
     "output_type": "stream",
     "text": [
      "Train Loss: 130.3549\n",
      "Val Loss: 143.1550\n",
      "Epoch 308 of 1000\n"
     ]
    },
    {
     "name": "stderr",
     "output_type": "stream",
     "text": [
      "469it [00:06, 72.68it/s]                         \n",
      "79it [00:00, 98.90it/s]                        \n",
      "  2%|▏         | 8/468 [00:00<00:06, 70.85it/s]"
     ]
    },
    {
     "name": "stdout",
     "output_type": "stream",
     "text": [
      "Train Loss: 130.3148\n",
      "Val Loss: 143.0405\n",
      "Epoch 309 of 1000\n"
     ]
    },
    {
     "name": "stderr",
     "output_type": "stream",
     "text": [
      "469it [00:06, 71.84it/s]                         \n",
      "79it [00:00, 97.03it/s]                        \n",
      "  1%|▏         | 6/468 [00:00<00:07, 59.45it/s]"
     ]
    },
    {
     "name": "stdout",
     "output_type": "stream",
     "text": [
      "Train Loss: 130.3157\n",
      "Val Loss: 143.2943\n",
      "Epoch 310 of 1000\n"
     ]
    },
    {
     "name": "stderr",
     "output_type": "stream",
     "text": [
      "469it [00:06, 72.06it/s]                         \n",
      "79it [00:00, 99.53it/s]                        \n",
      "  2%|▏         | 8/468 [00:00<00:06, 73.85it/s]"
     ]
    },
    {
     "name": "stdout",
     "output_type": "stream",
     "text": [
      "Train Loss: 130.2905\n",
      "Val Loss: 143.4436\n",
      "Epoch 311 of 1000\n"
     ]
    },
    {
     "name": "stderr",
     "output_type": "stream",
     "text": [
      "469it [00:06, 72.35it/s]\n",
      "79it [00:00, 99.24it/s]                        \n",
      "  2%|▏         | 8/468 [00:00<00:06, 71.95it/s]"
     ]
    },
    {
     "name": "stdout",
     "output_type": "stream",
     "text": [
      "Train Loss: 130.3538\n",
      "Val Loss: 143.4647\n",
      "Epoch 312 of 1000\n"
     ]
    },
    {
     "name": "stderr",
     "output_type": "stream",
     "text": [
      "469it [00:06, 72.36it/s]                         \n",
      "79it [00:00, 98.37it/s]                        \n",
      "  2%|▏         | 8/468 [00:00<00:06, 72.37it/s]"
     ]
    },
    {
     "name": "stdout",
     "output_type": "stream",
     "text": [
      "Train Loss: 130.3534\n",
      "Val Loss: 143.3046\n",
      "Epoch 313 of 1000\n"
     ]
    },
    {
     "name": "stderr",
     "output_type": "stream",
     "text": [
      "469it [00:06, 71.47it/s]\n",
      "79it [00:00, 95.13it/s]                        \n",
      "  2%|▏         | 8/468 [00:00<00:06, 72.04it/s]"
     ]
    },
    {
     "name": "stdout",
     "output_type": "stream",
     "text": [
      "Train Loss: 130.2822\n",
      "Val Loss: 143.0275\n",
      "Epoch 314 of 1000\n"
     ]
    },
    {
     "name": "stderr",
     "output_type": "stream",
     "text": [
      "469it [00:06, 72.18it/s]\n",
      "79it [00:00, 100.36it/s]                       \n",
      "  2%|▏         | 8/468 [00:00<00:06, 72.00it/s]"
     ]
    },
    {
     "name": "stdout",
     "output_type": "stream",
     "text": [
      "Train Loss: 130.2627\n",
      "Val Loss: 143.0969\n",
      "Epoch 315 of 1000\n"
     ]
    },
    {
     "name": "stderr",
     "output_type": "stream",
     "text": [
      "469it [00:06, 72.39it/s]\n",
      "79it [00:00, 99.43it/s]                         \n",
      "  2%|▏         | 8/468 [00:00<00:06, 74.17it/s]"
     ]
    },
    {
     "name": "stdout",
     "output_type": "stream",
     "text": [
      "Train Loss: 130.2368\n",
      "Val Loss: 143.2958\n",
      "Epoch 316 of 1000\n"
     ]
    },
    {
     "name": "stderr",
     "output_type": "stream",
     "text": [
      "469it [00:06, 73.02it/s]                         \n",
      "79it [00:00, 98.77it/s]                        \n",
      "  1%|▏         | 7/468 [00:00<00:06, 69.39it/s]"
     ]
    },
    {
     "name": "stdout",
     "output_type": "stream",
     "text": [
      "Train Loss: 130.2293\n",
      "Val Loss: 143.3190\n",
      "Epoch 317 of 1000\n"
     ]
    },
    {
     "name": "stderr",
     "output_type": "stream",
     "text": [
      "469it [00:06, 72.00it/s]                         \n",
      "79it [00:00, 100.31it/s]                       \n",
      "  2%|▏         | 8/468 [00:00<00:06, 71.99it/s]"
     ]
    },
    {
     "name": "stdout",
     "output_type": "stream",
     "text": [
      "Train Loss: 130.2309\n",
      "Val Loss: 143.3110\n",
      "Epoch 318 of 1000\n"
     ]
    },
    {
     "name": "stderr",
     "output_type": "stream",
     "text": [
      "469it [00:06, 71.97it/s]                         \n",
      "79it [00:00, 97.47it/s]                        \n",
      "  2%|▏         | 8/468 [00:00<00:06, 75.57it/s]"
     ]
    },
    {
     "name": "stdout",
     "output_type": "stream",
     "text": [
      "Train Loss: 130.2156\n",
      "Val Loss: 143.4434\n",
      "Epoch 319 of 1000\n"
     ]
    },
    {
     "name": "stderr",
     "output_type": "stream",
     "text": [
      "469it [00:06, 72.34it/s]                         \n",
      "79it [00:00, 99.04it/s]                        \n",
      "  2%|▏         | 8/468 [00:00<00:06, 72.02it/s]"
     ]
    },
    {
     "name": "stdout",
     "output_type": "stream",
     "text": [
      "Train Loss: 130.2655\n",
      "Val Loss: 143.5873\n",
      "Epoch 320 of 1000\n"
     ]
    },
    {
     "name": "stderr",
     "output_type": "stream",
     "text": [
      "469it [00:06, 71.71it/s]                         \n",
      "79it [00:00, 97.82it/s]                        \n",
      "  2%|▏         | 8/468 [00:00<00:06, 69.82it/s]"
     ]
    },
    {
     "name": "stdout",
     "output_type": "stream",
     "text": [
      "Train Loss: 130.2068\n",
      "Val Loss: 143.2858\n",
      "Epoch 321 of 1000\n"
     ]
    },
    {
     "name": "stderr",
     "output_type": "stream",
     "text": [
      "469it [00:06, 71.48it/s]                         \n",
      "79it [00:00, 98.40it/s]                        \n",
      "  2%|▏         | 8/468 [00:00<00:06, 74.37it/s]"
     ]
    },
    {
     "name": "stdout",
     "output_type": "stream",
     "text": [
      "Train Loss: 130.1829\n",
      "Val Loss: 143.2386\n",
      "Epoch 322 of 1000\n"
     ]
    },
    {
     "name": "stderr",
     "output_type": "stream",
     "text": [
      "469it [00:06, 71.72it/s]\n",
      "79it [00:00, 98.97it/s]                        \n",
      "  1%|▏         | 7/468 [00:00<00:07, 65.39it/s]"
     ]
    },
    {
     "name": "stdout",
     "output_type": "stream",
     "text": [
      "Train Loss: 130.1564\n",
      "Val Loss: 143.2979\n",
      "Epoch 323 of 1000\n"
     ]
    },
    {
     "name": "stderr",
     "output_type": "stream",
     "text": [
      "469it [00:06, 72.23it/s]\n",
      "79it [00:00, 99.07it/s]                        \n",
      "  2%|▏         | 8/468 [00:00<00:06, 73.32it/s]"
     ]
    },
    {
     "name": "stdout",
     "output_type": "stream",
     "text": [
      "Train Loss: 130.1605\n",
      "Val Loss: 143.5564\n",
      "Epoch 324 of 1000\n"
     ]
    },
    {
     "name": "stderr",
     "output_type": "stream",
     "text": [
      "469it [00:06, 72.30it/s]                         \n",
      "79it [00:00, 98.58it/s]                        \n",
      "  2%|▏         | 8/468 [00:00<00:06, 70.62it/s]"
     ]
    },
    {
     "name": "stdout",
     "output_type": "stream",
     "text": [
      "Train Loss: 130.1483\n",
      "Val Loss: 143.2750\n",
      "Epoch 325 of 1000\n"
     ]
    },
    {
     "name": "stderr",
     "output_type": "stream",
     "text": [
      "469it [00:06, 73.16it/s]                         \n",
      "79it [00:00, 98.98it/s]                        \n",
      "  2%|▏         | 8/468 [00:00<00:06, 73.18it/s]"
     ]
    },
    {
     "name": "stdout",
     "output_type": "stream",
     "text": [
      "Train Loss: 130.1265\n",
      "Val Loss: 143.3498\n",
      "Epoch 326 of 1000\n"
     ]
    },
    {
     "name": "stderr",
     "output_type": "stream",
     "text": [
      "469it [00:06, 69.56it/s]                         \n",
      "79it [00:00, 94.50it/s]\n",
      "  1%|▏         | 7/468 [00:00<00:06, 68.93it/s]"
     ]
    },
    {
     "name": "stdout",
     "output_type": "stream",
     "text": [
      "Train Loss: 130.1112\n",
      "Val Loss: 143.3994\n",
      "Epoch 327 of 1000\n"
     ]
    },
    {
     "name": "stderr",
     "output_type": "stream",
     "text": [
      "469it [00:06, 70.13it/s]                         \n",
      "79it [00:00, 96.95it/s]                        \n",
      "  2%|▏         | 8/468 [00:00<00:06, 71.88it/s]"
     ]
    },
    {
     "name": "stdout",
     "output_type": "stream",
     "text": [
      "Train Loss: 130.1805\n",
      "Val Loss: 143.2734\n",
      "Epoch 328 of 1000\n"
     ]
    },
    {
     "name": "stderr",
     "output_type": "stream",
     "text": [
      "469it [00:06, 72.05it/s]                         \n",
      "79it [00:00, 99.40it/s]                        \n",
      "  2%|▏         | 8/468 [00:00<00:06, 72.10it/s]"
     ]
    },
    {
     "name": "stdout",
     "output_type": "stream",
     "text": [
      "Train Loss: 130.0710\n",
      "Val Loss: 143.4387\n",
      "Epoch 329 of 1000\n"
     ]
    },
    {
     "name": "stderr",
     "output_type": "stream",
     "text": [
      "469it [00:06, 72.30it/s]\n",
      "79it [00:00, 100.06it/s]                       \n",
      "  2%|▏         | 8/468 [00:00<00:06, 73.32it/s]"
     ]
    },
    {
     "name": "stdout",
     "output_type": "stream",
     "text": [
      "Train Loss: 130.0350\n",
      "Val Loss: 143.2993\n",
      "Epoch 330 of 1000\n"
     ]
    },
    {
     "name": "stderr",
     "output_type": "stream",
     "text": [
      "469it [00:06, 72.36it/s]                         \n",
      "79it [00:00, 98.78it/s]                        \n",
      "  2%|▏         | 8/468 [00:00<00:06, 73.80it/s]"
     ]
    },
    {
     "name": "stdout",
     "output_type": "stream",
     "text": [
      "Train Loss: 130.0338\n",
      "Val Loss: 143.3592\n",
      "Epoch 331 of 1000\n"
     ]
    },
    {
     "name": "stderr",
     "output_type": "stream",
     "text": [
      "469it [00:06, 70.25it/s]                         \n",
      "79it [00:00, 96.33it/s]                        \n",
      "  1%|▏         | 7/468 [00:00<00:07, 62.59it/s]"
     ]
    },
    {
     "name": "stdout",
     "output_type": "stream",
     "text": [
      "Train Loss: 130.0805\n",
      "Val Loss: 143.4670\n",
      "Epoch 332 of 1000\n"
     ]
    },
    {
     "name": "stderr",
     "output_type": "stream",
     "text": [
      "469it [00:06, 71.92it/s]                         \n",
      "79it [00:00, 99.77it/s]                        \n",
      "  1%|▏         | 7/468 [00:00<00:07, 63.74it/s]"
     ]
    },
    {
     "name": "stdout",
     "output_type": "stream",
     "text": [
      "Train Loss: 130.0531\n",
      "Val Loss: 143.5583\n",
      "Epoch 333 of 1000\n"
     ]
    },
    {
     "name": "stderr",
     "output_type": "stream",
     "text": [
      "469it [00:06, 72.62it/s]                         \n",
      "79it [00:00, 98.99it/s]                        \n",
      "  2%|▏         | 8/468 [00:00<00:06, 76.03it/s]"
     ]
    },
    {
     "name": "stdout",
     "output_type": "stream",
     "text": [
      "Train Loss: 130.0309\n",
      "Val Loss: 143.6373\n",
      "Epoch 334 of 1000\n"
     ]
    },
    {
     "name": "stderr",
     "output_type": "stream",
     "text": [
      "469it [00:06, 72.40it/s]                         \n",
      "79it [00:00, 97.93it/s]                         \n",
      "  1%|▏         | 7/468 [00:00<00:06, 69.86it/s]"
     ]
    },
    {
     "name": "stdout",
     "output_type": "stream",
     "text": [
      "Train Loss: 130.0055\n",
      "Val Loss: 143.5153\n",
      "Epoch 335 of 1000\n"
     ]
    },
    {
     "name": "stderr",
     "output_type": "stream",
     "text": [
      "469it [00:06, 72.33it/s]\n",
      "79it [00:00, 98.30it/s]                        \n",
      "  1%|▏         | 7/468 [00:00<00:07, 64.09it/s]"
     ]
    },
    {
     "name": "stdout",
     "output_type": "stream",
     "text": [
      "Train Loss: 129.9715\n",
      "Val Loss: 143.2796\n",
      "Epoch 336 of 1000\n"
     ]
    },
    {
     "name": "stderr",
     "output_type": "stream",
     "text": [
      "469it [00:06, 72.25it/s]\n",
      "79it [00:00, 97.30it/s]                        \n",
      "  1%|▏         | 7/468 [00:00<00:06, 68.42it/s]"
     ]
    },
    {
     "name": "stdout",
     "output_type": "stream",
     "text": [
      "Train Loss: 129.9872\n",
      "Val Loss: 143.3716\n",
      "Epoch 337 of 1000\n"
     ]
    },
    {
     "name": "stderr",
     "output_type": "stream",
     "text": [
      "469it [00:06, 72.81it/s]\n",
      "79it [00:00, 98.19it/s]                         \n",
      "  2%|▏         | 8/468 [00:00<00:06, 72.10it/s]"
     ]
    },
    {
     "name": "stdout",
     "output_type": "stream",
     "text": [
      "Train Loss: 129.9864\n",
      "Val Loss: 143.7274\n",
      "Epoch 338 of 1000\n"
     ]
    },
    {
     "name": "stderr",
     "output_type": "stream",
     "text": [
      "469it [00:06, 73.02it/s]                         \n",
      "79it [00:00, 99.57it/s]                        \n",
      "  2%|▏         | 8/468 [00:00<00:06, 74.28it/s]"
     ]
    },
    {
     "name": "stdout",
     "output_type": "stream",
     "text": [
      "Train Loss: 129.9899\n",
      "Val Loss: 143.6873\n",
      "Epoch 339 of 1000\n"
     ]
    },
    {
     "name": "stderr",
     "output_type": "stream",
     "text": [
      "469it [00:06, 72.58it/s]                         \n",
      "79it [00:00, 96.49it/s]                        \n",
      "  1%|▏         | 7/468 [00:00<00:06, 69.58it/s]"
     ]
    },
    {
     "name": "stdout",
     "output_type": "stream",
     "text": [
      "Train Loss: 130.0137\n",
      "Val Loss: 143.8335\n",
      "Epoch 340 of 1000\n"
     ]
    },
    {
     "name": "stderr",
     "output_type": "stream",
     "text": [
      "469it [00:06, 72.44it/s]                         \n",
      "79it [00:00, 99.36it/s]                        \n",
      "  2%|▏         | 8/468 [00:00<00:06, 76.08it/s]"
     ]
    },
    {
     "name": "stdout",
     "output_type": "stream",
     "text": [
      "Train Loss: 129.9743\n",
      "Val Loss: 143.4961\n",
      "Epoch 341 of 1000\n"
     ]
    },
    {
     "name": "stderr",
     "output_type": "stream",
     "text": [
      "469it [00:06, 72.85it/s]                         \n",
      "79it [00:00, 97.90it/s]                        \n",
      "  2%|▏         | 8/468 [00:00<00:06, 71.94it/s]"
     ]
    },
    {
     "name": "stdout",
     "output_type": "stream",
     "text": [
      "Train Loss: 129.9115\n",
      "Val Loss: 143.2712\n",
      "Epoch 342 of 1000\n"
     ]
    },
    {
     "name": "stderr",
     "output_type": "stream",
     "text": [
      "469it [00:06, 71.86it/s]                         \n",
      "79it [00:00, 95.81it/s]                        \n",
      "  1%|▏         | 7/468 [00:00<00:07, 62.21it/s]"
     ]
    },
    {
     "name": "stdout",
     "output_type": "stream",
     "text": [
      "Train Loss: 129.9141\n",
      "Val Loss: 143.2948\n",
      "Epoch 343 of 1000\n"
     ]
    },
    {
     "name": "stderr",
     "output_type": "stream",
     "text": [
      "469it [00:06, 71.83it/s]\n",
      "79it [00:00, 98.46it/s]                        \n",
      "  2%|▏         | 8/468 [00:00<00:06, 70.47it/s]"
     ]
    },
    {
     "name": "stdout",
     "output_type": "stream",
     "text": [
      "Train Loss: 129.8970\n",
      "Val Loss: 143.3503\n",
      "Epoch 344 of 1000\n"
     ]
    },
    {
     "name": "stderr",
     "output_type": "stream",
     "text": [
      "469it [00:06, 71.63it/s]                         \n",
      "79it [00:00, 100.95it/s]                       \n",
      "  1%|▏         | 7/468 [00:00<00:06, 67.06it/s]"
     ]
    },
    {
     "name": "stdout",
     "output_type": "stream",
     "text": [
      "Train Loss: 129.9286\n",
      "Val Loss: 143.4269\n",
      "Epoch 345 of 1000\n"
     ]
    },
    {
     "name": "stderr",
     "output_type": "stream",
     "text": [
      "469it [00:06, 72.33it/s]                         \n",
      "79it [00:00, 96.56it/s]                        \n",
      "  2%|▏         | 8/468 [00:00<00:06, 74.12it/s]"
     ]
    },
    {
     "name": "stdout",
     "output_type": "stream",
     "text": [
      "Train Loss: 129.8826\n",
      "Val Loss: 143.6050\n",
      "Epoch 346 of 1000\n"
     ]
    },
    {
     "name": "stderr",
     "output_type": "stream",
     "text": [
      "469it [00:06, 72.60it/s]                         \n",
      "79it [00:00, 98.05it/s]                        \n",
      "  2%|▏         | 8/468 [00:00<00:06, 74.54it/s]"
     ]
    },
    {
     "name": "stdout",
     "output_type": "stream",
     "text": [
      "Train Loss: 129.9071\n",
      "Val Loss: 143.1779\n",
      "Epoch 347 of 1000\n"
     ]
    },
    {
     "name": "stderr",
     "output_type": "stream",
     "text": [
      "469it [00:06, 72.52it/s]                         \n",
      "79it [00:00, 99.99it/s]                        \n",
      "  2%|▏         | 8/468 [00:00<00:06, 73.56it/s]"
     ]
    },
    {
     "name": "stdout",
     "output_type": "stream",
     "text": [
      "Train Loss: 129.8461\n",
      "Val Loss: 143.8624\n",
      "Epoch 348 of 1000\n"
     ]
    },
    {
     "name": "stderr",
     "output_type": "stream",
     "text": [
      "469it [00:06, 72.42it/s]\n",
      "79it [00:00, 98.37it/s]                        \n",
      "  2%|▏         | 8/468 [00:00<00:06, 74.87it/s]"
     ]
    },
    {
     "name": "stdout",
     "output_type": "stream",
     "text": [
      "Train Loss: 129.8659\n",
      "Val Loss: 143.3748\n",
      "Epoch 349 of 1000\n"
     ]
    },
    {
     "name": "stderr",
     "output_type": "stream",
     "text": [
      "469it [00:06, 72.29it/s]\n",
      "79it [00:00, 101.63it/s]                        \n",
      "  1%|▏         | 7/468 [00:00<00:07, 64.48it/s]"
     ]
    },
    {
     "name": "stdout",
     "output_type": "stream",
     "text": [
      "Train Loss: 129.7891\n",
      "Val Loss: 143.2454\n",
      "Epoch 350 of 1000\n"
     ]
    },
    {
     "name": "stderr",
     "output_type": "stream",
     "text": [
      "469it [00:06, 73.01it/s]\n",
      "79it [00:01, 78.04it/s]                        \n",
      "  2%|▏         | 8/468 [00:00<00:06, 72.08it/s]"
     ]
    },
    {
     "name": "stdout",
     "output_type": "stream",
     "text": [
      "Train Loss: 129.7979\n",
      "Val Loss: 143.3085\n",
      "Epoch 351 of 1000\n"
     ]
    },
    {
     "name": "stderr",
     "output_type": "stream",
     "text": [
      "469it [00:06, 71.64it/s]                         \n",
      "79it [00:00, 99.37it/s]                        \n",
      "  2%|▏         | 8/468 [00:00<00:06, 74.28it/s]"
     ]
    },
    {
     "name": "stdout",
     "output_type": "stream",
     "text": [
      "Train Loss: 129.8059\n",
      "Val Loss: 143.5172\n",
      "Epoch 352 of 1000\n"
     ]
    },
    {
     "name": "stderr",
     "output_type": "stream",
     "text": [
      "469it [00:06, 71.95it/s]\n",
      "79it [00:00, 98.16it/s]                        \n",
      "  2%|▏         | 8/468 [00:00<00:06, 71.69it/s]"
     ]
    },
    {
     "name": "stdout",
     "output_type": "stream",
     "text": [
      "Train Loss: 129.7993\n",
      "Val Loss: 143.2735\n",
      "Epoch 353 of 1000\n"
     ]
    },
    {
     "name": "stderr",
     "output_type": "stream",
     "text": [
      "469it [00:06, 71.84it/s]\n",
      "79it [00:00, 96.13it/s]                        \n",
      "  1%|▏         | 7/468 [00:00<00:06, 68.58it/s]"
     ]
    },
    {
     "name": "stdout",
     "output_type": "stream",
     "text": [
      "Train Loss: 129.7581\n",
      "Val Loss: 143.8254\n",
      "Epoch 354 of 1000\n"
     ]
    },
    {
     "name": "stderr",
     "output_type": "stream",
     "text": [
      "469it [00:06, 72.00it/s]                         \n",
      "79it [00:00, 99.46it/s]                        \n",
      "  2%|▏         | 8/468 [00:00<00:06, 72.16it/s]"
     ]
    },
    {
     "name": "stdout",
     "output_type": "stream",
     "text": [
      "Train Loss: 129.7777\n",
      "Val Loss: 143.7925\n",
      "Epoch 355 of 1000\n"
     ]
    },
    {
     "name": "stderr",
     "output_type": "stream",
     "text": [
      "469it [00:06, 72.59it/s]                         \n",
      "79it [00:00, 99.27it/s]                        \n",
      "  2%|▏         | 8/468 [00:00<00:06, 72.95it/s]"
     ]
    },
    {
     "name": "stdout",
     "output_type": "stream",
     "text": [
      "Train Loss: 129.7616\n",
      "Val Loss: 144.0975\n",
      "Epoch 356 of 1000\n"
     ]
    },
    {
     "name": "stderr",
     "output_type": "stream",
     "text": [
      "469it [00:06, 72.41it/s]                         \n",
      "79it [00:00, 96.62it/s]                        \n",
      "  2%|▏         | 8/468 [00:00<00:06, 72.19it/s]"
     ]
    },
    {
     "name": "stdout",
     "output_type": "stream",
     "text": [
      "Train Loss: 129.7522\n",
      "Val Loss: 143.5062\n",
      "Epoch 357 of 1000\n"
     ]
    },
    {
     "name": "stderr",
     "output_type": "stream",
     "text": [
      "469it [00:06, 72.48it/s]                         \n",
      "79it [00:00, 99.01it/s]                        \n",
      "  2%|▏         | 8/468 [00:00<00:06, 72.56it/s]"
     ]
    },
    {
     "name": "stdout",
     "output_type": "stream",
     "text": [
      "Train Loss: 129.7249\n",
      "Val Loss: 143.8816\n",
      "Epoch 358 of 1000\n"
     ]
    },
    {
     "name": "stderr",
     "output_type": "stream",
     "text": [
      "469it [00:06, 72.01it/s]                         \n",
      "79it [00:00, 96.89it/s]                        \n",
      "  1%|▏         | 7/468 [00:00<00:07, 64.26it/s]"
     ]
    },
    {
     "name": "stdout",
     "output_type": "stream",
     "text": [
      "Train Loss: 129.7456\n",
      "Val Loss: 143.7591\n",
      "Epoch 359 of 1000\n"
     ]
    },
    {
     "name": "stderr",
     "output_type": "stream",
     "text": [
      "469it [00:06, 72.02it/s]                         \n",
      "79it [00:00, 98.73it/s]                        \n",
      "  2%|▏         | 8/468 [00:00<00:06, 74.84it/s]"
     ]
    },
    {
     "name": "stdout",
     "output_type": "stream",
     "text": [
      "Train Loss: 129.6667\n",
      "Val Loss: 143.6652\n",
      "Epoch 360 of 1000\n"
     ]
    },
    {
     "name": "stderr",
     "output_type": "stream",
     "text": [
      "469it [00:06, 72.08it/s]                         \n",
      "79it [00:00, 100.04it/s]                       \n",
      "  2%|▏         | 8/468 [00:00<00:06, 73.51it/s]"
     ]
    },
    {
     "name": "stdout",
     "output_type": "stream",
     "text": [
      "Train Loss: 129.7030\n",
      "Val Loss: 143.6274\n",
      "Epoch 361 of 1000\n"
     ]
    },
    {
     "name": "stderr",
     "output_type": "stream",
     "text": [
      "469it [00:06, 72.33it/s]                         \n",
      "79it [00:00, 99.16it/s]                        \n",
      "  2%|▏         | 8/468 [00:00<00:06, 72.51it/s]"
     ]
    },
    {
     "name": "stdout",
     "output_type": "stream",
     "text": [
      "Train Loss: 129.7293\n",
      "Val Loss: 143.7089\n",
      "Epoch 362 of 1000\n"
     ]
    },
    {
     "name": "stderr",
     "output_type": "stream",
     "text": [
      "469it [00:06, 72.67it/s]                         \n",
      "79it [00:00, 100.14it/s]                        \n",
      "  2%|▏         | 8/468 [00:00<00:06, 76.41it/s]"
     ]
    },
    {
     "name": "stdout",
     "output_type": "stream",
     "text": [
      "Train Loss: 129.6894\n",
      "Val Loss: 143.7028\n",
      "Epoch 363 of 1000\n"
     ]
    },
    {
     "name": "stderr",
     "output_type": "stream",
     "text": [
      "469it [00:06, 73.02it/s]                         \n",
      "79it [00:00, 96.80it/s]                        \n",
      "  2%|▏         | 8/468 [00:00<00:06, 71.64it/s]"
     ]
    },
    {
     "name": "stdout",
     "output_type": "stream",
     "text": [
      "Train Loss: 129.6745\n",
      "Val Loss: 143.7102\n",
      "Epoch 364 of 1000\n"
     ]
    },
    {
     "name": "stderr",
     "output_type": "stream",
     "text": [
      "469it [00:06, 71.71it/s]                         \n",
      "79it [00:00, 98.07it/s]                        \n",
      "  2%|▏         | 8/468 [00:00<00:06, 73.72it/s]"
     ]
    },
    {
     "name": "stdout",
     "output_type": "stream",
     "text": [
      "Train Loss: 129.6232\n",
      "Val Loss: 143.5649\n",
      "Epoch 365 of 1000\n"
     ]
    },
    {
     "name": "stderr",
     "output_type": "stream",
     "text": [
      "469it [00:06, 71.52it/s]                         \n",
      "79it [00:00, 98.25it/s]                        \n",
      "  2%|▏         | 8/468 [00:00<00:06, 73.09it/s]"
     ]
    },
    {
     "name": "stdout",
     "output_type": "stream",
     "text": [
      "Train Loss: 129.6291\n",
      "Val Loss: 143.6557\n",
      "Epoch 366 of 1000\n"
     ]
    },
    {
     "name": "stderr",
     "output_type": "stream",
     "text": [
      "469it [00:06, 72.22it/s]                         \n",
      "79it [00:00, 99.94it/s]                        \n",
      "  2%|▏         | 8/468 [00:00<00:06, 71.63it/s]"
     ]
    },
    {
     "name": "stdout",
     "output_type": "stream",
     "text": [
      "Train Loss: 129.6290\n",
      "Val Loss: 143.4747\n",
      "Epoch 367 of 1000\n"
     ]
    },
    {
     "name": "stderr",
     "output_type": "stream",
     "text": [
      "469it [00:06, 72.62it/s]\n",
      "79it [00:00, 99.01it/s]                        \n",
      "  1%|▏         | 7/468 [00:00<00:06, 69.05it/s]"
     ]
    },
    {
     "name": "stdout",
     "output_type": "stream",
     "text": [
      "Train Loss: 129.6160\n",
      "Val Loss: 143.6923\n",
      "Epoch 368 of 1000\n"
     ]
    },
    {
     "name": "stderr",
     "output_type": "stream",
     "text": [
      "469it [00:06, 70.30it/s]                         \n",
      "79it [00:00, 95.26it/s]                        \n",
      "  2%|▏         | 8/468 [00:00<00:06, 71.54it/s]"
     ]
    },
    {
     "name": "stdout",
     "output_type": "stream",
     "text": [
      "Train Loss: 129.6330\n",
      "Val Loss: 143.7936\n",
      "Epoch 369 of 1000\n"
     ]
    },
    {
     "name": "stderr",
     "output_type": "stream",
     "text": [
      "469it [00:06, 69.57it/s]                         \n",
      "79it [00:00, 92.22it/s]                        \n",
      "  2%|▏         | 8/468 [00:00<00:06, 71.37it/s]"
     ]
    },
    {
     "name": "stdout",
     "output_type": "stream",
     "text": [
      "Train Loss: 129.6478\n",
      "Val Loss: 143.8895\n",
      "Epoch 370 of 1000\n"
     ]
    },
    {
     "name": "stderr",
     "output_type": "stream",
     "text": [
      "469it [00:06, 72.27it/s]                         \n",
      "79it [00:00, 99.29it/s]                        \n",
      "  2%|▏         | 8/468 [00:00<00:06, 72.10it/s]"
     ]
    },
    {
     "name": "stdout",
     "output_type": "stream",
     "text": [
      "Train Loss: 129.6051\n",
      "Val Loss: 143.7617\n",
      "Epoch 371 of 1000\n"
     ]
    },
    {
     "name": "stderr",
     "output_type": "stream",
     "text": [
      "469it [00:06, 72.04it/s]                         \n",
      "79it [00:00, 98.84it/s]                        \n",
      "  2%|▏         | 8/468 [00:00<00:06, 72.80it/s]"
     ]
    },
    {
     "name": "stdout",
     "output_type": "stream",
     "text": [
      "Train Loss: 129.5423\n",
      "Val Loss: 143.6598\n",
      "Epoch 372 of 1000\n"
     ]
    },
    {
     "name": "stderr",
     "output_type": "stream",
     "text": [
      "469it [00:06, 72.27it/s]                         \n",
      "79it [00:00, 97.65it/s]                        \n",
      "  2%|▏         | 8/468 [00:00<00:06, 72.36it/s]"
     ]
    },
    {
     "name": "stdout",
     "output_type": "stream",
     "text": [
      "Train Loss: 129.5139\n",
      "Val Loss: 143.7421\n",
      "Epoch 373 of 1000\n"
     ]
    },
    {
     "name": "stderr",
     "output_type": "stream",
     "text": [
      "469it [00:06, 71.11it/s]                         \n",
      "79it [00:00, 97.05it/s]                        \n",
      "  2%|▏         | 8/468 [00:00<00:06, 72.89it/s]"
     ]
    },
    {
     "name": "stdout",
     "output_type": "stream",
     "text": [
      "Train Loss: 129.5369\n",
      "Val Loss: 143.5793\n",
      "Epoch 374 of 1000\n"
     ]
    },
    {
     "name": "stderr",
     "output_type": "stream",
     "text": [
      "469it [00:06, 71.47it/s]                         \n",
      "79it [00:00, 100.20it/s]                       \n",
      "  1%|▏         | 7/468 [00:00<00:06, 68.23it/s]"
     ]
    },
    {
     "name": "stdout",
     "output_type": "stream",
     "text": [
      "Train Loss: 129.5672\n",
      "Val Loss: 143.8858\n",
      "Epoch 375 of 1000\n"
     ]
    },
    {
     "name": "stderr",
     "output_type": "stream",
     "text": [
      "469it [00:06, 71.70it/s]                         \n",
      "79it [00:00, 96.11it/s]                        \n",
      "  2%|▏         | 8/468 [00:00<00:06, 73.21it/s]"
     ]
    },
    {
     "name": "stdout",
     "output_type": "stream",
     "text": [
      "Train Loss: 129.5333\n",
      "Val Loss: 143.7825\n",
      "Epoch 376 of 1000\n"
     ]
    },
    {
     "name": "stderr",
     "output_type": "stream",
     "text": [
      "469it [00:06, 71.73it/s]                         \n",
      "79it [00:00, 97.26it/s]                        \n",
      "  2%|▏         | 8/468 [00:00<00:06, 73.50it/s]"
     ]
    },
    {
     "name": "stdout",
     "output_type": "stream",
     "text": [
      "Train Loss: 129.5070\n",
      "Val Loss: 143.7025\n",
      "Epoch 377 of 1000\n"
     ]
    },
    {
     "name": "stderr",
     "output_type": "stream",
     "text": [
      "469it [00:06, 72.45it/s]                         \n",
      "79it [00:00, 93.66it/s]                        \n",
      "  2%|▏         | 8/468 [00:00<00:06, 72.86it/s]"
     ]
    },
    {
     "name": "stdout",
     "output_type": "stream",
     "text": [
      "Train Loss: 129.5280\n",
      "Val Loss: 143.8477\n",
      "Epoch 378 of 1000\n"
     ]
    },
    {
     "name": "stderr",
     "output_type": "stream",
     "text": [
      "469it [00:06, 71.85it/s]                         \n",
      "79it [00:00, 98.37it/s]                        \n",
      "  2%|▏         | 8/468 [00:00<00:06, 73.69it/s]"
     ]
    },
    {
     "name": "stdout",
     "output_type": "stream",
     "text": [
      "Train Loss: 129.4944\n",
      "Val Loss: 143.6718\n",
      "Epoch 379 of 1000\n"
     ]
    },
    {
     "name": "stderr",
     "output_type": "stream",
     "text": [
      "469it [00:06, 72.67it/s]\n",
      "79it [00:00, 97.68it/s]                        \n",
      "  2%|▏         | 8/468 [00:00<00:06, 72.04it/s]"
     ]
    },
    {
     "name": "stdout",
     "output_type": "stream",
     "text": [
      "Train Loss: 129.4717\n",
      "Val Loss: 143.6925\n",
      "Epoch 380 of 1000\n"
     ]
    },
    {
     "name": "stderr",
     "output_type": "stream",
     "text": [
      "469it [00:06, 71.89it/s]                         \n",
      "79it [00:00, 96.55it/s]                        \n",
      "  2%|▏         | 8/468 [00:00<00:06, 73.15it/s]"
     ]
    },
    {
     "name": "stdout",
     "output_type": "stream",
     "text": [
      "Train Loss: 129.5076\n",
      "Val Loss: 143.9255\n",
      "Epoch 381 of 1000\n"
     ]
    },
    {
     "name": "stderr",
     "output_type": "stream",
     "text": [
      "469it [00:06, 72.31it/s]                         \n",
      "79it [00:00, 99.29it/s]                        \n",
      "  1%|▏         | 7/468 [00:00<00:06, 67.74it/s]"
     ]
    },
    {
     "name": "stdout",
     "output_type": "stream",
     "text": [
      "Train Loss: 129.4680\n",
      "Val Loss: 143.7561\n",
      "Epoch 382 of 1000\n"
     ]
    },
    {
     "name": "stderr",
     "output_type": "stream",
     "text": [
      "469it [00:06, 71.87it/s]\n",
      "79it [00:00, 98.31it/s]                        \n",
      "  1%|▏         | 7/468 [00:00<00:06, 67.27it/s]"
     ]
    },
    {
     "name": "stdout",
     "output_type": "stream",
     "text": [
      "Train Loss: 129.4406\n",
      "Val Loss: 144.0053\n",
      "Epoch 383 of 1000\n"
     ]
    },
    {
     "name": "stderr",
     "output_type": "stream",
     "text": [
      "469it [00:06, 72.28it/s]                         \n",
      "79it [00:00, 97.66it/s]                        \n",
      "  1%|▏         | 7/468 [00:00<00:06, 69.41it/s]"
     ]
    },
    {
     "name": "stdout",
     "output_type": "stream",
     "text": [
      "Train Loss: 129.4156\n",
      "Val Loss: 144.0063\n",
      "Epoch 384 of 1000\n"
     ]
    },
    {
     "name": "stderr",
     "output_type": "stream",
     "text": [
      "469it [00:06, 71.64it/s]\n",
      "79it [00:00, 98.20it/s]                        \n",
      "  2%|▏         | 8/468 [00:00<00:06, 70.94it/s]"
     ]
    },
    {
     "name": "stdout",
     "output_type": "stream",
     "text": [
      "Train Loss: 129.4586\n",
      "Val Loss: 143.8285\n",
      "Epoch 385 of 1000\n"
     ]
    },
    {
     "name": "stderr",
     "output_type": "stream",
     "text": [
      "469it [00:06, 72.00it/s]\n",
      "79it [00:00, 97.72it/s]                        \n",
      "  2%|▏         | 8/468 [00:00<00:06, 73.53it/s]"
     ]
    },
    {
     "name": "stdout",
     "output_type": "stream",
     "text": [
      "Train Loss: 129.4298\n",
      "Val Loss: 143.7988\n",
      "Epoch 386 of 1000\n"
     ]
    },
    {
     "name": "stderr",
     "output_type": "stream",
     "text": [
      "469it [00:06, 71.19it/s]                         \n",
      "79it [00:00, 97.05it/s]                        \n",
      "  1%|▏         | 7/468 [00:00<00:06, 68.62it/s]"
     ]
    },
    {
     "name": "stdout",
     "output_type": "stream",
     "text": [
      "Train Loss: 129.4320\n",
      "Val Loss: 144.2200\n",
      "Epoch 387 of 1000\n"
     ]
    },
    {
     "name": "stderr",
     "output_type": "stream",
     "text": [
      "469it [00:06, 71.48it/s]                         \n",
      "79it [00:00, 98.83it/s]                        \n",
      "  1%|▏         | 7/468 [00:00<00:06, 68.59it/s]"
     ]
    },
    {
     "name": "stdout",
     "output_type": "stream",
     "text": [
      "Train Loss: 129.4115\n",
      "Val Loss: 143.9100\n",
      "Epoch 388 of 1000\n"
     ]
    },
    {
     "name": "stderr",
     "output_type": "stream",
     "text": [
      "469it [00:06, 71.83it/s]                         \n",
      "79it [00:00, 98.79it/s]                        \n",
      "  2%|▏         | 8/468 [00:00<00:06, 73.05it/s]"
     ]
    },
    {
     "name": "stdout",
     "output_type": "stream",
     "text": [
      "Train Loss: 129.4202\n",
      "Val Loss: 143.9701\n",
      "Epoch 389 of 1000\n"
     ]
    },
    {
     "name": "stderr",
     "output_type": "stream",
     "text": [
      "469it [00:06, 72.37it/s]                         \n",
      "79it [00:00, 98.20it/s]                        \n",
      "  2%|▏         | 8/468 [00:00<00:06, 72.70it/s]"
     ]
    },
    {
     "name": "stdout",
     "output_type": "stream",
     "text": [
      "Train Loss: 129.3423\n",
      "Val Loss: 144.0473\n",
      "Epoch 390 of 1000\n"
     ]
    },
    {
     "name": "stderr",
     "output_type": "stream",
     "text": [
      "469it [00:06, 72.60it/s]                         \n",
      "79it [00:00, 97.68it/s]                        \n",
      "  1%|▏         | 7/468 [00:00<00:06, 68.41it/s]"
     ]
    },
    {
     "name": "stdout",
     "output_type": "stream",
     "text": [
      "Train Loss: 129.4196\n",
      "Val Loss: 143.9734\n",
      "Epoch 391 of 1000\n"
     ]
    },
    {
     "name": "stderr",
     "output_type": "stream",
     "text": [
      "469it [00:06, 71.63it/s]                         \n",
      "79it [00:00, 99.05it/s]                        \n",
      "  2%|▏         | 8/468 [00:00<00:06, 72.80it/s]"
     ]
    },
    {
     "name": "stdout",
     "output_type": "stream",
     "text": [
      "Train Loss: 129.3620\n",
      "Val Loss: 143.8347\n",
      "Epoch 392 of 1000\n"
     ]
    },
    {
     "name": "stderr",
     "output_type": "stream",
     "text": [
      "469it [00:06, 72.18it/s]\n",
      "79it [00:00, 97.24it/s]                        \n",
      "  2%|▏         | 8/468 [00:00<00:06, 72.43it/s]"
     ]
    },
    {
     "name": "stdout",
     "output_type": "stream",
     "text": [
      "Train Loss: 129.3405\n",
      "Val Loss: 144.0793\n",
      "Epoch 393 of 1000\n"
     ]
    },
    {
     "name": "stderr",
     "output_type": "stream",
     "text": [
      "469it [00:06, 71.60it/s]                         \n",
      "79it [00:00, 96.78it/s]                        \n",
      "  2%|▏         | 8/468 [00:00<00:06, 74.33it/s]"
     ]
    },
    {
     "name": "stdout",
     "output_type": "stream",
     "text": [
      "Train Loss: 129.3336\n",
      "Val Loss: 143.9895\n",
      "Epoch 394 of 1000\n"
     ]
    },
    {
     "name": "stderr",
     "output_type": "stream",
     "text": [
      "469it [00:06, 71.86it/s]                         \n",
      "79it [00:00, 98.24it/s]                        \n",
      "  2%|▏         | 8/468 [00:00<00:06, 72.06it/s]"
     ]
    },
    {
     "name": "stdout",
     "output_type": "stream",
     "text": [
      "Train Loss: 129.3310\n",
      "Val Loss: 143.9718\n",
      "Epoch 395 of 1000\n"
     ]
    },
    {
     "name": "stderr",
     "output_type": "stream",
     "text": [
      "469it [00:06, 71.39it/s]                         \n",
      "79it [00:00, 98.49it/s]                        \n",
      "  2%|▏         | 8/468 [00:00<00:06, 73.62it/s]"
     ]
    },
    {
     "name": "stdout",
     "output_type": "stream",
     "text": [
      "Train Loss: 129.3294\n",
      "Val Loss: 144.0417\n",
      "Epoch 396 of 1000\n"
     ]
    },
    {
     "name": "stderr",
     "output_type": "stream",
     "text": [
      "469it [00:06, 70.86it/s]                         \n",
      "79it [00:00, 97.37it/s]                        \n",
      "  1%|▏         | 7/468 [00:00<00:06, 65.99it/s]"
     ]
    },
    {
     "name": "stdout",
     "output_type": "stream",
     "text": [
      "Train Loss: 129.3514\n",
      "Val Loss: 143.9884\n",
      "Epoch 397 of 1000\n"
     ]
    },
    {
     "name": "stderr",
     "output_type": "stream",
     "text": [
      "469it [00:06, 71.08it/s]                         \n",
      "79it [00:00, 97.12it/s]                        \n",
      "  2%|▏         | 8/468 [00:00<00:06, 73.96it/s]"
     ]
    },
    {
     "name": "stdout",
     "output_type": "stream",
     "text": [
      "Train Loss: 129.2896\n",
      "Val Loss: 143.9879\n",
      "Epoch 398 of 1000\n"
     ]
    },
    {
     "name": "stderr",
     "output_type": "stream",
     "text": [
      "469it [00:06, 72.19it/s]                         \n",
      "79it [00:00, 98.92it/s]                        \n",
      "  1%|▏         | 7/468 [00:00<00:06, 69.02it/s]"
     ]
    },
    {
     "name": "stdout",
     "output_type": "stream",
     "text": [
      "Train Loss: 129.2541\n",
      "Val Loss: 143.9641\n",
      "Epoch 399 of 1000\n"
     ]
    },
    {
     "name": "stderr",
     "output_type": "stream",
     "text": [
      "469it [00:06, 72.01it/s]\n",
      "79it [00:00, 97.93it/s]                        \n",
      "  1%|▏         | 7/468 [00:00<00:07, 65.35it/s]"
     ]
    },
    {
     "name": "stdout",
     "output_type": "stream",
     "text": [
      "Train Loss: 129.2523\n",
      "Val Loss: 143.9661\n",
      "Epoch 400 of 1000\n"
     ]
    },
    {
     "name": "stderr",
     "output_type": "stream",
     "text": [
      "469it [00:06, 71.13it/s]                         \n",
      "79it [00:00, 79.26it/s]                        \n",
      "  2%|▏         | 8/468 [00:00<00:06, 72.93it/s]"
     ]
    },
    {
     "name": "stdout",
     "output_type": "stream",
     "text": [
      "Train Loss: 129.2973\n",
      "Val Loss: 143.7812\n",
      "Epoch 401 of 1000\n"
     ]
    },
    {
     "name": "stderr",
     "output_type": "stream",
     "text": [
      "469it [00:06, 72.14it/s]                         \n",
      "79it [00:00, 98.11it/s]                        \n",
      "  1%|▏         | 7/468 [00:00<00:06, 69.45it/s]"
     ]
    },
    {
     "name": "stdout",
     "output_type": "stream",
     "text": [
      "Train Loss: 129.2731\n",
      "Val Loss: 143.9599\n",
      "Epoch 402 of 1000\n"
     ]
    },
    {
     "name": "stderr",
     "output_type": "stream",
     "text": [
      "469it [00:06, 71.83it/s]                         \n",
      "79it [00:00, 98.44it/s]                        \n",
      "  1%|▏         | 7/468 [00:00<00:06, 66.56it/s]"
     ]
    },
    {
     "name": "stdout",
     "output_type": "stream",
     "text": [
      "Train Loss: 129.2637\n",
      "Val Loss: 144.1712\n",
      "Epoch 403 of 1000\n"
     ]
    },
    {
     "name": "stderr",
     "output_type": "stream",
     "text": [
      "469it [00:06, 72.26it/s]                         \n",
      "79it [00:00, 97.04it/s]                        \n",
      "  1%|▏         | 7/468 [00:00<00:06, 69.27it/s]"
     ]
    },
    {
     "name": "stdout",
     "output_type": "stream",
     "text": [
      "Train Loss: 129.2653\n",
      "Val Loss: 143.8689\n",
      "Epoch 404 of 1000\n"
     ]
    },
    {
     "name": "stderr",
     "output_type": "stream",
     "text": [
      "469it [00:06, 72.14it/s]                         \n",
      "79it [00:00, 100.43it/s]                        \n",
      "  1%|▏         | 7/468 [00:00<00:07, 63.91it/s]"
     ]
    },
    {
     "name": "stdout",
     "output_type": "stream",
     "text": [
      "Train Loss: 129.2457\n",
      "Val Loss: 144.2009\n",
      "Epoch 405 of 1000\n"
     ]
    },
    {
     "name": "stderr",
     "output_type": "stream",
     "text": [
      "469it [00:06, 71.83it/s]\n",
      "79it [00:00, 96.43it/s]                        \n",
      "  2%|▏         | 8/468 [00:00<00:06, 71.73it/s]"
     ]
    },
    {
     "name": "stdout",
     "output_type": "stream",
     "text": [
      "Train Loss: 129.2079\n",
      "Val Loss: 143.8642\n",
      "Epoch 406 of 1000\n"
     ]
    },
    {
     "name": "stderr",
     "output_type": "stream",
     "text": [
      "469it [00:06, 71.58it/s]                         \n",
      "79it [00:00, 97.29it/s]                        \n",
      "  2%|▏         | 8/468 [00:00<00:06, 71.71it/s]"
     ]
    },
    {
     "name": "stdout",
     "output_type": "stream",
     "text": [
      "Train Loss: 129.2111\n",
      "Val Loss: 143.9994\n",
      "Epoch 407 of 1000\n"
     ]
    },
    {
     "name": "stderr",
     "output_type": "stream",
     "text": [
      "469it [00:06, 72.09it/s]                         \n",
      "79it [00:00, 96.92it/s]                        \n",
      "  1%|▏         | 7/468 [00:00<00:07, 65.29it/s]"
     ]
    },
    {
     "name": "stdout",
     "output_type": "stream",
     "text": [
      "Train Loss: 129.2243\n",
      "Val Loss: 144.1208\n",
      "Epoch 408 of 1000\n"
     ]
    },
    {
     "name": "stderr",
     "output_type": "stream",
     "text": [
      "469it [00:06, 71.22it/s]                         \n",
      "79it [00:00, 97.87it/s]                        \n",
      "  1%|▏         | 7/468 [00:00<00:06, 67.89it/s]"
     ]
    },
    {
     "name": "stdout",
     "output_type": "stream",
     "text": [
      "Train Loss: 129.1886\n",
      "Val Loss: 144.3448\n",
      "Epoch 409 of 1000\n"
     ]
    },
    {
     "name": "stderr",
     "output_type": "stream",
     "text": [
      "469it [00:06, 70.83it/s]                         \n",
      "79it [00:00, 98.71it/s]                        \n",
      "  2%|▏         | 8/468 [00:00<00:06, 71.60it/s]"
     ]
    },
    {
     "name": "stdout",
     "output_type": "stream",
     "text": [
      "Train Loss: 129.2022\n",
      "Val Loss: 144.5117\n",
      "Epoch 410 of 1000\n"
     ]
    },
    {
     "name": "stderr",
     "output_type": "stream",
     "text": [
      "469it [00:06, 71.60it/s]                         \n",
      "79it [00:00, 92.54it/s]                        \n",
      "  2%|▏         | 8/468 [00:00<00:06, 71.33it/s]"
     ]
    },
    {
     "name": "stdout",
     "output_type": "stream",
     "text": [
      "Train Loss: 129.1769\n",
      "Val Loss: 144.1393\n",
      "Epoch 411 of 1000\n"
     ]
    },
    {
     "name": "stderr",
     "output_type": "stream",
     "text": [
      "469it [00:06, 69.85it/s]                         \n",
      "79it [00:00, 94.09it/s]                        \n",
      "  2%|▏         | 8/468 [00:00<00:06, 71.91it/s]"
     ]
    },
    {
     "name": "stdout",
     "output_type": "stream",
     "text": [
      "Train Loss: 129.1320\n",
      "Val Loss: 144.3299\n",
      "Epoch 412 of 1000\n"
     ]
    },
    {
     "name": "stderr",
     "output_type": "stream",
     "text": [
      "469it [00:06, 70.65it/s]                         \n",
      "79it [00:00, 98.38it/s]                        \n",
      "  2%|▏         | 8/468 [00:00<00:06, 74.86it/s]"
     ]
    },
    {
     "name": "stdout",
     "output_type": "stream",
     "text": [
      "Train Loss: 129.1889\n",
      "Val Loss: 144.3920\n",
      "Epoch 413 of 1000\n"
     ]
    },
    {
     "name": "stderr",
     "output_type": "stream",
     "text": [
      "469it [00:06, 72.21it/s]                         \n",
      "79it [00:00, 97.05it/s]                        \n",
      "  2%|▏         | 8/468 [00:00<00:06, 73.47it/s]"
     ]
    },
    {
     "name": "stdout",
     "output_type": "stream",
     "text": [
      "Train Loss: 129.1379\n",
      "Val Loss: 144.0491\n",
      "Epoch 414 of 1000\n"
     ]
    },
    {
     "name": "stderr",
     "output_type": "stream",
     "text": [
      "469it [00:06, 71.58it/s]                         \n",
      "79it [00:00, 93.73it/s]                        \n",
      "  1%|▏         | 7/468 [00:00<00:06, 68.17it/s]"
     ]
    },
    {
     "name": "stdout",
     "output_type": "stream",
     "text": [
      "Train Loss: 129.1178\n",
      "Val Loss: 144.1424\n",
      "Epoch 415 of 1000\n"
     ]
    },
    {
     "name": "stderr",
     "output_type": "stream",
     "text": [
      "469it [00:06, 71.88it/s]                         \n",
      "79it [00:00, 97.00it/s]                        \n",
      "  2%|▏         | 8/468 [00:00<00:06, 72.77it/s]"
     ]
    },
    {
     "name": "stdout",
     "output_type": "stream",
     "text": [
      "Train Loss: 129.1307\n",
      "Val Loss: 144.4732\n",
      "Epoch 416 of 1000\n"
     ]
    },
    {
     "name": "stderr",
     "output_type": "stream",
     "text": [
      "469it [00:06, 71.76it/s]                         \n",
      "79it [00:00, 97.03it/s]                        \n",
      "  2%|▏         | 8/468 [00:00<00:06, 71.32it/s]"
     ]
    },
    {
     "name": "stdout",
     "output_type": "stream",
     "text": [
      "Train Loss: 129.1421\n",
      "Val Loss: 144.0929\n",
      "Epoch 417 of 1000\n"
     ]
    },
    {
     "name": "stderr",
     "output_type": "stream",
     "text": [
      "469it [00:06, 71.12it/s]                         \n",
      "79it [00:00, 96.74it/s]                        \n",
      "  1%|▏         | 7/468 [00:00<00:06, 69.47it/s]"
     ]
    },
    {
     "name": "stdout",
     "output_type": "stream",
     "text": [
      "Train Loss: 129.1982\n",
      "Val Loss: 144.0546\n",
      "Epoch 418 of 1000\n"
     ]
    },
    {
     "name": "stderr",
     "output_type": "stream",
     "text": [
      "469it [00:06, 71.32it/s]                         \n",
      "79it [00:00, 97.00it/s]                        \n",
      "  1%|▏         | 7/468 [00:00<00:07, 63.25it/s]"
     ]
    },
    {
     "name": "stdout",
     "output_type": "stream",
     "text": [
      "Train Loss: 129.1216\n",
      "Val Loss: 144.1443\n",
      "Epoch 419 of 1000\n"
     ]
    },
    {
     "name": "stderr",
     "output_type": "stream",
     "text": [
      "469it [00:06, 71.30it/s]                         \n",
      "79it [00:00, 98.05it/s]                        \n",
      "  2%|▏         | 8/468 [00:00<00:06, 72.70it/s]"
     ]
    },
    {
     "name": "stdout",
     "output_type": "stream",
     "text": [
      "Train Loss: 129.1264\n",
      "Val Loss: 144.0573\n",
      "Epoch 420 of 1000\n"
     ]
    },
    {
     "name": "stderr",
     "output_type": "stream",
     "text": [
      "469it [00:06, 72.21it/s]\n",
      "79it [00:00, 100.18it/s]                       \n",
      "  1%|▏         | 7/468 [00:00<00:06, 67.99it/s]"
     ]
    },
    {
     "name": "stdout",
     "output_type": "stream",
     "text": [
      "Train Loss: 129.0700\n",
      "Val Loss: 144.3626\n",
      "Epoch 421 of 1000\n"
     ]
    },
    {
     "name": "stderr",
     "output_type": "stream",
     "text": [
      "469it [00:06, 71.60it/s]                         \n",
      "79it [00:00, 95.29it/s]                        \n",
      "  2%|▏         | 8/468 [00:00<00:06, 75.10it/s]"
     ]
    },
    {
     "name": "stdout",
     "output_type": "stream",
     "text": [
      "Train Loss: 129.0735\n",
      "Val Loss: 144.1690\n",
      "Epoch 422 of 1000\n"
     ]
    },
    {
     "name": "stderr",
     "output_type": "stream",
     "text": [
      "469it [00:06, 72.14it/s]\n",
      "79it [00:00, 98.15it/s]                        \n",
      "  1%|▏         | 7/468 [00:00<00:07, 65.34it/s]"
     ]
    },
    {
     "name": "stdout",
     "output_type": "stream",
     "text": [
      "Train Loss: 129.0526\n",
      "Val Loss: 144.2742\n",
      "Epoch 423 of 1000\n"
     ]
    },
    {
     "name": "stderr",
     "output_type": "stream",
     "text": [
      "469it [00:06, 71.31it/s]                         \n",
      "79it [00:00, 98.67it/s]                        \n",
      "  1%|▏         | 7/468 [00:00<00:06, 66.13it/s]"
     ]
    },
    {
     "name": "stdout",
     "output_type": "stream",
     "text": [
      "Train Loss: 129.0293\n",
      "Val Loss: 144.2053\n",
      "Epoch 424 of 1000\n"
     ]
    },
    {
     "name": "stderr",
     "output_type": "stream",
     "text": [
      "469it [00:06, 71.90it/s]\n",
      "79it [00:00, 97.79it/s]                        \n",
      "  1%|▏         | 7/468 [00:00<00:06, 68.39it/s]"
     ]
    },
    {
     "name": "stdout",
     "output_type": "stream",
     "text": [
      "Train Loss: 129.0120\n",
      "Val Loss: 144.1695\n",
      "Epoch 425 of 1000\n"
     ]
    },
    {
     "name": "stderr",
     "output_type": "stream",
     "text": [
      "469it [00:06, 71.65it/s]\n",
      "79it [00:00, 93.50it/s]                        \n",
      "  2%|▏         | 8/468 [00:00<00:06, 74.72it/s]"
     ]
    },
    {
     "name": "stdout",
     "output_type": "stream",
     "text": [
      "Train Loss: 129.1167\n",
      "Val Loss: 144.5213\n",
      "Epoch 426 of 1000\n"
     ]
    },
    {
     "name": "stderr",
     "output_type": "stream",
     "text": [
      "469it [00:06, 71.88it/s]                         \n",
      "79it [00:00, 98.81it/s]                        \n",
      "  2%|▏         | 8/468 [00:00<00:06, 74.11it/s]"
     ]
    },
    {
     "name": "stdout",
     "output_type": "stream",
     "text": [
      "Train Loss: 129.0527\n",
      "Val Loss: 143.9556\n",
      "Epoch 427 of 1000\n"
     ]
    },
    {
     "name": "stderr",
     "output_type": "stream",
     "text": [
      "469it [00:06, 71.47it/s]\n",
      "79it [00:00, 98.94it/s]                        \n",
      "  2%|▏         | 8/468 [00:00<00:06, 73.68it/s]"
     ]
    },
    {
     "name": "stdout",
     "output_type": "stream",
     "text": [
      "Train Loss: 129.0216\n",
      "Val Loss: 144.4093\n",
      "Epoch 428 of 1000\n"
     ]
    },
    {
     "name": "stderr",
     "output_type": "stream",
     "text": [
      "469it [00:06, 72.26it/s]                         \n",
      "79it [00:00, 99.61it/s]                        \n",
      "  1%|▏         | 7/468 [00:00<00:07, 65.00it/s]"
     ]
    },
    {
     "name": "stdout",
     "output_type": "stream",
     "text": [
      "Train Loss: 128.9653\n",
      "Val Loss: 144.2535\n",
      "Epoch 429 of 1000\n"
     ]
    },
    {
     "name": "stderr",
     "output_type": "stream",
     "text": [
      "469it [00:06, 71.59it/s]                         \n",
      "79it [00:00, 94.71it/s]                        \n",
      "  1%|▏         | 7/468 [00:00<00:06, 68.89it/s]"
     ]
    },
    {
     "name": "stdout",
     "output_type": "stream",
     "text": [
      "Train Loss: 129.0088\n",
      "Val Loss: 144.3305\n",
      "Epoch 430 of 1000\n"
     ]
    },
    {
     "name": "stderr",
     "output_type": "stream",
     "text": [
      "469it [00:06, 71.26it/s]                         \n",
      "79it [00:00, 95.81it/s]                        \n",
      "  2%|▏         | 8/468 [00:00<00:06, 73.41it/s]"
     ]
    },
    {
     "name": "stdout",
     "output_type": "stream",
     "text": [
      "Train Loss: 128.9810\n",
      "Val Loss: 144.4394\n",
      "Epoch 431 of 1000\n"
     ]
    },
    {
     "name": "stderr",
     "output_type": "stream",
     "text": [
      "469it [00:06, 72.07it/s]\n",
      "79it [00:00, 96.89it/s]                        \n",
      "  2%|▏         | 8/468 [00:00<00:06, 75.99it/s]"
     ]
    },
    {
     "name": "stdout",
     "output_type": "stream",
     "text": [
      "Train Loss: 128.9419\n",
      "Val Loss: 144.0468\n",
      "Epoch 432 of 1000\n"
     ]
    },
    {
     "name": "stderr",
     "output_type": "stream",
     "text": [
      "469it [00:06, 72.75it/s]                         \n",
      "79it [00:00, 98.53it/s]                        \n",
      "  1%|▏         | 7/468 [00:00<00:06, 67.37it/s]"
     ]
    },
    {
     "name": "stdout",
     "output_type": "stream",
     "text": [
      "Train Loss: 128.9480\n",
      "Val Loss: 144.3780\n",
      "Epoch 433 of 1000\n"
     ]
    },
    {
     "name": "stderr",
     "output_type": "stream",
     "text": [
      "469it [00:06, 71.95it/s]\n",
      "79it [00:00, 98.50it/s]                        \n",
      "  2%|▏         | 8/468 [00:00<00:06, 75.20it/s]"
     ]
    },
    {
     "name": "stdout",
     "output_type": "stream",
     "text": [
      "Train Loss: 128.9828\n",
      "Val Loss: 144.2159\n",
      "Epoch 434 of 1000\n"
     ]
    },
    {
     "name": "stderr",
     "output_type": "stream",
     "text": [
      "469it [00:06, 71.04it/s]                         \n",
      "79it [00:00, 98.90it/s]                        \n",
      "  2%|▏         | 8/468 [00:00<00:06, 72.18it/s]"
     ]
    },
    {
     "name": "stdout",
     "output_type": "stream",
     "text": [
      "Train Loss: 128.9499\n",
      "Val Loss: 144.4659\n",
      "Epoch 435 of 1000\n"
     ]
    },
    {
     "name": "stderr",
     "output_type": "stream",
     "text": [
      "469it [00:06, 72.02it/s]                         \n",
      "79it [00:00, 97.43it/s]                        \n",
      "  1%|▏         | 7/468 [00:00<00:06, 67.58it/s]"
     ]
    },
    {
     "name": "stdout",
     "output_type": "stream",
     "text": [
      "Train Loss: 128.9348\n",
      "Val Loss: 144.2715\n",
      "Epoch 436 of 1000\n"
     ]
    },
    {
     "name": "stderr",
     "output_type": "stream",
     "text": [
      "469it [00:06, 72.05it/s]\n",
      "79it [00:00, 98.78it/s]                        \n",
      "  1%|▏         | 7/468 [00:00<00:06, 66.34it/s]"
     ]
    },
    {
     "name": "stdout",
     "output_type": "stream",
     "text": [
      "Train Loss: 128.9381\n",
      "Val Loss: 144.1401\n",
      "Epoch 437 of 1000\n"
     ]
    },
    {
     "name": "stderr",
     "output_type": "stream",
     "text": [
      "469it [00:06, 71.37it/s]                         \n",
      "79it [00:00, 97.19it/s]                        \n",
      "  2%|▏         | 8/468 [00:00<00:06, 72.79it/s]"
     ]
    },
    {
     "name": "stdout",
     "output_type": "stream",
     "text": [
      "Train Loss: 128.9238\n",
      "Val Loss: 144.3644\n",
      "Epoch 438 of 1000\n"
     ]
    },
    {
     "name": "stderr",
     "output_type": "stream",
     "text": [
      "469it [00:06, 71.76it/s]                         \n",
      "79it [00:00, 98.87it/s]                        \n",
      "  2%|▏         | 8/468 [00:00<00:06, 72.28it/s]"
     ]
    },
    {
     "name": "stdout",
     "output_type": "stream",
     "text": [
      "Train Loss: 128.8884\n",
      "Val Loss: 144.4935\n",
      "Epoch 439 of 1000\n"
     ]
    },
    {
     "name": "stderr",
     "output_type": "stream",
     "text": [
      "469it [00:06, 71.59it/s]\n",
      "79it [00:00, 98.62it/s]                        \n",
      "  2%|▏         | 8/468 [00:00<00:06, 73.25it/s]"
     ]
    },
    {
     "name": "stdout",
     "output_type": "stream",
     "text": [
      "Train Loss: 128.8861\n",
      "Val Loss: 144.2877\n",
      "Epoch 440 of 1000\n"
     ]
    },
    {
     "name": "stderr",
     "output_type": "stream",
     "text": [
      "469it [00:06, 71.44it/s]\n",
      "79it [00:00, 96.42it/s]                        \n",
      "  2%|▏         | 8/468 [00:00<00:06, 74.05it/s]"
     ]
    },
    {
     "name": "stdout",
     "output_type": "stream",
     "text": [
      "Train Loss: 128.9091\n",
      "Val Loss: 144.4106\n",
      "Epoch 441 of 1000\n"
     ]
    },
    {
     "name": "stderr",
     "output_type": "stream",
     "text": [
      "469it [00:06, 71.37it/s]                         \n",
      "79it [00:00, 91.28it/s]                        \n",
      "  1%|▏         | 7/468 [00:00<00:06, 68.17it/s]"
     ]
    },
    {
     "name": "stdout",
     "output_type": "stream",
     "text": [
      "Train Loss: 128.9095\n",
      "Val Loss: 144.5784\n",
      "Epoch 442 of 1000\n"
     ]
    },
    {
     "name": "stderr",
     "output_type": "stream",
     "text": [
      "469it [00:06, 69.63it/s]                         \n",
      "79it [00:00, 97.38it/s]                        \n",
      "  2%|▏         | 8/468 [00:00<00:06, 72.56it/s]"
     ]
    },
    {
     "name": "stdout",
     "output_type": "stream",
     "text": [
      "Train Loss: 128.8897\n",
      "Val Loss: 144.4563\n",
      "Epoch 443 of 1000\n"
     ]
    },
    {
     "name": "stderr",
     "output_type": "stream",
     "text": [
      "469it [00:06, 71.53it/s]                         \n",
      "79it [00:00, 96.74it/s]                        \n",
      "  1%|▏         | 7/468 [00:00<00:06, 68.35it/s]"
     ]
    },
    {
     "name": "stdout",
     "output_type": "stream",
     "text": [
      "Train Loss: 128.8526\n",
      "Val Loss: 144.4244\n",
      "Epoch 444 of 1000\n"
     ]
    },
    {
     "name": "stderr",
     "output_type": "stream",
     "text": [
      "469it [00:06, 71.80it/s]                         \n",
      "79it [00:00, 98.88it/s]                        \n",
      "  1%|▏         | 7/468 [00:00<00:07, 64.20it/s]"
     ]
    },
    {
     "name": "stdout",
     "output_type": "stream",
     "text": [
      "Train Loss: 128.8623\n",
      "Val Loss: 144.6455\n",
      "Epoch 445 of 1000\n"
     ]
    },
    {
     "name": "stderr",
     "output_type": "stream",
     "text": [
      "469it [00:06, 71.69it/s]                         \n",
      "79it [00:00, 96.94it/s]                        \n",
      "  2%|▏         | 8/468 [00:00<00:06, 74.47it/s]"
     ]
    },
    {
     "name": "stdout",
     "output_type": "stream",
     "text": [
      "Train Loss: 128.8376\n",
      "Val Loss: 144.6620\n",
      "Epoch 446 of 1000\n"
     ]
    },
    {
     "name": "stderr",
     "output_type": "stream",
     "text": [
      "469it [00:06, 71.16it/s]\n",
      "79it [00:00, 95.71it/s]                        \n",
      "  1%|▏         | 7/468 [00:00<00:06, 66.18it/s]"
     ]
    },
    {
     "name": "stdout",
     "output_type": "stream",
     "text": [
      "Train Loss: 128.8516\n",
      "Val Loss: 144.1722\n",
      "Epoch 447 of 1000\n"
     ]
    },
    {
     "name": "stderr",
     "output_type": "stream",
     "text": [
      "469it [00:06, 71.82it/s]\n",
      "79it [00:00, 98.18it/s]                        \n",
      "  2%|▏         | 8/468 [00:00<00:06, 74.11it/s]"
     ]
    },
    {
     "name": "stdout",
     "output_type": "stream",
     "text": [
      "Train Loss: 128.8230\n",
      "Val Loss: 144.4916\n",
      "Epoch 448 of 1000\n"
     ]
    },
    {
     "name": "stderr",
     "output_type": "stream",
     "text": [
      "469it [00:06, 71.83it/s]                         \n",
      "79it [00:00, 98.34it/s]                        \n",
      "  1%|▏         | 7/468 [00:00<00:06, 67.37it/s]"
     ]
    },
    {
     "name": "stdout",
     "output_type": "stream",
     "text": [
      "Train Loss: 128.7609\n",
      "Val Loss: 144.3958\n",
      "Epoch 449 of 1000\n"
     ]
    },
    {
     "name": "stderr",
     "output_type": "stream",
     "text": [
      "469it [00:06, 72.23it/s]                         \n",
      "79it [00:00, 95.78it/s]                        \n",
      "  2%|▏         | 8/468 [00:00<00:06, 72.42it/s]"
     ]
    },
    {
     "name": "stdout",
     "output_type": "stream",
     "text": [
      "Train Loss: 128.7803\n",
      "Val Loss: 144.2999\n",
      "Epoch 450 of 1000\n"
     ]
    },
    {
     "name": "stderr",
     "output_type": "stream",
     "text": [
      "469it [00:06, 71.36it/s]                         \n",
      "79it [00:01, 58.60it/s]                        \n",
      "  2%|▏         | 8/468 [00:00<00:06, 75.48it/s]"
     ]
    },
    {
     "name": "stdout",
     "output_type": "stream",
     "text": [
      "Train Loss: 128.8314\n",
      "Val Loss: 144.2862\n",
      "Epoch 451 of 1000\n"
     ]
    },
    {
     "name": "stderr",
     "output_type": "stream",
     "text": [
      "469it [00:06, 71.26it/s]                         \n",
      "79it [00:00, 97.52it/s]                        \n",
      "  2%|▏         | 8/468 [00:00<00:06, 71.93it/s]"
     ]
    },
    {
     "name": "stdout",
     "output_type": "stream",
     "text": [
      "Train Loss: 128.7887\n",
      "Val Loss: 144.2161\n",
      "Epoch 452 of 1000\n"
     ]
    },
    {
     "name": "stderr",
     "output_type": "stream",
     "text": [
      "469it [00:06, 71.45it/s]                         \n",
      "79it [00:00, 91.69it/s]                        \n",
      "  1%|▏         | 6/468 [00:00<00:07, 58.73it/s]"
     ]
    },
    {
     "name": "stdout",
     "output_type": "stream",
     "text": [
      "Train Loss: 128.7688\n",
      "Val Loss: 144.4745\n",
      "Epoch 453 of 1000\n"
     ]
    },
    {
     "name": "stderr",
     "output_type": "stream",
     "text": [
      "469it [00:06, 69.88it/s]                         \n",
      "79it [00:00, 93.26it/s]                        \n",
      "  1%|▏         | 7/468 [00:00<00:06, 69.65it/s]"
     ]
    },
    {
     "name": "stdout",
     "output_type": "stream",
     "text": [
      "Train Loss: 128.8296\n",
      "Val Loss: 144.4532\n",
      "Epoch 454 of 1000\n"
     ]
    },
    {
     "name": "stderr",
     "output_type": "stream",
     "text": [
      "469it [00:06, 71.70it/s]                         \n",
      "79it [00:00, 99.75it/s]                        \n",
      "  1%|▏         | 7/468 [00:00<00:07, 62.16it/s]"
     ]
    },
    {
     "name": "stdout",
     "output_type": "stream",
     "text": [
      "Train Loss: 128.8025\n",
      "Val Loss: 144.4896\n",
      "Epoch 455 of 1000\n"
     ]
    },
    {
     "name": "stderr",
     "output_type": "stream",
     "text": [
      "469it [00:06, 71.89it/s]\n",
      "79it [00:00, 97.99it/s]                        \n",
      "  2%|▏         | 8/468 [00:00<00:06, 71.93it/s]"
     ]
    },
    {
     "name": "stdout",
     "output_type": "stream",
     "text": [
      "Train Loss: 128.7789\n",
      "Val Loss: 144.4805\n",
      "Epoch 456 of 1000\n"
     ]
    },
    {
     "name": "stderr",
     "output_type": "stream",
     "text": [
      "469it [00:06, 71.51it/s]                         \n",
      "79it [00:00, 98.75it/s]                        \n",
      "  2%|▏         | 8/468 [00:00<00:06, 73.74it/s]"
     ]
    },
    {
     "name": "stdout",
     "output_type": "stream",
     "text": [
      "Train Loss: 128.7714\n",
      "Val Loss: 144.4048\n",
      "Epoch 457 of 1000\n"
     ]
    },
    {
     "name": "stderr",
     "output_type": "stream",
     "text": [
      "469it [00:06, 72.04it/s]\n",
      "79it [00:00, 99.40it/s]                        \n",
      "  2%|▏         | 8/468 [00:00<00:06, 70.51it/s]"
     ]
    },
    {
     "name": "stdout",
     "output_type": "stream",
     "text": [
      "Train Loss: 128.7149\n",
      "Val Loss: 144.8290\n",
      "Epoch 458 of 1000\n"
     ]
    },
    {
     "name": "stderr",
     "output_type": "stream",
     "text": [
      "469it [00:06, 71.61it/s]                         \n",
      "79it [00:00, 97.89it/s]                        \n",
      "  1%|▏         | 7/468 [00:00<00:07, 65.21it/s]"
     ]
    },
    {
     "name": "stdout",
     "output_type": "stream",
     "text": [
      "Train Loss: 128.7392\n",
      "Val Loss: 144.7452\n",
      "Epoch 459 of 1000\n"
     ]
    },
    {
     "name": "stderr",
     "output_type": "stream",
     "text": [
      "469it [00:06, 71.49it/s]\n",
      "79it [00:00, 97.40it/s]                        \n",
      "  1%|▏         | 7/468 [00:00<00:06, 68.99it/s]"
     ]
    },
    {
     "name": "stdout",
     "output_type": "stream",
     "text": [
      "Train Loss: 128.7061\n",
      "Val Loss: 144.4059\n",
      "Epoch 460 of 1000\n"
     ]
    },
    {
     "name": "stderr",
     "output_type": "stream",
     "text": [
      "469it [00:06, 72.57it/s]                         \n",
      "79it [00:00, 96.69it/s]                        \n",
      "  1%|▏         | 7/468 [00:00<00:07, 63.80it/s]"
     ]
    },
    {
     "name": "stdout",
     "output_type": "stream",
     "text": [
      "Train Loss: 128.7295\n",
      "Val Loss: 144.4053\n",
      "Epoch 461 of 1000\n"
     ]
    },
    {
     "name": "stderr",
     "output_type": "stream",
     "text": [
      "469it [00:06, 72.28it/s]                         \n",
      "79it [00:00, 98.68it/s]                        \n",
      "  2%|▏         | 8/468 [00:00<00:06, 74.33it/s]"
     ]
    },
    {
     "name": "stdout",
     "output_type": "stream",
     "text": [
      "Train Loss: 128.6950\n",
      "Val Loss: 144.4850\n",
      "Epoch 462 of 1000\n"
     ]
    },
    {
     "name": "stderr",
     "output_type": "stream",
     "text": [
      "469it [00:06, 72.12it/s]                         \n",
      "79it [00:00, 97.34it/s]                        \n",
      "  2%|▏         | 8/468 [00:00<00:06, 73.96it/s]"
     ]
    },
    {
     "name": "stdout",
     "output_type": "stream",
     "text": [
      "Train Loss: 128.6912\n",
      "Val Loss: 144.3508\n",
      "Epoch 463 of 1000\n"
     ]
    },
    {
     "name": "stderr",
     "output_type": "stream",
     "text": [
      "469it [00:06, 72.06it/s]                         \n",
      "79it [00:00, 97.23it/s]                        \n",
      "  2%|▏         | 8/468 [00:00<00:06, 70.86it/s]"
     ]
    },
    {
     "name": "stdout",
     "output_type": "stream",
     "text": [
      "Train Loss: 128.7617\n",
      "Val Loss: 144.2413\n",
      "Epoch 464 of 1000\n"
     ]
    },
    {
     "name": "stderr",
     "output_type": "stream",
     "text": [
      "469it [00:06, 72.67it/s]                         \n",
      "79it [00:00, 98.35it/s]                        \n",
      "  2%|▏         | 8/468 [00:00<00:06, 71.88it/s]"
     ]
    },
    {
     "name": "stdout",
     "output_type": "stream",
     "text": [
      "Train Loss: 128.6999\n",
      "Val Loss: 144.5520\n",
      "Epoch 465 of 1000\n"
     ]
    },
    {
     "name": "stderr",
     "output_type": "stream",
     "text": [
      "469it [00:06, 73.46it/s]                         \n",
      "79it [00:00, 100.62it/s]                       \n",
      "  1%|▏         | 7/468 [00:00<00:06, 68.98it/s]"
     ]
    },
    {
     "name": "stdout",
     "output_type": "stream",
     "text": [
      "Train Loss: 128.7011\n",
      "Val Loss: 144.3385\n",
      "Epoch 466 of 1000\n"
     ]
    },
    {
     "name": "stderr",
     "output_type": "stream",
     "text": [
      "469it [00:06, 73.07it/s]\n",
      "79it [00:00, 100.35it/s]                       \n",
      "  2%|▏         | 8/468 [00:00<00:06, 75.16it/s]"
     ]
    },
    {
     "name": "stdout",
     "output_type": "stream",
     "text": [
      "Train Loss: 128.6491\n",
      "Val Loss: 144.5774\n",
      "Epoch 467 of 1000\n"
     ]
    },
    {
     "name": "stderr",
     "output_type": "stream",
     "text": [
      "469it [00:06, 73.74it/s]                         \n",
      "79it [00:00, 101.01it/s]                        \n",
      "  2%|▏         | 8/468 [00:00<00:06, 72.99it/s]"
     ]
    },
    {
     "name": "stdout",
     "output_type": "stream",
     "text": [
      "Train Loss: 128.6287\n",
      "Val Loss: 144.2063\n",
      "Epoch 468 of 1000\n"
     ]
    },
    {
     "name": "stderr",
     "output_type": "stream",
     "text": [
      "469it [00:06, 73.08it/s]                         \n",
      "79it [00:00, 98.34it/s]                        \n",
      "  2%|▏         | 8/468 [00:00<00:06, 72.32it/s]"
     ]
    },
    {
     "name": "stdout",
     "output_type": "stream",
     "text": [
      "Train Loss: 128.6288\n",
      "Val Loss: 144.4684\n",
      "Epoch 469 of 1000\n"
     ]
    },
    {
     "name": "stderr",
     "output_type": "stream",
     "text": [
      "469it [00:06, 73.27it/s]\n",
      "79it [00:00, 100.20it/s]                       \n",
      "  1%|▏         | 7/468 [00:00<00:07, 64.58it/s]"
     ]
    },
    {
     "name": "stdout",
     "output_type": "stream",
     "text": [
      "Train Loss: 128.6398\n",
      "Val Loss: 144.4856\n",
      "Epoch 470 of 1000\n"
     ]
    },
    {
     "name": "stderr",
     "output_type": "stream",
     "text": [
      "469it [00:06, 73.37it/s]\n",
      "79it [00:00, 98.76it/s]                        \n",
      "  1%|▏         | 7/468 [00:00<00:06, 67.64it/s]"
     ]
    },
    {
     "name": "stdout",
     "output_type": "stream",
     "text": [
      "Train Loss: 128.8655\n",
      "Val Loss: 144.6879\n",
      "Epoch 471 of 1000\n"
     ]
    },
    {
     "name": "stderr",
     "output_type": "stream",
     "text": [
      "469it [00:06, 73.14it/s]                         \n",
      "79it [00:00, 98.91it/s]                        \n",
      "  2%|▏         | 8/468 [00:00<00:06, 74.98it/s]"
     ]
    },
    {
     "name": "stdout",
     "output_type": "stream",
     "text": [
      "Train Loss: 128.6558\n",
      "Val Loss: 144.3624\n",
      "Epoch 472 of 1000\n"
     ]
    },
    {
     "name": "stderr",
     "output_type": "stream",
     "text": [
      "469it [00:06, 72.60it/s]                         \n",
      "79it [00:00, 99.83it/s]                        \n",
      "  1%|▏         | 7/468 [00:00<00:06, 69.87it/s]"
     ]
    },
    {
     "name": "stdout",
     "output_type": "stream",
     "text": [
      "Train Loss: 128.6491\n",
      "Val Loss: 144.2924\n",
      "Epoch 473 of 1000\n"
     ]
    },
    {
     "name": "stderr",
     "output_type": "stream",
     "text": [
      "469it [00:06, 72.78it/s]                         \n",
      "79it [00:00, 97.37it/s]                        \n",
      "  2%|▏         | 8/468 [00:00<00:06, 71.66it/s]"
     ]
    },
    {
     "name": "stdout",
     "output_type": "stream",
     "text": [
      "Train Loss: 128.6295\n",
      "Val Loss: 144.9127\n",
      "Epoch 474 of 1000\n"
     ]
    },
    {
     "name": "stderr",
     "output_type": "stream",
     "text": [
      "469it [00:06, 72.27it/s]                         \n",
      "79it [00:00, 93.30it/s]                        \n",
      "  2%|▏         | 8/468 [00:00<00:06, 69.85it/s]"
     ]
    },
    {
     "name": "stdout",
     "output_type": "stream",
     "text": [
      "Train Loss: 128.6100\n",
      "Val Loss: 144.4735\n",
      "Epoch 475 of 1000\n"
     ]
    },
    {
     "name": "stderr",
     "output_type": "stream",
     "text": [
      "469it [00:06, 72.03it/s]                         \n",
      "79it [00:00, 97.64it/s]                        \n",
      "  2%|▏         | 8/468 [00:00<00:06, 73.28it/s]"
     ]
    },
    {
     "name": "stdout",
     "output_type": "stream",
     "text": [
      "Train Loss: 128.6183\n",
      "Val Loss: 144.8284\n",
      "Epoch 476 of 1000\n"
     ]
    },
    {
     "name": "stderr",
     "output_type": "stream",
     "text": [
      "469it [00:06, 73.13it/s]                         \n",
      "79it [00:00, 100.79it/s]                        \n",
      "  2%|▏         | 8/468 [00:00<00:06, 74.72it/s]"
     ]
    },
    {
     "name": "stdout",
     "output_type": "stream",
     "text": [
      "Train Loss: 128.5218\n",
      "Val Loss: 144.8648\n",
      "Epoch 477 of 1000\n"
     ]
    },
    {
     "name": "stderr",
     "output_type": "stream",
     "text": [
      "469it [00:06, 72.98it/s]\n",
      "79it [00:00, 100.77it/s]                       \n",
      "  2%|▏         | 8/468 [00:00<00:06, 73.29it/s]"
     ]
    },
    {
     "name": "stdout",
     "output_type": "stream",
     "text": [
      "Train Loss: 128.5691\n",
      "Val Loss: 144.7956\n",
      "Epoch 478 of 1000\n"
     ]
    },
    {
     "name": "stderr",
     "output_type": "stream",
     "text": [
      "469it [00:06, 73.12it/s]                         \n",
      "79it [00:00, 101.48it/s]                        \n",
      "  1%|▏         | 7/468 [00:00<00:06, 68.49it/s]"
     ]
    },
    {
     "name": "stdout",
     "output_type": "stream",
     "text": [
      "Train Loss: 128.5679\n",
      "Val Loss: 144.8153\n",
      "Epoch 479 of 1000\n"
     ]
    },
    {
     "name": "stderr",
     "output_type": "stream",
     "text": [
      "469it [00:06, 73.42it/s]                         \n",
      "79it [00:00, 99.71it/s]                        \n",
      "  1%|▏         | 7/468 [00:00<00:06, 68.63it/s]"
     ]
    },
    {
     "name": "stdout",
     "output_type": "stream",
     "text": [
      "Train Loss: 128.5731\n",
      "Val Loss: 144.7165\n",
      "Epoch 480 of 1000\n"
     ]
    },
    {
     "name": "stderr",
     "output_type": "stream",
     "text": [
      "469it [00:06, 73.36it/s]                         \n",
      "79it [00:00, 100.04it/s]                       \n",
      "  2%|▏         | 8/468 [00:00<00:06, 73.58it/s]"
     ]
    },
    {
     "name": "stdout",
     "output_type": "stream",
     "text": [
      "Train Loss: 128.5602\n",
      "Val Loss: 144.8122\n",
      "Epoch 481 of 1000\n"
     ]
    },
    {
     "name": "stderr",
     "output_type": "stream",
     "text": [
      "469it [00:06, 73.10it/s]                         \n",
      "79it [00:00, 100.36it/s]                       \n",
      "  2%|▏         | 8/468 [00:00<00:06, 72.57it/s]"
     ]
    },
    {
     "name": "stdout",
     "output_type": "stream",
     "text": [
      "Train Loss: 128.5521\n",
      "Val Loss: 144.6561\n",
      "Epoch 482 of 1000\n"
     ]
    },
    {
     "name": "stderr",
     "output_type": "stream",
     "text": [
      "469it [00:06, 73.16it/s]                         \n",
      "79it [00:00, 98.82it/s]                        \n",
      "  2%|▏         | 8/468 [00:00<00:06, 73.07it/s]"
     ]
    },
    {
     "name": "stdout",
     "output_type": "stream",
     "text": [
      "Train Loss: 128.5100\n",
      "Val Loss: 144.4419\n",
      "Epoch 483 of 1000\n"
     ]
    },
    {
     "name": "stderr",
     "output_type": "stream",
     "text": [
      "469it [00:06, 72.79it/s]                         \n",
      "79it [00:00, 100.30it/s]                        \n",
      "  1%|▏         | 7/468 [00:00<00:06, 66.52it/s]"
     ]
    },
    {
     "name": "stdout",
     "output_type": "stream",
     "text": [
      "Train Loss: 128.5093\n",
      "Val Loss: 144.4980\n",
      "Epoch 484 of 1000\n"
     ]
    },
    {
     "name": "stderr",
     "output_type": "stream",
     "text": [
      "469it [00:06, 72.67it/s]\n",
      "79it [00:00, 99.26it/s]                        \n",
      "  2%|▏         | 8/468 [00:00<00:06, 74.48it/s]"
     ]
    },
    {
     "name": "stdout",
     "output_type": "stream",
     "text": [
      "Train Loss: 128.5617\n",
      "Val Loss: 144.4537\n",
      "Epoch 485 of 1000\n"
     ]
    },
    {
     "name": "stderr",
     "output_type": "stream",
     "text": [
      "469it [00:06, 72.44it/s]                         \n",
      "79it [00:00, 102.05it/s]                        \n",
      "  2%|▏         | 8/468 [00:00<00:06, 71.39it/s]"
     ]
    },
    {
     "name": "stdout",
     "output_type": "stream",
     "text": [
      "Train Loss: 128.5689\n",
      "Val Loss: 144.7096\n",
      "Epoch 486 of 1000\n"
     ]
    },
    {
     "name": "stderr",
     "output_type": "stream",
     "text": [
      "469it [00:06, 72.82it/s]                         \n",
      "79it [00:00, 100.75it/s]                        \n",
      "  1%|▏         | 7/468 [00:00<00:06, 67.24it/s]"
     ]
    },
    {
     "name": "stdout",
     "output_type": "stream",
     "text": [
      "Train Loss: 128.4824\n",
      "Val Loss: 144.8643\n",
      "Epoch 487 of 1000\n"
     ]
    },
    {
     "name": "stderr",
     "output_type": "stream",
     "text": [
      "469it [00:06, 73.13it/s]\n",
      "79it [00:00, 99.18it/s]                        \n",
      "  1%|▏         | 7/468 [00:00<00:06, 66.95it/s]"
     ]
    },
    {
     "name": "stdout",
     "output_type": "stream",
     "text": [
      "Train Loss: 128.4679\n",
      "Val Loss: 144.8008\n",
      "Epoch 488 of 1000\n"
     ]
    },
    {
     "name": "stderr",
     "output_type": "stream",
     "text": [
      "469it [00:06, 73.71it/s]                         \n",
      "79it [00:00, 99.66it/s]                        \n",
      "  2%|▏         | 8/468 [00:00<00:06, 75.29it/s]"
     ]
    },
    {
     "name": "stdout",
     "output_type": "stream",
     "text": [
      "Train Loss: 128.4771\n",
      "Val Loss: 144.7024\n",
      "Epoch 489 of 1000\n"
     ]
    },
    {
     "name": "stderr",
     "output_type": "stream",
     "text": [
      "469it [00:06, 74.17it/s]                         \n",
      "79it [00:00, 100.60it/s]                       \n",
      "  2%|▏         | 8/468 [00:00<00:05, 78.09it/s]"
     ]
    },
    {
     "name": "stdout",
     "output_type": "stream",
     "text": [
      "Train Loss: 128.4697\n",
      "Val Loss: 144.7269\n",
      "Epoch 490 of 1000\n"
     ]
    },
    {
     "name": "stderr",
     "output_type": "stream",
     "text": [
      "469it [00:06, 73.39it/s]                         \n",
      "79it [00:00, 101.63it/s]                       \n",
      "  2%|▏         | 8/468 [00:00<00:06, 74.04it/s]"
     ]
    },
    {
     "name": "stdout",
     "output_type": "stream",
     "text": [
      "Train Loss: 128.4596\n",
      "Val Loss: 144.6242\n",
      "Epoch 491 of 1000\n"
     ]
    },
    {
     "name": "stderr",
     "output_type": "stream",
     "text": [
      "469it [00:06, 73.67it/s]                         \n",
      "79it [00:00, 100.94it/s]                       \n",
      "  2%|▏         | 8/468 [00:00<00:06, 76.36it/s]"
     ]
    },
    {
     "name": "stdout",
     "output_type": "stream",
     "text": [
      "Train Loss: 128.4627\n",
      "Val Loss: 144.9374\n",
      "Epoch 492 of 1000\n"
     ]
    },
    {
     "name": "stderr",
     "output_type": "stream",
     "text": [
      "469it [00:06, 73.87it/s]                         \n",
      "79it [00:00, 98.91it/s]                        \n",
      "  2%|▏         | 8/468 [00:00<00:06, 73.84it/s]"
     ]
    },
    {
     "name": "stdout",
     "output_type": "stream",
     "text": [
      "Train Loss: 128.5378\n",
      "Val Loss: 144.8194\n",
      "Epoch 493 of 1000\n"
     ]
    },
    {
     "name": "stderr",
     "output_type": "stream",
     "text": [
      "469it [00:06, 73.86it/s]                         \n",
      "79it [00:00, 102.54it/s]                        \n",
      "  2%|▏         | 8/468 [00:00<00:06, 72.47it/s]"
     ]
    },
    {
     "name": "stdout",
     "output_type": "stream",
     "text": [
      "Train Loss: 128.4432\n",
      "Val Loss: 144.7211\n",
      "Epoch 494 of 1000\n"
     ]
    },
    {
     "name": "stderr",
     "output_type": "stream",
     "text": [
      "469it [00:06, 73.80it/s]                         \n",
      "79it [00:00, 100.01it/s]                       \n",
      "  2%|▏         | 8/468 [00:00<00:06, 75.75it/s]"
     ]
    },
    {
     "name": "stdout",
     "output_type": "stream",
     "text": [
      "Train Loss: 128.4017\n",
      "Val Loss: 145.0301\n",
      "Epoch 495 of 1000\n"
     ]
    },
    {
     "name": "stderr",
     "output_type": "stream",
     "text": [
      "469it [00:06, 72.67it/s]                         \n",
      "79it [00:00, 99.18it/s]                        \n",
      "  2%|▏         | 8/468 [00:00<00:06, 73.80it/s]"
     ]
    },
    {
     "name": "stdout",
     "output_type": "stream",
     "text": [
      "Train Loss: 128.4128\n",
      "Val Loss: 145.0300\n",
      "Epoch 496 of 1000\n"
     ]
    },
    {
     "name": "stderr",
     "output_type": "stream",
     "text": [
      "469it [00:06, 70.77it/s]                         \n",
      "79it [00:00, 99.57it/s]                        \n",
      "  2%|▏         | 8/468 [00:00<00:06, 71.48it/s]"
     ]
    },
    {
     "name": "stdout",
     "output_type": "stream",
     "text": [
      "Train Loss: 128.4210\n",
      "Val Loss: 145.1420\n",
      "Epoch 497 of 1000\n"
     ]
    },
    {
     "name": "stderr",
     "output_type": "stream",
     "text": [
      "469it [00:06, 73.18it/s]                         \n",
      "79it [00:00, 99.99it/s]                         \n",
      "  1%|▏         | 6/468 [00:00<00:07, 59.15it/s]"
     ]
    },
    {
     "name": "stdout",
     "output_type": "stream",
     "text": [
      "Train Loss: 128.3891\n",
      "Val Loss: 144.9543\n",
      "Epoch 498 of 1000\n"
     ]
    },
    {
     "name": "stderr",
     "output_type": "stream",
     "text": [
      "469it [00:06, 72.37it/s]                         \n",
      "79it [00:00, 97.93it/s]                        \n",
      "  2%|▏         | 8/468 [00:00<00:06, 73.09it/s]"
     ]
    },
    {
     "name": "stdout",
     "output_type": "stream",
     "text": [
      "Train Loss: 128.4292\n",
      "Val Loss: 144.7213\n",
      "Epoch 499 of 1000\n"
     ]
    },
    {
     "name": "stderr",
     "output_type": "stream",
     "text": [
      "469it [00:06, 74.58it/s]                         \n",
      "79it [00:00, 102.27it/s]                       \n",
      "  2%|▏         | 8/468 [00:00<00:05, 78.15it/s]"
     ]
    },
    {
     "name": "stdout",
     "output_type": "stream",
     "text": [
      "Train Loss: 128.3905\n",
      "Val Loss: 144.9053\n",
      "Epoch 500 of 1000\n"
     ]
    },
    {
     "name": "stderr",
     "output_type": "stream",
     "text": [
      "469it [00:06, 74.53it/s]                         \n",
      "79it [00:01, 77.84it/s]                        \n",
      "  2%|▏         | 8/468 [00:00<00:06, 76.48it/s]"
     ]
    },
    {
     "name": "stdout",
     "output_type": "stream",
     "text": [
      "Train Loss: 128.4047\n",
      "Val Loss: 144.7527\n",
      "Epoch 501 of 1000\n"
     ]
    },
    {
     "name": "stderr",
     "output_type": "stream",
     "text": [
      "469it [00:06, 74.35it/s]                         \n",
      "79it [00:00, 101.55it/s]                        \n",
      "  2%|▏         | 8/468 [00:00<00:06, 71.45it/s]"
     ]
    },
    {
     "name": "stdout",
     "output_type": "stream",
     "text": [
      "Train Loss: 128.3828\n",
      "Val Loss: 144.9244\n",
      "Epoch 502 of 1000\n"
     ]
    },
    {
     "name": "stderr",
     "output_type": "stream",
     "text": [
      "469it [00:06, 73.99it/s]                         \n",
      "79it [00:00, 100.96it/s]                        \n",
      "  1%|▏         | 7/468 [00:00<00:06, 69.41it/s]"
     ]
    },
    {
     "name": "stdout",
     "output_type": "stream",
     "text": [
      "Train Loss: 128.3763\n",
      "Val Loss: 144.6463\n",
      "Epoch 503 of 1000\n"
     ]
    },
    {
     "name": "stderr",
     "output_type": "stream",
     "text": [
      "469it [00:06, 73.97it/s]                         \n",
      "79it [00:00, 102.14it/s]                        \n",
      "  2%|▏         | 8/468 [00:00<00:06, 74.55it/s]"
     ]
    },
    {
     "name": "stdout",
     "output_type": "stream",
     "text": [
      "Train Loss: 128.3287\n",
      "Val Loss: 145.3457\n",
      "Epoch 504 of 1000\n"
     ]
    },
    {
     "name": "stderr",
     "output_type": "stream",
     "text": [
      "469it [00:06, 74.36it/s]                         \n",
      "79it [00:00, 101.77it/s]                        \n",
      "  2%|▏         | 8/468 [00:00<00:06, 76.23it/s]"
     ]
    },
    {
     "name": "stdout",
     "output_type": "stream",
     "text": [
      "Train Loss: 128.3579\n",
      "Val Loss: 144.9897\n",
      "Epoch 505 of 1000\n"
     ]
    },
    {
     "name": "stderr",
     "output_type": "stream",
     "text": [
      "469it [00:06, 74.91it/s]                         \n",
      "79it [00:00, 101.17it/s]                        \n",
      "  2%|▏         | 8/468 [00:00<00:06, 73.88it/s]"
     ]
    },
    {
     "name": "stdout",
     "output_type": "stream",
     "text": [
      "Train Loss: 128.3581\n",
      "Val Loss: 144.8955\n",
      "Epoch 506 of 1000\n"
     ]
    },
    {
     "name": "stderr",
     "output_type": "stream",
     "text": [
      "469it [00:06, 74.71it/s]                         \n",
      "79it [00:00, 100.82it/s]                        \n",
      "  2%|▏         | 8/468 [00:00<00:06, 75.66it/s]"
     ]
    },
    {
     "name": "stdout",
     "output_type": "stream",
     "text": [
      "Train Loss: 128.3489\n",
      "Val Loss: 144.8679\n",
      "Epoch 507 of 1000\n"
     ]
    },
    {
     "name": "stderr",
     "output_type": "stream",
     "text": [
      "469it [00:06, 73.39it/s]                         \n",
      "79it [00:00, 97.43it/s]                        \n",
      "  2%|▏         | 8/468 [00:00<00:06, 73.72it/s]"
     ]
    },
    {
     "name": "stdout",
     "output_type": "stream",
     "text": [
      "Train Loss: 128.3395\n",
      "Val Loss: 144.9833\n",
      "Epoch 508 of 1000\n"
     ]
    },
    {
     "name": "stderr",
     "output_type": "stream",
     "text": [
      "469it [00:06, 73.21it/s]                         \n",
      "79it [00:00, 102.07it/s]                        \n",
      "  2%|▏         | 8/468 [00:00<00:06, 74.57it/s]"
     ]
    },
    {
     "name": "stdout",
     "output_type": "stream",
     "text": [
      "Train Loss: 128.2776\n",
      "Val Loss: 144.8133\n",
      "Epoch 509 of 1000\n"
     ]
    },
    {
     "name": "stderr",
     "output_type": "stream",
     "text": [
      "469it [00:06, 74.54it/s]                         \n",
      "79it [00:00, 102.14it/s]                        \n",
      "  2%|▏         | 8/468 [00:00<00:06, 76.16it/s]"
     ]
    },
    {
     "name": "stdout",
     "output_type": "stream",
     "text": [
      "Train Loss: 128.3022\n",
      "Val Loss: 144.8308\n",
      "Epoch 510 of 1000\n"
     ]
    },
    {
     "name": "stderr",
     "output_type": "stream",
     "text": [
      "469it [00:06, 75.06it/s]                         \n",
      "79it [00:00, 101.80it/s]                        \n",
      "  2%|▏         | 8/468 [00:00<00:05, 78.11it/s]"
     ]
    },
    {
     "name": "stdout",
     "output_type": "stream",
     "text": [
      "Train Loss: 128.3333\n",
      "Val Loss: 145.3521\n",
      "Epoch 511 of 1000\n"
     ]
    },
    {
     "name": "stderr",
     "output_type": "stream",
     "text": [
      "469it [00:06, 75.17it/s]                         \n",
      "79it [00:00, 100.83it/s]                       \n",
      "  2%|▏         | 8/468 [00:00<00:06, 74.50it/s]"
     ]
    },
    {
     "name": "stdout",
     "output_type": "stream",
     "text": [
      "Train Loss: 128.2932\n",
      "Val Loss: 144.8906\n",
      "Epoch 512 of 1000\n"
     ]
    },
    {
     "name": "stderr",
     "output_type": "stream",
     "text": [
      "469it [00:06, 75.11it/s]                         \n",
      "79it [00:00, 104.77it/s]                        \n",
      "  2%|▏         | 8/468 [00:00<00:06, 76.19it/s]"
     ]
    },
    {
     "name": "stdout",
     "output_type": "stream",
     "text": [
      "Train Loss: 128.2929\n",
      "Val Loss: 144.6824\n",
      "Epoch 513 of 1000\n"
     ]
    },
    {
     "name": "stderr",
     "output_type": "stream",
     "text": [
      "469it [00:06, 76.03it/s]                         \n",
      "79it [00:00, 102.50it/s]                        \n",
      "  2%|▏         | 8/468 [00:00<00:06, 71.84it/s]"
     ]
    },
    {
     "name": "stdout",
     "output_type": "stream",
     "text": [
      "Train Loss: 128.2658\n",
      "Val Loss: 145.0339\n",
      "Epoch 514 of 1000\n"
     ]
    },
    {
     "name": "stderr",
     "output_type": "stream",
     "text": [
      "469it [00:06, 75.43it/s]                         \n",
      "79it [00:00, 103.17it/s]                        \n",
      "  2%|▏         | 8/468 [00:00<00:06, 72.50it/s]"
     ]
    },
    {
     "name": "stdout",
     "output_type": "stream",
     "text": [
      "Train Loss: 128.2562\n",
      "Val Loss: 144.8955\n",
      "Epoch 515 of 1000\n"
     ]
    },
    {
     "name": "stderr",
     "output_type": "stream",
     "text": [
      "469it [00:06, 75.68it/s]                         \n",
      "79it [00:00, 103.20it/s]                        \n",
      "  2%|▏         | 8/468 [00:00<00:06, 73.78it/s]"
     ]
    },
    {
     "name": "stdout",
     "output_type": "stream",
     "text": [
      "Train Loss: 128.2406\n",
      "Val Loss: 145.1533\n",
      "Epoch 516 of 1000\n"
     ]
    },
    {
     "name": "stderr",
     "output_type": "stream",
     "text": [
      "469it [00:06, 75.03it/s]                         \n",
      "79it [00:00, 99.03it/s]                        \n",
      "  2%|▏         | 8/468 [00:00<00:06, 70.46it/s]"
     ]
    },
    {
     "name": "stdout",
     "output_type": "stream",
     "text": [
      "Train Loss: 128.2923\n",
      "Val Loss: 144.7635\n",
      "Epoch 517 of 1000\n"
     ]
    },
    {
     "name": "stderr",
     "output_type": "stream",
     "text": [
      "469it [00:06, 74.50it/s]                         \n",
      "79it [00:00, 99.31it/s]                        \n",
      "  1%|▏         | 7/468 [00:00<00:06, 67.29it/s]"
     ]
    },
    {
     "name": "stdout",
     "output_type": "stream",
     "text": [
      "Train Loss: 128.2236\n",
      "Val Loss: 145.1784\n",
      "Epoch 518 of 1000\n"
     ]
    },
    {
     "name": "stderr",
     "output_type": "stream",
     "text": [
      "469it [00:06, 73.09it/s]                         \n",
      "79it [00:00, 99.55it/s]                        \n",
      "  2%|▏         | 8/468 [00:00<00:06, 73.49it/s]"
     ]
    },
    {
     "name": "stdout",
     "output_type": "stream",
     "text": [
      "Train Loss: 128.2419\n",
      "Val Loss: 144.9299\n",
      "Epoch 519 of 1000\n"
     ]
    },
    {
     "name": "stderr",
     "output_type": "stream",
     "text": [
      "469it [00:06, 74.06it/s]                         \n",
      "79it [00:00, 102.87it/s]                        \n",
      "  2%|▏         | 8/468 [00:00<00:06, 74.38it/s]"
     ]
    },
    {
     "name": "stdout",
     "output_type": "stream",
     "text": [
      "Train Loss: 128.2306\n",
      "Val Loss: 144.9201\n",
      "Epoch 520 of 1000\n"
     ]
    },
    {
     "name": "stderr",
     "output_type": "stream",
     "text": [
      "469it [00:06, 75.30it/s]                         \n",
      "79it [00:00, 104.15it/s]                        \n",
      "  2%|▏         | 8/468 [00:00<00:06, 75.80it/s]"
     ]
    },
    {
     "name": "stdout",
     "output_type": "stream",
     "text": [
      "Train Loss: 128.2515\n",
      "Val Loss: 144.7757\n",
      "Epoch 521 of 1000\n"
     ]
    },
    {
     "name": "stderr",
     "output_type": "stream",
     "text": [
      "469it [00:06, 74.55it/s]                         \n",
      "79it [00:00, 102.39it/s]                        \n",
      "  1%|▏         | 7/468 [00:00<00:06, 67.94it/s]"
     ]
    },
    {
     "name": "stdout",
     "output_type": "stream",
     "text": [
      "Train Loss: 128.2098\n",
      "Val Loss: 144.8988\n",
      "Epoch 522 of 1000\n"
     ]
    },
    {
     "name": "stderr",
     "output_type": "stream",
     "text": [
      "469it [00:06, 74.71it/s]                         \n",
      "79it [00:00, 102.87it/s]                        \n",
      "  1%|▏         | 7/468 [00:00<00:06, 68.56it/s]"
     ]
    },
    {
     "name": "stdout",
     "output_type": "stream",
     "text": [
      "Train Loss: 128.2395\n",
      "Val Loss: 144.9598\n",
      "Epoch 523 of 1000\n"
     ]
    },
    {
     "name": "stderr",
     "output_type": "stream",
     "text": [
      "469it [00:06, 74.75it/s]                         \n",
      "79it [00:00, 103.11it/s]                        \n",
      "  2%|▏         | 8/468 [00:00<00:06, 76.02it/s]"
     ]
    },
    {
     "name": "stdout",
     "output_type": "stream",
     "text": [
      "Train Loss: 128.2133\n",
      "Val Loss: 145.2117\n",
      "Epoch 524 of 1000\n"
     ]
    },
    {
     "name": "stderr",
     "output_type": "stream",
     "text": [
      "469it [00:06, 74.78it/s]                         \n",
      "79it [00:00, 102.59it/s]                        \n",
      "  2%|▏         | 8/468 [00:00<00:06, 76.21it/s]"
     ]
    },
    {
     "name": "stdout",
     "output_type": "stream",
     "text": [
      "Train Loss: 128.2258\n",
      "Val Loss: 144.9560\n",
      "Epoch 525 of 1000\n"
     ]
    },
    {
     "name": "stderr",
     "output_type": "stream",
     "text": [
      "469it [00:06, 73.84it/s]                         \n",
      "79it [00:00, 101.68it/s]                       \n",
      "  2%|▏         | 8/468 [00:00<00:06, 72.79it/s]"
     ]
    },
    {
     "name": "stdout",
     "output_type": "stream",
     "text": [
      "Train Loss: 128.2484\n",
      "Val Loss: 144.9186\n",
      "Epoch 526 of 1000\n"
     ]
    },
    {
     "name": "stderr",
     "output_type": "stream",
     "text": [
      "469it [00:06, 74.65it/s]                         \n",
      "79it [00:00, 104.59it/s]                        \n",
      "  2%|▏         | 8/468 [00:00<00:06, 72.56it/s]"
     ]
    },
    {
     "name": "stdout",
     "output_type": "stream",
     "text": [
      "Train Loss: 128.1513\n",
      "Val Loss: 145.4451\n",
      "Epoch 527 of 1000\n"
     ]
    },
    {
     "name": "stderr",
     "output_type": "stream",
     "text": [
      "469it [00:06, 75.31it/s]                         \n",
      "79it [00:00, 100.81it/s]                       \n",
      "  2%|▏         | 8/468 [00:00<00:06, 74.92it/s]"
     ]
    },
    {
     "name": "stdout",
     "output_type": "stream",
     "text": [
      "Train Loss: 128.1666\n",
      "Val Loss: 144.7475\n",
      "Epoch 528 of 1000\n"
     ]
    },
    {
     "name": "stderr",
     "output_type": "stream",
     "text": [
      "469it [00:06, 75.03it/s]                         \n",
      "79it [00:00, 103.44it/s]                        \n",
      "  2%|▏         | 8/468 [00:00<00:06, 74.38it/s]"
     ]
    },
    {
     "name": "stdout",
     "output_type": "stream",
     "text": [
      "Train Loss: 128.1325\n",
      "Val Loss: 145.1126\n",
      "Epoch 529 of 1000\n"
     ]
    },
    {
     "name": "stderr",
     "output_type": "stream",
     "text": [
      "469it [00:06, 74.07it/s]                         \n",
      "79it [00:00, 98.27it/s]                        \n",
      "  2%|▏         | 8/468 [00:00<00:06, 75.01it/s]"
     ]
    },
    {
     "name": "stdout",
     "output_type": "stream",
     "text": [
      "Train Loss: 128.1771\n",
      "Val Loss: 144.8065\n",
      "Epoch 530 of 1000\n"
     ]
    },
    {
     "name": "stderr",
     "output_type": "stream",
     "text": [
      "469it [00:06, 73.14it/s]                         \n",
      "79it [00:00, 99.38it/s]                        \n",
      "  2%|▏         | 8/468 [00:00<00:06, 73.92it/s]"
     ]
    },
    {
     "name": "stdout",
     "output_type": "stream",
     "text": [
      "Train Loss: 128.1579\n",
      "Val Loss: 145.1117\n",
      "Epoch 531 of 1000\n"
     ]
    },
    {
     "name": "stderr",
     "output_type": "stream",
     "text": [
      "469it [00:06, 74.89it/s]                         \n",
      "79it [00:00, 102.64it/s]                        \n",
      "  1%|▏         | 7/468 [00:00<00:06, 67.67it/s]"
     ]
    },
    {
     "name": "stdout",
     "output_type": "stream",
     "text": [
      "Train Loss: 128.1394\n",
      "Val Loss: 145.0480\n",
      "Epoch 532 of 1000\n"
     ]
    },
    {
     "name": "stderr",
     "output_type": "stream",
     "text": [
      "469it [00:06, 75.64it/s]                         \n",
      "79it [00:00, 103.46it/s]                        \n",
      "  2%|▏         | 8/468 [00:00<00:06, 75.06it/s]"
     ]
    },
    {
     "name": "stdout",
     "output_type": "stream",
     "text": [
      "Train Loss: 128.1743\n",
      "Val Loss: 145.4053\n",
      "Epoch 533 of 1000\n"
     ]
    },
    {
     "name": "stderr",
     "output_type": "stream",
     "text": [
      "469it [00:06, 75.47it/s]                         \n",
      "79it [00:00, 102.72it/s]                        \n",
      "  2%|▏         | 8/468 [00:00<00:05, 77.18it/s]"
     ]
    },
    {
     "name": "stdout",
     "output_type": "stream",
     "text": [
      "Train Loss: 128.1418\n",
      "Val Loss: 145.1574\n",
      "Epoch 534 of 1000\n"
     ]
    },
    {
     "name": "stderr",
     "output_type": "stream",
     "text": [
      "469it [00:06, 74.86it/s]                         \n",
      "79it [00:00, 103.00it/s]                        \n",
      "  2%|▏         | 8/468 [00:00<00:05, 78.70it/s]"
     ]
    },
    {
     "name": "stdout",
     "output_type": "stream",
     "text": [
      "Train Loss: 128.1405\n",
      "Val Loss: 145.0689\n",
      "Epoch 535 of 1000\n"
     ]
    },
    {
     "name": "stderr",
     "output_type": "stream",
     "text": [
      "469it [00:06, 76.31it/s]                         \n",
      "79it [00:00, 102.86it/s]                        \n",
      "  2%|▏         | 8/468 [00:00<00:06, 71.78it/s]"
     ]
    },
    {
     "name": "stdout",
     "output_type": "stream",
     "text": [
      "Train Loss: 128.1155\n",
      "Val Loss: 145.2987\n",
      "Epoch 536 of 1000\n"
     ]
    },
    {
     "name": "stderr",
     "output_type": "stream",
     "text": [
      "469it [00:06, 75.93it/s]                         \n",
      "79it [00:00, 102.04it/s]                       \n",
      "  2%|▏         | 8/468 [00:00<00:06, 76.25it/s]"
     ]
    },
    {
     "name": "stdout",
     "output_type": "stream",
     "text": [
      "Train Loss: 128.1520\n",
      "Val Loss: 145.0658\n",
      "Epoch 537 of 1000\n"
     ]
    },
    {
     "name": "stderr",
     "output_type": "stream",
     "text": [
      "469it [00:06, 76.20it/s]                         \n",
      "79it [00:00, 102.62it/s]                        \n",
      "  2%|▏         | 8/468 [00:00<00:06, 75.97it/s]"
     ]
    },
    {
     "name": "stdout",
     "output_type": "stream",
     "text": [
      "Train Loss: 128.0805\n",
      "Val Loss: 145.1923\n",
      "Epoch 538 of 1000\n"
     ]
    },
    {
     "name": "stderr",
     "output_type": "stream",
     "text": [
      "469it [00:06, 75.44it/s]                         \n",
      "79it [00:00, 105.45it/s]                        \n",
      "  2%|▏         | 8/468 [00:00<00:06, 72.03it/s]"
     ]
    },
    {
     "name": "stdout",
     "output_type": "stream",
     "text": [
      "Train Loss: 128.0973\n",
      "Val Loss: 145.1384\n",
      "Epoch 539 of 1000\n"
     ]
    },
    {
     "name": "stderr",
     "output_type": "stream",
     "text": [
      "469it [00:06, 73.43it/s]                         \n",
      "79it [00:00, 100.56it/s]                        \n",
      "  1%|▏         | 7/468 [00:00<00:07, 65.28it/s]"
     ]
    },
    {
     "name": "stdout",
     "output_type": "stream",
     "text": [
      "Train Loss: 128.0910\n",
      "Val Loss: 145.3704\n",
      "Epoch 540 of 1000\n"
     ]
    },
    {
     "name": "stderr",
     "output_type": "stream",
     "text": [
      "469it [00:06, 72.05it/s]                         \n",
      "79it [00:00, 97.69it/s]                        \n",
      "  2%|▏         | 8/468 [00:00<00:06, 73.90it/s]"
     ]
    },
    {
     "name": "stdout",
     "output_type": "stream",
     "text": [
      "Train Loss: 128.0876\n",
      "Val Loss: 145.2650\n",
      "Epoch 541 of 1000\n"
     ]
    },
    {
     "name": "stderr",
     "output_type": "stream",
     "text": [
      "469it [00:06, 72.94it/s]\n",
      "79it [00:00, 101.46it/s]                       \n",
      "  2%|▏         | 8/468 [00:00<00:06, 75.56it/s]"
     ]
    },
    {
     "name": "stdout",
     "output_type": "stream",
     "text": [
      "Train Loss: 128.0731\n",
      "Val Loss: 145.2372\n",
      "Epoch 542 of 1000\n"
     ]
    },
    {
     "name": "stderr",
     "output_type": "stream",
     "text": [
      "469it [00:06, 74.95it/s]                         \n",
      "79it [00:00, 104.36it/s]                        \n",
      "  2%|▏         | 8/468 [00:00<00:05, 76.83it/s]"
     ]
    },
    {
     "name": "stdout",
     "output_type": "stream",
     "text": [
      "Train Loss: 128.0946\n",
      "Val Loss: 145.0668\n",
      "Epoch 543 of 1000\n"
     ]
    },
    {
     "name": "stderr",
     "output_type": "stream",
     "text": [
      "469it [00:06, 75.62it/s]                         \n",
      "79it [00:00, 101.56it/s]                        \n",
      "  2%|▏         | 8/468 [00:00<00:06, 76.15it/s]"
     ]
    },
    {
     "name": "stdout",
     "output_type": "stream",
     "text": [
      "Train Loss: 128.0258\n",
      "Val Loss: 145.2709\n",
      "Epoch 544 of 1000\n"
     ]
    },
    {
     "name": "stderr",
     "output_type": "stream",
     "text": [
      "469it [00:06, 76.06it/s]                         \n",
      "79it [00:00, 103.43it/s]                        \n",
      "  1%|▏         | 7/468 [00:00<00:06, 69.71it/s]"
     ]
    },
    {
     "name": "stdout",
     "output_type": "stream",
     "text": [
      "Train Loss: 128.0386\n",
      "Val Loss: 145.1563\n",
      "Epoch 545 of 1000\n"
     ]
    },
    {
     "name": "stderr",
     "output_type": "stream",
     "text": [
      "469it [00:06, 75.95it/s]                         \n",
      "79it [00:00, 100.29it/s]                       \n",
      "  2%|▏         | 8/468 [00:00<00:06, 71.81it/s]"
     ]
    },
    {
     "name": "stdout",
     "output_type": "stream",
     "text": [
      "Train Loss: 128.0546\n",
      "Val Loss: 145.3880\n",
      "Epoch 546 of 1000\n"
     ]
    },
    {
     "name": "stderr",
     "output_type": "stream",
     "text": [
      "469it [00:06, 75.71it/s]                         \n",
      "79it [00:00, 105.15it/s]                        \n",
      "  2%|▏         | 8/468 [00:00<00:05, 77.61it/s]"
     ]
    },
    {
     "name": "stdout",
     "output_type": "stream",
     "text": [
      "Train Loss: 128.0555\n",
      "Val Loss: 145.1891\n",
      "Epoch 547 of 1000\n"
     ]
    },
    {
     "name": "stderr",
     "output_type": "stream",
     "text": [
      "469it [00:06, 76.18it/s]                         \n",
      "79it [00:00, 101.88it/s]                        \n",
      "  1%|▏         | 7/468 [00:00<00:07, 65.68it/s]"
     ]
    },
    {
     "name": "stdout",
     "output_type": "stream",
     "text": [
      "Train Loss: 128.0188\n",
      "Val Loss: 144.9473\n",
      "Epoch 548 of 1000\n"
     ]
    },
    {
     "name": "stderr",
     "output_type": "stream",
     "text": [
      "469it [00:06, 75.28it/s]                         \n",
      "79it [00:00, 102.47it/s]                        \n",
      "  2%|▏         | 8/468 [00:00<00:06, 75.88it/s]"
     ]
    },
    {
     "name": "stdout",
     "output_type": "stream",
     "text": [
      "Train Loss: 128.0439\n",
      "Val Loss: 145.4591\n",
      "Epoch 549 of 1000\n"
     ]
    },
    {
     "name": "stderr",
     "output_type": "stream",
     "text": [
      "469it [00:06, 76.69it/s]                         \n",
      "79it [00:00, 104.68it/s]                        \n",
      "  2%|▏         | 8/468 [00:00<00:06, 75.95it/s]"
     ]
    },
    {
     "name": "stdout",
     "output_type": "stream",
     "text": [
      "Train Loss: 128.0220\n",
      "Val Loss: 145.3257\n",
      "Epoch 550 of 1000\n"
     ]
    },
    {
     "name": "stderr",
     "output_type": "stream",
     "text": [
      "469it [00:06, 76.27it/s]                         \n",
      "79it [00:01, 78.88it/s]                         \n",
      "  2%|▏         | 8/468 [00:00<00:05, 77.29it/s]"
     ]
    },
    {
     "name": "stdout",
     "output_type": "stream",
     "text": [
      "Train Loss: 128.0231\n",
      "Val Loss: 145.1779\n",
      "Epoch 551 of 1000\n"
     ]
    },
    {
     "name": "stderr",
     "output_type": "stream",
     "text": [
      "469it [00:06, 74.81it/s]                         \n",
      "79it [00:00, 103.39it/s]                        \n",
      "  2%|▏         | 8/468 [00:00<00:05, 78.18it/s]"
     ]
    },
    {
     "name": "stdout",
     "output_type": "stream",
     "text": [
      "Train Loss: 127.9991\n",
      "Val Loss: 145.2587\n",
      "Epoch 552 of 1000\n"
     ]
    },
    {
     "name": "stderr",
     "output_type": "stream",
     "text": [
      "469it [00:06, 75.18it/s]                         \n",
      "79it [00:00, 101.52it/s]                       \n",
      "  2%|▏         | 8/468 [00:00<00:05, 77.91it/s]"
     ]
    },
    {
     "name": "stdout",
     "output_type": "stream",
     "text": [
      "Train Loss: 128.0210\n",
      "Val Loss: 145.4007\n",
      "Epoch 553 of 1000\n"
     ]
    },
    {
     "name": "stderr",
     "output_type": "stream",
     "text": [
      "469it [00:06, 75.29it/s]                         \n",
      "79it [00:00, 101.96it/s]                        \n",
      "  2%|▏         | 8/468 [00:00<00:06, 74.59it/s]"
     ]
    },
    {
     "name": "stdout",
     "output_type": "stream",
     "text": [
      "Train Loss: 127.9680\n",
      "Val Loss: 145.4193\n",
      "Epoch 554 of 1000\n"
     ]
    },
    {
     "name": "stderr",
     "output_type": "stream",
     "text": [
      "469it [00:06, 75.75it/s]                         \n",
      "79it [00:00, 104.24it/s]                        \n",
      "  2%|▏         | 8/468 [00:00<00:05, 76.87it/s]"
     ]
    },
    {
     "name": "stdout",
     "output_type": "stream",
     "text": [
      "Train Loss: 127.9985\n",
      "Val Loss: 145.3501\n",
      "Epoch 555 of 1000\n"
     ]
    },
    {
     "name": "stderr",
     "output_type": "stream",
     "text": [
      "469it [00:06, 76.00it/s]                         \n",
      "79it [00:00, 102.66it/s]                        \n",
      "  2%|▏         | 8/468 [00:00<00:06, 73.06it/s]"
     ]
    },
    {
     "name": "stdout",
     "output_type": "stream",
     "text": [
      "Train Loss: 128.0003\n",
      "Val Loss: 145.5276\n",
      "Epoch 556 of 1000\n"
     ]
    },
    {
     "name": "stderr",
     "output_type": "stream",
     "text": [
      "469it [00:06, 75.38it/s]                         \n",
      "79it [00:00, 104.56it/s]                        \n",
      "  1%|▏         | 7/468 [00:00<00:06, 67.09it/s]"
     ]
    },
    {
     "name": "stdout",
     "output_type": "stream",
     "text": [
      "Train Loss: 127.9846\n",
      "Val Loss: 145.2355\n",
      "Epoch 557 of 1000\n"
     ]
    },
    {
     "name": "stderr",
     "output_type": "stream",
     "text": [
      "469it [00:06, 74.97it/s]                         \n",
      "79it [00:00, 102.78it/s]                        \n",
      "  2%|▏         | 8/468 [00:00<00:06, 76.48it/s]"
     ]
    },
    {
     "name": "stdout",
     "output_type": "stream",
     "text": [
      "Train Loss: 127.9633\n",
      "Val Loss: 145.2384\n",
      "Epoch 558 of 1000\n"
     ]
    },
    {
     "name": "stderr",
     "output_type": "stream",
     "text": [
      "469it [00:06, 75.74it/s]                         \n",
      "79it [00:00, 103.07it/s]                        \n",
      "  2%|▏         | 8/468 [00:00<00:05, 77.58it/s]"
     ]
    },
    {
     "name": "stdout",
     "output_type": "stream",
     "text": [
      "Train Loss: 127.9495\n",
      "Val Loss: 145.4258\n",
      "Epoch 559 of 1000\n"
     ]
    },
    {
     "name": "stderr",
     "output_type": "stream",
     "text": [
      "469it [00:06, 75.62it/s]                         \n",
      "79it [00:00, 103.72it/s]                        \n",
      "  2%|▏         | 8/468 [00:00<00:05, 77.01it/s]"
     ]
    },
    {
     "name": "stdout",
     "output_type": "stream",
     "text": [
      "Train Loss: 127.9121\n",
      "Val Loss: 145.2095\n",
      "Epoch 560 of 1000\n"
     ]
    },
    {
     "name": "stderr",
     "output_type": "stream",
     "text": [
      "469it [00:06, 74.71it/s]                         \n",
      "79it [00:00, 101.43it/s]                        \n",
      "  2%|▏         | 8/468 [00:00<00:06, 74.89it/s]"
     ]
    },
    {
     "name": "stdout",
     "output_type": "stream",
     "text": [
      "Train Loss: 127.9325\n",
      "Val Loss: 145.4130\n",
      "Epoch 561 of 1000\n"
     ]
    },
    {
     "name": "stderr",
     "output_type": "stream",
     "text": [
      "469it [00:06, 74.85it/s]                         \n",
      "79it [00:00, 100.14it/s]                       \n",
      "  2%|▏         | 8/468 [00:00<00:06, 76.64it/s]"
     ]
    },
    {
     "name": "stdout",
     "output_type": "stream",
     "text": [
      "Train Loss: 127.9107\n",
      "Val Loss: 145.3462\n",
      "Epoch 562 of 1000\n"
     ]
    },
    {
     "name": "stderr",
     "output_type": "stream",
     "text": [
      "469it [00:06, 75.90it/s]                         \n",
      "79it [00:00, 103.62it/s]                        \n",
      "  2%|▏         | 8/468 [00:00<00:05, 78.01it/s]"
     ]
    },
    {
     "name": "stdout",
     "output_type": "stream",
     "text": [
      "Train Loss: 127.9113\n",
      "Val Loss: 145.3078\n",
      "Epoch 563 of 1000\n"
     ]
    },
    {
     "name": "stderr",
     "output_type": "stream",
     "text": [
      "469it [00:06, 75.31it/s]                         \n",
      "79it [00:00, 98.36it/s]                        \n",
      "  2%|▏         | 8/468 [00:00<00:06, 74.36it/s]"
     ]
    },
    {
     "name": "stdout",
     "output_type": "stream",
     "text": [
      "Train Loss: 127.9372\n",
      "Val Loss: 145.4628\n",
      "Epoch 564 of 1000\n"
     ]
    },
    {
     "name": "stderr",
     "output_type": "stream",
     "text": [
      "469it [00:06, 74.23it/s]                         \n",
      "79it [00:00, 100.80it/s]                        \n",
      "  2%|▏         | 8/468 [00:00<00:06, 72.72it/s]"
     ]
    },
    {
     "name": "stdout",
     "output_type": "stream",
     "text": [
      "Train Loss: 127.9042\n",
      "Val Loss: 145.2935\n",
      "Epoch 565 of 1000\n"
     ]
    },
    {
     "name": "stderr",
     "output_type": "stream",
     "text": [
      "469it [00:06, 74.69it/s]                         \n",
      "79it [00:00, 99.66it/s]                        \n",
      "  2%|▏         | 8/468 [00:00<00:06, 74.68it/s]"
     ]
    },
    {
     "name": "stdout",
     "output_type": "stream",
     "text": [
      "Train Loss: 127.9111\n",
      "Val Loss: 145.6923\n",
      "Epoch 566 of 1000\n"
     ]
    },
    {
     "name": "stderr",
     "output_type": "stream",
     "text": [
      "469it [00:06, 76.26it/s]\n",
      "79it [00:00, 104.76it/s]                        \n",
      "  2%|▏         | 8/468 [00:00<00:06, 72.61it/s]"
     ]
    },
    {
     "name": "stdout",
     "output_type": "stream",
     "text": [
      "Train Loss: 127.9950\n",
      "Val Loss: 145.3411\n",
      "Epoch 567 of 1000\n"
     ]
    },
    {
     "name": "stderr",
     "output_type": "stream",
     "text": [
      "469it [00:06, 75.99it/s]                         \n",
      "79it [00:00, 104.18it/s]                        \n",
      "  2%|▏         | 8/468 [00:00<00:06, 72.09it/s]"
     ]
    },
    {
     "name": "stdout",
     "output_type": "stream",
     "text": [
      "Train Loss: 127.8839\n",
      "Val Loss: 145.5651\n",
      "Epoch 568 of 1000\n"
     ]
    },
    {
     "name": "stderr",
     "output_type": "stream",
     "text": [
      "469it [00:06, 75.30it/s]                         \n",
      "79it [00:00, 103.90it/s]                        \n",
      "  2%|▏         | 8/468 [00:00<00:05, 77.43it/s]"
     ]
    },
    {
     "name": "stdout",
     "output_type": "stream",
     "text": [
      "Train Loss: 127.9569\n",
      "Val Loss: 145.4976\n",
      "Epoch 569 of 1000\n"
     ]
    },
    {
     "name": "stderr",
     "output_type": "stream",
     "text": [
      "469it [00:06, 75.46it/s]                         \n",
      "79it [00:00, 104.48it/s]                        \n",
      "  2%|▏         | 8/468 [00:00<00:06, 75.50it/s]"
     ]
    },
    {
     "name": "stdout",
     "output_type": "stream",
     "text": [
      "Train Loss: 127.8879\n",
      "Val Loss: 145.3323\n",
      "Epoch 570 of 1000\n"
     ]
    },
    {
     "name": "stderr",
     "output_type": "stream",
     "text": [
      "469it [00:06, 75.32it/s]                         \n",
      "79it [00:00, 104.34it/s]                        \n",
      "  2%|▏         | 8/468 [00:00<00:05, 76.70it/s]"
     ]
    },
    {
     "name": "stdout",
     "output_type": "stream",
     "text": [
      "Train Loss: 127.8871\n",
      "Val Loss: 145.2797\n",
      "Epoch 571 of 1000\n"
     ]
    },
    {
     "name": "stderr",
     "output_type": "stream",
     "text": [
      "469it [00:06, 75.97it/s]                         \n",
      "79it [00:00, 102.03it/s]                        \n",
      "  2%|▏         | 8/468 [00:00<00:05, 77.64it/s]"
     ]
    },
    {
     "name": "stdout",
     "output_type": "stream",
     "text": [
      "Train Loss: 127.8300\n",
      "Val Loss: 145.4119\n",
      "Epoch 572 of 1000\n"
     ]
    },
    {
     "name": "stderr",
     "output_type": "stream",
     "text": [
      "469it [00:06, 75.06it/s]                         \n",
      "79it [00:00, 102.32it/s]                        \n",
      "  2%|▏         | 8/468 [00:00<00:06, 71.71it/s]"
     ]
    },
    {
     "name": "stdout",
     "output_type": "stream",
     "text": [
      "Train Loss: 127.8391\n",
      "Val Loss: 145.1860\n",
      "Epoch 573 of 1000\n"
     ]
    },
    {
     "name": "stderr",
     "output_type": "stream",
     "text": [
      "469it [00:06, 75.28it/s]                         \n",
      "79it [00:00, 102.69it/s]                        \n",
      "  2%|▏         | 8/468 [00:00<00:05, 76.96it/s]"
     ]
    },
    {
     "name": "stdout",
     "output_type": "stream",
     "text": [
      "Train Loss: 127.8579\n",
      "Val Loss: 145.4483\n",
      "Epoch 574 of 1000\n"
     ]
    },
    {
     "name": "stderr",
     "output_type": "stream",
     "text": [
      "469it [00:06, 75.57it/s]                         \n",
      "79it [00:00, 101.80it/s]                        \n",
      "  1%|▏         | 7/468 [00:00<00:06, 69.45it/s]"
     ]
    },
    {
     "name": "stdout",
     "output_type": "stream",
     "text": [
      "Train Loss: 127.8432\n",
      "Val Loss: 145.3336\n",
      "Epoch 575 of 1000\n"
     ]
    },
    {
     "name": "stderr",
     "output_type": "stream",
     "text": [
      "469it [00:06, 74.19it/s]                         \n",
      "79it [00:00, 101.98it/s]                        \n",
      "  2%|▏         | 8/468 [00:00<00:06, 74.71it/s]"
     ]
    },
    {
     "name": "stdout",
     "output_type": "stream",
     "text": [
      "Train Loss: 127.8556\n",
      "Val Loss: 145.5095\n",
      "Epoch 576 of 1000\n"
     ]
    },
    {
     "name": "stderr",
     "output_type": "stream",
     "text": [
      "469it [00:06, 73.11it/s]\n",
      "79it [00:00, 100.71it/s]                       \n",
      "  2%|▏         | 8/468 [00:00<00:06, 75.54it/s]"
     ]
    },
    {
     "name": "stdout",
     "output_type": "stream",
     "text": [
      "Train Loss: 127.8244\n",
      "Val Loss: 145.5246\n",
      "Epoch 577 of 1000\n"
     ]
    },
    {
     "name": "stderr",
     "output_type": "stream",
     "text": [
      "469it [00:06, 74.59it/s]                         \n",
      "79it [00:00, 102.86it/s]                        \n",
      "  2%|▏         | 8/468 [00:00<00:06, 74.37it/s]"
     ]
    },
    {
     "name": "stdout",
     "output_type": "stream",
     "text": [
      "Train Loss: 127.8503\n",
      "Val Loss: 145.3914\n",
      "Epoch 578 of 1000\n"
     ]
    },
    {
     "name": "stderr",
     "output_type": "stream",
     "text": [
      "469it [00:06, 75.00it/s]                         \n",
      "79it [00:00, 103.35it/s]                        \n",
      "  2%|▏         | 8/468 [00:00<00:06, 76.43it/s]"
     ]
    },
    {
     "name": "stdout",
     "output_type": "stream",
     "text": [
      "Train Loss: 127.8034\n",
      "Val Loss: 145.4795\n",
      "Epoch 579 of 1000\n"
     ]
    },
    {
     "name": "stderr",
     "output_type": "stream",
     "text": [
      "469it [00:06, 74.87it/s]                         \n",
      "79it [00:00, 100.78it/s]                       \n",
      "  2%|▏         | 8/468 [00:00<00:06, 76.50it/s]"
     ]
    },
    {
     "name": "stdout",
     "output_type": "stream",
     "text": [
      "Train Loss: 127.8191\n",
      "Val Loss: 145.4263\n",
      "Epoch 580 of 1000\n"
     ]
    },
    {
     "name": "stderr",
     "output_type": "stream",
     "text": [
      "469it [00:06, 75.43it/s]                         \n",
      "79it [00:00, 102.90it/s]                        \n",
      "  2%|▏         | 8/468 [00:00<00:05, 77.14it/s]"
     ]
    },
    {
     "name": "stdout",
     "output_type": "stream",
     "text": [
      "Train Loss: 127.7939\n",
      "Val Loss: 145.4001\n",
      "Epoch 581 of 1000\n"
     ]
    },
    {
     "name": "stderr",
     "output_type": "stream",
     "text": [
      "469it [00:06, 75.22it/s]                         \n",
      "79it [00:00, 101.99it/s]                        \n",
      "  2%|▏         | 8/468 [00:00<00:06, 76.28it/s]"
     ]
    },
    {
     "name": "stdout",
     "output_type": "stream",
     "text": [
      "Train Loss: 127.7651\n",
      "Val Loss: 145.5967\n",
      "Epoch 582 of 1000\n"
     ]
    },
    {
     "name": "stderr",
     "output_type": "stream",
     "text": [
      "469it [00:06, 74.72it/s]                         \n",
      "79it [00:00, 101.99it/s]                        \n",
      "  1%|▏         | 6/468 [00:00<00:08, 53.56it/s]"
     ]
    },
    {
     "name": "stdout",
     "output_type": "stream",
     "text": [
      "Train Loss: 127.8029\n",
      "Val Loss: 145.3685\n",
      "Epoch 583 of 1000\n"
     ]
    },
    {
     "name": "stderr",
     "output_type": "stream",
     "text": [
      "469it [00:06, 75.16it/s]                         \n",
      "79it [00:00, 94.40it/s]                        \n",
      "  1%|▏         | 7/468 [00:00<00:07, 63.34it/s]"
     ]
    },
    {
     "name": "stdout",
     "output_type": "stream",
     "text": [
      "Train Loss: 127.7917\n",
      "Val Loss: 145.4670\n",
      "Epoch 584 of 1000\n"
     ]
    },
    {
     "name": "stderr",
     "output_type": "stream",
     "text": [
      "469it [00:06, 72.04it/s]                         \n",
      "79it [00:00, 100.20it/s]                       \n",
      "  2%|▏         | 8/468 [00:00<00:06, 71.93it/s]"
     ]
    },
    {
     "name": "stdout",
     "output_type": "stream",
     "text": [
      "Train Loss: 127.7556\n",
      "Val Loss: 145.4260\n",
      "Epoch 585 of 1000\n"
     ]
    },
    {
     "name": "stderr",
     "output_type": "stream",
     "text": [
      "469it [00:06, 73.09it/s]                         \n",
      "79it [00:00, 100.79it/s]                       \n",
      "  1%|▏         | 7/468 [00:00<00:06, 68.46it/s]"
     ]
    },
    {
     "name": "stdout",
     "output_type": "stream",
     "text": [
      "Train Loss: 127.7916\n",
      "Val Loss: 145.5765\n",
      "Epoch 586 of 1000\n"
     ]
    },
    {
     "name": "stderr",
     "output_type": "stream",
     "text": [
      "469it [00:06, 74.89it/s]                         \n",
      "79it [00:00, 99.23it/s]                        \n",
      "  1%|▏         | 7/468 [00:00<00:06, 68.42it/s]"
     ]
    },
    {
     "name": "stdout",
     "output_type": "stream",
     "text": [
      "Train Loss: 127.7566\n",
      "Val Loss: 145.9173\n",
      "Epoch 587 of 1000\n"
     ]
    },
    {
     "name": "stderr",
     "output_type": "stream",
     "text": [
      "469it [00:06, 73.65it/s]                         \n",
      "79it [00:00, 98.77it/s]                        \n",
      "  2%|▏         | 8/468 [00:00<00:06, 72.65it/s]"
     ]
    },
    {
     "name": "stdout",
     "output_type": "stream",
     "text": [
      "Train Loss: 127.8217\n",
      "Val Loss: 145.4271\n",
      "Epoch 588 of 1000\n"
     ]
    },
    {
     "name": "stderr",
     "output_type": "stream",
     "text": [
      "469it [00:06, 74.21it/s]                         \n",
      "79it [00:00, 100.99it/s]                        \n",
      "  2%|▏         | 8/468 [00:00<00:06, 75.18it/s]"
     ]
    },
    {
     "name": "stdout",
     "output_type": "stream",
     "text": [
      "Train Loss: 127.7608\n",
      "Val Loss: 145.6548\n",
      "Epoch 589 of 1000\n"
     ]
    },
    {
     "name": "stderr",
     "output_type": "stream",
     "text": [
      "469it [00:06, 74.47it/s]                         \n",
      "79it [00:00, 102.26it/s]                        \n",
      "  2%|▏         | 8/468 [00:00<00:06, 75.01it/s]"
     ]
    },
    {
     "name": "stdout",
     "output_type": "stream",
     "text": [
      "Train Loss: 127.7468\n",
      "Val Loss: 145.3137\n",
      "Epoch 590 of 1000\n"
     ]
    },
    {
     "name": "stderr",
     "output_type": "stream",
     "text": [
      "469it [00:06, 74.80it/s]                         \n",
      "79it [00:00, 101.91it/s]                        \n",
      "  2%|▏         | 8/468 [00:00<00:06, 71.89it/s]"
     ]
    },
    {
     "name": "stdout",
     "output_type": "stream",
     "text": [
      "Train Loss: 127.7337\n",
      "Val Loss: 145.3576\n",
      "Epoch 591 of 1000\n"
     ]
    },
    {
     "name": "stderr",
     "output_type": "stream",
     "text": [
      "469it [00:06, 74.46it/s]                         \n",
      "79it [00:00, 100.21it/s]                       \n",
      "  2%|▏         | 8/468 [00:00<00:05, 78.39it/s]"
     ]
    },
    {
     "name": "stdout",
     "output_type": "stream",
     "text": [
      "Train Loss: 127.7083\n",
      "Val Loss: 145.4324\n",
      "Epoch 592 of 1000\n"
     ]
    },
    {
     "name": "stderr",
     "output_type": "stream",
     "text": [
      "469it [00:06, 74.82it/s]                         \n",
      "79it [00:00, 101.95it/s]                        \n",
      "  2%|▏         | 8/468 [00:00<00:05, 77.53it/s]"
     ]
    },
    {
     "name": "stdout",
     "output_type": "stream",
     "text": [
      "Train Loss: 127.7265\n",
      "Val Loss: 145.3834\n",
      "Epoch 593 of 1000\n"
     ]
    },
    {
     "name": "stderr",
     "output_type": "stream",
     "text": [
      "469it [00:06, 74.08it/s]                         \n",
      "79it [00:00, 102.05it/s]                        \n",
      "  2%|▏         | 8/468 [00:00<00:06, 74.33it/s]"
     ]
    },
    {
     "name": "stdout",
     "output_type": "stream",
     "text": [
      "Train Loss: 127.6818\n",
      "Val Loss: 145.4572\n",
      "Epoch 594 of 1000\n"
     ]
    },
    {
     "name": "stderr",
     "output_type": "stream",
     "text": [
      "469it [00:06, 75.24it/s]                         \n",
      "79it [00:00, 100.39it/s]                       \n",
      "  2%|▏         | 8/468 [00:00<00:06, 73.32it/s]"
     ]
    },
    {
     "name": "stdout",
     "output_type": "stream",
     "text": [
      "Train Loss: 127.7017\n",
      "Val Loss: 145.6355\n",
      "Epoch 595 of 1000\n"
     ]
    },
    {
     "name": "stderr",
     "output_type": "stream",
     "text": [
      "469it [00:06, 75.13it/s]                         \n",
      "79it [00:00, 100.10it/s]                       \n",
      "  2%|▏         | 8/468 [00:00<00:06, 74.38it/s]"
     ]
    },
    {
     "name": "stdout",
     "output_type": "stream",
     "text": [
      "Train Loss: 127.7351\n",
      "Val Loss: 145.7830\n",
      "Epoch 596 of 1000\n"
     ]
    },
    {
     "name": "stderr",
     "output_type": "stream",
     "text": [
      "469it [00:06, 74.77it/s]                         \n",
      "79it [00:00, 102.28it/s]                        \n",
      "  1%|▏         | 7/468 [00:00<00:06, 68.90it/s]"
     ]
    },
    {
     "name": "stdout",
     "output_type": "stream",
     "text": [
      "Train Loss: 127.7020\n",
      "Val Loss: 145.2873\n",
      "Epoch 597 of 1000\n"
     ]
    },
    {
     "name": "stderr",
     "output_type": "stream",
     "text": [
      "469it [00:06, 74.59it/s]                         \n",
      "79it [00:00, 102.41it/s]                        \n",
      "  2%|▏         | 8/468 [00:00<00:06, 73.01it/s]"
     ]
    },
    {
     "name": "stdout",
     "output_type": "stream",
     "text": [
      "Train Loss: 127.6950\n",
      "Val Loss: 145.4194\n",
      "Epoch 598 of 1000\n"
     ]
    },
    {
     "name": "stderr",
     "output_type": "stream",
     "text": [
      "469it [00:06, 74.66it/s]                         \n",
      "79it [00:00, 101.92it/s]                       \n",
      "  2%|▏         | 8/468 [00:00<00:06, 72.60it/s]"
     ]
    },
    {
     "name": "stdout",
     "output_type": "stream",
     "text": [
      "Train Loss: 127.6669\n",
      "Val Loss: 145.5059\n",
      "Epoch 599 of 1000\n"
     ]
    },
    {
     "name": "stderr",
     "output_type": "stream",
     "text": [
      "469it [00:06, 74.59it/s]\n",
      "79it [00:00, 103.20it/s]                        \n",
      "  2%|▏         | 8/468 [00:00<00:05, 77.59it/s]"
     ]
    },
    {
     "name": "stdout",
     "output_type": "stream",
     "text": [
      "Train Loss: 127.6694\n",
      "Val Loss: 145.6101\n",
      "Epoch 600 of 1000\n"
     ]
    },
    {
     "name": "stderr",
     "output_type": "stream",
     "text": [
      "469it [00:06, 76.00it/s]                         \n",
      "79it [00:00, 102.99it/s]                        \n",
      "  2%|▏         | 8/468 [00:00<00:06, 73.48it/s]"
     ]
    },
    {
     "name": "stdout",
     "output_type": "stream",
     "text": [
      "Train Loss: 127.6785\n",
      "Val Loss: 145.6911\n",
      "Epoch 601 of 1000\n"
     ]
    },
    {
     "name": "stderr",
     "output_type": "stream",
     "text": [
      "469it [00:06, 74.50it/s]                         \n",
      "79it [00:00, 101.96it/s]                        \n",
      "  2%|▏         | 8/468 [00:00<00:06, 73.48it/s]"
     ]
    },
    {
     "name": "stdout",
     "output_type": "stream",
     "text": [
      "Train Loss: 127.6807\n",
      "Val Loss: 145.5682\n",
      "Epoch 602 of 1000\n"
     ]
    },
    {
     "name": "stderr",
     "output_type": "stream",
     "text": [
      "469it [00:06, 74.90it/s]                         \n",
      "79it [00:00, 103.81it/s]                        \n",
      "  2%|▏         | 8/468 [00:00<00:05, 78.56it/s]"
     ]
    },
    {
     "name": "stdout",
     "output_type": "stream",
     "text": [
      "Train Loss: 127.6840\n",
      "Val Loss: 145.7345\n",
      "Epoch 603 of 1000\n"
     ]
    },
    {
     "name": "stderr",
     "output_type": "stream",
     "text": [
      "469it [00:06, 75.80it/s]                         \n",
      "79it [00:00, 102.61it/s]                        \n",
      "  2%|▏         | 8/468 [00:00<00:06, 71.92it/s]"
     ]
    },
    {
     "name": "stdout",
     "output_type": "stream",
     "text": [
      "Train Loss: 127.6693\n",
      "Val Loss: 145.4606\n",
      "Epoch 604 of 1000\n"
     ]
    },
    {
     "name": "stderr",
     "output_type": "stream",
     "text": [
      "469it [00:06, 74.81it/s]                         \n",
      "79it [00:00, 103.76it/s]                        \n",
      "  2%|▏         | 8/468 [00:00<00:06, 76.29it/s]"
     ]
    },
    {
     "name": "stdout",
     "output_type": "stream",
     "text": [
      "Train Loss: 127.6248\n",
      "Val Loss: 145.5024\n",
      "Epoch 605 of 1000\n"
     ]
    },
    {
     "name": "stderr",
     "output_type": "stream",
     "text": [
      "469it [00:06, 74.93it/s]                         \n",
      "79it [00:00, 102.54it/s]                        \n",
      "  1%|▏         | 7/468 [00:00<00:06, 67.34it/s]"
     ]
    },
    {
     "name": "stdout",
     "output_type": "stream",
     "text": [
      "Train Loss: 127.6516\n",
      "Val Loss: 145.5992\n",
      "Epoch 606 of 1000\n"
     ]
    },
    {
     "name": "stderr",
     "output_type": "stream",
     "text": [
      "469it [00:06, 74.46it/s]                         \n",
      "79it [00:00, 100.52it/s]                       \n",
      "  2%|▏         | 8/468 [00:00<00:06, 76.20it/s]"
     ]
    },
    {
     "name": "stdout",
     "output_type": "stream",
     "text": [
      "Train Loss: 127.6368\n",
      "Val Loss: 145.6590\n",
      "Epoch 607 of 1000\n"
     ]
    },
    {
     "name": "stderr",
     "output_type": "stream",
     "text": [
      "469it [00:06, 74.49it/s]                         \n",
      "79it [00:00, 102.35it/s]                        \n",
      "  2%|▏         | 8/468 [00:00<00:05, 76.70it/s]"
     ]
    },
    {
     "name": "stdout",
     "output_type": "stream",
     "text": [
      "Train Loss: 127.5998\n",
      "Val Loss: 145.5365\n",
      "Epoch 608 of 1000\n"
     ]
    },
    {
     "name": "stderr",
     "output_type": "stream",
     "text": [
      "469it [00:06, 74.31it/s]                         \n",
      "79it [00:00, 101.61it/s]                        \n",
      "  2%|▏         | 8/468 [00:00<00:06, 72.24it/s]"
     ]
    },
    {
     "name": "stdout",
     "output_type": "stream",
     "text": [
      "Train Loss: 127.6236\n",
      "Val Loss: 145.6607\n",
      "Epoch 609 of 1000\n"
     ]
    },
    {
     "name": "stderr",
     "output_type": "stream",
     "text": [
      "469it [00:06, 74.95it/s]                         \n",
      "79it [00:00, 101.25it/s]                        \n",
      "  2%|▏         | 8/468 [00:00<00:06, 72.53it/s]"
     ]
    },
    {
     "name": "stdout",
     "output_type": "stream",
     "text": [
      "Train Loss: 127.6540\n",
      "Val Loss: 145.9319\n",
      "Epoch 610 of 1000\n"
     ]
    },
    {
     "name": "stderr",
     "output_type": "stream",
     "text": [
      "469it [00:06, 73.19it/s]                         \n",
      "79it [00:00, 100.47it/s]                        \n",
      "  2%|▏         | 8/468 [00:00<00:06, 76.12it/s]"
     ]
    },
    {
     "name": "stdout",
     "output_type": "stream",
     "text": [
      "Train Loss: 127.5863\n",
      "Val Loss: 145.7521\n",
      "Epoch 611 of 1000\n"
     ]
    },
    {
     "name": "stderr",
     "output_type": "stream",
     "text": [
      "469it [00:06, 74.57it/s]                         \n",
      "79it [00:00, 103.86it/s]                        \n",
      "  2%|▏         | 8/468 [00:00<00:06, 75.09it/s]"
     ]
    },
    {
     "name": "stdout",
     "output_type": "stream",
     "text": [
      "Train Loss: 127.6027\n",
      "Val Loss: 145.8719\n",
      "Epoch 612 of 1000\n"
     ]
    },
    {
     "name": "stderr",
     "output_type": "stream",
     "text": [
      "469it [00:06, 75.59it/s]                         \n",
      "79it [00:00, 103.92it/s]                        \n",
      "  2%|▏         | 8/468 [00:00<00:06, 74.09it/s]"
     ]
    },
    {
     "name": "stdout",
     "output_type": "stream",
     "text": [
      "Train Loss: 127.6044\n",
      "Val Loss: 145.5452\n",
      "Epoch 613 of 1000\n"
     ]
    },
    {
     "name": "stderr",
     "output_type": "stream",
     "text": [
      "469it [00:06, 75.08it/s]                         \n",
      "79it [00:00, 102.02it/s]                        \n",
      "  2%|▏         | 8/468 [00:00<00:06, 74.55it/s]"
     ]
    },
    {
     "name": "stdout",
     "output_type": "stream",
     "text": [
      "Train Loss: 127.5952\n",
      "Val Loss: 145.7675\n",
      "Epoch 614 of 1000\n"
     ]
    },
    {
     "name": "stderr",
     "output_type": "stream",
     "text": [
      "469it [00:06, 75.19it/s]                         \n",
      "79it [00:00, 101.96it/s]                        \n",
      "  2%|▏         | 8/468 [00:00<00:06, 74.49it/s]"
     ]
    },
    {
     "name": "stdout",
     "output_type": "stream",
     "text": [
      "Train Loss: 127.5815\n",
      "Val Loss: 145.6388\n",
      "Epoch 615 of 1000\n"
     ]
    },
    {
     "name": "stderr",
     "output_type": "stream",
     "text": [
      "469it [00:06, 73.95it/s]                         \n",
      "79it [00:00, 101.87it/s]                        \n",
      "  2%|▏         | 8/468 [00:00<00:06, 74.59it/s]"
     ]
    },
    {
     "name": "stdout",
     "output_type": "stream",
     "text": [
      "Train Loss: 127.5777\n",
      "Val Loss: 145.7399\n",
      "Epoch 616 of 1000\n"
     ]
    },
    {
     "name": "stderr",
     "output_type": "stream",
     "text": [
      "469it [00:06, 74.98it/s]                         \n",
      "79it [00:00, 99.02it/s]                        \n",
      "  2%|▏         | 8/468 [00:00<00:06, 74.44it/s]"
     ]
    },
    {
     "name": "stdout",
     "output_type": "stream",
     "text": [
      "Train Loss: 127.5486\n",
      "Val Loss: 145.7967\n",
      "Epoch 617 of 1000\n"
     ]
    },
    {
     "name": "stderr",
     "output_type": "stream",
     "text": [
      "469it [00:06, 74.99it/s]                         \n",
      "79it [00:00, 101.81it/s]                        \n",
      "  2%|▏         | 8/468 [00:00<00:06, 75.79it/s]"
     ]
    },
    {
     "name": "stdout",
     "output_type": "stream",
     "text": [
      "Train Loss: 127.5672\n",
      "Val Loss: 146.1453\n",
      "Epoch 618 of 1000\n"
     ]
    },
    {
     "name": "stderr",
     "output_type": "stream",
     "text": [
      "469it [00:06, 75.46it/s]                         \n",
      "79it [00:00, 102.76it/s]                       \n",
      "  2%|▏         | 8/468 [00:00<00:05, 77.91it/s]"
     ]
    },
    {
     "name": "stdout",
     "output_type": "stream",
     "text": [
      "Train Loss: 127.5695\n",
      "Val Loss: 145.6955\n",
      "Epoch 619 of 1000\n"
     ]
    },
    {
     "name": "stderr",
     "output_type": "stream",
     "text": [
      "469it [00:06, 74.95it/s]                         \n",
      "79it [00:00, 101.21it/s]                        \n",
      "  1%|▏         | 7/468 [00:00<00:06, 66.51it/s]"
     ]
    },
    {
     "name": "stdout",
     "output_type": "stream",
     "text": [
      "Train Loss: 127.5519\n",
      "Val Loss: 145.7158\n",
      "Epoch 620 of 1000\n"
     ]
    },
    {
     "name": "stderr",
     "output_type": "stream",
     "text": [
      "469it [00:06, 75.29it/s]                         \n",
      "79it [00:00, 103.11it/s]                        \n",
      "  2%|▏         | 8/468 [00:00<00:06, 76.64it/s]"
     ]
    },
    {
     "name": "stdout",
     "output_type": "stream",
     "text": [
      "Train Loss: 127.5464\n",
      "Val Loss: 145.7913\n",
      "Epoch 621 of 1000\n"
     ]
    },
    {
     "name": "stderr",
     "output_type": "stream",
     "text": [
      "469it [00:06, 74.66it/s]                         \n",
      "79it [00:00, 102.15it/s]                        \n",
      "  2%|▏         | 8/468 [00:00<00:06, 75.55it/s]"
     ]
    },
    {
     "name": "stdout",
     "output_type": "stream",
     "text": [
      "Train Loss: 127.5997\n",
      "Val Loss: 145.8019\n",
      "Epoch 622 of 1000\n"
     ]
    },
    {
     "name": "stderr",
     "output_type": "stream",
     "text": [
      "469it [00:06, 74.35it/s]                         \n",
      "79it [00:00, 102.66it/s]                        \n",
      "  2%|▏         | 8/468 [00:00<00:05, 77.82it/s]"
     ]
    },
    {
     "name": "stdout",
     "output_type": "stream",
     "text": [
      "Train Loss: 127.5131\n",
      "Val Loss: 145.7949\n",
      "Epoch 623 of 1000\n"
     ]
    },
    {
     "name": "stderr",
     "output_type": "stream",
     "text": [
      "469it [00:06, 75.62it/s]                         \n",
      "79it [00:00, 102.21it/s]                        \n",
      "  2%|▏         | 8/468 [00:00<00:06, 69.78it/s]"
     ]
    },
    {
     "name": "stdout",
     "output_type": "stream",
     "text": [
      "Train Loss: 127.4979\n",
      "Val Loss: 145.8655\n",
      "Epoch 624 of 1000\n"
     ]
    },
    {
     "name": "stderr",
     "output_type": "stream",
     "text": [
      "469it [00:06, 74.45it/s]                         \n",
      "79it [00:00, 104.08it/s]                        \n",
      "  2%|▏         | 8/468 [00:00<00:05, 76.77it/s]"
     ]
    },
    {
     "name": "stdout",
     "output_type": "stream",
     "text": [
      "Train Loss: 127.5213\n",
      "Val Loss: 145.5823\n",
      "Epoch 625 of 1000\n"
     ]
    },
    {
     "name": "stderr",
     "output_type": "stream",
     "text": [
      "469it [00:06, 75.38it/s]                         \n",
      "79it [00:00, 105.31it/s]                        \n",
      "  2%|▏         | 8/468 [00:00<00:05, 76.74it/s]"
     ]
    },
    {
     "name": "stdout",
     "output_type": "stream",
     "text": [
      "Train Loss: 127.5159\n",
      "Val Loss: 145.6812\n",
      "Epoch 626 of 1000\n"
     ]
    },
    {
     "name": "stderr",
     "output_type": "stream",
     "text": [
      "469it [00:06, 76.07it/s]                         \n",
      "79it [00:00, 104.76it/s]                        \n",
      "  2%|▏         | 8/468 [00:00<00:06, 74.76it/s]"
     ]
    },
    {
     "name": "stdout",
     "output_type": "stream",
     "text": [
      "Train Loss: 127.5083\n",
      "Val Loss: 145.8479\n",
      "Epoch 627 of 1000\n"
     ]
    },
    {
     "name": "stderr",
     "output_type": "stream",
     "text": [
      "469it [00:06, 74.96it/s]                         \n",
      "79it [00:00, 91.98it/s]                        \n",
      "  2%|▏         | 8/468 [00:00<00:06, 72.41it/s]"
     ]
    },
    {
     "name": "stdout",
     "output_type": "stream",
     "text": [
      "Train Loss: 127.5857\n",
      "Val Loss: 145.8461\n",
      "Epoch 628 of 1000\n"
     ]
    },
    {
     "name": "stderr",
     "output_type": "stream",
     "text": [
      "469it [00:06, 71.30it/s]                         \n",
      "79it [00:00, 99.31it/s]                        \n",
      "  2%|▏         | 8/468 [00:00<00:06, 74.84it/s]"
     ]
    },
    {
     "name": "stdout",
     "output_type": "stream",
     "text": [
      "Train Loss: 127.5043\n",
      "Val Loss: 145.7567\n",
      "Epoch 629 of 1000\n"
     ]
    },
    {
     "name": "stderr",
     "output_type": "stream",
     "text": [
      "469it [00:06, 74.44it/s]                         \n",
      "79it [00:00, 104.26it/s]                        \n",
      "  2%|▏         | 8/468 [00:00<00:06, 74.40it/s]"
     ]
    },
    {
     "name": "stdout",
     "output_type": "stream",
     "text": [
      "Train Loss: 127.5085\n",
      "Val Loss: 145.8726\n",
      "Epoch 630 of 1000\n"
     ]
    },
    {
     "name": "stderr",
     "output_type": "stream",
     "text": [
      "469it [00:06, 75.50it/s]                         \n",
      "79it [00:00, 101.19it/s]                       \n",
      "  2%|▏         | 8/468 [00:00<00:06, 76.03it/s]"
     ]
    },
    {
     "name": "stdout",
     "output_type": "stream",
     "text": [
      "Train Loss: 127.4679\n",
      "Val Loss: 145.7290\n",
      "Epoch 631 of 1000\n"
     ]
    },
    {
     "name": "stderr",
     "output_type": "stream",
     "text": [
      "469it [00:06, 75.36it/s]                         \n",
      "79it [00:00, 102.02it/s]                        \n",
      "  2%|▏         | 8/468 [00:00<00:06, 73.51it/s]"
     ]
    },
    {
     "name": "stdout",
     "output_type": "stream",
     "text": [
      "Train Loss: 127.4572\n",
      "Val Loss: 145.7849\n",
      "Epoch 632 of 1000\n"
     ]
    },
    {
     "name": "stderr",
     "output_type": "stream",
     "text": [
      "469it [00:06, 74.99it/s]                         \n",
      "79it [00:00, 102.58it/s]                        \n",
      "  2%|▏         | 8/468 [00:00<00:06, 70.08it/s]"
     ]
    },
    {
     "name": "stdout",
     "output_type": "stream",
     "text": [
      "Train Loss: 127.4393\n",
      "Val Loss: 145.8548\n",
      "Epoch 633 of 1000\n"
     ]
    },
    {
     "name": "stderr",
     "output_type": "stream",
     "text": [
      "469it [00:06, 74.22it/s]                         \n",
      "79it [00:00, 102.42it/s]                        \n",
      "  2%|▏         | 8/468 [00:00<00:06, 71.69it/s]"
     ]
    },
    {
     "name": "stdout",
     "output_type": "stream",
     "text": [
      "Train Loss: 127.4101\n",
      "Val Loss: 145.8392\n",
      "Epoch 634 of 1000\n"
     ]
    },
    {
     "name": "stderr",
     "output_type": "stream",
     "text": [
      "469it [00:06, 75.90it/s]                         \n",
      "79it [00:00, 103.04it/s]                        \n",
      "  2%|▏         | 8/468 [00:00<00:06, 76.39it/s]"
     ]
    },
    {
     "name": "stdout",
     "output_type": "stream",
     "text": [
      "Train Loss: 127.4689\n",
      "Val Loss: 146.0634\n",
      "Epoch 635 of 1000\n"
     ]
    },
    {
     "name": "stderr",
     "output_type": "stream",
     "text": [
      "469it [00:06, 75.80it/s]                         \n",
      "79it [00:00, 102.38it/s]                        \n",
      "  2%|▏         | 8/468 [00:00<00:06, 74.42it/s]"
     ]
    },
    {
     "name": "stdout",
     "output_type": "stream",
     "text": [
      "Train Loss: 127.4651\n",
      "Val Loss: 146.0393\n",
      "Epoch 636 of 1000\n"
     ]
    },
    {
     "name": "stderr",
     "output_type": "stream",
     "text": [
      "469it [00:06, 75.92it/s]                         \n",
      "79it [00:00, 104.28it/s]                        \n",
      "  1%|▏         | 7/468 [00:00<00:06, 68.82it/s]"
     ]
    },
    {
     "name": "stdout",
     "output_type": "stream",
     "text": [
      "Train Loss: 127.5316\n",
      "Val Loss: 145.7719\n",
      "Epoch 637 of 1000\n"
     ]
    },
    {
     "name": "stderr",
     "output_type": "stream",
     "text": [
      "469it [00:06, 75.17it/s]                         \n",
      "79it [00:00, 103.14it/s]                       \n",
      "  2%|▏         | 8/468 [00:00<00:06, 74.65it/s]"
     ]
    },
    {
     "name": "stdout",
     "output_type": "stream",
     "text": [
      "Train Loss: 127.4538\n",
      "Val Loss: 145.9436\n",
      "Epoch 638 of 1000\n"
     ]
    },
    {
     "name": "stderr",
     "output_type": "stream",
     "text": [
      "469it [00:06, 75.32it/s]                         \n",
      "79it [00:00, 105.66it/s]                        \n",
      "  2%|▏         | 8/468 [00:00<00:06, 73.79it/s]"
     ]
    },
    {
     "name": "stdout",
     "output_type": "stream",
     "text": [
      "Train Loss: 127.3964\n",
      "Val Loss: 145.9668\n",
      "Epoch 639 of 1000\n"
     ]
    },
    {
     "name": "stderr",
     "output_type": "stream",
     "text": [
      "469it [00:06, 75.63it/s]                         \n",
      "79it [00:00, 106.17it/s]                        \n",
      "  2%|▏         | 8/468 [00:00<00:06, 74.39it/s]"
     ]
    },
    {
     "name": "stdout",
     "output_type": "stream",
     "text": [
      "Train Loss: 127.4434\n",
      "Val Loss: 146.0950\n",
      "Epoch 640 of 1000\n"
     ]
    },
    {
     "name": "stderr",
     "output_type": "stream",
     "text": [
      "469it [00:06, 74.99it/s]                         \n",
      "79it [00:00, 103.47it/s]                        \n",
      "  2%|▏         | 8/468 [00:00<00:06, 76.31it/s]"
     ]
    },
    {
     "name": "stdout",
     "output_type": "stream",
     "text": [
      "Train Loss: 127.4364\n",
      "Val Loss: 146.1990\n",
      "Epoch 641 of 1000\n"
     ]
    },
    {
     "name": "stderr",
     "output_type": "stream",
     "text": [
      "469it [00:06, 75.76it/s]                         \n",
      "79it [00:00, 104.65it/s]                        \n",
      "  2%|▏         | 8/468 [00:00<00:06, 76.59it/s]"
     ]
    },
    {
     "name": "stdout",
     "output_type": "stream",
     "text": [
      "Train Loss: 127.4031\n",
      "Val Loss: 145.9666\n",
      "Epoch 642 of 1000\n"
     ]
    },
    {
     "name": "stderr",
     "output_type": "stream",
     "text": [
      "469it [00:06, 74.35it/s]\n",
      "79it [00:00, 103.95it/s]                        \n",
      "  2%|▏         | 8/468 [00:00<00:06, 75.56it/s]"
     ]
    },
    {
     "name": "stdout",
     "output_type": "stream",
     "text": [
      "Train Loss: 127.4367\n",
      "Val Loss: 145.8401\n",
      "Epoch 643 of 1000\n"
     ]
    },
    {
     "name": "stderr",
     "output_type": "stream",
     "text": [
      "469it [00:06, 75.00it/s]                         \n",
      "79it [00:00, 105.87it/s]                        \n",
      "  2%|▏         | 8/468 [00:00<00:06, 76.06it/s]"
     ]
    },
    {
     "name": "stdout",
     "output_type": "stream",
     "text": [
      "Train Loss: 127.3992\n",
      "Val Loss: 145.8186\n",
      "Epoch 644 of 1000\n"
     ]
    },
    {
     "name": "stderr",
     "output_type": "stream",
     "text": [
      "469it [00:06, 73.98it/s]                         \n",
      "79it [00:00, 102.08it/s]                        \n",
      "  1%|▏         | 7/468 [00:00<00:07, 64.53it/s]"
     ]
    },
    {
     "name": "stdout",
     "output_type": "stream",
     "text": [
      "Train Loss: 127.3864\n",
      "Val Loss: 145.9240\n",
      "Epoch 645 of 1000\n"
     ]
    },
    {
     "name": "stderr",
     "output_type": "stream",
     "text": [
      "469it [00:06, 74.80it/s]                         \n",
      "79it [00:00, 102.81it/s]                        \n",
      "  2%|▏         | 8/468 [00:00<00:05, 77.54it/s]"
     ]
    },
    {
     "name": "stdout",
     "output_type": "stream",
     "text": [
      "Train Loss: 127.3758\n",
      "Val Loss: 146.2842\n",
      "Epoch 646 of 1000\n"
     ]
    },
    {
     "name": "stderr",
     "output_type": "stream",
     "text": [
      "469it [00:06, 74.98it/s]                         \n",
      "79it [00:00, 104.63it/s]                        \n",
      "  2%|▏         | 8/468 [00:00<00:06, 74.56it/s]"
     ]
    },
    {
     "name": "stdout",
     "output_type": "stream",
     "text": [
      "Train Loss: 127.3377\n",
      "Val Loss: 145.9790\n",
      "Epoch 647 of 1000\n"
     ]
    },
    {
     "name": "stderr",
     "output_type": "stream",
     "text": [
      "469it [00:06, 75.12it/s]                         \n",
      "79it [00:00, 102.22it/s]                        \n",
      "  2%|▏         | 8/468 [00:00<00:06, 75.71it/s]"
     ]
    },
    {
     "name": "stdout",
     "output_type": "stream",
     "text": [
      "Train Loss: 127.3658\n",
      "Val Loss: 146.1903\n",
      "Epoch 648 of 1000\n"
     ]
    },
    {
     "name": "stderr",
     "output_type": "stream",
     "text": [
      "469it [00:06, 75.05it/s]                         \n",
      "79it [00:00, 100.67it/s]                       \n",
      "  2%|▏         | 8/468 [00:00<00:05, 76.99it/s]"
     ]
    },
    {
     "name": "stdout",
     "output_type": "stream",
     "text": [
      "Train Loss: 127.4000\n",
      "Val Loss: 146.2495\n",
      "Epoch 649 of 1000\n"
     ]
    },
    {
     "name": "stderr",
     "output_type": "stream",
     "text": [
      "469it [00:06, 75.86it/s]                         \n",
      "79it [00:00, 102.44it/s]                       \n",
      "  2%|▏         | 8/468 [00:00<00:06, 74.82it/s]"
     ]
    },
    {
     "name": "stdout",
     "output_type": "stream",
     "text": [
      "Train Loss: 127.3813\n",
      "Val Loss: 146.3255\n",
      "Epoch 650 of 1000\n"
     ]
    },
    {
     "name": "stderr",
     "output_type": "stream",
     "text": [
      "469it [00:06, 75.26it/s]                         \n",
      "79it [00:00, 102.78it/s]                        \n",
      "  1%|▏         | 6/468 [00:00<00:07, 58.81it/s]"
     ]
    },
    {
     "name": "stdout",
     "output_type": "stream",
     "text": [
      "Train Loss: 127.3870\n",
      "Val Loss: 145.8669\n",
      "Epoch 651 of 1000\n"
     ]
    },
    {
     "name": "stderr",
     "output_type": "stream",
     "text": [
      "469it [00:06, 75.12it/s]                         \n",
      "79it [00:00, 102.51it/s]                        \n",
      "  2%|▏         | 8/468 [00:00<00:06, 71.07it/s]"
     ]
    },
    {
     "name": "stdout",
     "output_type": "stream",
     "text": [
      "Train Loss: 127.3680\n",
      "Val Loss: 146.0133\n",
      "Epoch 652 of 1000\n"
     ]
    },
    {
     "name": "stderr",
     "output_type": "stream",
     "text": [
      "469it [00:06, 75.76it/s]\n",
      "79it [00:00, 105.12it/s]                        \n",
      "  2%|▏         | 8/468 [00:00<00:06, 70.19it/s]"
     ]
    },
    {
     "name": "stdout",
     "output_type": "stream",
     "text": [
      "Train Loss: 127.3249\n",
      "Val Loss: 146.0040\n",
      "Epoch 653 of 1000\n"
     ]
    },
    {
     "name": "stderr",
     "output_type": "stream",
     "text": [
      "469it [00:06, 75.76it/s]                         \n",
      "79it [00:00, 97.37it/s]                        \n",
      "  2%|▏         | 8/468 [00:00<00:05, 78.30it/s]"
     ]
    },
    {
     "name": "stdout",
     "output_type": "stream",
     "text": [
      "Train Loss: 127.3381\n",
      "Val Loss: 145.9712\n",
      "Epoch 654 of 1000\n"
     ]
    },
    {
     "name": "stderr",
     "output_type": "stream",
     "text": [
      "469it [00:06, 75.30it/s]                         \n",
      "79it [00:00, 102.98it/s]                        \n",
      "  2%|▏         | 8/468 [00:00<00:05, 76.93it/s]"
     ]
    },
    {
     "name": "stdout",
     "output_type": "stream",
     "text": [
      "Train Loss: 127.3584\n",
      "Val Loss: 145.9786\n",
      "Epoch 655 of 1000\n"
     ]
    },
    {
     "name": "stderr",
     "output_type": "stream",
     "text": [
      "469it [00:06, 75.09it/s]                         \n",
      "79it [00:00, 101.46it/s]                        \n",
      "  2%|▏         | 8/468 [00:00<00:06, 75.42it/s]"
     ]
    },
    {
     "name": "stdout",
     "output_type": "stream",
     "text": [
      "Train Loss: 127.2964\n",
      "Val Loss: 145.7353\n",
      "Epoch 656 of 1000\n"
     ]
    },
    {
     "name": "stderr",
     "output_type": "stream",
     "text": [
      "469it [00:06, 74.42it/s]                         \n",
      "79it [00:00, 100.56it/s]                        \n",
      "  2%|▏         | 8/468 [00:00<00:05, 77.93it/s]"
     ]
    },
    {
     "name": "stdout",
     "output_type": "stream",
     "text": [
      "Train Loss: 127.3098\n",
      "Val Loss: 145.8742\n",
      "Epoch 657 of 1000\n"
     ]
    },
    {
     "name": "stderr",
     "output_type": "stream",
     "text": [
      "469it [00:06, 74.90it/s]                         \n",
      "79it [00:00, 101.07it/s]                        \n",
      "  2%|▏         | 8/468 [00:00<00:06, 72.72it/s]"
     ]
    },
    {
     "name": "stdout",
     "output_type": "stream",
     "text": [
      "Train Loss: 127.3327\n",
      "Val Loss: 145.8225\n",
      "Epoch 658 of 1000\n"
     ]
    },
    {
     "name": "stderr",
     "output_type": "stream",
     "text": [
      "469it [00:06, 75.27it/s]                         \n",
      "79it [00:00, 102.46it/s]                        \n",
      "  2%|▏         | 8/468 [00:00<00:05, 78.00it/s]"
     ]
    },
    {
     "name": "stdout",
     "output_type": "stream",
     "text": [
      "Train Loss: 127.2866\n",
      "Val Loss: 146.0364\n",
      "Epoch 659 of 1000\n"
     ]
    },
    {
     "name": "stderr",
     "output_type": "stream",
     "text": [
      "469it [00:06, 75.68it/s]                         \n",
      "79it [00:00, 101.73it/s]                       \n",
      "  2%|▏         | 8/468 [00:00<00:06, 70.78it/s]"
     ]
    },
    {
     "name": "stdout",
     "output_type": "stream",
     "text": [
      "Train Loss: 127.3276\n",
      "Val Loss: 146.2032\n",
      "Epoch 660 of 1000\n"
     ]
    },
    {
     "name": "stderr",
     "output_type": "stream",
     "text": [
      "469it [00:06, 75.28it/s]                         \n",
      "79it [00:00, 103.90it/s]                        \n",
      "  2%|▏         | 8/468 [00:00<00:05, 76.84it/s]"
     ]
    },
    {
     "name": "stdout",
     "output_type": "stream",
     "text": [
      "Train Loss: 127.3083\n",
      "Val Loss: 145.9201\n",
      "Epoch 661 of 1000\n"
     ]
    },
    {
     "name": "stderr",
     "output_type": "stream",
     "text": [
      "469it [00:06, 75.97it/s]                         \n",
      "79it [00:00, 99.17it/s]                        \n",
      "  2%|▏         | 8/468 [00:00<00:06, 76.49it/s]"
     ]
    },
    {
     "name": "stdout",
     "output_type": "stream",
     "text": [
      "Train Loss: 127.2871\n",
      "Val Loss: 145.9399\n",
      "Epoch 662 of 1000\n"
     ]
    },
    {
     "name": "stderr",
     "output_type": "stream",
     "text": [
      "469it [00:06, 74.67it/s]                         \n",
      "79it [00:00, 104.05it/s]                        \n",
      "  2%|▏         | 8/468 [00:00<00:06, 76.48it/s]"
     ]
    },
    {
     "name": "stdout",
     "output_type": "stream",
     "text": [
      "Train Loss: 127.2683\n",
      "Val Loss: 146.0923\n",
      "Epoch 663 of 1000\n"
     ]
    },
    {
     "name": "stderr",
     "output_type": "stream",
     "text": [
      "469it [00:06, 75.49it/s]                         \n",
      "79it [00:00, 103.30it/s]                        \n",
      "  2%|▏         | 8/468 [00:00<00:06, 76.37it/s]"
     ]
    },
    {
     "name": "stdout",
     "output_type": "stream",
     "text": [
      "Train Loss: 127.2688\n",
      "Val Loss: 146.2688\n",
      "Epoch 664 of 1000\n"
     ]
    },
    {
     "name": "stderr",
     "output_type": "stream",
     "text": [
      "469it [00:06, 75.32it/s]                         \n",
      "79it [00:00, 103.75it/s]                        \n",
      "  2%|▏         | 8/468 [00:00<00:06, 73.12it/s]"
     ]
    },
    {
     "name": "stdout",
     "output_type": "stream",
     "text": [
      "Train Loss: 127.2829\n",
      "Val Loss: 146.2686\n",
      "Epoch 665 of 1000\n"
     ]
    },
    {
     "name": "stderr",
     "output_type": "stream",
     "text": [
      "469it [00:06, 75.04it/s]                         \n",
      "79it [00:00, 103.17it/s]                        \n",
      "  2%|▏         | 8/468 [00:00<00:05, 79.68it/s]"
     ]
    },
    {
     "name": "stdout",
     "output_type": "stream",
     "text": [
      "Train Loss: 127.2936\n",
      "Val Loss: 146.4644\n",
      "Epoch 666 of 1000\n"
     ]
    },
    {
     "name": "stderr",
     "output_type": "stream",
     "text": [
      "469it [00:06, 74.53it/s]                         \n",
      "79it [00:00, 101.76it/s]                        \n",
      "  1%|▏         | 7/468 [00:00<00:06, 66.38it/s]"
     ]
    },
    {
     "name": "stdout",
     "output_type": "stream",
     "text": [
      "Train Loss: 127.3169\n",
      "Val Loss: 146.2841\n",
      "Epoch 667 of 1000\n"
     ]
    },
    {
     "name": "stderr",
     "output_type": "stream",
     "text": [
      "469it [00:06, 74.05it/s]\n",
      "79it [00:00, 103.27it/s]                        \n",
      "  2%|▏         | 8/468 [00:00<00:06, 75.15it/s]"
     ]
    },
    {
     "name": "stdout",
     "output_type": "stream",
     "text": [
      "Train Loss: 127.2607\n",
      "Val Loss: 145.7998\n",
      "Epoch 668 of 1000\n"
     ]
    },
    {
     "name": "stderr",
     "output_type": "stream",
     "text": [
      "469it [00:06, 74.83it/s]                         \n",
      "79it [00:00, 101.47it/s]                        \n",
      "  2%|▏         | 8/468 [00:00<00:06, 74.94it/s]"
     ]
    },
    {
     "name": "stdout",
     "output_type": "stream",
     "text": [
      "Train Loss: 127.2577\n",
      "Val Loss: 146.1049\n",
      "Epoch 669 of 1000\n"
     ]
    },
    {
     "name": "stderr",
     "output_type": "stream",
     "text": [
      "469it [00:06, 75.65it/s]                         \n",
      "79it [00:00, 100.72it/s]                        \n",
      "  2%|▏         | 8/468 [00:00<00:06, 76.28it/s]"
     ]
    },
    {
     "name": "stdout",
     "output_type": "stream",
     "text": [
      "Train Loss: 127.2546\n",
      "Val Loss: 145.9795\n",
      "Epoch 670 of 1000\n"
     ]
    },
    {
     "name": "stderr",
     "output_type": "stream",
     "text": [
      "469it [00:06, 75.74it/s]                         \n",
      "79it [00:00, 101.96it/s]                        \n",
      "  2%|▏         | 8/468 [00:00<00:06, 75.47it/s]"
     ]
    },
    {
     "name": "stdout",
     "output_type": "stream",
     "text": [
      "Train Loss: 127.1934\n",
      "Val Loss: 146.3920\n",
      "Epoch 671 of 1000\n"
     ]
    },
    {
     "name": "stderr",
     "output_type": "stream",
     "text": [
      "469it [00:06, 73.18it/s]                         \n",
      "79it [00:00, 97.21it/s]                        \n",
      "  2%|▏         | 8/468 [00:00<00:06, 75.91it/s]"
     ]
    },
    {
     "name": "stdout",
     "output_type": "stream",
     "text": [
      "Train Loss: 127.2662\n",
      "Val Loss: 146.1396\n",
      "Epoch 672 of 1000\n"
     ]
    },
    {
     "name": "stderr",
     "output_type": "stream",
     "text": [
      "469it [00:06, 72.30it/s]                         \n",
      "79it [00:00, 100.63it/s]                        \n",
      "  1%|▏         | 7/468 [00:00<00:07, 60.80it/s]"
     ]
    },
    {
     "name": "stdout",
     "output_type": "stream",
     "text": [
      "Train Loss: 127.2208\n",
      "Val Loss: 146.4894\n",
      "Epoch 673 of 1000\n"
     ]
    },
    {
     "name": "stderr",
     "output_type": "stream",
     "text": [
      "469it [00:06, 72.44it/s]                         \n",
      "79it [00:00, 101.12it/s]                       \n",
      "  2%|▏         | 8/468 [00:00<00:06, 76.64it/s]"
     ]
    },
    {
     "name": "stdout",
     "output_type": "stream",
     "text": [
      "Train Loss: 127.2222\n",
      "Val Loss: 146.3933\n",
      "Epoch 674 of 1000\n"
     ]
    },
    {
     "name": "stderr",
     "output_type": "stream",
     "text": [
      "469it [00:06, 75.69it/s]                         \n",
      "79it [00:00, 103.76it/s]                        \n",
      "  2%|▏         | 8/468 [00:00<00:06, 72.62it/s]"
     ]
    },
    {
     "name": "stdout",
     "output_type": "stream",
     "text": [
      "Train Loss: 127.1940\n",
      "Val Loss: 145.9642\n",
      "Epoch 675 of 1000\n"
     ]
    },
    {
     "name": "stderr",
     "output_type": "stream",
     "text": [
      "469it [00:06, 75.64it/s]                         \n",
      "79it [00:00, 104.62it/s]                        \n",
      "  2%|▏         | 9/468 [00:00<00:05, 79.63it/s]"
     ]
    },
    {
     "name": "stdout",
     "output_type": "stream",
     "text": [
      "Train Loss: 127.1979\n",
      "Val Loss: 146.4418\n",
      "Epoch 676 of 1000\n"
     ]
    },
    {
     "name": "stderr",
     "output_type": "stream",
     "text": [
      "469it [00:06, 75.14it/s]                         \n",
      "79it [00:00, 103.32it/s]                        \n",
      "  2%|▏         | 8/468 [00:00<00:05, 77.11it/s]"
     ]
    },
    {
     "name": "stdout",
     "output_type": "stream",
     "text": [
      "Train Loss: 127.3279\n",
      "Val Loss: 146.1229\n",
      "Epoch 677 of 1000\n"
     ]
    },
    {
     "name": "stderr",
     "output_type": "stream",
     "text": [
      "469it [00:06, 75.31it/s]                         \n",
      "79it [00:00, 103.41it/s]                        \n",
      "  2%|▏         | 8/468 [00:00<00:06, 75.59it/s]"
     ]
    },
    {
     "name": "stdout",
     "output_type": "stream",
     "text": [
      "Train Loss: 127.1961\n",
      "Val Loss: 146.5323\n",
      "Epoch 678 of 1000\n"
     ]
    },
    {
     "name": "stderr",
     "output_type": "stream",
     "text": [
      "469it [00:06, 74.83it/s]                         \n",
      "79it [00:00, 98.15it/s]                        \n",
      "  2%|▏         | 8/468 [00:00<00:06, 74.47it/s]"
     ]
    },
    {
     "name": "stdout",
     "output_type": "stream",
     "text": [
      "Train Loss: 127.1933\n",
      "Val Loss: 146.2497\n",
      "Epoch 679 of 1000\n"
     ]
    },
    {
     "name": "stderr",
     "output_type": "stream",
     "text": [
      "469it [00:06, 73.88it/s]                         \n",
      "79it [00:00, 104.70it/s]                        \n",
      "  2%|▏         | 8/468 [00:00<00:05, 77.44it/s]"
     ]
    },
    {
     "name": "stdout",
     "output_type": "stream",
     "text": [
      "Train Loss: 127.1835\n",
      "Val Loss: 146.3859\n",
      "Epoch 680 of 1000\n"
     ]
    },
    {
     "name": "stderr",
     "output_type": "stream",
     "text": [
      "469it [00:06, 76.03it/s]                         \n",
      "79it [00:00, 105.66it/s]                        \n",
      "  2%|▏         | 8/468 [00:00<00:05, 78.04it/s]"
     ]
    },
    {
     "name": "stdout",
     "output_type": "stream",
     "text": [
      "Train Loss: 127.1457\n",
      "Val Loss: 146.7000\n",
      "Epoch 681 of 1000\n"
     ]
    },
    {
     "name": "stderr",
     "output_type": "stream",
     "text": [
      "469it [00:06, 76.32it/s]                         \n",
      "79it [00:00, 104.25it/s]                        \n",
      "  2%|▏         | 8/468 [00:00<00:06, 75.10it/s]"
     ]
    },
    {
     "name": "stdout",
     "output_type": "stream",
     "text": [
      "Train Loss: 127.2238\n",
      "Val Loss: 146.3280\n",
      "Epoch 682 of 1000\n"
     ]
    },
    {
     "name": "stderr",
     "output_type": "stream",
     "text": [
      "469it [00:06, 74.97it/s]                         \n",
      "79it [00:00, 102.76it/s]                        \n",
      "  2%|▏         | 8/468 [00:00<00:06, 75.13it/s]"
     ]
    },
    {
     "name": "stdout",
     "output_type": "stream",
     "text": [
      "Train Loss: 127.1600\n",
      "Val Loss: 146.2164\n",
      "Epoch 683 of 1000\n"
     ]
    },
    {
     "name": "stderr",
     "output_type": "stream",
     "text": [
      "469it [00:06, 76.27it/s]                         \n",
      "79it [00:00, 103.34it/s]                        \n",
      "  2%|▏         | 8/468 [00:00<00:06, 75.28it/s]"
     ]
    },
    {
     "name": "stdout",
     "output_type": "stream",
     "text": [
      "Train Loss: 127.1812\n",
      "Val Loss: 146.4647\n",
      "Epoch 684 of 1000\n"
     ]
    },
    {
     "name": "stderr",
     "output_type": "stream",
     "text": [
      "469it [00:06, 76.06it/s]                         \n",
      "79it [00:00, 100.90it/s]                       \n",
      "  2%|▏         | 8/468 [00:00<00:06, 75.86it/s]"
     ]
    },
    {
     "name": "stdout",
     "output_type": "stream",
     "text": [
      "Train Loss: 127.1418\n",
      "Val Loss: 146.2388\n",
      "Epoch 685 of 1000\n"
     ]
    },
    {
     "name": "stderr",
     "output_type": "stream",
     "text": [
      "469it [00:06, 76.17it/s]                         \n",
      "79it [00:00, 103.13it/s]                        \n",
      "  2%|▏         | 8/468 [00:00<00:05, 79.11it/s]"
     ]
    },
    {
     "name": "stdout",
     "output_type": "stream",
     "text": [
      "Train Loss: 127.1582\n",
      "Val Loss: 146.3244\n",
      "Epoch 686 of 1000\n"
     ]
    },
    {
     "name": "stderr",
     "output_type": "stream",
     "text": [
      "469it [00:06, 76.16it/s]\n",
      "79it [00:00, 101.00it/s]                        \n",
      "  2%|▏         | 8/468 [00:00<00:06, 74.79it/s]"
     ]
    },
    {
     "name": "stdout",
     "output_type": "stream",
     "text": [
      "Train Loss: 127.1541\n",
      "Val Loss: 146.3901\n",
      "Epoch 687 of 1000\n"
     ]
    },
    {
     "name": "stderr",
     "output_type": "stream",
     "text": [
      "469it [00:06, 74.94it/s]\n",
      "79it [00:00, 99.69it/s]                         \n",
      "  2%|▏         | 8/468 [00:00<00:06, 74.95it/s]"
     ]
    },
    {
     "name": "stdout",
     "output_type": "stream",
     "text": [
      "Train Loss: 127.1732\n",
      "Val Loss: 146.0811\n",
      "Epoch 688 of 1000\n"
     ]
    },
    {
     "name": "stderr",
     "output_type": "stream",
     "text": [
      "469it [00:06, 74.70it/s]                         \n",
      "79it [00:00, 103.41it/s]                        \n",
      "  2%|▏         | 8/468 [00:00<00:05, 76.90it/s]"
     ]
    },
    {
     "name": "stdout",
     "output_type": "stream",
     "text": [
      "Train Loss: 127.1179\n",
      "Val Loss: 146.2546\n",
      "Epoch 689 of 1000\n"
     ]
    },
    {
     "name": "stderr",
     "output_type": "stream",
     "text": [
      "469it [00:06, 75.47it/s]                         \n",
      "79it [00:00, 97.23it/s]                        \n",
      "  2%|▏         | 8/468 [00:00<00:05, 77.90it/s]"
     ]
    },
    {
     "name": "stdout",
     "output_type": "stream",
     "text": [
      "Train Loss: 127.1399\n",
      "Val Loss: 146.3658\n",
      "Epoch 690 of 1000\n"
     ]
    },
    {
     "name": "stderr",
     "output_type": "stream",
     "text": [
      "469it [00:06, 74.63it/s]                         \n",
      "79it [00:00, 102.47it/s]                        \n",
      "  2%|▏         | 8/468 [00:00<00:05, 77.62it/s]"
     ]
    },
    {
     "name": "stdout",
     "output_type": "stream",
     "text": [
      "Train Loss: 127.1284\n",
      "Val Loss: 146.3674\n",
      "Epoch 691 of 1000\n"
     ]
    },
    {
     "name": "stderr",
     "output_type": "stream",
     "text": [
      "469it [00:06, 75.03it/s]                         \n",
      "79it [00:00, 103.38it/s]                        \n",
      "  1%|▏         | 7/468 [00:00<00:06, 68.84it/s]"
     ]
    },
    {
     "name": "stdout",
     "output_type": "stream",
     "text": [
      "Train Loss: 127.1237\n",
      "Val Loss: 146.2781\n",
      "Epoch 692 of 1000\n"
     ]
    },
    {
     "name": "stderr",
     "output_type": "stream",
     "text": [
      "469it [00:06, 75.22it/s]                         \n",
      "79it [00:00, 102.48it/s]                        \n",
      "  2%|▏         | 8/468 [00:00<00:06, 75.77it/s]"
     ]
    },
    {
     "name": "stdout",
     "output_type": "stream",
     "text": [
      "Train Loss: 127.1226\n",
      "Val Loss: 146.1760\n",
      "Epoch 693 of 1000\n"
     ]
    },
    {
     "name": "stderr",
     "output_type": "stream",
     "text": [
      "469it [00:06, 75.76it/s]\n",
      "79it [00:00, 102.52it/s]                       \n",
      "  2%|▏         | 8/468 [00:00<00:06, 75.89it/s]"
     ]
    },
    {
     "name": "stdout",
     "output_type": "stream",
     "text": [
      "Train Loss: 127.1088\n",
      "Val Loss: 146.4438\n",
      "Epoch 694 of 1000\n"
     ]
    },
    {
     "name": "stderr",
     "output_type": "stream",
     "text": [
      "469it [00:06, 76.26it/s]                         \n",
      "79it [00:00, 104.04it/s]                        \n",
      "  2%|▏         | 8/468 [00:00<00:06, 75.57it/s]"
     ]
    },
    {
     "name": "stdout",
     "output_type": "stream",
     "text": [
      "Train Loss: 127.0835\n",
      "Val Loss: 146.5751\n",
      "Epoch 695 of 1000\n"
     ]
    },
    {
     "name": "stderr",
     "output_type": "stream",
     "text": [
      "469it [00:06, 75.13it/s]                         \n",
      "79it [00:00, 101.30it/s]                       \n",
      "  2%|▏         | 8/468 [00:00<00:06, 72.66it/s]"
     ]
    },
    {
     "name": "stdout",
     "output_type": "stream",
     "text": [
      "Train Loss: 127.0830\n",
      "Val Loss: 146.1875\n",
      "Epoch 696 of 1000\n"
     ]
    },
    {
     "name": "stderr",
     "output_type": "stream",
     "text": [
      "469it [00:06, 73.60it/s]                         \n",
      "79it [00:00, 103.78it/s]                        \n",
      "  2%|▏         | 8/468 [00:00<00:05, 77.88it/s]"
     ]
    },
    {
     "name": "stdout",
     "output_type": "stream",
     "text": [
      "Train Loss: 127.1169\n",
      "Val Loss: 146.3439\n",
      "Epoch 697 of 1000\n"
     ]
    },
    {
     "name": "stderr",
     "output_type": "stream",
     "text": [
      "469it [00:06, 75.40it/s]                         \n",
      "79it [00:00, 102.83it/s]                        \n",
      "  2%|▏         | 8/468 [00:00<00:06, 71.05it/s]"
     ]
    },
    {
     "name": "stdout",
     "output_type": "stream",
     "text": [
      "Train Loss: 127.0953\n",
      "Val Loss: 146.3096\n",
      "Epoch 698 of 1000\n"
     ]
    },
    {
     "name": "stderr",
     "output_type": "stream",
     "text": [
      "469it [00:06, 75.87it/s]                         \n",
      "79it [00:00, 103.17it/s]                        \n",
      "  2%|▏         | 8/468 [00:00<00:06, 76.09it/s]"
     ]
    },
    {
     "name": "stdout",
     "output_type": "stream",
     "text": [
      "Train Loss: 127.0985\n",
      "Val Loss: 146.3119\n",
      "Epoch 699 of 1000\n"
     ]
    },
    {
     "name": "stderr",
     "output_type": "stream",
     "text": [
      "469it [00:06, 75.09it/s]                         \n",
      "79it [00:00, 102.90it/s]                        \n",
      "  2%|▏         | 8/468 [00:00<00:05, 76.74it/s]"
     ]
    },
    {
     "name": "stdout",
     "output_type": "stream",
     "text": [
      "Train Loss: 127.0703\n",
      "Val Loss: 146.3767\n",
      "Epoch 700 of 1000\n"
     ]
    },
    {
     "name": "stderr",
     "output_type": "stream",
     "text": [
      "469it [00:06, 74.50it/s]                         \n",
      "79it [00:00, 99.24it/s]                        \n",
      "  2%|▏         | 8/468 [00:00<00:06, 71.82it/s]"
     ]
    },
    {
     "name": "stdout",
     "output_type": "stream",
     "text": [
      "Train Loss: 127.0944\n",
      "Val Loss: 146.1451\n",
      "Epoch 701 of 1000\n"
     ]
    },
    {
     "name": "stderr",
     "output_type": "stream",
     "text": [
      "469it [00:06, 74.07it/s]                         \n",
      "79it [00:00, 102.10it/s]                        \n",
      "  2%|▏         | 8/468 [00:00<00:06, 74.07it/s]"
     ]
    },
    {
     "name": "stdout",
     "output_type": "stream",
     "text": [
      "Train Loss: 127.0511\n",
      "Val Loss: 146.2270\n",
      "Epoch 702 of 1000\n"
     ]
    },
    {
     "name": "stderr",
     "output_type": "stream",
     "text": [
      "469it [00:06, 74.08it/s]                         \n",
      "79it [00:00, 104.43it/s]                        \n",
      "  2%|▏         | 8/468 [00:00<00:06, 76.09it/s]"
     ]
    },
    {
     "name": "stdout",
     "output_type": "stream",
     "text": [
      "Train Loss: 127.0177\n",
      "Val Loss: 146.5203\n",
      "Epoch 703 of 1000\n"
     ]
    },
    {
     "name": "stderr",
     "output_type": "stream",
     "text": [
      "469it [00:06, 76.20it/s]\n",
      "79it [00:00, 103.35it/s]                        \n",
      "  1%|▏         | 7/468 [00:00<00:06, 68.61it/s]"
     ]
    },
    {
     "name": "stdout",
     "output_type": "stream",
     "text": [
      "Train Loss: 127.0614\n",
      "Val Loss: 146.3201\n",
      "Epoch 704 of 1000\n"
     ]
    },
    {
     "name": "stderr",
     "output_type": "stream",
     "text": [
      "469it [00:06, 75.49it/s]                         \n",
      "79it [00:00, 101.57it/s]                        \n",
      "  2%|▏         | 8/468 [00:00<00:06, 75.22it/s]"
     ]
    },
    {
     "name": "stdout",
     "output_type": "stream",
     "text": [
      "Train Loss: 127.0658\n",
      "Val Loss: 146.5227\n",
      "Epoch 705 of 1000\n"
     ]
    },
    {
     "name": "stderr",
     "output_type": "stream",
     "text": [
      "469it [00:06, 74.41it/s]                         \n",
      "79it [00:00, 101.60it/s]                        \n",
      "  2%|▏         | 8/468 [00:00<00:05, 77.25it/s]"
     ]
    },
    {
     "name": "stdout",
     "output_type": "stream",
     "text": [
      "Train Loss: 127.1049\n",
      "Val Loss: 146.5784\n",
      "Epoch 706 of 1000\n"
     ]
    },
    {
     "name": "stderr",
     "output_type": "stream",
     "text": [
      "469it [00:06, 76.06it/s]                         \n",
      "79it [00:00, 103.32it/s]                        \n",
      "  2%|▏         | 8/468 [00:00<00:06, 72.03it/s]"
     ]
    },
    {
     "name": "stdout",
     "output_type": "stream",
     "text": [
      "Train Loss: 127.0708\n",
      "Val Loss: 146.6543\n",
      "Epoch 707 of 1000\n"
     ]
    },
    {
     "name": "stderr",
     "output_type": "stream",
     "text": [
      "469it [00:06, 75.99it/s]\n",
      "79it [00:00, 104.27it/s]                        \n",
      "  2%|▏         | 8/468 [00:00<00:06, 74.90it/s]"
     ]
    },
    {
     "name": "stdout",
     "output_type": "stream",
     "text": [
      "Train Loss: 127.0700\n",
      "Val Loss: 146.5539\n",
      "Epoch 708 of 1000\n"
     ]
    },
    {
     "name": "stderr",
     "output_type": "stream",
     "text": [
      "469it [00:06, 75.78it/s]                         \n",
      "79it [00:00, 103.58it/s]                        \n",
      "  2%|▏         | 8/468 [00:00<00:06, 75.61it/s]"
     ]
    },
    {
     "name": "stdout",
     "output_type": "stream",
     "text": [
      "Train Loss: 127.0296\n",
      "Val Loss: 146.6069\n",
      "Epoch 709 of 1000\n"
     ]
    },
    {
     "name": "stderr",
     "output_type": "stream",
     "text": [
      "469it [00:06, 74.99it/s]                         \n",
      "79it [00:00, 103.00it/s]                        \n",
      "  2%|▏         | 8/468 [00:00<00:06, 76.57it/s]"
     ]
    },
    {
     "name": "stdout",
     "output_type": "stream",
     "text": [
      "Train Loss: 127.0224\n",
      "Val Loss: 146.3854\n",
      "Epoch 710 of 1000\n"
     ]
    },
    {
     "name": "stderr",
     "output_type": "stream",
     "text": [
      "469it [00:06, 75.69it/s]                         \n",
      "79it [00:00, 104.23it/s]                        \n",
      "  1%|▏         | 7/468 [00:00<00:06, 67.22it/s]"
     ]
    },
    {
     "name": "stdout",
     "output_type": "stream",
     "text": [
      "Train Loss: 127.0188\n",
      "Val Loss: 146.6716\n",
      "Epoch 711 of 1000\n"
     ]
    },
    {
     "name": "stderr",
     "output_type": "stream",
     "text": [
      "469it [00:06, 75.11it/s]                         \n",
      "79it [00:00, 104.12it/s]                        \n",
      "  2%|▏         | 8/468 [00:00<00:05, 78.00it/s]"
     ]
    },
    {
     "name": "stdout",
     "output_type": "stream",
     "text": [
      "Train Loss: 127.0438\n",
      "Val Loss: 146.7227\n",
      "Epoch 712 of 1000\n"
     ]
    },
    {
     "name": "stderr",
     "output_type": "stream",
     "text": [
      "469it [00:06, 75.62it/s]                         \n",
      "79it [00:00, 103.12it/s]                        \n",
      "  2%|▏         | 8/468 [00:00<00:06, 75.83it/s]"
     ]
    },
    {
     "name": "stdout",
     "output_type": "stream",
     "text": [
      "Train Loss: 127.0308\n",
      "Val Loss: 146.2135\n",
      "Epoch 713 of 1000\n"
     ]
    },
    {
     "name": "stderr",
     "output_type": "stream",
     "text": [
      "469it [00:06, 73.11it/s]\n",
      "79it [00:00, 97.46it/s]                        \n",
      "  2%|▏         | 8/468 [00:00<00:06, 70.47it/s]"
     ]
    },
    {
     "name": "stdout",
     "output_type": "stream",
     "text": [
      "Train Loss: 126.9826\n",
      "Val Loss: 146.8053\n",
      "Epoch 714 of 1000\n"
     ]
    },
    {
     "name": "stderr",
     "output_type": "stream",
     "text": [
      "469it [00:06, 75.14it/s]                         \n",
      "79it [00:00, 101.40it/s]                        \n",
      "  2%|▏         | 8/468 [00:00<00:06, 75.67it/s]"
     ]
    },
    {
     "name": "stdout",
     "output_type": "stream",
     "text": [
      "Train Loss: 126.9512\n",
      "Val Loss: 146.5363\n",
      "Epoch 715 of 1000\n"
     ]
    },
    {
     "name": "stderr",
     "output_type": "stream",
     "text": [
      "469it [00:06, 74.29it/s]                         \n",
      "79it [00:00, 103.33it/s]                        \n",
      "  2%|▏         | 8/468 [00:00<00:06, 76.31it/s]"
     ]
    },
    {
     "name": "stdout",
     "output_type": "stream",
     "text": [
      "Train Loss: 127.0082\n",
      "Val Loss: 146.6010\n",
      "Epoch 716 of 1000\n"
     ]
    },
    {
     "name": "stderr",
     "output_type": "stream",
     "text": [
      "469it [00:06, 73.56it/s]                         \n",
      "79it [00:00, 100.86it/s]                       \n",
      "  2%|▏         | 8/468 [00:00<00:06, 72.35it/s]"
     ]
    },
    {
     "name": "stdout",
     "output_type": "stream",
     "text": [
      "Train Loss: 126.9635\n",
      "Val Loss: 146.3302\n",
      "Epoch 717 of 1000\n"
     ]
    },
    {
     "name": "stderr",
     "output_type": "stream",
     "text": [
      "469it [00:06, 73.06it/s]                         \n",
      "79it [00:00, 104.38it/s]                        \n",
      "  1%|▏         | 7/468 [00:00<00:06, 69.90it/s]"
     ]
    },
    {
     "name": "stdout",
     "output_type": "stream",
     "text": [
      "Train Loss: 126.9786\n",
      "Val Loss: 146.4085\n",
      "Epoch 718 of 1000\n"
     ]
    },
    {
     "name": "stderr",
     "output_type": "stream",
     "text": [
      "469it [00:06, 74.74it/s]                         \n",
      "79it [00:00, 105.21it/s]                        \n",
      "  1%|▏         | 7/468 [00:00<00:06, 67.67it/s]"
     ]
    },
    {
     "name": "stdout",
     "output_type": "stream",
     "text": [
      "Train Loss: 126.9638\n",
      "Val Loss: 146.4973\n",
      "Epoch 719 of 1000\n"
     ]
    },
    {
     "name": "stderr",
     "output_type": "stream",
     "text": [
      "469it [00:06, 76.22it/s]                         \n",
      "79it [00:00, 102.20it/s]                        \n",
      "  2%|▏         | 8/468 [00:00<00:05, 78.10it/s]"
     ]
    },
    {
     "name": "stdout",
     "output_type": "stream",
     "text": [
      "Train Loss: 126.9774\n",
      "Val Loss: 146.6263\n",
      "Epoch 720 of 1000\n"
     ]
    },
    {
     "name": "stderr",
     "output_type": "stream",
     "text": [
      "469it [00:06, 77.02it/s]                         \n",
      "79it [00:00, 104.38it/s]                        \n",
      "  2%|▏         | 8/468 [00:00<00:05, 76.77it/s]"
     ]
    },
    {
     "name": "stdout",
     "output_type": "stream",
     "text": [
      "Train Loss: 126.9911\n",
      "Val Loss: 146.4132\n",
      "Epoch 721 of 1000\n"
     ]
    },
    {
     "name": "stderr",
     "output_type": "stream",
     "text": [
      "469it [00:06, 76.18it/s]                         \n",
      "79it [00:00, 103.73it/s]                        \n",
      "  2%|▏         | 8/468 [00:00<00:05, 77.09it/s]"
     ]
    },
    {
     "name": "stdout",
     "output_type": "stream",
     "text": [
      "Train Loss: 126.9760\n",
      "Val Loss: 146.4558\n",
      "Epoch 722 of 1000\n"
     ]
    },
    {
     "name": "stderr",
     "output_type": "stream",
     "text": [
      "469it [00:06, 74.66it/s]                         \n",
      "79it [00:00, 104.47it/s]                        \n",
      "  2%|▏         | 8/468 [00:00<00:06, 75.86it/s]"
     ]
    },
    {
     "name": "stdout",
     "output_type": "stream",
     "text": [
      "Train Loss: 126.9383\n",
      "Val Loss: 146.6443\n",
      "Epoch 723 of 1000\n"
     ]
    },
    {
     "name": "stderr",
     "output_type": "stream",
     "text": [
      "469it [00:06, 75.75it/s]                         \n",
      "79it [00:00, 103.92it/s]                        \n",
      "  1%|▏         | 7/468 [00:00<00:06, 67.44it/s]"
     ]
    },
    {
     "name": "stdout",
     "output_type": "stream",
     "text": [
      "Train Loss: 126.9246\n",
      "Val Loss: 146.6750\n",
      "Epoch 724 of 1000\n"
     ]
    },
    {
     "name": "stderr",
     "output_type": "stream",
     "text": [
      "469it [00:06, 75.31it/s]                         \n",
      "79it [00:00, 101.40it/s]                        \n",
      "  2%|▏         | 8/468 [00:00<00:06, 75.04it/s]"
     ]
    },
    {
     "name": "stdout",
     "output_type": "stream",
     "text": [
      "Train Loss: 126.9249\n",
      "Val Loss: 146.5056\n",
      "Epoch 725 of 1000\n"
     ]
    },
    {
     "name": "stderr",
     "output_type": "stream",
     "text": [
      "469it [00:06, 75.39it/s]                         \n",
      "79it [00:00, 104.27it/s]                        \n",
      "  2%|▏         | 8/468 [00:00<00:05, 79.58it/s]"
     ]
    },
    {
     "name": "stdout",
     "output_type": "stream",
     "text": [
      "Train Loss: 126.9417\n",
      "Val Loss: 146.5431\n",
      "Epoch 726 of 1000\n"
     ]
    },
    {
     "name": "stderr",
     "output_type": "stream",
     "text": [
      "469it [00:06, 75.52it/s]                         \n",
      "79it [00:00, 102.19it/s]                        \n",
      "  2%|▏         | 8/468 [00:00<00:06, 73.82it/s]"
     ]
    },
    {
     "name": "stdout",
     "output_type": "stream",
     "text": [
      "Train Loss: 126.9773\n",
      "Val Loss: 146.4735\n",
      "Epoch 727 of 1000\n"
     ]
    },
    {
     "name": "stderr",
     "output_type": "stream",
     "text": [
      "469it [00:06, 74.77it/s]                         \n",
      "79it [00:00, 102.70it/s]                        \n",
      "  2%|▏         | 8/468 [00:00<00:06, 75.96it/s]"
     ]
    },
    {
     "name": "stdout",
     "output_type": "stream",
     "text": [
      "Train Loss: 126.9234\n",
      "Val Loss: 146.5941\n",
      "Epoch 728 of 1000\n"
     ]
    },
    {
     "name": "stderr",
     "output_type": "stream",
     "text": [
      "469it [00:06, 75.23it/s]                         \n",
      "79it [00:00, 103.49it/s]                        \n",
      "  2%|▏         | 8/468 [00:00<00:05, 79.94it/s]"
     ]
    },
    {
     "name": "stdout",
     "output_type": "stream",
     "text": [
      "Train Loss: 126.9498\n",
      "Val Loss: 146.5079\n",
      "Epoch 729 of 1000\n"
     ]
    },
    {
     "name": "stderr",
     "output_type": "stream",
     "text": [
      "469it [00:06, 76.28it/s]                         \n",
      "79it [00:00, 103.55it/s]                        \n",
      "  2%|▏         | 8/468 [00:00<00:05, 79.41it/s]"
     ]
    },
    {
     "name": "stdout",
     "output_type": "stream",
     "text": [
      "Train Loss: 126.9138\n",
      "Val Loss: 146.2688\n",
      "Epoch 730 of 1000\n"
     ]
    },
    {
     "name": "stderr",
     "output_type": "stream",
     "text": [
      "469it [00:06, 75.22it/s]                         \n",
      "79it [00:00, 100.57it/s]                       \n",
      "  2%|▏         | 8/468 [00:00<00:06, 71.40it/s]"
     ]
    },
    {
     "name": "stdout",
     "output_type": "stream",
     "text": [
      "Train Loss: 126.9576\n",
      "Val Loss: 146.5410\n",
      "Epoch 731 of 1000\n"
     ]
    },
    {
     "name": "stderr",
     "output_type": "stream",
     "text": [
      "469it [00:06, 75.62it/s]                         \n",
      "79it [00:00, 104.55it/s]                        \n",
      "  2%|▏         | 8/468 [00:00<00:05, 77.49it/s]"
     ]
    },
    {
     "name": "stdout",
     "output_type": "stream",
     "text": [
      "Train Loss: 126.9207\n",
      "Val Loss: 146.5422\n",
      "Epoch 732 of 1000\n"
     ]
    },
    {
     "name": "stderr",
     "output_type": "stream",
     "text": [
      "469it [00:06, 74.87it/s]                         \n",
      "79it [00:00, 103.07it/s]                        \n",
      "  2%|▏         | 8/468 [00:00<00:05, 77.31it/s]"
     ]
    },
    {
     "name": "stdout",
     "output_type": "stream",
     "text": [
      "Train Loss: 126.8891\n",
      "Val Loss: 146.6168\n",
      "Epoch 733 of 1000\n"
     ]
    },
    {
     "name": "stderr",
     "output_type": "stream",
     "text": [
      "469it [00:06, 75.32it/s]                         \n",
      "79it [00:00, 103.65it/s]                        \n",
      "  2%|▏         | 8/468 [00:00<00:06, 75.31it/s]"
     ]
    },
    {
     "name": "stdout",
     "output_type": "stream",
     "text": [
      "Train Loss: 126.9074\n",
      "Val Loss: 146.5770\n",
      "Epoch 734 of 1000\n"
     ]
    },
    {
     "name": "stderr",
     "output_type": "stream",
     "text": [
      "469it [00:06, 75.12it/s]                         \n",
      "79it [00:00, 102.27it/s]                        \n",
      "  2%|▏         | 8/468 [00:00<00:06, 75.29it/s]"
     ]
    },
    {
     "name": "stdout",
     "output_type": "stream",
     "text": [
      "Train Loss: 126.9179\n",
      "Val Loss: 146.5081\n",
      "Epoch 735 of 1000\n"
     ]
    },
    {
     "name": "stderr",
     "output_type": "stream",
     "text": [
      "469it [00:06, 75.06it/s]                         \n",
      "79it [00:00, 101.71it/s]                       \n",
      "  2%|▏         | 8/468 [00:00<00:06, 71.40it/s]"
     ]
    },
    {
     "name": "stdout",
     "output_type": "stream",
     "text": [
      "Train Loss: 126.8825\n",
      "Val Loss: 146.6808\n",
      "Epoch 736 of 1000\n"
     ]
    },
    {
     "name": "stderr",
     "output_type": "stream",
     "text": [
      "469it [00:06, 73.85it/s]                         \n",
      "79it [00:00, 101.26it/s]                        \n",
      "  2%|▏         | 8/468 [00:00<00:06, 73.17it/s]"
     ]
    },
    {
     "name": "stdout",
     "output_type": "stream",
     "text": [
      "Train Loss: 126.8875\n",
      "Val Loss: 146.3133\n",
      "Epoch 737 of 1000\n"
     ]
    },
    {
     "name": "stderr",
     "output_type": "stream",
     "text": [
      "469it [00:06, 75.79it/s]                         \n",
      "79it [00:00, 103.91it/s]                        \n",
      "  2%|▏         | 8/468 [00:00<00:06, 70.99it/s]"
     ]
    },
    {
     "name": "stdout",
     "output_type": "stream",
     "text": [
      "Train Loss: 126.8840\n",
      "Val Loss: 146.5176\n",
      "Epoch 738 of 1000\n"
     ]
    },
    {
     "name": "stderr",
     "output_type": "stream",
     "text": [
      "469it [00:06, 76.34it/s]                         \n",
      "79it [00:00, 102.27it/s]                        \n",
      "  2%|▏         | 8/468 [00:00<00:06, 75.28it/s]"
     ]
    },
    {
     "name": "stdout",
     "output_type": "stream",
     "text": [
      "Train Loss: 126.8528\n",
      "Val Loss: 146.4073\n",
      "Epoch 739 of 1000\n"
     ]
    },
    {
     "name": "stderr",
     "output_type": "stream",
     "text": [
      "469it [00:06, 75.54it/s]\n",
      "79it [00:00, 101.19it/s]                        \n",
      "  2%|▏         | 8/468 [00:00<00:06, 76.39it/s]"
     ]
    },
    {
     "name": "stdout",
     "output_type": "stream",
     "text": [
      "Train Loss: 126.8504\n",
      "Val Loss: 146.6615\n",
      "Epoch 740 of 1000\n"
     ]
    },
    {
     "name": "stderr",
     "output_type": "stream",
     "text": [
      "469it [00:06, 76.55it/s]                         \n",
      "79it [00:00, 104.52it/s]                        \n",
      "  2%|▏         | 9/468 [00:00<00:05, 80.49it/s]"
     ]
    },
    {
     "name": "stdout",
     "output_type": "stream",
     "text": [
      "Train Loss: 126.8775\n",
      "Val Loss: 146.5657\n",
      "Epoch 741 of 1000\n"
     ]
    },
    {
     "name": "stderr",
     "output_type": "stream",
     "text": [
      "469it [00:06, 75.99it/s]                         \n",
      "79it [00:00, 104.34it/s]                        \n",
      "  2%|▏         | 8/468 [00:00<00:05, 79.05it/s]"
     ]
    },
    {
     "name": "stdout",
     "output_type": "stream",
     "text": [
      "Train Loss: 126.8425\n",
      "Val Loss: 146.1389\n",
      "Epoch 742 of 1000\n"
     ]
    },
    {
     "name": "stderr",
     "output_type": "stream",
     "text": [
      "469it [00:06, 76.49it/s]                         \n",
      "79it [00:00, 105.03it/s]                        \n",
      "  2%|▏         | 8/468 [00:00<00:05, 78.50it/s]"
     ]
    },
    {
     "name": "stdout",
     "output_type": "stream",
     "text": [
      "Train Loss: 126.8500\n",
      "Val Loss: 146.5687\n",
      "Epoch 743 of 1000\n"
     ]
    },
    {
     "name": "stderr",
     "output_type": "stream",
     "text": [
      "469it [00:06, 75.60it/s]                         \n",
      "79it [00:00, 102.50it/s]                        \n",
      "  2%|▏         | 8/468 [00:00<00:06, 71.61it/s]"
     ]
    },
    {
     "name": "stdout",
     "output_type": "stream",
     "text": [
      "Train Loss: 126.8343\n",
      "Val Loss: 146.5162\n",
      "Epoch 744 of 1000\n"
     ]
    },
    {
     "name": "stderr",
     "output_type": "stream",
     "text": [
      "469it [00:06, 75.27it/s]                         \n",
      "79it [00:00, 104.75it/s]                        \n",
      "  2%|▏         | 8/468 [00:00<00:06, 75.22it/s]"
     ]
    },
    {
     "name": "stdout",
     "output_type": "stream",
     "text": [
      "Train Loss: 126.8452\n",
      "Val Loss: 146.3813\n",
      "Epoch 745 of 1000\n"
     ]
    },
    {
     "name": "stderr",
     "output_type": "stream",
     "text": [
      "469it [00:06, 74.36it/s]                         \n",
      "79it [00:00, 104.61it/s]                        \n",
      "  2%|▏         | 8/468 [00:00<00:06, 75.95it/s]"
     ]
    },
    {
     "name": "stdout",
     "output_type": "stream",
     "text": [
      "Train Loss: 126.8200\n",
      "Val Loss: 146.5068\n",
      "Epoch 746 of 1000\n"
     ]
    },
    {
     "name": "stderr",
     "output_type": "stream",
     "text": [
      "469it [00:06, 76.14it/s]                         \n",
      "79it [00:00, 104.81it/s]                        \n",
      "  2%|▏         | 8/468 [00:00<00:06, 75.50it/s]"
     ]
    },
    {
     "name": "stdout",
     "output_type": "stream",
     "text": [
      "Train Loss: 126.8367\n",
      "Val Loss: 146.6837\n",
      "Epoch 747 of 1000\n"
     ]
    },
    {
     "name": "stderr",
     "output_type": "stream",
     "text": [
      "469it [00:06, 74.37it/s]                         \n",
      "79it [00:00, 102.75it/s]                        \n",
      "  2%|▏         | 8/468 [00:00<00:06, 76.56it/s]"
     ]
    },
    {
     "name": "stdout",
     "output_type": "stream",
     "text": [
      "Train Loss: 126.8230\n",
      "Val Loss: 146.3852\n",
      "Epoch 748 of 1000\n"
     ]
    },
    {
     "name": "stderr",
     "output_type": "stream",
     "text": [
      "469it [00:06, 74.69it/s]                         \n",
      "79it [00:00, 104.21it/s]                        \n",
      "  2%|▏         | 8/468 [00:00<00:06, 75.67it/s]"
     ]
    },
    {
     "name": "stdout",
     "output_type": "stream",
     "text": [
      "Train Loss: 126.8161\n",
      "Val Loss: 146.7158\n",
      "Epoch 749 of 1000\n"
     ]
    },
    {
     "name": "stderr",
     "output_type": "stream",
     "text": [
      "469it [00:06, 76.81it/s]                         \n",
      "79it [00:00, 105.49it/s]                        \n",
      "  2%|▏         | 8/468 [00:00<00:06, 72.07it/s]"
     ]
    },
    {
     "name": "stdout",
     "output_type": "stream",
     "text": [
      "Train Loss: 126.8286\n",
      "Val Loss: 146.6804\n",
      "Epoch 750 of 1000\n"
     ]
    },
    {
     "name": "stderr",
     "output_type": "stream",
     "text": [
      "469it [00:06, 76.79it/s]                         \n",
      "79it [00:00, 103.08it/s]                        \n",
      "  2%|▏         | 8/468 [00:00<00:05, 77.81it/s]"
     ]
    },
    {
     "name": "stdout",
     "output_type": "stream",
     "text": [
      "Train Loss: 126.8392\n",
      "Val Loss: 146.7187\n",
      "Epoch 751 of 1000\n"
     ]
    },
    {
     "name": "stderr",
     "output_type": "stream",
     "text": [
      "469it [00:06, 76.90it/s]\n",
      "79it [00:00, 103.69it/s]                        \n",
      "  2%|▏         | 8/468 [00:00<00:06, 73.08it/s]"
     ]
    },
    {
     "name": "stdout",
     "output_type": "stream",
     "text": [
      "Train Loss: 126.8025\n",
      "Val Loss: 146.6711\n",
      "Epoch 752 of 1000\n"
     ]
    },
    {
     "name": "stderr",
     "output_type": "stream",
     "text": [
      "469it [00:06, 76.49it/s]                         \n",
      "79it [00:00, 104.95it/s]                        \n",
      "  2%|▏         | 8/468 [00:00<00:05, 79.69it/s]"
     ]
    },
    {
     "name": "stdout",
     "output_type": "stream",
     "text": [
      "Train Loss: 126.7854\n",
      "Val Loss: 146.5247\n",
      "Epoch 753 of 1000\n"
     ]
    },
    {
     "name": "stderr",
     "output_type": "stream",
     "text": [
      "469it [00:06, 76.52it/s]                         \n",
      "79it [00:00, 102.29it/s]                        \n",
      "  2%|▏         | 8/468 [00:00<00:05, 79.23it/s]"
     ]
    },
    {
     "name": "stdout",
     "output_type": "stream",
     "text": [
      "Train Loss: 126.8160\n",
      "Val Loss: 146.7813\n",
      "Epoch 754 of 1000\n"
     ]
    },
    {
     "name": "stderr",
     "output_type": "stream",
     "text": [
      "469it [00:06, 75.98it/s]                         \n",
      "79it [00:00, 104.66it/s]                        \n",
      "  2%|▏         | 8/468 [00:00<00:06, 75.36it/s]"
     ]
    },
    {
     "name": "stdout",
     "output_type": "stream",
     "text": [
      "Train Loss: 126.7861\n",
      "Val Loss: 146.5439\n",
      "Epoch 755 of 1000\n"
     ]
    },
    {
     "name": "stderr",
     "output_type": "stream",
     "text": [
      "469it [00:06, 76.42it/s]                         \n",
      "79it [00:00, 105.56it/s]                        \n",
      "  1%|▏         | 7/468 [00:00<00:06, 66.62it/s]"
     ]
    },
    {
     "name": "stdout",
     "output_type": "stream",
     "text": [
      "Train Loss: 126.7786\n",
      "Val Loss: 146.5529\n",
      "Epoch 756 of 1000\n"
     ]
    },
    {
     "name": "stderr",
     "output_type": "stream",
     "text": [
      "469it [00:06, 75.54it/s]                         \n",
      "79it [00:00, 96.79it/s]                        \n",
      "  2%|▏         | 8/468 [00:00<00:06, 74.85it/s]"
     ]
    },
    {
     "name": "stdout",
     "output_type": "stream",
     "text": [
      "Train Loss: 126.7450\n",
      "Val Loss: 146.8565\n",
      "Epoch 757 of 1000\n"
     ]
    },
    {
     "name": "stderr",
     "output_type": "stream",
     "text": [
      "469it [00:06, 76.43it/s]                         \n",
      "79it [00:00, 104.06it/s]                        \n",
      "  2%|▏         | 8/468 [00:00<00:06, 76.58it/s]"
     ]
    },
    {
     "name": "stdout",
     "output_type": "stream",
     "text": [
      "Train Loss: 126.7841\n",
      "Val Loss: 146.8910\n",
      "Epoch 758 of 1000\n"
     ]
    },
    {
     "name": "stderr",
     "output_type": "stream",
     "text": [
      "469it [00:06, 75.55it/s]                         \n",
      "79it [00:00, 99.33it/s]                        \n",
      "  1%|▏         | 7/468 [00:00<00:07, 64.96it/s]"
     ]
    },
    {
     "name": "stdout",
     "output_type": "stream",
     "text": [
      "Train Loss: 126.7511\n",
      "Val Loss: 146.6439\n",
      "Epoch 759 of 1000\n"
     ]
    },
    {
     "name": "stderr",
     "output_type": "stream",
     "text": [
      "469it [00:06, 74.91it/s]                         \n",
      "79it [00:00, 104.00it/s]                        \n",
      "  1%|▏         | 7/468 [00:00<00:06, 67.65it/s]"
     ]
    },
    {
     "name": "stdout",
     "output_type": "stream",
     "text": [
      "Train Loss: 126.7606\n",
      "Val Loss: 146.8532\n",
      "Epoch 760 of 1000\n"
     ]
    },
    {
     "name": "stderr",
     "output_type": "stream",
     "text": [
      "469it [00:06, 75.06it/s]                         \n",
      "79it [00:00, 98.78it/s]                        \n",
      "  2%|▏         | 8/468 [00:00<00:06, 73.48it/s]"
     ]
    },
    {
     "name": "stdout",
     "output_type": "stream",
     "text": [
      "Train Loss: 126.7323\n",
      "Val Loss: 146.7884\n",
      "Epoch 761 of 1000\n"
     ]
    },
    {
     "name": "stderr",
     "output_type": "stream",
     "text": [
      "469it [00:06, 73.01it/s]                         \n",
      "79it [00:00, 102.39it/s]                        \n",
      "  2%|▏         | 8/468 [00:00<00:06, 70.54it/s]"
     ]
    },
    {
     "name": "stdout",
     "output_type": "stream",
     "text": [
      "Train Loss: 126.7259\n",
      "Val Loss: 146.7622\n",
      "Epoch 762 of 1000\n"
     ]
    },
    {
     "name": "stderr",
     "output_type": "stream",
     "text": [
      "469it [00:06, 75.01it/s]                         \n",
      "79it [00:00, 103.80it/s]                        \n",
      "  2%|▏         | 8/468 [00:00<00:06, 75.20it/s]"
     ]
    },
    {
     "name": "stdout",
     "output_type": "stream",
     "text": [
      "Train Loss: 126.7697\n",
      "Val Loss: 146.9935\n",
      "Epoch 763 of 1000\n"
     ]
    },
    {
     "name": "stderr",
     "output_type": "stream",
     "text": [
      "469it [00:06, 75.19it/s]                         \n",
      "79it [00:00, 102.97it/s]                        \n",
      "  2%|▏         | 8/468 [00:00<00:06, 74.34it/s]"
     ]
    },
    {
     "name": "stdout",
     "output_type": "stream",
     "text": [
      "Train Loss: 126.7319\n",
      "Val Loss: 146.9127\n",
      "Epoch 764 of 1000\n"
     ]
    },
    {
     "name": "stderr",
     "output_type": "stream",
     "text": [
      "469it [00:06, 75.21it/s]                         \n",
      "79it [00:00, 102.11it/s]                        \n",
      "  2%|▏         | 8/468 [00:00<00:06, 76.34it/s]"
     ]
    },
    {
     "name": "stdout",
     "output_type": "stream",
     "text": [
      "Train Loss: 126.7200\n",
      "Val Loss: 146.9051\n",
      "Epoch 765 of 1000\n"
     ]
    },
    {
     "name": "stderr",
     "output_type": "stream",
     "text": [
      "469it [00:06, 75.27it/s]                         \n",
      "79it [00:00, 103.48it/s]                        \n",
      "  2%|▏         | 8/468 [00:00<00:05, 76.81it/s]"
     ]
    },
    {
     "name": "stdout",
     "output_type": "stream",
     "text": [
      "Train Loss: 126.7642\n",
      "Val Loss: 146.8268\n",
      "Epoch 766 of 1000\n"
     ]
    },
    {
     "name": "stderr",
     "output_type": "stream",
     "text": [
      "469it [00:06, 76.44it/s]                         \n",
      "79it [00:00, 103.64it/s]                        \n",
      "  2%|▏         | 8/468 [00:00<00:05, 79.10it/s]"
     ]
    },
    {
     "name": "stdout",
     "output_type": "stream",
     "text": [
      "Train Loss: 126.7476\n",
      "Val Loss: 146.7452\n",
      "Epoch 767 of 1000\n"
     ]
    },
    {
     "name": "stderr",
     "output_type": "stream",
     "text": [
      "469it [00:06, 76.66it/s]                         \n",
      "79it [00:00, 102.38it/s]                       \n",
      "  2%|▏         | 8/468 [00:00<00:06, 76.09it/s]"
     ]
    },
    {
     "name": "stdout",
     "output_type": "stream",
     "text": [
      "Train Loss: 126.6709\n",
      "Val Loss: 146.8343\n",
      "Epoch 768 of 1000\n"
     ]
    },
    {
     "name": "stderr",
     "output_type": "stream",
     "text": [
      "469it [00:06, 76.00it/s]\n",
      "79it [00:00, 104.36it/s]                        \n",
      "  2%|▏         | 8/468 [00:00<00:06, 75.42it/s]"
     ]
    },
    {
     "name": "stdout",
     "output_type": "stream",
     "text": [
      "Train Loss: 126.7320\n",
      "Val Loss: 146.6836\n",
      "Epoch 769 of 1000\n"
     ]
    },
    {
     "name": "stderr",
     "output_type": "stream",
     "text": [
      "469it [00:06, 76.04it/s]                         \n",
      "79it [00:00, 105.31it/s]                        \n",
      "  2%|▏         | 8/468 [00:00<00:06, 71.45it/s]"
     ]
    },
    {
     "name": "stdout",
     "output_type": "stream",
     "text": [
      "Train Loss: 126.7337\n",
      "Val Loss: 146.8017\n",
      "Epoch 770 of 1000\n"
     ]
    },
    {
     "name": "stderr",
     "output_type": "stream",
     "text": [
      "469it [00:06, 75.03it/s]                         \n",
      "79it [00:00, 104.78it/s]                        \n",
      "  1%|▏         | 7/468 [00:00<00:06, 69.99it/s]"
     ]
    },
    {
     "name": "stdout",
     "output_type": "stream",
     "text": [
      "Train Loss: 126.7413\n",
      "Val Loss: 146.3328\n",
      "Epoch 771 of 1000\n"
     ]
    },
    {
     "name": "stderr",
     "output_type": "stream",
     "text": [
      "469it [00:06, 75.53it/s]                         \n",
      "79it [00:00, 103.28it/s]                        \n",
      "  2%|▏         | 9/468 [00:00<00:05, 80.80it/s]"
     ]
    },
    {
     "name": "stdout",
     "output_type": "stream",
     "text": [
      "Train Loss: 126.7293\n",
      "Val Loss: 146.7738\n",
      "Epoch 772 of 1000\n"
     ]
    },
    {
     "name": "stderr",
     "output_type": "stream",
     "text": [
      "469it [00:06, 76.54it/s]                         \n",
      "79it [00:00, 102.20it/s]                       \n",
      "  2%|▏         | 8/468 [00:00<00:05, 77.61it/s]"
     ]
    },
    {
     "name": "stdout",
     "output_type": "stream",
     "text": [
      "Train Loss: 126.7039\n",
      "Val Loss: 146.6796\n",
      "Epoch 773 of 1000\n"
     ]
    },
    {
     "name": "stderr",
     "output_type": "stream",
     "text": [
      "469it [00:06, 75.97it/s]                         \n",
      "79it [00:00, 103.31it/s]                        \n",
      "  2%|▏         | 8/468 [00:00<00:05, 78.30it/s]"
     ]
    },
    {
     "name": "stdout",
     "output_type": "stream",
     "text": [
      "Train Loss: 126.6902\n",
      "Val Loss: 146.9463\n",
      "Epoch 774 of 1000\n"
     ]
    },
    {
     "name": "stderr",
     "output_type": "stream",
     "text": [
      "469it [00:06, 75.57it/s]                         \n",
      "79it [00:00, 103.93it/s]                        \n",
      "  2%|▏         | 8/468 [00:00<00:05, 79.08it/s]"
     ]
    },
    {
     "name": "stdout",
     "output_type": "stream",
     "text": [
      "Train Loss: 126.6740\n",
      "Val Loss: 146.7679\n",
      "Epoch 775 of 1000\n"
     ]
    },
    {
     "name": "stderr",
     "output_type": "stream",
     "text": [
      "469it [00:06, 76.72it/s]                         \n",
      "79it [00:00, 103.45it/s]                        \n",
      "  2%|▏         | 8/468 [00:00<00:06, 72.77it/s]"
     ]
    },
    {
     "name": "stdout",
     "output_type": "stream",
     "text": [
      "Train Loss: 126.6866\n",
      "Val Loss: 146.8875\n",
      "Epoch 776 of 1000\n"
     ]
    },
    {
     "name": "stderr",
     "output_type": "stream",
     "text": [
      "469it [00:06, 75.81it/s]                         \n",
      "79it [00:00, 105.52it/s]                        \n",
      "  2%|▏         | 8/468 [00:00<00:05, 78.39it/s]"
     ]
    },
    {
     "name": "stdout",
     "output_type": "stream",
     "text": [
      "Train Loss: 126.6863\n",
      "Val Loss: 146.8140\n",
      "Epoch 777 of 1000\n"
     ]
    },
    {
     "name": "stderr",
     "output_type": "stream",
     "text": [
      "469it [00:06, 75.40it/s]                         \n",
      "79it [00:00, 105.30it/s]                        \n",
      "  1%|▏         | 7/468 [00:00<00:06, 69.76it/s]"
     ]
    },
    {
     "name": "stdout",
     "output_type": "stream",
     "text": [
      "Train Loss: 126.6815\n",
      "Val Loss: 146.8500\n",
      "Epoch 778 of 1000\n"
     ]
    },
    {
     "name": "stderr",
     "output_type": "stream",
     "text": [
      "469it [00:06, 76.04it/s]                         \n",
      "79it [00:00, 105.94it/s]                        \n",
      "  2%|▏         | 8/468 [00:00<00:06, 75.52it/s]"
     ]
    },
    {
     "name": "stdout",
     "output_type": "stream",
     "text": [
      "Train Loss: 126.6489\n",
      "Val Loss: 147.0164\n",
      "Epoch 779 of 1000\n"
     ]
    },
    {
     "name": "stderr",
     "output_type": "stream",
     "text": [
      "469it [00:06, 75.94it/s]                         \n",
      "79it [00:00, 104.38it/s]                        \n",
      "  2%|▏         | 8/468 [00:00<00:05, 77.44it/s]"
     ]
    },
    {
     "name": "stdout",
     "output_type": "stream",
     "text": [
      "Train Loss: 126.6371\n",
      "Val Loss: 146.8507\n",
      "Epoch 780 of 1000\n"
     ]
    },
    {
     "name": "stderr",
     "output_type": "stream",
     "text": [
      "469it [00:06, 75.93it/s]                         \n",
      "79it [00:00, 105.45it/s]                        \n",
      "  2%|▏         | 8/468 [00:00<00:06, 75.81it/s]"
     ]
    },
    {
     "name": "stdout",
     "output_type": "stream",
     "text": [
      "Train Loss: 126.6693\n",
      "Val Loss: 147.0879\n",
      "Epoch 781 of 1000\n"
     ]
    },
    {
     "name": "stderr",
     "output_type": "stream",
     "text": [
      "469it [00:06, 75.11it/s]                         \n",
      "79it [00:00, 102.93it/s]                        \n",
      "  2%|▏         | 8/468 [00:00<00:06, 74.22it/s]"
     ]
    },
    {
     "name": "stdout",
     "output_type": "stream",
     "text": [
      "Train Loss: 126.6670\n",
      "Val Loss: 146.8247\n",
      "Epoch 782 of 1000\n"
     ]
    },
    {
     "name": "stderr",
     "output_type": "stream",
     "text": [
      "469it [00:06, 73.30it/s]                         \n",
      "79it [00:00, 101.27it/s]                        \n",
      "  2%|▏         | 8/468 [00:00<00:06, 74.07it/s]"
     ]
    },
    {
     "name": "stdout",
     "output_type": "stream",
     "text": [
      "Train Loss: 126.6247\n",
      "Val Loss: 146.8446\n",
      "Epoch 783 of 1000\n"
     ]
    },
    {
     "name": "stderr",
     "output_type": "stream",
     "text": [
      "469it [00:06, 76.13it/s]                         \n",
      "79it [00:00, 106.34it/s]                        \n",
      "  2%|▏         | 8/468 [00:00<00:06, 76.42it/s]"
     ]
    },
    {
     "name": "stdout",
     "output_type": "stream",
     "text": [
      "Train Loss: 126.6398\n",
      "Val Loss: 146.8524\n",
      "Epoch 784 of 1000\n"
     ]
    },
    {
     "name": "stderr",
     "output_type": "stream",
     "text": [
      "469it [00:06, 76.76it/s]                         \n",
      "79it [00:00, 104.11it/s]                        \n",
      "  2%|▏         | 8/468 [00:00<00:05, 77.76it/s]"
     ]
    },
    {
     "name": "stdout",
     "output_type": "stream",
     "text": [
      "Train Loss: 126.6027\n",
      "Val Loss: 146.9963\n",
      "Epoch 785 of 1000\n"
     ]
    },
    {
     "name": "stderr",
     "output_type": "stream",
     "text": [
      "469it [00:06, 76.30it/s]                         \n",
      "79it [00:00, 105.95it/s]                        \n",
      "  2%|▏         | 8/468 [00:00<00:06, 76.00it/s]"
     ]
    },
    {
     "name": "stdout",
     "output_type": "stream",
     "text": [
      "Train Loss: 126.6229\n",
      "Val Loss: 146.7651\n",
      "Epoch 786 of 1000\n"
     ]
    },
    {
     "name": "stderr",
     "output_type": "stream",
     "text": [
      "469it [00:06, 75.26it/s]                         \n",
      "79it [00:00, 104.93it/s]                        \n",
      "  2%|▏         | 8/468 [00:00<00:06, 76.10it/s]"
     ]
    },
    {
     "name": "stdout",
     "output_type": "stream",
     "text": [
      "Train Loss: 126.6752\n",
      "Val Loss: 147.2212\n",
      "Epoch 787 of 1000\n"
     ]
    },
    {
     "name": "stderr",
     "output_type": "stream",
     "text": [
      "469it [00:06, 76.79it/s]\n",
      "79it [00:00, 102.22it/s]                        \n",
      "  2%|▏         | 8/468 [00:00<00:06, 76.25it/s]"
     ]
    },
    {
     "name": "stdout",
     "output_type": "stream",
     "text": [
      "Train Loss: 126.6024\n",
      "Val Loss: 146.9730\n",
      "Epoch 788 of 1000\n"
     ]
    },
    {
     "name": "stderr",
     "output_type": "stream",
     "text": [
      "469it [00:06, 76.58it/s]                         \n",
      "79it [00:00, 105.78it/s]                        \n",
      "  1%|▏         | 7/468 [00:00<00:06, 68.32it/s]"
     ]
    },
    {
     "name": "stdout",
     "output_type": "stream",
     "text": [
      "Train Loss: 126.6088\n",
      "Val Loss: 147.2556\n",
      "Epoch 789 of 1000\n"
     ]
    },
    {
     "name": "stderr",
     "output_type": "stream",
     "text": [
      "469it [00:06, 76.65it/s]                         \n",
      "79it [00:00, 104.97it/s]                        \n",
      "  1%|▏         | 7/468 [00:00<00:06, 69.16it/s]"
     ]
    },
    {
     "name": "stdout",
     "output_type": "stream",
     "text": [
      "Train Loss: 126.6863\n",
      "Val Loss: 146.7385\n",
      "Epoch 790 of 1000\n"
     ]
    },
    {
     "name": "stderr",
     "output_type": "stream",
     "text": [
      "469it [00:06, 76.39it/s]                         \n",
      "79it [00:00, 100.22it/s]                       \n",
      "  2%|▏         | 8/468 [00:00<00:06, 75.38it/s]"
     ]
    },
    {
     "name": "stdout",
     "output_type": "stream",
     "text": [
      "Train Loss: 126.6068\n",
      "Val Loss: 147.0618\n",
      "Epoch 791 of 1000\n"
     ]
    },
    {
     "name": "stderr",
     "output_type": "stream",
     "text": [
      "469it [00:06, 75.10it/s]                         \n",
      "79it [00:00, 100.58it/s]                       \n",
      "  2%|▏         | 8/468 [00:00<00:05, 77.17it/s]"
     ]
    },
    {
     "name": "stdout",
     "output_type": "stream",
     "text": [
      "Train Loss: 126.6350\n",
      "Val Loss: 146.9957\n",
      "Epoch 792 of 1000\n"
     ]
    },
    {
     "name": "stderr",
     "output_type": "stream",
     "text": [
      "469it [00:06, 75.75it/s]                         \n",
      "79it [00:00, 104.12it/s]                        \n",
      "  2%|▏         | 8/468 [00:00<00:06, 72.15it/s]"
     ]
    },
    {
     "name": "stdout",
     "output_type": "stream",
     "text": [
      "Train Loss: 126.5891\n",
      "Val Loss: 146.7929\n",
      "Epoch 793 of 1000\n"
     ]
    },
    {
     "name": "stderr",
     "output_type": "stream",
     "text": [
      "469it [00:06, 75.35it/s]                         \n",
      "79it [00:00, 103.41it/s]                        \n",
      "  2%|▏         | 8/468 [00:00<00:06, 76.20it/s]"
     ]
    },
    {
     "name": "stdout",
     "output_type": "stream",
     "text": [
      "Train Loss: 126.5449\n",
      "Val Loss: 147.0542\n",
      "Epoch 794 of 1000\n"
     ]
    },
    {
     "name": "stderr",
     "output_type": "stream",
     "text": [
      "469it [00:06, 75.18it/s]                         \n",
      "79it [00:00, 105.59it/s]                        \n",
      "  2%|▏         | 8/468 [00:00<00:05, 79.59it/s]"
     ]
    },
    {
     "name": "stdout",
     "output_type": "stream",
     "text": [
      "Train Loss: 126.5865\n",
      "Val Loss: 146.8719\n",
      "Epoch 795 of 1000\n"
     ]
    },
    {
     "name": "stderr",
     "output_type": "stream",
     "text": [
      "469it [00:06, 75.71it/s]                         \n",
      "79it [00:00, 102.88it/s]                        \n",
      "  2%|▏         | 8/468 [00:00<00:05, 77.10it/s]"
     ]
    },
    {
     "name": "stdout",
     "output_type": "stream",
     "text": [
      "Train Loss: 126.5950\n",
      "Val Loss: 147.0385\n",
      "Epoch 796 of 1000\n"
     ]
    },
    {
     "name": "stderr",
     "output_type": "stream",
     "text": [
      "469it [00:06, 75.76it/s]                         \n",
      "79it [00:00, 103.00it/s]                        \n",
      "  2%|▏         | 8/468 [00:00<00:05, 77.13it/s]"
     ]
    },
    {
     "name": "stdout",
     "output_type": "stream",
     "text": [
      "Train Loss: 126.5913\n",
      "Val Loss: 147.0985\n",
      "Epoch 797 of 1000\n"
     ]
    },
    {
     "name": "stderr",
     "output_type": "stream",
     "text": [
      "469it [00:06, 75.51it/s]                         \n",
      "79it [00:00, 103.47it/s]                        \n",
      "  2%|▏         | 8/468 [00:00<00:06, 72.26it/s]"
     ]
    },
    {
     "name": "stdout",
     "output_type": "stream",
     "text": [
      "Train Loss: 126.6129\n",
      "Val Loss: 147.0253\n",
      "Epoch 798 of 1000\n"
     ]
    },
    {
     "name": "stderr",
     "output_type": "stream",
     "text": [
      "469it [00:06, 76.15it/s]\n",
      "79it [00:00, 101.27it/s]                       \n",
      "  2%|▏         | 8/468 [00:00<00:05, 77.55it/s]"
     ]
    },
    {
     "name": "stdout",
     "output_type": "stream",
     "text": [
      "Train Loss: 126.5652\n",
      "Val Loss: 147.2307\n",
      "Epoch 799 of 1000\n"
     ]
    },
    {
     "name": "stderr",
     "output_type": "stream",
     "text": [
      "469it [00:06, 75.65it/s]                         \n",
      "79it [00:00, 97.73it/s]                        \n",
      "  2%|▏         | 8/468 [00:00<00:06, 71.88it/s]"
     ]
    },
    {
     "name": "stdout",
     "output_type": "stream",
     "text": [
      "Train Loss: 126.5776\n",
      "Val Loss: 147.2500\n",
      "Epoch 800 of 1000\n"
     ]
    },
    {
     "name": "stderr",
     "output_type": "stream",
     "text": [
      "469it [00:06, 75.35it/s]                         \n",
      "79it [00:00, 101.74it/s]                       \n",
      "  2%|▏         | 8/468 [00:00<00:05, 78.95it/s]"
     ]
    },
    {
     "name": "stdout",
     "output_type": "stream",
     "text": [
      "Train Loss: 126.5446\n",
      "Val Loss: 147.2715\n",
      "Epoch 801 of 1000\n"
     ]
    },
    {
     "name": "stderr",
     "output_type": "stream",
     "text": [
      "469it [00:06, 77.04it/s]                         \n",
      "79it [00:00, 105.66it/s]                        \n",
      "  2%|▏         | 8/468 [00:00<00:06, 75.71it/s]"
     ]
    },
    {
     "name": "stdout",
     "output_type": "stream",
     "text": [
      "Train Loss: 126.5880\n",
      "Val Loss: 147.1756\n",
      "Epoch 802 of 1000\n"
     ]
    },
    {
     "name": "stderr",
     "output_type": "stream",
     "text": [
      "469it [00:06, 74.59it/s]                         \n",
      "79it [00:00, 103.27it/s]                        \n",
      "  2%|▏         | 8/468 [00:00<00:06, 76.40it/s]"
     ]
    },
    {
     "name": "stdout",
     "output_type": "stream",
     "text": [
      "Train Loss: 126.5357\n",
      "Val Loss: 146.9218\n",
      "Epoch 803 of 1000\n"
     ]
    },
    {
     "name": "stderr",
     "output_type": "stream",
     "text": [
      "469it [00:06, 74.94it/s]                         \n",
      "79it [00:00, 101.15it/s]                        \n",
      "  2%|▏         | 8/468 [00:00<00:06, 75.42it/s]"
     ]
    },
    {
     "name": "stdout",
     "output_type": "stream",
     "text": [
      "Train Loss: 126.5446\n",
      "Val Loss: 146.8545\n",
      "Epoch 804 of 1000\n"
     ]
    },
    {
     "name": "stderr",
     "output_type": "stream",
     "text": [
      "469it [00:06, 74.19it/s]                         \n",
      "79it [00:00, 100.09it/s]                        \n",
      "  2%|▏         | 8/468 [00:00<00:06, 73.54it/s]"
     ]
    },
    {
     "name": "stdout",
     "output_type": "stream",
     "text": [
      "Train Loss: 126.6948\n",
      "Val Loss: 147.0740\n",
      "Epoch 805 of 1000\n"
     ]
    },
    {
     "name": "stderr",
     "output_type": "stream",
     "text": [
      "469it [00:06, 72.78it/s]\n",
      "79it [00:00, 101.36it/s]                        \n",
      "  2%|▏         | 8/468 [00:00<00:06, 70.54it/s]"
     ]
    },
    {
     "name": "stdout",
     "output_type": "stream",
     "text": [
      "Train Loss: 126.5216\n",
      "Val Loss: 147.0769\n",
      "Epoch 806 of 1000\n"
     ]
    },
    {
     "name": "stderr",
     "output_type": "stream",
     "text": [
      "469it [00:06, 73.24it/s]                         \n",
      "79it [00:00, 104.02it/s]                        \n",
      "  2%|▏         | 8/468 [00:00<00:06, 73.98it/s]"
     ]
    },
    {
     "name": "stdout",
     "output_type": "stream",
     "text": [
      "Train Loss: 126.5506\n",
      "Val Loss: 147.0175\n",
      "Epoch 807 of 1000\n"
     ]
    },
    {
     "name": "stderr",
     "output_type": "stream",
     "text": [
      "469it [00:06, 76.34it/s]                         \n",
      "79it [00:00, 105.58it/s]                        \n",
      "  2%|▏         | 8/468 [00:00<00:06, 76.10it/s]"
     ]
    },
    {
     "name": "stdout",
     "output_type": "stream",
     "text": [
      "Train Loss: 126.5169\n",
      "Val Loss: 147.1712\n",
      "Epoch 808 of 1000\n"
     ]
    },
    {
     "name": "stderr",
     "output_type": "stream",
     "text": [
      "469it [00:06, 75.24it/s]                         \n",
      "79it [00:00, 104.01it/s]                        \n",
      "  2%|▏         | 8/468 [00:00<00:06, 71.88it/s]"
     ]
    },
    {
     "name": "stdout",
     "output_type": "stream",
     "text": [
      "Train Loss: 126.5295\n",
      "Val Loss: 146.9525\n",
      "Epoch 809 of 1000\n"
     ]
    },
    {
     "name": "stderr",
     "output_type": "stream",
     "text": [
      "469it [00:06, 76.44it/s]\n",
      "79it [00:00, 104.95it/s]                        \n",
      "  2%|▏         | 8/468 [00:00<00:05, 77.05it/s]"
     ]
    },
    {
     "name": "stdout",
     "output_type": "stream",
     "text": [
      "Train Loss: 126.5073\n",
      "Val Loss: 146.9920\n",
      "Epoch 810 of 1000\n"
     ]
    },
    {
     "name": "stderr",
     "output_type": "stream",
     "text": [
      "469it [00:06, 76.59it/s]                         \n",
      "79it [00:00, 107.06it/s]                        \n",
      "  2%|▏         | 8/468 [00:00<00:06, 70.93it/s]"
     ]
    },
    {
     "name": "stdout",
     "output_type": "stream",
     "text": [
      "Train Loss: 126.5227\n",
      "Val Loss: 147.2051\n",
      "Epoch 811 of 1000\n"
     ]
    },
    {
     "name": "stderr",
     "output_type": "stream",
     "text": [
      "469it [00:06, 76.09it/s]                         \n",
      "79it [00:00, 103.69it/s]                        \n",
      "  2%|▏         | 8/468 [00:00<00:06, 76.56it/s]"
     ]
    },
    {
     "name": "stdout",
     "output_type": "stream",
     "text": [
      "Train Loss: 126.5591\n",
      "Val Loss: 146.9998\n",
      "Epoch 812 of 1000\n"
     ]
    },
    {
     "name": "stderr",
     "output_type": "stream",
     "text": [
      "469it [00:06, 75.89it/s]                         \n",
      "79it [00:00, 108.63it/s]                        \n",
      "  1%|▏         | 7/468 [00:00<00:06, 65.87it/s]"
     ]
    },
    {
     "name": "stdout",
     "output_type": "stream",
     "text": [
      "Train Loss: 126.4852\n",
      "Val Loss: 147.2108\n",
      "Epoch 813 of 1000\n"
     ]
    },
    {
     "name": "stderr",
     "output_type": "stream",
     "text": [
      "469it [00:06, 75.53it/s]                         \n",
      "79it [00:00, 104.54it/s]                        \n",
      "  2%|▏         | 8/468 [00:00<00:06, 73.91it/s]"
     ]
    },
    {
     "name": "stdout",
     "output_type": "stream",
     "text": [
      "Train Loss: 126.5202\n",
      "Val Loss: 147.2814\n",
      "Epoch 814 of 1000\n"
     ]
    },
    {
     "name": "stderr",
     "output_type": "stream",
     "text": [
      "469it [00:06, 76.90it/s]                         \n",
      "79it [00:00, 102.32it/s]                        \n",
      "  2%|▏         | 8/468 [00:00<00:05, 77.42it/s]"
     ]
    },
    {
     "name": "stdout",
     "output_type": "stream",
     "text": [
      "Train Loss: 126.4725\n",
      "Val Loss: 146.9517\n",
      "Epoch 815 of 1000\n"
     ]
    },
    {
     "name": "stderr",
     "output_type": "stream",
     "text": [
      "469it [00:06, 76.75it/s]                         \n",
      "79it [00:00, 102.67it/s]                        \n",
      "  2%|▏         | 8/468 [00:00<00:05, 77.02it/s]"
     ]
    },
    {
     "name": "stdout",
     "output_type": "stream",
     "text": [
      "Train Loss: 126.4426\n",
      "Val Loss: 146.9383\n",
      "Epoch 816 of 1000\n"
     ]
    },
    {
     "name": "stderr",
     "output_type": "stream",
     "text": [
      "469it [00:06, 74.88it/s]                         \n",
      "79it [00:00, 103.56it/s]                        \n",
      "  2%|▏         | 8/468 [00:00<00:06, 73.68it/s]"
     ]
    },
    {
     "name": "stdout",
     "output_type": "stream",
     "text": [
      "Train Loss: 126.4814\n",
      "Val Loss: 147.1759\n",
      "Epoch 817 of 1000\n"
     ]
    },
    {
     "name": "stderr",
     "output_type": "stream",
     "text": [
      "469it [00:06, 73.36it/s]\n",
      "79it [00:00, 98.93it/s]                        \n",
      "  2%|▏         | 8/468 [00:00<00:06, 76.44it/s]"
     ]
    },
    {
     "name": "stdout",
     "output_type": "stream",
     "text": [
      "Train Loss: 126.4590\n",
      "Val Loss: 146.9878\n",
      "Epoch 818 of 1000\n"
     ]
    },
    {
     "name": "stderr",
     "output_type": "stream",
     "text": [
      "469it [00:06, 76.66it/s]                         \n",
      "79it [00:00, 106.55it/s]                        \n",
      "  2%|▏         | 8/468 [00:00<00:06, 75.24it/s]"
     ]
    },
    {
     "name": "stdout",
     "output_type": "stream",
     "text": [
      "Train Loss: 126.4768\n",
      "Val Loss: 147.1226\n",
      "Epoch 819 of 1000\n"
     ]
    },
    {
     "name": "stderr",
     "output_type": "stream",
     "text": [
      "469it [00:06, 76.08it/s]                         \n",
      "79it [00:00, 100.08it/s]                       \n",
      "  2%|▏         | 8/468 [00:00<00:05, 78.06it/s]"
     ]
    },
    {
     "name": "stdout",
     "output_type": "stream",
     "text": [
      "Train Loss: 126.4710\n",
      "Val Loss: 147.3843\n",
      "Epoch 820 of 1000\n"
     ]
    },
    {
     "name": "stderr",
     "output_type": "stream",
     "text": [
      "469it [00:06, 76.04it/s]                         \n",
      "79it [00:00, 103.98it/s]                        \n",
      "  2%|▏         | 8/468 [00:00<00:05, 78.28it/s]"
     ]
    },
    {
     "name": "stdout",
     "output_type": "stream",
     "text": [
      "Train Loss: 126.4686\n",
      "Val Loss: 147.2112\n",
      "Epoch 821 of 1000\n"
     ]
    },
    {
     "name": "stderr",
     "output_type": "stream",
     "text": [
      "469it [00:06, 75.59it/s]                         \n",
      "79it [00:00, 102.97it/s]                        \n",
      "  1%|▏         | 7/468 [00:00<00:06, 69.36it/s]"
     ]
    },
    {
     "name": "stdout",
     "output_type": "stream",
     "text": [
      "Train Loss: 126.4654\n",
      "Val Loss: 147.0629\n",
      "Epoch 822 of 1000\n"
     ]
    },
    {
     "name": "stderr",
     "output_type": "stream",
     "text": [
      "469it [00:06, 74.28it/s]                         \n",
      "79it [00:00, 102.53it/s]                        \n",
      "  2%|▏         | 8/468 [00:00<00:06, 73.36it/s]"
     ]
    },
    {
     "name": "stdout",
     "output_type": "stream",
     "text": [
      "Train Loss: 126.4640\n",
      "Val Loss: 147.0571\n",
      "Epoch 823 of 1000\n"
     ]
    },
    {
     "name": "stderr",
     "output_type": "stream",
     "text": [
      "469it [00:06, 76.11it/s]                         \n",
      "79it [00:00, 104.80it/s]                        \n",
      "  2%|▏         | 8/468 [00:00<00:05, 77.85it/s]"
     ]
    },
    {
     "name": "stdout",
     "output_type": "stream",
     "text": [
      "Train Loss: 126.4493\n",
      "Val Loss: 147.1024\n",
      "Epoch 824 of 1000\n"
     ]
    },
    {
     "name": "stderr",
     "output_type": "stream",
     "text": [
      "469it [00:06, 74.64it/s]                         \n",
      "79it [00:00, 105.88it/s]                        \n",
      "  1%|▏         | 7/468 [00:00<00:06, 67.65it/s]"
     ]
    },
    {
     "name": "stdout",
     "output_type": "stream",
     "text": [
      "Train Loss: 126.4443\n",
      "Val Loss: 147.1826\n",
      "Epoch 825 of 1000\n"
     ]
    },
    {
     "name": "stderr",
     "output_type": "stream",
     "text": [
      "469it [00:06, 74.22it/s]                         \n",
      "79it [00:00, 104.39it/s]                        \n",
      "  2%|▏         | 8/468 [00:00<00:06, 75.27it/s]"
     ]
    },
    {
     "name": "stdout",
     "output_type": "stream",
     "text": [
      "Train Loss: 126.4087\n",
      "Val Loss: 147.1072\n",
      "Epoch 826 of 1000\n"
     ]
    },
    {
     "name": "stderr",
     "output_type": "stream",
     "text": [
      "469it [00:06, 75.44it/s]                         \n",
      "79it [00:00, 103.20it/s]                        \n",
      "  1%|▏         | 7/468 [00:00<00:06, 68.77it/s]"
     ]
    },
    {
     "name": "stdout",
     "output_type": "stream",
     "text": [
      "Train Loss: 126.4292\n",
      "Val Loss: 147.4161\n",
      "Epoch 827 of 1000\n"
     ]
    },
    {
     "name": "stderr",
     "output_type": "stream",
     "text": [
      "469it [00:06, 75.46it/s]                         \n",
      "79it [00:00, 100.22it/s]                        \n",
      "  1%|▏         | 7/468 [00:00<00:06, 68.43it/s]"
     ]
    },
    {
     "name": "stdout",
     "output_type": "stream",
     "text": [
      "Train Loss: 126.4573\n",
      "Val Loss: 147.2983\n",
      "Epoch 828 of 1000\n"
     ]
    },
    {
     "name": "stderr",
     "output_type": "stream",
     "text": [
      "469it [00:06, 74.47it/s]                         \n",
      "79it [00:00, 100.06it/s]                       \n",
      "  2%|▏         | 8/468 [00:00<00:06, 74.21it/s]"
     ]
    },
    {
     "name": "stdout",
     "output_type": "stream",
     "text": [
      "Train Loss: 126.4043\n",
      "Val Loss: 147.1436\n",
      "Epoch 829 of 1000\n"
     ]
    },
    {
     "name": "stderr",
     "output_type": "stream",
     "text": [
      "469it [00:06, 74.76it/s]                         \n",
      "79it [00:00, 102.14it/s]                        \n",
      "  1%|▏         | 7/468 [00:00<00:06, 68.05it/s]"
     ]
    },
    {
     "name": "stdout",
     "output_type": "stream",
     "text": [
      "Train Loss: 126.3854\n",
      "Val Loss: 147.2392\n",
      "Epoch 830 of 1000\n"
     ]
    },
    {
     "name": "stderr",
     "output_type": "stream",
     "text": [
      "469it [00:06, 75.44it/s]                         \n",
      "79it [00:00, 102.28it/s]                        \n",
      "  1%|▏         | 7/468 [00:00<00:06, 68.63it/s]"
     ]
    },
    {
     "name": "stdout",
     "output_type": "stream",
     "text": [
      "Train Loss: 126.4020\n",
      "Val Loss: 147.2749\n",
      "Epoch 831 of 1000\n"
     ]
    },
    {
     "name": "stderr",
     "output_type": "stream",
     "text": [
      "469it [00:06, 75.04it/s]                         \n",
      "79it [00:00, 103.17it/s]                        \n",
      "  2%|▏         | 8/468 [00:00<00:06, 75.40it/s]"
     ]
    },
    {
     "name": "stdout",
     "output_type": "stream",
     "text": [
      "Train Loss: 126.3990\n",
      "Val Loss: 147.0886\n",
      "Epoch 832 of 1000\n"
     ]
    },
    {
     "name": "stderr",
     "output_type": "stream",
     "text": [
      "469it [00:06, 75.91it/s]                         \n",
      "79it [00:00, 103.96it/s]                        \n",
      "  2%|▏         | 8/468 [00:00<00:06, 74.99it/s]"
     ]
    },
    {
     "name": "stdout",
     "output_type": "stream",
     "text": [
      "Train Loss: 126.4200\n",
      "Val Loss: 147.3023\n",
      "Epoch 833 of 1000\n"
     ]
    },
    {
     "name": "stderr",
     "output_type": "stream",
     "text": [
      "469it [00:06, 75.43it/s]                         \n",
      "79it [00:00, 102.86it/s]                        \n",
      "  1%|▏         | 7/468 [00:00<00:06, 66.06it/s]"
     ]
    },
    {
     "name": "stdout",
     "output_type": "stream",
     "text": [
      "Train Loss: 126.4223\n",
      "Val Loss: 147.1982\n",
      "Epoch 834 of 1000\n"
     ]
    },
    {
     "name": "stderr",
     "output_type": "stream",
     "text": [
      "469it [00:06, 74.41it/s]                         \n",
      "79it [00:00, 102.24it/s]                       \n",
      "  2%|▏         | 8/468 [00:00<00:05, 77.94it/s]"
     ]
    },
    {
     "name": "stdout",
     "output_type": "stream",
     "text": [
      "Train Loss: 126.4253\n",
      "Val Loss: 147.3021\n",
      "Epoch 835 of 1000\n"
     ]
    },
    {
     "name": "stderr",
     "output_type": "stream",
     "text": [
      "469it [00:06, 76.03it/s]                         \n",
      "79it [00:00, 102.14it/s]                        \n",
      "  1%|▏         | 7/468 [00:00<00:07, 65.04it/s]"
     ]
    },
    {
     "name": "stdout",
     "output_type": "stream",
     "text": [
      "Train Loss: 126.3672\n",
      "Val Loss: 147.0941\n",
      "Epoch 836 of 1000\n"
     ]
    },
    {
     "name": "stderr",
     "output_type": "stream",
     "text": [
      "469it [00:06, 75.61it/s]                         \n",
      "79it [00:00, 104.83it/s]                        \n",
      "  2%|▏         | 8/468 [00:00<00:06, 75.57it/s]"
     ]
    },
    {
     "name": "stdout",
     "output_type": "stream",
     "text": [
      "Train Loss: 126.3955\n",
      "Val Loss: 147.3907\n",
      "Epoch 837 of 1000\n"
     ]
    },
    {
     "name": "stderr",
     "output_type": "stream",
     "text": [
      "469it [00:06, 75.06it/s]                         \n",
      "79it [00:00, 103.70it/s]                        \n",
      "  2%|▏         | 8/468 [00:00<00:05, 78.72it/s]"
     ]
    },
    {
     "name": "stdout",
     "output_type": "stream",
     "text": [
      "Train Loss: 126.3974\n",
      "Val Loss: 147.2254\n",
      "Epoch 838 of 1000\n"
     ]
    },
    {
     "name": "stderr",
     "output_type": "stream",
     "text": [
      "469it [00:06, 75.26it/s]                         \n",
      "79it [00:00, 99.93it/s]                        \n",
      "  2%|▏         | 8/468 [00:00<00:05, 79.65it/s]"
     ]
    },
    {
     "name": "stdout",
     "output_type": "stream",
     "text": [
      "Train Loss: 126.3512\n",
      "Val Loss: 147.2713\n",
      "Epoch 839 of 1000\n"
     ]
    },
    {
     "name": "stderr",
     "output_type": "stream",
     "text": [
      "469it [00:06, 75.00it/s]                         \n",
      "79it [00:00, 102.09it/s]                        \n",
      "  1%|▏         | 7/468 [00:00<00:06, 68.06it/s]"
     ]
    },
    {
     "name": "stdout",
     "output_type": "stream",
     "text": [
      "Train Loss: 126.4023\n",
      "Val Loss: 147.0142\n",
      "Epoch 840 of 1000\n"
     ]
    },
    {
     "name": "stderr",
     "output_type": "stream",
     "text": [
      "469it [00:06, 74.20it/s]                         \n",
      "79it [00:00, 103.97it/s]                        \n",
      "  2%|▏         | 8/468 [00:00<00:05, 77.80it/s]"
     ]
    },
    {
     "name": "stdout",
     "output_type": "stream",
     "text": [
      "Train Loss: 126.3820\n",
      "Val Loss: 147.1003\n",
      "Epoch 841 of 1000\n"
     ]
    },
    {
     "name": "stderr",
     "output_type": "stream",
     "text": [
      "469it [00:06, 75.89it/s]                         \n",
      "79it [00:00, 104.94it/s]                        \n",
      "  2%|▏         | 8/468 [00:00<00:05, 77.32it/s]"
     ]
    },
    {
     "name": "stdout",
     "output_type": "stream",
     "text": [
      "Train Loss: 126.3714\n",
      "Val Loss: 147.2603\n",
      "Epoch 842 of 1000\n"
     ]
    },
    {
     "name": "stderr",
     "output_type": "stream",
     "text": [
      "469it [00:06, 75.67it/s]                         \n",
      "79it [00:00, 103.66it/s]                        \n",
      "  2%|▏         | 8/468 [00:00<00:06, 70.72it/s]"
     ]
    },
    {
     "name": "stdout",
     "output_type": "stream",
     "text": [
      "Train Loss: 126.3719\n",
      "Val Loss: 147.1405\n",
      "Epoch 843 of 1000\n"
     ]
    },
    {
     "name": "stderr",
     "output_type": "stream",
     "text": [
      "469it [00:06, 75.57it/s]                         \n",
      "79it [00:00, 104.01it/s]                        \n",
      "  2%|▏         | 8/468 [00:00<00:06, 76.37it/s]"
     ]
    },
    {
     "name": "stdout",
     "output_type": "stream",
     "text": [
      "Train Loss: 126.3824\n",
      "Val Loss: 147.2436\n",
      "Epoch 844 of 1000\n"
     ]
    },
    {
     "name": "stderr",
     "output_type": "stream",
     "text": [
      "469it [00:06, 75.92it/s]                         \n",
      "79it [00:00, 101.15it/s]                        \n",
      "  2%|▏         | 8/468 [00:00<00:05, 77.02it/s]"
     ]
    },
    {
     "name": "stdout",
     "output_type": "stream",
     "text": [
      "Train Loss: 126.3518\n",
      "Val Loss: 147.4864\n",
      "Epoch 845 of 1000\n"
     ]
    },
    {
     "name": "stderr",
     "output_type": "stream",
     "text": [
      "469it [00:06, 76.29it/s]                         \n",
      "79it [00:00, 98.56it/s]                        \n",
      "  2%|▏         | 8/468 [00:00<00:06, 72.71it/s]"
     ]
    },
    {
     "name": "stdout",
     "output_type": "stream",
     "text": [
      "Train Loss: 126.3595\n",
      "Val Loss: 147.1040\n",
      "Epoch 846 of 1000\n"
     ]
    },
    {
     "name": "stderr",
     "output_type": "stream",
     "text": [
      "469it [00:06, 73.01it/s]                         \n",
      "79it [00:00, 100.26it/s]                       \n",
      "  2%|▏         | 8/468 [00:00<00:06, 73.98it/s]"
     ]
    },
    {
     "name": "stdout",
     "output_type": "stream",
     "text": [
      "Train Loss: 126.3401\n",
      "Val Loss: 147.2407\n",
      "Epoch 847 of 1000\n"
     ]
    },
    {
     "name": "stderr",
     "output_type": "stream",
     "text": [
      "469it [00:06, 74.18it/s]                         \n",
      "79it [00:00, 102.67it/s]                        \n",
      "  1%|▏         | 7/468 [00:00<00:06, 68.90it/s]"
     ]
    },
    {
     "name": "stdout",
     "output_type": "stream",
     "text": [
      "Train Loss: 126.3196\n",
      "Val Loss: 147.3644\n",
      "Epoch 848 of 1000\n"
     ]
    },
    {
     "name": "stderr",
     "output_type": "stream",
     "text": [
      "469it [00:06, 75.09it/s]                         \n",
      "79it [00:00, 103.68it/s]                        \n",
      "  2%|▏         | 8/468 [00:00<00:06, 76.66it/s]"
     ]
    },
    {
     "name": "stdout",
     "output_type": "stream",
     "text": [
      "Train Loss: 126.3028\n",
      "Val Loss: 147.1156\n",
      "Epoch 849 of 1000\n"
     ]
    },
    {
     "name": "stderr",
     "output_type": "stream",
     "text": [
      "469it [00:06, 73.88it/s]                         \n",
      "79it [00:00, 100.37it/s]                        \n",
      "  2%|▏         | 8/468 [00:00<00:06, 70.70it/s]"
     ]
    },
    {
     "name": "stdout",
     "output_type": "stream",
     "text": [
      "Train Loss: 126.3164\n",
      "Val Loss: 147.2874\n",
      "Epoch 850 of 1000\n"
     ]
    },
    {
     "name": "stderr",
     "output_type": "stream",
     "text": [
      "469it [00:06, 71.39it/s]                         \n",
      "79it [00:00, 98.55it/s]                        \n",
      "  1%|▏         | 7/468 [00:00<00:06, 68.92it/s]"
     ]
    },
    {
     "name": "stdout",
     "output_type": "stream",
     "text": [
      "Train Loss: 126.3184\n",
      "Val Loss: 147.6844\n",
      "Epoch 851 of 1000\n"
     ]
    },
    {
     "name": "stderr",
     "output_type": "stream",
     "text": [
      "469it [00:06, 72.79it/s]                         \n",
      "79it [00:00, 100.79it/s]                       \n",
      "  2%|▏         | 8/468 [00:00<00:05, 77.07it/s]"
     ]
    },
    {
     "name": "stdout",
     "output_type": "stream",
     "text": [
      "Train Loss: 126.3305\n",
      "Val Loss: 147.3968\n",
      "Epoch 852 of 1000\n"
     ]
    },
    {
     "name": "stderr",
     "output_type": "stream",
     "text": [
      "469it [00:06, 75.71it/s]                         \n",
      "79it [00:00, 102.73it/s]                        \n",
      "  2%|▏         | 8/468 [00:00<00:05, 79.71it/s]"
     ]
    },
    {
     "name": "stdout",
     "output_type": "stream",
     "text": [
      "Train Loss: 126.3448\n",
      "Val Loss: 147.4547\n",
      "Epoch 853 of 1000\n"
     ]
    },
    {
     "name": "stderr",
     "output_type": "stream",
     "text": [
      "469it [00:06, 75.03it/s]                         \n",
      "79it [00:00, 102.20it/s]                        \n",
      "  2%|▏         | 8/468 [00:00<00:06, 75.71it/s]"
     ]
    },
    {
     "name": "stdout",
     "output_type": "stream",
     "text": [
      "Train Loss: 126.3089\n",
      "Val Loss: 147.3992\n",
      "Epoch 854 of 1000\n"
     ]
    },
    {
     "name": "stderr",
     "output_type": "stream",
     "text": [
      "469it [00:06, 74.84it/s]                         \n",
      "79it [00:00, 102.04it/s]                        \n",
      "  1%|▏         | 7/468 [00:00<00:06, 68.27it/s]"
     ]
    },
    {
     "name": "stdout",
     "output_type": "stream",
     "text": [
      "Train Loss: 126.3031\n",
      "Val Loss: 147.2001\n",
      "Epoch 855 of 1000\n"
     ]
    },
    {
     "name": "stderr",
     "output_type": "stream",
     "text": [
      "469it [00:06, 74.95it/s]                         \n",
      "79it [00:00, 99.26it/s]                        \n",
      "  2%|▏         | 8/468 [00:00<00:06, 75.99it/s]"
     ]
    },
    {
     "name": "stdout",
     "output_type": "stream",
     "text": [
      "Train Loss: 126.3125\n",
      "Val Loss: 147.1977\n",
      "Epoch 856 of 1000\n"
     ]
    },
    {
     "name": "stderr",
     "output_type": "stream",
     "text": [
      "469it [00:06, 75.40it/s]                         \n",
      "79it [00:00, 102.04it/s]                        \n",
      "  2%|▏         | 8/468 [00:00<00:06, 71.66it/s]"
     ]
    },
    {
     "name": "stdout",
     "output_type": "stream",
     "text": [
      "Train Loss: 126.3053\n",
      "Val Loss: 147.2010\n",
      "Epoch 857 of 1000\n"
     ]
    },
    {
     "name": "stderr",
     "output_type": "stream",
     "text": [
      "469it [00:06, 75.11it/s]                         \n",
      "79it [00:00, 100.33it/s]                       \n",
      "  2%|▏         | 8/468 [00:00<00:05, 78.14it/s]"
     ]
    },
    {
     "name": "stdout",
     "output_type": "stream",
     "text": [
      "Train Loss: 126.2911\n",
      "Val Loss: 147.1469\n",
      "Epoch 858 of 1000\n"
     ]
    },
    {
     "name": "stderr",
     "output_type": "stream",
     "text": [
      "469it [00:06, 75.62it/s]                         \n",
      "79it [00:00, 101.93it/s]                        \n",
      "  2%|▏         | 8/468 [00:00<00:05, 77.00it/s]"
     ]
    },
    {
     "name": "stdout",
     "output_type": "stream",
     "text": [
      "Train Loss: 126.2511\n",
      "Val Loss: 147.5008\n",
      "Epoch 859 of 1000\n"
     ]
    },
    {
     "name": "stderr",
     "output_type": "stream",
     "text": [
      "469it [00:06, 75.21it/s]                         \n",
      "79it [00:00, 104.75it/s]                        \n",
      "  1%|▏         | 7/468 [00:00<00:06, 67.36it/s]"
     ]
    },
    {
     "name": "stdout",
     "output_type": "stream",
     "text": [
      "Train Loss: 126.2976\n",
      "Val Loss: 147.3939\n",
      "Epoch 860 of 1000\n"
     ]
    },
    {
     "name": "stderr",
     "output_type": "stream",
     "text": [
      "469it [00:06, 74.27it/s]                         \n",
      "79it [00:00, 103.48it/s]                        \n",
      "  2%|▏         | 8/468 [00:00<00:05, 77.09it/s]"
     ]
    },
    {
     "name": "stdout",
     "output_type": "stream",
     "text": [
      "Train Loss: 126.2741\n",
      "Val Loss: 147.3683\n",
      "Epoch 861 of 1000\n"
     ]
    },
    {
     "name": "stderr",
     "output_type": "stream",
     "text": [
      "469it [00:06, 76.01it/s]                         \n",
      "79it [00:00, 100.98it/s]                       \n",
      "  2%|▏         | 8/468 [00:00<00:05, 78.68it/s]"
     ]
    },
    {
     "name": "stdout",
     "output_type": "stream",
     "text": [
      "Train Loss: 126.3061\n",
      "Val Loss: 147.5661\n",
      "Epoch 862 of 1000\n"
     ]
    },
    {
     "name": "stderr",
     "output_type": "stream",
     "text": [
      "469it [00:06, 74.26it/s]                         \n",
      "79it [00:00, 102.59it/s]                        \n",
      "  2%|▏         | 8/468 [00:00<00:06, 74.78it/s]"
     ]
    },
    {
     "name": "stdout",
     "output_type": "stream",
     "text": [
      "Train Loss: 126.2679\n",
      "Val Loss: 147.2818\n",
      "Epoch 863 of 1000\n"
     ]
    },
    {
     "name": "stderr",
     "output_type": "stream",
     "text": [
      "469it [00:06, 74.40it/s]                         \n",
      "79it [00:00, 103.14it/s]                        \n",
      "  2%|▏         | 8/468 [00:00<00:06, 74.76it/s]"
     ]
    },
    {
     "name": "stdout",
     "output_type": "stream",
     "text": [
      "Train Loss: 126.2523\n",
      "Val Loss: 147.5288\n",
      "Epoch 864 of 1000\n"
     ]
    },
    {
     "name": "stderr",
     "output_type": "stream",
     "text": [
      "469it [00:06, 74.51it/s]                         \n",
      "79it [00:00, 104.83it/s]                        \n",
      "  2%|▏         | 8/468 [00:00<00:06, 75.46it/s]"
     ]
    },
    {
     "name": "stdout",
     "output_type": "stream",
     "text": [
      "Train Loss: 126.2194\n",
      "Val Loss: 147.6967\n",
      "Epoch 865 of 1000\n"
     ]
    },
    {
     "name": "stderr",
     "output_type": "stream",
     "text": [
      "469it [00:06, 74.81it/s]                         \n",
      "79it [00:00, 103.85it/s]                        \n",
      "  2%|▏         | 8/468 [00:00<00:06, 76.27it/s]"
     ]
    },
    {
     "name": "stdout",
     "output_type": "stream",
     "text": [
      "Train Loss: 126.2455\n",
      "Val Loss: 147.4810\n",
      "Epoch 866 of 1000\n"
     ]
    },
    {
     "name": "stderr",
     "output_type": "stream",
     "text": [
      "469it [00:06, 75.69it/s]                         \n",
      "79it [00:00, 103.69it/s]                        \n",
      "  2%|▏         | 8/468 [00:00<00:06, 75.53it/s]"
     ]
    },
    {
     "name": "stdout",
     "output_type": "stream",
     "text": [
      "Train Loss: 126.2362\n",
      "Val Loss: 147.3217\n",
      "Epoch 867 of 1000\n"
     ]
    },
    {
     "name": "stderr",
     "output_type": "stream",
     "text": [
      "469it [00:06, 74.76it/s]                         \n",
      "79it [00:00, 103.34it/s]                        \n",
      "  1%|▏         | 7/468 [00:00<00:06, 69.21it/s]"
     ]
    },
    {
     "name": "stdout",
     "output_type": "stream",
     "text": [
      "Train Loss: 126.2552\n",
      "Val Loss: 147.6911\n",
      "Epoch 868 of 1000\n"
     ]
    },
    {
     "name": "stderr",
     "output_type": "stream",
     "text": [
      "469it [00:06, 73.92it/s]                         \n",
      "79it [00:00, 103.24it/s]                        \n",
      "  2%|▏         | 8/468 [00:00<00:05, 78.37it/s]"
     ]
    },
    {
     "name": "stdout",
     "output_type": "stream",
     "text": [
      "Train Loss: 126.2410\n",
      "Val Loss: 147.2246\n",
      "Epoch 869 of 1000\n"
     ]
    },
    {
     "name": "stderr",
     "output_type": "stream",
     "text": [
      "469it [00:06, 74.74it/s]                         \n",
      "79it [00:00, 102.15it/s]                        \n",
      "  2%|▏         | 8/468 [00:00<00:06, 75.08it/s]"
     ]
    },
    {
     "name": "stdout",
     "output_type": "stream",
     "text": [
      "Train Loss: 126.2290\n",
      "Val Loss: 147.4032\n",
      "Epoch 870 of 1000\n"
     ]
    },
    {
     "name": "stderr",
     "output_type": "stream",
     "text": [
      "469it [00:06, 74.34it/s]                         \n",
      "79it [00:00, 103.75it/s]                        \n",
      "  2%|▏         | 8/468 [00:00<00:06, 75.46it/s]"
     ]
    },
    {
     "name": "stdout",
     "output_type": "stream",
     "text": [
      "Train Loss: 126.2297\n",
      "Val Loss: 147.5268\n",
      "Epoch 871 of 1000\n"
     ]
    },
    {
     "name": "stderr",
     "output_type": "stream",
     "text": [
      "469it [00:06, 74.60it/s]                         \n",
      "79it [00:00, 102.85it/s]                        \n",
      "  2%|▏         | 8/468 [00:00<00:06, 75.41it/s]"
     ]
    },
    {
     "name": "stdout",
     "output_type": "stream",
     "text": [
      "Train Loss: 126.2475\n",
      "Val Loss: 147.2991\n",
      "Epoch 872 of 1000\n"
     ]
    },
    {
     "name": "stderr",
     "output_type": "stream",
     "text": [
      "469it [00:06, 73.92it/s]                         \n",
      "79it [00:00, 100.54it/s]                        \n",
      "  2%|▏         | 8/468 [00:00<00:06, 75.67it/s]"
     ]
    },
    {
     "name": "stdout",
     "output_type": "stream",
     "text": [
      "Train Loss: 126.2093\n",
      "Val Loss: 147.4068\n",
      "Epoch 873 of 1000\n"
     ]
    },
    {
     "name": "stderr",
     "output_type": "stream",
     "text": [
      "469it [00:06, 74.92it/s]                         \n",
      "79it [00:00, 100.06it/s]                       \n",
      "  2%|▏         | 8/468 [00:00<00:06, 74.30it/s]"
     ]
    },
    {
     "name": "stdout",
     "output_type": "stream",
     "text": [
      "Train Loss: 126.2450\n",
      "Val Loss: 147.3923\n",
      "Epoch 874 of 1000\n"
     ]
    },
    {
     "name": "stderr",
     "output_type": "stream",
     "text": [
      "469it [00:06, 74.21it/s]                         \n",
      "79it [00:00, 99.12it/s]                        \n",
      "  2%|▏         | 8/468 [00:00<00:06, 72.12it/s]"
     ]
    },
    {
     "name": "stdout",
     "output_type": "stream",
     "text": [
      "Train Loss: 126.2128\n",
      "Val Loss: 147.3739\n",
      "Epoch 875 of 1000\n"
     ]
    },
    {
     "name": "stderr",
     "output_type": "stream",
     "text": [
      "469it [00:06, 75.32it/s]                         \n",
      "79it [00:00, 99.39it/s]                        \n",
      "  2%|▏         | 8/468 [00:00<00:06, 75.09it/s]"
     ]
    },
    {
     "name": "stdout",
     "output_type": "stream",
     "text": [
      "Train Loss: 126.1991\n",
      "Val Loss: 147.7886\n",
      "Epoch 876 of 1000\n"
     ]
    },
    {
     "name": "stderr",
     "output_type": "stream",
     "text": [
      "469it [00:06, 75.30it/s]                         \n",
      "79it [00:00, 103.33it/s]                        \n",
      "  2%|▏         | 8/468 [00:00<00:05, 78.26it/s]"
     ]
    },
    {
     "name": "stdout",
     "output_type": "stream",
     "text": [
      "Train Loss: 126.2074\n",
      "Val Loss: 147.6359\n",
      "Epoch 877 of 1000\n"
     ]
    },
    {
     "name": "stderr",
     "output_type": "stream",
     "text": [
      "469it [00:06, 74.73it/s]\n",
      "79it [00:00, 102.73it/s]                        \n",
      "  2%|▏         | 8/468 [00:00<00:05, 76.89it/s]"
     ]
    },
    {
     "name": "stdout",
     "output_type": "stream",
     "text": [
      "Train Loss: 126.1900\n",
      "Val Loss: 147.6294\n",
      "Epoch 878 of 1000\n"
     ]
    },
    {
     "name": "stderr",
     "output_type": "stream",
     "text": [
      "469it [00:06, 75.91it/s]                         \n",
      "79it [00:00, 102.81it/s]                        \n",
      "  1%|▏         | 7/468 [00:00<00:06, 69.47it/s]"
     ]
    },
    {
     "name": "stdout",
     "output_type": "stream",
     "text": [
      "Train Loss: 126.2281\n",
      "Val Loss: 147.5266\n",
      "Epoch 879 of 1000\n"
     ]
    },
    {
     "name": "stderr",
     "output_type": "stream",
     "text": [
      "469it [00:06, 75.87it/s]                         \n",
      "79it [00:00, 101.98it/s]                        \n",
      "  2%|▏         | 8/468 [00:00<00:05, 77.01it/s]"
     ]
    },
    {
     "name": "stdout",
     "output_type": "stream",
     "text": [
      "Train Loss: 126.1901\n",
      "Val Loss: 147.4669\n",
      "Epoch 880 of 1000\n"
     ]
    },
    {
     "name": "stderr",
     "output_type": "stream",
     "text": [
      "469it [00:06, 75.71it/s]                         \n",
      "79it [00:00, 103.78it/s]                        \n",
      "  2%|▏         | 8/468 [00:00<00:05, 78.91it/s]"
     ]
    },
    {
     "name": "stdout",
     "output_type": "stream",
     "text": [
      "Train Loss: 126.1900\n",
      "Val Loss: 147.4188\n",
      "Epoch 881 of 1000\n"
     ]
    },
    {
     "name": "stderr",
     "output_type": "stream",
     "text": [
      "469it [00:06, 75.10it/s]                         \n",
      "79it [00:00, 104.09it/s]                        \n",
      "  1%|▏         | 7/468 [00:00<00:06, 68.87it/s]"
     ]
    },
    {
     "name": "stdout",
     "output_type": "stream",
     "text": [
      "Train Loss: 126.1999\n",
      "Val Loss: 147.7745\n",
      "Epoch 882 of 1000\n"
     ]
    },
    {
     "name": "stderr",
     "output_type": "stream",
     "text": [
      "469it [00:06, 75.07it/s]                         \n",
      "79it [00:00, 103.13it/s]                        \n",
      "  2%|▏         | 8/468 [00:00<00:06, 69.63it/s]"
     ]
    },
    {
     "name": "stdout",
     "output_type": "stream",
     "text": [
      "Train Loss: 126.1981\n",
      "Val Loss: 147.5065\n",
      "Epoch 883 of 1000\n"
     ]
    },
    {
     "name": "stderr",
     "output_type": "stream",
     "text": [
      "469it [00:06, 75.05it/s]                         \n",
      "79it [00:00, 103.74it/s]                        \n",
      "  2%|▏         | 8/468 [00:00<00:06, 74.18it/s]"
     ]
    },
    {
     "name": "stdout",
     "output_type": "stream",
     "text": [
      "Train Loss: 126.1482\n",
      "Val Loss: 147.5133\n",
      "Epoch 884 of 1000\n"
     ]
    },
    {
     "name": "stderr",
     "output_type": "stream",
     "text": [
      "469it [00:06, 74.80it/s]                         \n",
      "79it [00:00, 96.07it/s]                        \n",
      "  1%|▏         | 7/468 [00:00<00:06, 66.30it/s]"
     ]
    },
    {
     "name": "stdout",
     "output_type": "stream",
     "text": [
      "Train Loss: 126.1483\n",
      "Val Loss: 147.4040\n",
      "Epoch 885 of 1000\n"
     ]
    },
    {
     "name": "stderr",
     "output_type": "stream",
     "text": [
      "469it [00:06, 72.28it/s]                         \n",
      "79it [00:00, 100.56it/s]                       \n",
      "  2%|▏         | 8/468 [00:00<00:05, 76.92it/s]"
     ]
    },
    {
     "name": "stdout",
     "output_type": "stream",
     "text": [
      "Train Loss: 126.1897\n",
      "Val Loss: 147.4618\n",
      "Epoch 886 of 1000\n"
     ]
    },
    {
     "name": "stderr",
     "output_type": "stream",
     "text": [
      "469it [00:06, 74.84it/s]                         \n",
      "79it [00:00, 102.41it/s]                        \n",
      "  2%|▏         | 8/468 [00:00<00:06, 76.51it/s]"
     ]
    },
    {
     "name": "stdout",
     "output_type": "stream",
     "text": [
      "Train Loss: 126.1521\n",
      "Val Loss: 147.7912\n",
      "Epoch 887 of 1000\n"
     ]
    },
    {
     "name": "stderr",
     "output_type": "stream",
     "text": [
      "469it [00:06, 76.01it/s]                         \n",
      "79it [00:00, 102.18it/s]                        \n",
      "  2%|▏         | 8/468 [00:00<00:05, 78.42it/s]"
     ]
    },
    {
     "name": "stdout",
     "output_type": "stream",
     "text": [
      "Train Loss: 126.1729\n",
      "Val Loss: 147.4395\n",
      "Epoch 888 of 1000\n"
     ]
    },
    {
     "name": "stderr",
     "output_type": "stream",
     "text": [
      "469it [00:06, 75.76it/s]                         \n",
      "79it [00:00, 102.31it/s]                        \n",
      "  2%|▏         | 8/468 [00:00<00:06, 72.95it/s]"
     ]
    },
    {
     "name": "stdout",
     "output_type": "stream",
     "text": [
      "Train Loss: 126.1532\n",
      "Val Loss: 147.5675\n",
      "Epoch 889 of 1000\n"
     ]
    },
    {
     "name": "stderr",
     "output_type": "stream",
     "text": [
      "469it [00:06, 72.78it/s]                         \n",
      "79it [00:00, 99.41it/s]                        \n",
      "  1%|▏         | 7/468 [00:00<00:06, 66.89it/s]"
     ]
    },
    {
     "name": "stdout",
     "output_type": "stream",
     "text": [
      "Train Loss: 126.1326\n",
      "Val Loss: 147.5815\n",
      "Epoch 890 of 1000\n"
     ]
    },
    {
     "name": "stderr",
     "output_type": "stream",
     "text": [
      "469it [00:06, 75.05it/s]                         \n",
      "79it [00:00, 103.68it/s]                        \n",
      "  2%|▏         | 8/468 [00:00<00:06, 75.77it/s]"
     ]
    },
    {
     "name": "stdout",
     "output_type": "stream",
     "text": [
      "Train Loss: 126.1394\n",
      "Val Loss: 147.5695\n",
      "Epoch 891 of 1000\n"
     ]
    },
    {
     "name": "stderr",
     "output_type": "stream",
     "text": [
      "469it [00:06, 75.55it/s]                         \n",
      "79it [00:00, 102.51it/s]                        \n",
      "  2%|▏         | 8/468 [00:00<00:06, 74.36it/s]"
     ]
    },
    {
     "name": "stdout",
     "output_type": "stream",
     "text": [
      "Train Loss: 126.1836\n",
      "Val Loss: 147.1583\n",
      "Epoch 892 of 1000\n"
     ]
    },
    {
     "name": "stderr",
     "output_type": "stream",
     "text": [
      "469it [00:06, 75.81it/s]                         \n",
      "79it [00:00, 102.49it/s]                        \n",
      "  2%|▏         | 8/468 [00:00<00:05, 76.83it/s]"
     ]
    },
    {
     "name": "stdout",
     "output_type": "stream",
     "text": [
      "Train Loss: 126.1526\n",
      "Val Loss: 147.4561\n",
      "Epoch 893 of 1000\n"
     ]
    },
    {
     "name": "stderr",
     "output_type": "stream",
     "text": [
      "469it [00:06, 74.55it/s]                         \n",
      "79it [00:00, 96.69it/s]                        \n",
      "  2%|▏         | 8/468 [00:00<00:06, 73.08it/s]"
     ]
    },
    {
     "name": "stdout",
     "output_type": "stream",
     "text": [
      "Train Loss: 126.1037\n",
      "Val Loss: 147.6432\n",
      "Epoch 894 of 1000\n"
     ]
    },
    {
     "name": "stderr",
     "output_type": "stream",
     "text": [
      "469it [00:06, 71.58it/s]                         \n",
      "79it [00:00, 96.37it/s]                        \n",
      "  1%|▏         | 7/468 [00:00<00:06, 69.87it/s]"
     ]
    },
    {
     "name": "stdout",
     "output_type": "stream",
     "text": [
      "Train Loss: 126.1214\n",
      "Val Loss: 147.5558\n",
      "Epoch 895 of 1000\n"
     ]
    },
    {
     "name": "stderr",
     "output_type": "stream",
     "text": [
      "469it [00:06, 74.90it/s]\n",
      "79it [00:00, 102.58it/s]                        \n",
      "  2%|▏         | 8/468 [00:00<00:05, 78.56it/s]"
     ]
    },
    {
     "name": "stdout",
     "output_type": "stream",
     "text": [
      "Train Loss: 126.1155\n",
      "Val Loss: 147.7813\n",
      "Epoch 896 of 1000\n"
     ]
    },
    {
     "name": "stderr",
     "output_type": "stream",
     "text": [
      "469it [00:06, 74.70it/s]                         \n",
      "79it [00:00, 103.12it/s]                        \n",
      "  2%|▏         | 8/468 [00:00<00:06, 75.82it/s]"
     ]
    },
    {
     "name": "stdout",
     "output_type": "stream",
     "text": [
      "Train Loss: 126.1026\n",
      "Val Loss: 147.5148\n",
      "Epoch 897 of 1000\n"
     ]
    },
    {
     "name": "stderr",
     "output_type": "stream",
     "text": [
      "469it [00:06, 74.50it/s]                         \n",
      "79it [00:00, 102.58it/s]                        \n",
      "  2%|▏         | 8/468 [00:00<00:06, 74.74it/s]"
     ]
    },
    {
     "name": "stdout",
     "output_type": "stream",
     "text": [
      "Train Loss: 126.1515\n",
      "Val Loss: 147.5025\n",
      "Epoch 898 of 1000\n"
     ]
    },
    {
     "name": "stderr",
     "output_type": "stream",
     "text": [
      "469it [00:06, 74.59it/s]                         \n",
      "79it [00:00, 103.57it/s]                        \n",
      "  1%|▏         | 7/468 [00:00<00:06, 69.32it/s]"
     ]
    },
    {
     "name": "stdout",
     "output_type": "stream",
     "text": [
      "Train Loss: 126.1234\n",
      "Val Loss: 147.7428\n",
      "Epoch 899 of 1000\n"
     ]
    },
    {
     "name": "stderr",
     "output_type": "stream",
     "text": [
      "469it [00:06, 74.88it/s]                         \n",
      "79it [00:00, 102.25it/s]                        \n",
      "  2%|▏         | 8/468 [00:00<00:06, 71.84it/s]"
     ]
    },
    {
     "name": "stdout",
     "output_type": "stream",
     "text": [
      "Train Loss: 126.1146\n",
      "Val Loss: 147.8009\n",
      "Epoch 900 of 1000\n"
     ]
    },
    {
     "name": "stderr",
     "output_type": "stream",
     "text": [
      "469it [00:06, 75.05it/s]                         \n",
      "79it [00:00, 100.55it/s]                        \n",
      "  2%|▏         | 8/468 [00:00<00:06, 74.97it/s]"
     ]
    },
    {
     "name": "stdout",
     "output_type": "stream",
     "text": [
      "Train Loss: 126.0711\n",
      "Val Loss: 147.5836\n",
      "Epoch 901 of 1000\n"
     ]
    },
    {
     "name": "stderr",
     "output_type": "stream",
     "text": [
      "469it [00:06, 74.84it/s]                         \n",
      "79it [00:00, 100.30it/s]                       \n",
      "  2%|▏         | 8/468 [00:00<00:05, 77.72it/s]"
     ]
    },
    {
     "name": "stdout",
     "output_type": "stream",
     "text": [
      "Train Loss: 126.0777\n",
      "Val Loss: 147.7085\n",
      "Epoch 902 of 1000\n"
     ]
    },
    {
     "name": "stderr",
     "output_type": "stream",
     "text": [
      "469it [00:06, 74.16it/s]                         \n",
      "79it [00:00, 101.26it/s]                        \n",
      "  2%|▏         | 8/468 [00:00<00:06, 75.16it/s]"
     ]
    },
    {
     "name": "stdout",
     "output_type": "stream",
     "text": [
      "Train Loss: 126.0868\n",
      "Val Loss: 147.7532\n",
      "Epoch 903 of 1000\n"
     ]
    },
    {
     "name": "stderr",
     "output_type": "stream",
     "text": [
      "469it [00:06, 75.36it/s]                         \n",
      "79it [00:00, 103.74it/s]                        \n",
      "  2%|▏         | 8/468 [00:00<00:05, 76.94it/s]"
     ]
    },
    {
     "name": "stdout",
     "output_type": "stream",
     "text": [
      "Train Loss: 126.0808\n",
      "Val Loss: 147.6341\n",
      "Epoch 904 of 1000\n"
     ]
    },
    {
     "name": "stderr",
     "output_type": "stream",
     "text": [
      "469it [00:06, 75.17it/s]                         \n",
      "79it [00:00, 104.11it/s]                        \n",
      "  2%|▏         | 8/468 [00:00<00:05, 77.55it/s]"
     ]
    },
    {
     "name": "stdout",
     "output_type": "stream",
     "text": [
      "Train Loss: 126.0978\n",
      "Val Loss: 147.6734\n",
      "Epoch 905 of 1000\n"
     ]
    },
    {
     "name": "stderr",
     "output_type": "stream",
     "text": [
      "469it [00:06, 75.40it/s]                         \n",
      "79it [00:00, 103.10it/s]                        \n",
      "  2%|▏         | 8/468 [00:00<00:06, 76.37it/s]"
     ]
    },
    {
     "name": "stdout",
     "output_type": "stream",
     "text": [
      "Train Loss: 126.1265\n",
      "Val Loss: 147.8280\n",
      "Epoch 906 of 1000\n"
     ]
    },
    {
     "name": "stderr",
     "output_type": "stream",
     "text": [
      "469it [00:06, 74.62it/s]                         \n",
      "79it [00:00, 100.07it/s]                       \n",
      "  2%|▏         | 8/468 [00:00<00:06, 76.51it/s]"
     ]
    },
    {
     "name": "stdout",
     "output_type": "stream",
     "text": [
      "Train Loss: 126.0830\n",
      "Val Loss: 147.6978\n",
      "Epoch 907 of 1000\n"
     ]
    },
    {
     "name": "stderr",
     "output_type": "stream",
     "text": [
      "469it [00:06, 73.71it/s]                         \n",
      "79it [00:00, 98.37it/s]                        \n",
      "  2%|▏         | 8/468 [00:00<00:06, 73.61it/s]"
     ]
    },
    {
     "name": "stdout",
     "output_type": "stream",
     "text": [
      "Train Loss: 126.0729\n",
      "Val Loss: 147.6835\n",
      "Epoch 908 of 1000\n"
     ]
    },
    {
     "name": "stderr",
     "output_type": "stream",
     "text": [
      "469it [00:06, 74.06it/s]                         \n",
      "79it [00:00, 99.43it/s]                        \n",
      "  2%|▏         | 8/468 [00:00<00:06, 74.36it/s]"
     ]
    },
    {
     "name": "stdout",
     "output_type": "stream",
     "text": [
      "Train Loss: 126.0684\n",
      "Val Loss: 147.6833\n",
      "Epoch 909 of 1000\n"
     ]
    },
    {
     "name": "stderr",
     "output_type": "stream",
     "text": [
      "469it [00:06, 74.92it/s]                         \n",
      "79it [00:00, 101.95it/s]                        \n",
      "  2%|▏         | 8/468 [00:00<00:06, 74.97it/s]"
     ]
    },
    {
     "name": "stdout",
     "output_type": "stream",
     "text": [
      "Train Loss: 126.0646\n",
      "Val Loss: 147.8802\n",
      "Epoch 910 of 1000\n"
     ]
    },
    {
     "name": "stderr",
     "output_type": "stream",
     "text": [
      "469it [00:06, 74.70it/s]                         \n",
      "79it [00:00, 102.62it/s]                        \n",
      "  2%|▏         | 8/468 [00:00<00:05, 77.44it/s]"
     ]
    },
    {
     "name": "stdout",
     "output_type": "stream",
     "text": [
      "Train Loss: 126.0880\n",
      "Val Loss: 147.6720\n",
      "Epoch 911 of 1000\n"
     ]
    },
    {
     "name": "stderr",
     "output_type": "stream",
     "text": [
      "469it [00:06, 74.26it/s]                         \n",
      "79it [00:00, 101.00it/s]                        \n",
      "  2%|▏         | 8/468 [00:00<00:06, 69.98it/s]"
     ]
    },
    {
     "name": "stdout",
     "output_type": "stream",
     "text": [
      "Train Loss: 126.0585\n",
      "Val Loss: 147.5848\n",
      "Epoch 912 of 1000\n"
     ]
    },
    {
     "name": "stderr",
     "output_type": "stream",
     "text": [
      "469it [00:06, 75.09it/s]                         \n",
      "79it [00:00, 102.64it/s]                        \n",
      "  2%|▏         | 8/468 [00:00<00:06, 73.72it/s]"
     ]
    },
    {
     "name": "stdout",
     "output_type": "stream",
     "text": [
      "Train Loss: 126.0506\n",
      "Val Loss: 147.9048\n",
      "Epoch 913 of 1000\n"
     ]
    },
    {
     "name": "stderr",
     "output_type": "stream",
     "text": [
      "469it [00:06, 75.22it/s]                         \n",
      "79it [00:00, 102.76it/s]                        \n",
      "  2%|▏         | 8/468 [00:00<00:06, 73.90it/s]"
     ]
    },
    {
     "name": "stdout",
     "output_type": "stream",
     "text": [
      "Train Loss: 126.0432\n",
      "Val Loss: 147.6721\n",
      "Epoch 914 of 1000\n"
     ]
    },
    {
     "name": "stderr",
     "output_type": "stream",
     "text": [
      "469it [00:06, 74.57it/s]                         \n",
      "79it [00:00, 103.21it/s]                        \n",
      "  2%|▏         | 8/468 [00:00<00:06, 74.54it/s]"
     ]
    },
    {
     "name": "stdout",
     "output_type": "stream",
     "text": [
      "Train Loss: 126.0253\n",
      "Val Loss: 147.8719\n",
      "Epoch 915 of 1000\n"
     ]
    },
    {
     "name": "stderr",
     "output_type": "stream",
     "text": [
      "469it [00:06, 74.20it/s]                         \n",
      "79it [00:00, 102.62it/s]                        \n",
      "  1%|▏         | 7/468 [00:00<00:06, 67.63it/s]"
     ]
    },
    {
     "name": "stdout",
     "output_type": "stream",
     "text": [
      "Train Loss: 126.0581\n",
      "Val Loss: 147.9676\n",
      "Epoch 916 of 1000\n"
     ]
    },
    {
     "name": "stderr",
     "output_type": "stream",
     "text": [
      "469it [00:06, 73.94it/s]                         \n",
      "79it [00:00, 99.20it/s]                        \n",
      "  2%|▏         | 8/468 [00:00<00:05, 77.00it/s]"
     ]
    },
    {
     "name": "stdout",
     "output_type": "stream",
     "text": [
      "Train Loss: 126.0348\n",
      "Val Loss: 147.9907\n",
      "Epoch 917 of 1000\n"
     ]
    },
    {
     "name": "stderr",
     "output_type": "stream",
     "text": [
      "469it [00:06, 75.36it/s]                         \n",
      "79it [00:00, 100.82it/s]                       \n",
      "  1%|▏         | 7/468 [00:00<00:06, 66.39it/s]"
     ]
    },
    {
     "name": "stdout",
     "output_type": "stream",
     "text": [
      "Train Loss: 126.0454\n",
      "Val Loss: 147.9069\n",
      "Epoch 918 of 1000\n"
     ]
    },
    {
     "name": "stderr",
     "output_type": "stream",
     "text": [
      "469it [00:06, 74.38it/s]                         \n",
      "79it [00:00, 101.13it/s]                       \n",
      "  2%|▏         | 8/468 [00:00<00:06, 74.55it/s]"
     ]
    },
    {
     "name": "stdout",
     "output_type": "stream",
     "text": [
      "Train Loss: 126.0152\n",
      "Val Loss: 147.8169\n",
      "Epoch 919 of 1000\n"
     ]
    },
    {
     "name": "stderr",
     "output_type": "stream",
     "text": [
      "469it [00:06, 73.18it/s]                         \n",
      "79it [00:00, 100.91it/s]                        \n",
      "  2%|▏         | 8/468 [00:00<00:06, 73.16it/s]"
     ]
    },
    {
     "name": "stdout",
     "output_type": "stream",
     "text": [
      "Train Loss: 126.0469\n",
      "Val Loss: 147.7844\n",
      "Epoch 920 of 1000\n"
     ]
    },
    {
     "name": "stderr",
     "output_type": "stream",
     "text": [
      "469it [00:06, 74.20it/s]                         \n",
      "79it [00:00, 101.92it/s]                        \n",
      "  1%|▏         | 7/468 [00:00<00:06, 69.85it/s]"
     ]
    },
    {
     "name": "stdout",
     "output_type": "stream",
     "text": [
      "Train Loss: 125.9884\n",
      "Val Loss: 147.7459\n",
      "Epoch 921 of 1000\n"
     ]
    },
    {
     "name": "stderr",
     "output_type": "stream",
     "text": [
      "469it [00:06, 75.10it/s]                         \n",
      "79it [00:00, 101.45it/s]                        \n",
      "  2%|▏         | 8/468 [00:00<00:05, 77.86it/s]"
     ]
    },
    {
     "name": "stdout",
     "output_type": "stream",
     "text": [
      "Train Loss: 126.0176\n",
      "Val Loss: 147.8139\n",
      "Epoch 922 of 1000\n"
     ]
    },
    {
     "name": "stderr",
     "output_type": "stream",
     "text": [
      "469it [00:06, 75.54it/s]                         \n",
      "79it [00:00, 104.67it/s]                        \n",
      "  2%|▏         | 8/468 [00:00<00:06, 71.30it/s]"
     ]
    },
    {
     "name": "stdout",
     "output_type": "stream",
     "text": [
      "Train Loss: 126.0116\n",
      "Val Loss: 147.6495\n",
      "Epoch 923 of 1000\n"
     ]
    },
    {
     "name": "stderr",
     "output_type": "stream",
     "text": [
      "469it [00:06, 74.49it/s]                         \n",
      "79it [00:00, 99.33it/s]                        \n",
      "  2%|▏         | 8/468 [00:00<00:06, 74.36it/s]"
     ]
    },
    {
     "name": "stdout",
     "output_type": "stream",
     "text": [
      "Train Loss: 126.0273\n",
      "Val Loss: 147.6660\n",
      "Epoch 924 of 1000\n"
     ]
    },
    {
     "name": "stderr",
     "output_type": "stream",
     "text": [
      "469it [00:06, 75.11it/s]                         \n",
      "79it [00:00, 102.46it/s]                        \n",
      "  2%|▏         | 8/468 [00:00<00:06, 73.48it/s]"
     ]
    },
    {
     "name": "stdout",
     "output_type": "stream",
     "text": [
      "Train Loss: 125.9876\n",
      "Val Loss: 147.9165\n",
      "Epoch 925 of 1000\n"
     ]
    },
    {
     "name": "stderr",
     "output_type": "stream",
     "text": [
      "469it [00:06, 73.51it/s]\n",
      "79it [00:00, 103.69it/s]                        \n",
      "  2%|▏         | 8/468 [00:00<00:06, 74.55it/s]"
     ]
    },
    {
     "name": "stdout",
     "output_type": "stream",
     "text": [
      "Train Loss: 125.9910\n",
      "Val Loss: 147.6988\n",
      "Epoch 926 of 1000\n"
     ]
    },
    {
     "name": "stderr",
     "output_type": "stream",
     "text": [
      "469it [00:06, 74.89it/s]                         \n",
      "79it [00:00, 103.74it/s]                        \n",
      "  2%|▏         | 8/468 [00:00<00:06, 76.66it/s]"
     ]
    },
    {
     "name": "stdout",
     "output_type": "stream",
     "text": [
      "Train Loss: 126.0011\n",
      "Val Loss: 147.8285\n",
      "Epoch 927 of 1000\n"
     ]
    },
    {
     "name": "stderr",
     "output_type": "stream",
     "text": [
      "469it [00:06, 74.51it/s]                         \n",
      "79it [00:00, 102.99it/s]                        \n",
      "  2%|▏         | 8/468 [00:00<00:06, 71.85it/s]"
     ]
    },
    {
     "name": "stdout",
     "output_type": "stream",
     "text": [
      "Train Loss: 126.0015\n",
      "Val Loss: 147.9101\n",
      "Epoch 928 of 1000\n"
     ]
    },
    {
     "name": "stderr",
     "output_type": "stream",
     "text": [
      "469it [00:06, 74.16it/s]                         \n",
      "79it [00:00, 103.58it/s]                        \n",
      "  2%|▏         | 8/468 [00:00<00:06, 74.45it/s]"
     ]
    },
    {
     "name": "stdout",
     "output_type": "stream",
     "text": [
      "Train Loss: 125.9918\n",
      "Val Loss: 148.0035\n",
      "Epoch 929 of 1000\n"
     ]
    },
    {
     "name": "stderr",
     "output_type": "stream",
     "text": [
      "469it [00:06, 74.64it/s]                         \n",
      "79it [00:00, 101.42it/s]                        \n",
      "  2%|▏         | 8/468 [00:00<00:05, 78.77it/s]"
     ]
    },
    {
     "name": "stdout",
     "output_type": "stream",
     "text": [
      "Train Loss: 125.9849\n",
      "Val Loss: 147.7086\n",
      "Epoch 930 of 1000\n"
     ]
    },
    {
     "name": "stderr",
     "output_type": "stream",
     "text": [
      "469it [00:06, 74.86it/s]                         \n",
      "79it [00:00, 98.21it/s]                        \n",
      "  2%|▏         | 8/468 [00:00<00:06, 72.20it/s]"
     ]
    },
    {
     "name": "stdout",
     "output_type": "stream",
     "text": [
      "Train Loss: 126.0032\n",
      "Val Loss: 147.7772\n",
      "Epoch 931 of 1000\n"
     ]
    },
    {
     "name": "stderr",
     "output_type": "stream",
     "text": [
      "469it [00:06, 74.15it/s]                         \n",
      "79it [00:00, 101.02it/s]                       \n",
      "  2%|▏         | 8/468 [00:00<00:06, 75.69it/s]"
     ]
    },
    {
     "name": "stdout",
     "output_type": "stream",
     "text": [
      "Train Loss: 125.9596\n",
      "Val Loss: 147.6567\n",
      "Epoch 932 of 1000\n"
     ]
    },
    {
     "name": "stderr",
     "output_type": "stream",
     "text": [
      "469it [00:06, 73.38it/s]                         \n",
      "79it [00:00, 100.17it/s]                       \n",
      "  2%|▏         | 8/468 [00:00<00:06, 73.33it/s]"
     ]
    },
    {
     "name": "stdout",
     "output_type": "stream",
     "text": [
      "Train Loss: 125.9841\n",
      "Val Loss: 148.1292\n",
      "Epoch 933 of 1000\n"
     ]
    },
    {
     "name": "stderr",
     "output_type": "stream",
     "text": [
      "469it [00:06, 74.47it/s]                         \n",
      "79it [00:00, 100.84it/s]                       \n",
      "  1%|▏         | 7/468 [00:00<00:06, 67.25it/s]"
     ]
    },
    {
     "name": "stdout",
     "output_type": "stream",
     "text": [
      "Train Loss: 125.9545\n",
      "Val Loss: 147.9189\n",
      "Epoch 934 of 1000\n"
     ]
    },
    {
     "name": "stderr",
     "output_type": "stream",
     "text": [
      "469it [00:06, 75.21it/s]                         \n",
      "79it [00:00, 103.67it/s]                        \n",
      "  2%|▏         | 8/468 [00:00<00:06, 72.98it/s]"
     ]
    },
    {
     "name": "stdout",
     "output_type": "stream",
     "text": [
      "Train Loss: 125.9616\n",
      "Val Loss: 147.9621\n",
      "Epoch 935 of 1000\n"
     ]
    },
    {
     "name": "stderr",
     "output_type": "stream",
     "text": [
      "469it [00:06, 74.98it/s]                         \n",
      "79it [00:00, 101.66it/s]                       \n",
      "  2%|▏         | 8/468 [00:00<00:06, 74.55it/s]"
     ]
    },
    {
     "name": "stdout",
     "output_type": "stream",
     "text": [
      "Train Loss: 125.9635\n",
      "Val Loss: 148.0047\n",
      "Epoch 936 of 1000\n"
     ]
    },
    {
     "name": "stderr",
     "output_type": "stream",
     "text": [
      "469it [00:06, 74.62it/s]                         \n",
      "79it [00:00, 102.70it/s]                        \n",
      "  2%|▏         | 8/468 [00:00<00:05, 78.28it/s]"
     ]
    },
    {
     "name": "stdout",
     "output_type": "stream",
     "text": [
      "Train Loss: 125.9446\n",
      "Val Loss: 147.7563\n",
      "Epoch 937 of 1000\n"
     ]
    },
    {
     "name": "stderr",
     "output_type": "stream",
     "text": [
      "469it [00:06, 75.04it/s]                         \n",
      "79it [00:00, 100.22it/s]                       \n",
      "  2%|▏         | 8/468 [00:00<00:06, 76.40it/s]"
     ]
    },
    {
     "name": "stdout",
     "output_type": "stream",
     "text": [
      "Train Loss: 125.9752\n",
      "Val Loss: 148.1696\n",
      "Epoch 938 of 1000\n"
     ]
    },
    {
     "name": "stderr",
     "output_type": "stream",
     "text": [
      "469it [00:06, 72.22it/s]                         \n",
      "79it [00:00, 98.04it/s]                        \n",
      "  1%|▏         | 7/468 [00:00<00:06, 68.90it/s]"
     ]
    },
    {
     "name": "stdout",
     "output_type": "stream",
     "text": [
      "Train Loss: 125.9506\n",
      "Val Loss: 147.9073\n",
      "Epoch 939 of 1000\n"
     ]
    },
    {
     "name": "stderr",
     "output_type": "stream",
     "text": [
      "469it [00:06, 75.43it/s]                         \n",
      "79it [00:00, 102.97it/s]                        \n",
      "  2%|▏         | 8/468 [00:00<00:06, 74.52it/s]"
     ]
    },
    {
     "name": "stdout",
     "output_type": "stream",
     "text": [
      "Train Loss: 125.9696\n",
      "Val Loss: 147.8984\n",
      "Epoch 940 of 1000\n"
     ]
    },
    {
     "name": "stderr",
     "output_type": "stream",
     "text": [
      "469it [00:06, 75.49it/s]                         \n",
      "79it [00:00, 101.97it/s]                        \n",
      "  1%|▏         | 7/468 [00:00<00:06, 69.89it/s]"
     ]
    },
    {
     "name": "stdout",
     "output_type": "stream",
     "text": [
      "Train Loss: 125.9528\n",
      "Val Loss: 147.9814\n",
      "Epoch 941 of 1000\n"
     ]
    },
    {
     "name": "stderr",
     "output_type": "stream",
     "text": [
      "469it [00:06, 75.16it/s]                         \n",
      "79it [00:00, 101.66it/s]                        \n",
      "  1%|▏         | 7/468 [00:00<00:06, 67.54it/s]"
     ]
    },
    {
     "name": "stdout",
     "output_type": "stream",
     "text": [
      "Train Loss: 125.9281\n",
      "Val Loss: 147.9747\n",
      "Epoch 942 of 1000\n"
     ]
    },
    {
     "name": "stderr",
     "output_type": "stream",
     "text": [
      "469it [00:06, 74.24it/s]                         \n",
      "79it [00:00, 100.05it/s]                        \n",
      "  2%|▏         | 8/468 [00:00<00:06, 72.98it/s]"
     ]
    },
    {
     "name": "stdout",
     "output_type": "stream",
     "text": [
      "Train Loss: 125.9450\n",
      "Val Loss: 148.1221\n",
      "Epoch 943 of 1000\n"
     ]
    },
    {
     "name": "stderr",
     "output_type": "stream",
     "text": [
      "469it [00:06, 74.53it/s]                         \n",
      "79it [00:00, 103.46it/s]                        \n",
      "  1%|▏         | 7/468 [00:00<00:07, 64.29it/s]"
     ]
    },
    {
     "name": "stdout",
     "output_type": "stream",
     "text": [
      "Train Loss: 125.9224\n",
      "Val Loss: 147.9034\n",
      "Epoch 944 of 1000\n"
     ]
    },
    {
     "name": "stderr",
     "output_type": "stream",
     "text": [
      "469it [00:06, 75.37it/s]                         \n",
      "79it [00:00, 103.34it/s]                        \n",
      "  2%|▏         | 8/468 [00:00<00:05, 78.01it/s]"
     ]
    },
    {
     "name": "stdout",
     "output_type": "stream",
     "text": [
      "Train Loss: 125.8971\n",
      "Val Loss: 148.1816\n",
      "Epoch 945 of 1000\n"
     ]
    },
    {
     "name": "stderr",
     "output_type": "stream",
     "text": [
      "469it [00:06, 74.29it/s]                         \n",
      "79it [00:00, 106.04it/s]                        \n",
      "  2%|▏         | 8/468 [00:00<00:05, 76.96it/s]"
     ]
    },
    {
     "name": "stdout",
     "output_type": "stream",
     "text": [
      "Train Loss: 125.8934\n",
      "Val Loss: 148.1233\n",
      "Epoch 946 of 1000\n"
     ]
    },
    {
     "name": "stderr",
     "output_type": "stream",
     "text": [
      "469it [00:06, 75.15it/s]                         \n",
      "79it [00:00, 103.31it/s]                        \n",
      "  2%|▏         | 8/468 [00:00<00:05, 78.07it/s]"
     ]
    },
    {
     "name": "stdout",
     "output_type": "stream",
     "text": [
      "Train Loss: 125.9386\n",
      "Val Loss: 147.8972\n",
      "Epoch 947 of 1000\n"
     ]
    },
    {
     "name": "stderr",
     "output_type": "stream",
     "text": [
      "469it [00:06, 74.88it/s]                         \n",
      "79it [00:00, 104.54it/s]                        \n",
      "  1%|▏         | 7/468 [00:00<00:07, 63.78it/s]"
     ]
    },
    {
     "name": "stdout",
     "output_type": "stream",
     "text": [
      "Train Loss: 125.9616\n",
      "Val Loss: 148.1485\n",
      "Epoch 948 of 1000\n"
     ]
    },
    {
     "name": "stderr",
     "output_type": "stream",
     "text": [
      "469it [00:06, 75.95it/s]                         \n",
      "79it [00:00, 103.59it/s]                        \n",
      "  2%|▏         | 8/468 [00:00<00:06, 75.58it/s]"
     ]
    },
    {
     "name": "stdout",
     "output_type": "stream",
     "text": [
      "Train Loss: 125.9222\n",
      "Val Loss: 147.9680\n",
      "Epoch 949 of 1000\n"
     ]
    },
    {
     "name": "stderr",
     "output_type": "stream",
     "text": [
      "469it [00:06, 74.95it/s]                         \n",
      "79it [00:00, 103.28it/s]                        \n",
      "  1%|▏         | 7/468 [00:00<00:06, 67.35it/s]"
     ]
    },
    {
     "name": "stdout",
     "output_type": "stream",
     "text": [
      "Train Loss: 125.9083\n",
      "Val Loss: 147.9577\n",
      "Epoch 950 of 1000\n"
     ]
    },
    {
     "name": "stderr",
     "output_type": "stream",
     "text": [
      "469it [00:06, 75.75it/s]                         \n",
      "79it [00:00, 103.19it/s]                        \n",
      "  2%|▏         | 9/468 [00:00<00:05, 80.99it/s]"
     ]
    },
    {
     "name": "stdout",
     "output_type": "stream",
     "text": [
      "Train Loss: 125.8638\n",
      "Val Loss: 147.9287\n",
      "Epoch 951 of 1000\n"
     ]
    },
    {
     "name": "stderr",
     "output_type": "stream",
     "text": [
      "469it [00:06, 76.99it/s]                         \n",
      "79it [00:00, 99.59it/s]                        \n",
      "  2%|▏         | 9/468 [00:00<00:05, 80.10it/s]"
     ]
    },
    {
     "name": "stdout",
     "output_type": "stream",
     "text": [
      "Train Loss: 125.8862\n",
      "Val Loss: 148.0743\n",
      "Epoch 952 of 1000\n"
     ]
    },
    {
     "name": "stderr",
     "output_type": "stream",
     "text": [
      "469it [00:06, 75.55it/s]                         \n",
      "79it [00:00, 97.36it/s]                        \n",
      "  2%|▏         | 8/468 [00:00<00:05, 78.23it/s]"
     ]
    },
    {
     "name": "stdout",
     "output_type": "stream",
     "text": [
      "Train Loss: 125.8544\n",
      "Val Loss: 148.0264\n",
      "Epoch 953 of 1000\n"
     ]
    },
    {
     "name": "stderr",
     "output_type": "stream",
     "text": [
      "469it [00:06, 74.43it/s]                         \n",
      "79it [00:00, 98.90it/s]                        \n",
      "  2%|▏         | 8/468 [00:00<00:06, 75.27it/s]"
     ]
    },
    {
     "name": "stdout",
     "output_type": "stream",
     "text": [
      "Train Loss: 125.8775\n",
      "Val Loss: 148.2322\n",
      "Epoch 954 of 1000\n"
     ]
    },
    {
     "name": "stderr",
     "output_type": "stream",
     "text": [
      "469it [00:06, 74.76it/s]                         \n",
      "79it [00:00, 102.24it/s]                        \n",
      "  2%|▏         | 8/468 [00:00<00:05, 78.38it/s]"
     ]
    },
    {
     "name": "stdout",
     "output_type": "stream",
     "text": [
      "Train Loss: 125.9339\n",
      "Val Loss: 148.0231\n",
      "Epoch 955 of 1000\n"
     ]
    },
    {
     "name": "stderr",
     "output_type": "stream",
     "text": [
      "469it [00:06, 75.89it/s]\n",
      "79it [00:00, 103.29it/s]                        \n",
      "  2%|▏         | 8/468 [00:00<00:06, 72.70it/s]"
     ]
    },
    {
     "name": "stdout",
     "output_type": "stream",
     "text": [
      "Train Loss: 125.8671\n",
      "Val Loss: 148.0794\n",
      "Epoch 956 of 1000\n"
     ]
    },
    {
     "name": "stderr",
     "output_type": "stream",
     "text": [
      "469it [00:06, 75.53it/s]                         \n",
      "79it [00:00, 103.78it/s]                        \n",
      "  2%|▏         | 8/468 [00:00<00:06, 75.77it/s]"
     ]
    },
    {
     "name": "stdout",
     "output_type": "stream",
     "text": [
      "Train Loss: 125.8473\n",
      "Val Loss: 148.0998\n",
      "Epoch 957 of 1000\n"
     ]
    },
    {
     "name": "stderr",
     "output_type": "stream",
     "text": [
      "469it [00:06, 75.62it/s]                         \n",
      "79it [00:00, 105.89it/s]                        \n",
      "  2%|▏         | 8/468 [00:00<00:05, 77.78it/s]"
     ]
    },
    {
     "name": "stdout",
     "output_type": "stream",
     "text": [
      "Train Loss: 125.8696\n",
      "Val Loss: 147.9858\n",
      "Epoch 958 of 1000\n"
     ]
    },
    {
     "name": "stderr",
     "output_type": "stream",
     "text": [
      "469it [00:06, 75.98it/s]                         \n",
      "79it [00:00, 103.93it/s]                        \n",
      "  2%|▏         | 8/468 [00:00<00:06, 74.72it/s]"
     ]
    },
    {
     "name": "stdout",
     "output_type": "stream",
     "text": [
      "Train Loss: 125.8781\n",
      "Val Loss: 148.1058\n",
      "Epoch 959 of 1000\n"
     ]
    },
    {
     "name": "stderr",
     "output_type": "stream",
     "text": [
      "469it [00:06, 75.88it/s]                         \n",
      "79it [00:00, 104.01it/s]                        \n",
      "  2%|▏         | 8/468 [00:00<00:05, 80.00it/s]"
     ]
    },
    {
     "name": "stdout",
     "output_type": "stream",
     "text": [
      "Train Loss: 125.8395\n",
      "Val Loss: 147.8833\n",
      "Epoch 960 of 1000\n"
     ]
    },
    {
     "name": "stderr",
     "output_type": "stream",
     "text": [
      "469it [00:06, 76.46it/s]                         \n",
      "79it [00:00, 100.15it/s]                       \n",
      "  2%|▏         | 8/468 [00:00<00:06, 76.49it/s]"
     ]
    },
    {
     "name": "stdout",
     "output_type": "stream",
     "text": [
      "Train Loss: 125.8593\n",
      "Val Loss: 148.0974\n",
      "Epoch 961 of 1000\n"
     ]
    },
    {
     "name": "stderr",
     "output_type": "stream",
     "text": [
      "469it [00:06, 75.32it/s]                         \n",
      "79it [00:00, 102.27it/s]                       \n",
      "  2%|▏         | 8/468 [00:00<00:06, 74.69it/s]"
     ]
    },
    {
     "name": "stdout",
     "output_type": "stream",
     "text": [
      "Train Loss: 125.8482\n",
      "Val Loss: 147.9284\n",
      "Epoch 962 of 1000\n"
     ]
    },
    {
     "name": "stderr",
     "output_type": "stream",
     "text": [
      "469it [00:06, 74.88it/s]                         \n",
      "79it [00:00, 104.08it/s]                        \n",
      "  2%|▏         | 8/468 [00:00<00:06, 76.50it/s]"
     ]
    },
    {
     "name": "stdout",
     "output_type": "stream",
     "text": [
      "Train Loss: 125.8554\n",
      "Val Loss: 148.2933\n",
      "Epoch 963 of 1000\n"
     ]
    },
    {
     "name": "stderr",
     "output_type": "stream",
     "text": [
      "469it [00:06, 75.49it/s]\n",
      "79it [00:00, 105.15it/s]                        \n",
      "  2%|▏         | 8/468 [00:00<00:05, 77.19it/s]"
     ]
    },
    {
     "name": "stdout",
     "output_type": "stream",
     "text": [
      "Train Loss: 125.8176\n",
      "Val Loss: 148.0584\n",
      "Epoch 964 of 1000\n"
     ]
    },
    {
     "name": "stderr",
     "output_type": "stream",
     "text": [
      "469it [00:06, 75.69it/s]                         \n",
      "79it [00:00, 103.00it/s]                        \n",
      "  1%|▏         | 7/468 [00:00<00:06, 68.06it/s]"
     ]
    },
    {
     "name": "stdout",
     "output_type": "stream",
     "text": [
      "Train Loss: 125.8687\n",
      "Val Loss: 148.2272\n",
      "Epoch 965 of 1000\n"
     ]
    },
    {
     "name": "stderr",
     "output_type": "stream",
     "text": [
      "469it [00:06, 74.35it/s]                         \n",
      "79it [00:00, 102.94it/s]                        \n",
      "  2%|▏         | 8/468 [00:00<00:06, 73.08it/s]"
     ]
    },
    {
     "name": "stdout",
     "output_type": "stream",
     "text": [
      "Train Loss: 125.8597\n",
      "Val Loss: 148.1143\n",
      "Epoch 966 of 1000\n"
     ]
    },
    {
     "name": "stderr",
     "output_type": "stream",
     "text": [
      "469it [00:06, 75.82it/s]                         \n",
      "79it [00:00, 105.60it/s]                        \n",
      "  1%|▏         | 6/468 [00:00<00:08, 56.64it/s]"
     ]
    },
    {
     "name": "stdout",
     "output_type": "stream",
     "text": [
      "Train Loss: 125.8293\n",
      "Val Loss: 148.0536\n",
      "Epoch 967 of 1000\n"
     ]
    },
    {
     "name": "stderr",
     "output_type": "stream",
     "text": [
      "469it [00:06, 75.33it/s]                         \n",
      "79it [00:00, 103.48it/s]                        \n",
      "  2%|▏         | 8/468 [00:00<00:06, 73.69it/s]"
     ]
    },
    {
     "name": "stdout",
     "output_type": "stream",
     "text": [
      "Train Loss: 125.8311\n",
      "Val Loss: 147.9957\n",
      "Epoch 968 of 1000\n"
     ]
    },
    {
     "name": "stderr",
     "output_type": "stream",
     "text": [
      "469it [00:06, 75.51it/s]                         \n",
      "79it [00:00, 104.41it/s]                        \n",
      "  2%|▏         | 8/468 [00:00<00:06, 74.55it/s]"
     ]
    },
    {
     "name": "stdout",
     "output_type": "stream",
     "text": [
      "Train Loss: 125.7847\n",
      "Val Loss: 148.0544\n",
      "Epoch 969 of 1000\n"
     ]
    },
    {
     "name": "stderr",
     "output_type": "stream",
     "text": [
      "469it [00:06, 76.33it/s]                         \n",
      "79it [00:00, 97.45it/s]                        \n",
      "  2%|▏         | 8/468 [00:00<00:05, 77.82it/s]"
     ]
    },
    {
     "name": "stdout",
     "output_type": "stream",
     "text": [
      "Train Loss: 125.7877\n",
      "Val Loss: 148.4444\n",
      "Epoch 970 of 1000\n"
     ]
    },
    {
     "name": "stderr",
     "output_type": "stream",
     "text": [
      "469it [00:06, 74.50it/s]                         \n",
      "79it [00:00, 102.09it/s]                       \n",
      "  2%|▏         | 8/468 [00:00<00:05, 77.56it/s]"
     ]
    },
    {
     "name": "stdout",
     "output_type": "stream",
     "text": [
      "Train Loss: 125.8319\n",
      "Val Loss: 148.2406\n",
      "Epoch 971 of 1000\n"
     ]
    },
    {
     "name": "stderr",
     "output_type": "stream",
     "text": [
      "469it [00:06, 75.53it/s]                         \n",
      "79it [00:00, 103.70it/s]                        \n",
      "  1%|▏         | 7/468 [00:00<00:06, 67.27it/s]"
     ]
    },
    {
     "name": "stdout",
     "output_type": "stream",
     "text": [
      "Train Loss: 125.7948\n",
      "Val Loss: 148.5394\n",
      "Epoch 972 of 1000\n"
     ]
    },
    {
     "name": "stderr",
     "output_type": "stream",
     "text": [
      "469it [00:06, 76.17it/s]                         \n",
      "79it [00:00, 103.16it/s]                        \n",
      "  2%|▏         | 8/468 [00:00<00:05, 77.60it/s]"
     ]
    },
    {
     "name": "stdout",
     "output_type": "stream",
     "text": [
      "Train Loss: 125.8341\n",
      "Val Loss: 148.0422\n",
      "Epoch 973 of 1000\n"
     ]
    },
    {
     "name": "stderr",
     "output_type": "stream",
     "text": [
      "469it [00:06, 76.00it/s]                         \n",
      "79it [00:00, 104.86it/s]                        \n",
      "  2%|▏         | 8/468 [00:00<00:06, 75.47it/s]"
     ]
    },
    {
     "name": "stdout",
     "output_type": "stream",
     "text": [
      "Train Loss: 125.7955\n",
      "Val Loss: 148.5331\n",
      "Epoch 974 of 1000\n"
     ]
    },
    {
     "name": "stderr",
     "output_type": "stream",
     "text": [
      "469it [00:06, 75.19it/s]                         \n",
      "79it [00:00, 101.51it/s]                       \n",
      "  2%|▏         | 8/468 [00:00<00:06, 71.99it/s]"
     ]
    },
    {
     "name": "stdout",
     "output_type": "stream",
     "text": [
      "Train Loss: 125.7762\n",
      "Val Loss: 147.9926\n",
      "Epoch 975 of 1000\n"
     ]
    },
    {
     "name": "stderr",
     "output_type": "stream",
     "text": [
      "469it [00:06, 75.58it/s]\n",
      "79it [00:00, 101.92it/s]                        \n",
      "  2%|▏         | 8/468 [00:00<00:06, 76.00it/s]"
     ]
    },
    {
     "name": "stdout",
     "output_type": "stream",
     "text": [
      "Train Loss: 125.7982\n",
      "Val Loss: 148.0565\n",
      "Epoch 976 of 1000\n"
     ]
    },
    {
     "name": "stderr",
     "output_type": "stream",
     "text": [
      "469it [00:06, 73.17it/s]\n",
      "79it [00:00, 102.40it/s]                        \n",
      "  1%|▏         | 7/468 [00:00<00:06, 69.47it/s]"
     ]
    },
    {
     "name": "stdout",
     "output_type": "stream",
     "text": [
      "Train Loss: 125.8066\n",
      "Val Loss: 148.1201\n",
      "Epoch 977 of 1000\n"
     ]
    },
    {
     "name": "stderr",
     "output_type": "stream",
     "text": [
      "469it [00:06, 74.91it/s]                         \n",
      "79it [00:00, 105.39it/s]                        \n",
      "  2%|▏         | 8/468 [00:00<00:05, 78.96it/s]"
     ]
    },
    {
     "name": "stdout",
     "output_type": "stream",
     "text": [
      "Train Loss: 125.8058\n",
      "Val Loss: 148.3834\n",
      "Epoch 978 of 1000\n"
     ]
    },
    {
     "name": "stderr",
     "output_type": "stream",
     "text": [
      "469it [00:06, 76.13it/s]                         \n",
      "79it [00:00, 101.07it/s]                        \n",
      "  2%|▏         | 8/468 [00:00<00:06, 73.96it/s]"
     ]
    },
    {
     "name": "stdout",
     "output_type": "stream",
     "text": [
      "Train Loss: 125.8208\n",
      "Val Loss: 148.3229\n",
      "Epoch 979 of 1000\n"
     ]
    },
    {
     "name": "stderr",
     "output_type": "stream",
     "text": [
      "469it [00:06, 75.34it/s]                         \n",
      "79it [00:00, 104.15it/s]                        \n",
      "  2%|▏         | 8/468 [00:00<00:06, 73.92it/s]"
     ]
    },
    {
     "name": "stdout",
     "output_type": "stream",
     "text": [
      "Train Loss: 125.8005\n",
      "Val Loss: 148.2475\n",
      "Epoch 980 of 1000\n"
     ]
    },
    {
     "name": "stderr",
     "output_type": "stream",
     "text": [
      "469it [00:06, 76.17it/s]                         \n",
      "79it [00:00, 104.72it/s]                        \n",
      "  2%|▏         | 8/468 [00:00<00:06, 71.69it/s]"
     ]
    },
    {
     "name": "stdout",
     "output_type": "stream",
     "text": [
      "Train Loss: 125.7668\n",
      "Val Loss: 148.3899\n",
      "Epoch 981 of 1000\n"
     ]
    },
    {
     "name": "stderr",
     "output_type": "stream",
     "text": [
      "469it [00:06, 75.82it/s]                         \n",
      "79it [00:00, 104.93it/s]                        \n",
      "  1%|▏         | 7/468 [00:00<00:07, 65.68it/s]"
     ]
    },
    {
     "name": "stdout",
     "output_type": "stream",
     "text": [
      "Train Loss: 125.7522\n",
      "Val Loss: 148.3658\n",
      "Epoch 982 of 1000\n"
     ]
    },
    {
     "name": "stderr",
     "output_type": "stream",
     "text": [
      "469it [00:06, 72.76it/s]                         \n",
      "79it [00:00, 95.29it/s]                        \n",
      "  2%|▏         | 8/468 [00:00<00:06, 72.62it/s]"
     ]
    },
    {
     "name": "stdout",
     "output_type": "stream",
     "text": [
      "Train Loss: 125.7579\n",
      "Val Loss: 148.1714\n",
      "Epoch 983 of 1000\n"
     ]
    },
    {
     "name": "stderr",
     "output_type": "stream",
     "text": [
      "469it [00:06, 73.56it/s]                         \n",
      "79it [00:00, 102.54it/s]                        \n",
      "  2%|▏         | 8/468 [00:00<00:06, 73.17it/s]"
     ]
    },
    {
     "name": "stdout",
     "output_type": "stream",
     "text": [
      "Train Loss: 125.7910\n",
      "Val Loss: 148.3685\n",
      "Epoch 984 of 1000\n"
     ]
    },
    {
     "name": "stderr",
     "output_type": "stream",
     "text": [
      "469it [00:06, 76.34it/s]                         \n",
      "79it [00:00, 102.83it/s]                        \n",
      "  2%|▏         | 8/468 [00:00<00:05, 79.43it/s]"
     ]
    },
    {
     "name": "stdout",
     "output_type": "stream",
     "text": [
      "Train Loss: 125.7598\n",
      "Val Loss: 148.1236\n",
      "Epoch 985 of 1000\n"
     ]
    },
    {
     "name": "stderr",
     "output_type": "stream",
     "text": [
      "469it [00:06, 76.09it/s]                         \n",
      "79it [00:00, 103.51it/s]                        \n",
      "  2%|▏         | 8/468 [00:00<00:06, 75.42it/s]"
     ]
    },
    {
     "name": "stdout",
     "output_type": "stream",
     "text": [
      "Train Loss: 125.7357\n",
      "Val Loss: 148.5158\n",
      "Epoch 986 of 1000\n"
     ]
    },
    {
     "name": "stderr",
     "output_type": "stream",
     "text": [
      "469it [00:06, 75.95it/s]                         \n",
      "79it [00:00, 101.88it/s]                       \n",
      "  2%|▏         | 9/468 [00:00<00:05, 80.75it/s]"
     ]
    },
    {
     "name": "stdout",
     "output_type": "stream",
     "text": [
      "Train Loss: 125.7292\n",
      "Val Loss: 148.2595\n",
      "Epoch 987 of 1000\n"
     ]
    },
    {
     "name": "stderr",
     "output_type": "stream",
     "text": [
      "469it [00:06, 75.19it/s]\n",
      "79it [00:00, 99.32it/s]                        \n",
      "  2%|▏         | 8/468 [00:00<00:06, 75.17it/s]"
     ]
    },
    {
     "name": "stdout",
     "output_type": "stream",
     "text": [
      "Train Loss: 125.7349\n",
      "Val Loss: 148.6350\n",
      "Epoch 988 of 1000\n"
     ]
    },
    {
     "name": "stderr",
     "output_type": "stream",
     "text": [
      "469it [00:06, 74.02it/s]                         \n",
      "79it [00:00, 103.24it/s]                        \n",
      "  1%|▏         | 7/468 [00:00<00:06, 67.51it/s]"
     ]
    },
    {
     "name": "stdout",
     "output_type": "stream",
     "text": [
      "Train Loss: 125.7447\n",
      "Val Loss: 148.4198\n",
      "Epoch 989 of 1000\n"
     ]
    },
    {
     "name": "stderr",
     "output_type": "stream",
     "text": [
      "469it [00:06, 76.03it/s]                         \n",
      "79it [00:00, 104.64it/s]                        \n",
      "  2%|▏         | 8/468 [00:00<00:06, 72.22it/s]"
     ]
    },
    {
     "name": "stdout",
     "output_type": "stream",
     "text": [
      "Train Loss: 125.7347\n",
      "Val Loss: 148.4465\n",
      "Epoch 990 of 1000\n"
     ]
    },
    {
     "name": "stderr",
     "output_type": "stream",
     "text": [
      "469it [00:06, 75.93it/s]                         \n",
      "79it [00:00, 102.88it/s]                        \n",
      "  2%|▏         | 8/468 [00:00<00:05, 76.94it/s]"
     ]
    },
    {
     "name": "stdout",
     "output_type": "stream",
     "text": [
      "Train Loss: 125.7626\n",
      "Val Loss: 148.3804\n",
      "Epoch 991 of 1000\n"
     ]
    },
    {
     "name": "stderr",
     "output_type": "stream",
     "text": [
      "469it [00:06, 75.43it/s]                         \n",
      "79it [00:00, 105.35it/s]                        \n",
      "  2%|▏         | 8/468 [00:00<00:05, 76.70it/s]"
     ]
    },
    {
     "name": "stdout",
     "output_type": "stream",
     "text": [
      "Train Loss: 125.7399\n",
      "Val Loss: 148.5627\n",
      "Epoch 992 of 1000\n"
     ]
    },
    {
     "name": "stderr",
     "output_type": "stream",
     "text": [
      "469it [00:06, 75.16it/s]                         \n",
      "79it [00:00, 102.30it/s]                        \n",
      "  2%|▏         | 8/468 [00:00<00:06, 73.16it/s]"
     ]
    },
    {
     "name": "stdout",
     "output_type": "stream",
     "text": [
      "Train Loss: 125.7492\n",
      "Val Loss: 148.2836\n",
      "Epoch 993 of 1000\n"
     ]
    },
    {
     "name": "stderr",
     "output_type": "stream",
     "text": [
      "469it [00:06, 76.06it/s]                         \n",
      "79it [00:00, 105.64it/s]                        \n",
      "  2%|▏         | 8/468 [00:00<00:06, 76.29it/s]"
     ]
    },
    {
     "name": "stdout",
     "output_type": "stream",
     "text": [
      "Train Loss: 125.7317\n",
      "Val Loss: 148.2579\n",
      "Epoch 994 of 1000\n"
     ]
    },
    {
     "name": "stderr",
     "output_type": "stream",
     "text": [
      "469it [00:06, 76.26it/s]                         \n",
      "79it [00:00, 107.42it/s]                        \n",
      "  1%|▏         | 7/468 [00:00<00:06, 67.37it/s]"
     ]
    },
    {
     "name": "stdout",
     "output_type": "stream",
     "text": [
      "Train Loss: 125.7125\n",
      "Val Loss: 148.3561\n",
      "Epoch 995 of 1000\n"
     ]
    },
    {
     "name": "stderr",
     "output_type": "stream",
     "text": [
      "469it [00:06, 76.44it/s]                         \n",
      "79it [00:00, 101.99it/s]                        \n",
      "  2%|▏         | 8/468 [00:00<00:06, 75.97it/s]"
     ]
    },
    {
     "name": "stdout",
     "output_type": "stream",
     "text": [
      "Train Loss: 125.7117\n",
      "Val Loss: 148.3242\n",
      "Epoch 996 of 1000\n"
     ]
    },
    {
     "name": "stderr",
     "output_type": "stream",
     "text": [
      "469it [00:06, 76.13it/s]                         \n",
      "79it [00:00, 100.13it/s]                       \n",
      "  2%|▏         | 8/468 [00:00<00:06, 71.27it/s]"
     ]
    },
    {
     "name": "stdout",
     "output_type": "stream",
     "text": [
      "Train Loss: 125.7147\n",
      "Val Loss: 148.2242\n",
      "Epoch 997 of 1000\n"
     ]
    },
    {
     "name": "stderr",
     "output_type": "stream",
     "text": [
      "469it [00:06, 74.94it/s]                         \n",
      "79it [00:00, 105.86it/s]                        \n",
      "  2%|▏         | 8/468 [00:00<00:05, 77.82it/s]"
     ]
    },
    {
     "name": "stdout",
     "output_type": "stream",
     "text": [
      "Train Loss: 125.7123\n",
      "Val Loss: 148.5156\n",
      "Epoch 998 of 1000\n"
     ]
    },
    {
     "name": "stderr",
     "output_type": "stream",
     "text": [
      "469it [00:06, 76.64it/s]                         \n",
      "79it [00:00, 101.70it/s]                        \n",
      "  1%|▏         | 7/468 [00:00<00:06, 69.36it/s]"
     ]
    },
    {
     "name": "stdout",
     "output_type": "stream",
     "text": [
      "Train Loss: 125.7301\n",
      "Val Loss: 148.4825\n",
      "Epoch 999 of 1000\n"
     ]
    },
    {
     "name": "stderr",
     "output_type": "stream",
     "text": [
      "469it [00:06, 75.10it/s]                         \n",
      "79it [00:00, 101.28it/s]                        \n",
      "  2%|▏         | 8/468 [00:00<00:05, 77.11it/s]"
     ]
    },
    {
     "name": "stdout",
     "output_type": "stream",
     "text": [
      "Train Loss: 125.6882\n",
      "Val Loss: 148.3013\n",
      "Epoch 1000 of 1000\n"
     ]
    },
    {
     "name": "stderr",
     "output_type": "stream",
     "text": [
      "469it [00:06, 74.65it/s]                         \n",
      "79it [00:00, 100.90it/s]                        "
     ]
    },
    {
     "name": "stdout",
     "output_type": "stream",
     "text": [
      "Train Loss: 125.7164\n",
      "Val Loss: 148.7866\n"
     ]
    },
    {
     "name": "stderr",
     "output_type": "stream",
     "text": [
      "\n"
     ]
    }
   ],
   "source": [
    "train_loss = []\n",
    "val_loss = []\n",
    "for epoch in range(epochs):\n",
    "    print(f\"Epoch {epoch+1} of {epochs}\")\n",
    "    train_epoch_loss = fit(model, train_loader)\n",
    "    val_epoch_loss = validate(model, val_loader)\n",
    "    train_loss.append(train_epoch_loss)\n",
    "    val_loss.append(val_epoch_loss)\n",
    "    print(f\"Train Loss: {train_epoch_loss:.4f}\")\n",
    "    print(f\"Val Loss: {val_epoch_loss:.4f}\")"
   ]
  },
  {
   "cell_type": "code",
   "execution_count": 12,
   "metadata": {
    "colab": {
     "base_uri": "https://localhost:8080/",
     "height": 265
    },
    "id": "VEAL39V2oovZ",
    "outputId": "b641377e-541a-49d1-9261-f1911cf59b35"
   },
   "outputs": [
    {
     "data": {
      "image/png": "[encoded data removed]",
      "text/plain": [
       "<Figure size 432x288 with 1 Axes>"
      ]
     },
     "metadata": {
      "tags": []
     },
     "output_type": "display_data"
    }
   ],
   "source": [
    "plt.figure()\n",
    "plt.plot(losses_train, label='Training loss')\n",
    "plt.plot(losses_val, label='Validation Loss')\n",
    "plt.legend()\n",
    "plt.savefig('drive/MyDrive/VAE_outputs/VAEloss.png')"
   ]
  },
  {
   "cell_type": "code",
   "execution_count": null,
   "metadata": {
    "id": "QrCNQvETt6O0"
   },
   "outputs": [],
   "source": []
  }
 ],
 "metadata": {
  "accelerator": "GPU",
  "colab": {
   "name": "Copy of Copy of VAE_final.ipynb",
   "provenance": []
  },
  "kernelspec": {
   "display_name": "Python 3",
   "language": "python",
   "name": "python3"
  },
  "language_info": {
   "codemirror_mode": {
    "name": "ipython",
    "version": 3
   },
   "file_extension": ".py",
   "mimetype": "text/x-python",
   "name": "python",
   "nbconvert_exporter": "python",
   "pygments_lexer": "ipython3",
   "version": "3.8.3"
  },
  "widgets": {
   "application/vnd.jupyter.widget-state+json": {
    "06414e5d171b40fd9dd8bf6d1594cbdc": {
     "model_module": "@jupyter-widgets/base",
     "model_name": "LayoutModel",
     "state": {
      "_model_module": "@jupyter-widgets/base",
      "_model_module_version": "1.2.0",
      "_model_name": "LayoutModel",
      "_view_count": null,
      "_view_module": "@jupyter-widgets/base",
      "_view_module_version": "1.2.0",
      "_view_name": "LayoutView",
      "align_content": null,
      "align_items": null,
      "align_self": null,
      "border": null,
      "bottom": null,
      "display": null,
      "flex": null,
      "flex_flow": null,
      "grid_area": null,
      "grid_auto_columns": null,
      "grid_auto_flow": null,
      "grid_auto_rows": null,
      "grid_column": null,
      "grid_gap": null,
      "grid_row": null,
      "grid_template_areas": null,
      "grid_template_columns": null,
      "grid_template_rows": null,
      "height": null,
      "justify_content": null,
      "justify_items": null,
      "left": null,
      "margin": null,
      "max_height": null,
      "max_width": null,
      "min_height": null,
      "min_width": null,
      "object_fit": null,
      "object_position": null,
      "order": null,
      "overflow": null,
      "overflow_x": null,
      "overflow_y": null,
      "padding": null,
      "right": null,
      "top": null,
      "visibility": null,
      "width": null
     }
    },
    "0a5a8acbfa93418596b8b46b40eb1ece": {
     "model_module": "@jupyter-widgets/controls",
     "model_name": "DescriptionStyleModel",
     "state": {
      "_model_module": "@jupyter-widgets/controls",
      "_model_module_version": "1.5.0",
      "_model_name": "DescriptionStyleModel",
      "_view_count": null,
      "_view_module": "@jupyter-widgets/base",
      "_view_module_version": "1.2.0",
      "_view_name": "StyleView",
      "description_width": ""
     }
    },
    "0a762bea95364e5592483a7ba2582074": {
     "model_module": "@jupyter-widgets/controls",
     "model_name": "DescriptionStyleModel",
     "state": {
      "_model_module": "@jupyter-widgets/controls",
      "_model_module_version": "1.5.0",
      "_model_name": "DescriptionStyleModel",
      "_view_count": null,
      "_view_module": "@jupyter-widgets/base",
      "_view_module_version": "1.2.0",
      "_view_name": "StyleView",
      "description_width": ""
     }
    },
    "16ae78af864d413fae2f9ebb578fa691": {
     "model_module": "@jupyter-widgets/controls",
     "model_name": "HTMLModel",
     "state": {
      "_dom_classes": [],
      "_model_module": "@jupyter-widgets/controls",
      "_model_module_version": "1.5.0",
      "_model_name": "HTMLModel",
      "_view_count": null,
      "_view_module": "@jupyter-widgets/controls",
      "_view_module_version": "1.5.0",
      "_view_name": "HTMLView",
      "description": "",
      "description_tooltip": null,
      "layout": "IPY_MODEL_424dd7bca80c43bcad2a26efd687cf35",
      "placeholder": "​",
      "style": "IPY_MODEL_de7f2bbbf59d4e10bac61a6f3f5e2bdc",
      "value": " 32768/? [00:00&lt;00:00, 105691.95it/s]"
     }
    },
    "201fb1b9b5cd41a0a903c820196f0e58": {
     "model_module": "@jupyter-widgets/controls",
     "model_name": "ProgressStyleModel",
     "state": {
      "_model_module": "@jupyter-widgets/controls",
      "_model_module_version": "1.5.0",
      "_model_name": "ProgressStyleModel",
      "_view_count": null,
      "_view_module": "@jupyter-widgets/base",
      "_view_module_version": "1.2.0",
      "_view_name": "StyleView",
      "bar_color": null,
      "description_width": "initial"
     }
    },
    "2998eaebde29480382cbd946013a4d5c": {
     "model_module": "@jupyter-widgets/base",
     "model_name": "LayoutModel",
     "state": {
      "_model_module": "@jupyter-widgets/base",
      "_model_module_version": "1.2.0",
      "_model_name": "LayoutModel",
      "_view_count": null,
      "_view_module": "@jupyter-widgets/base",
      "_view_module_version": "1.2.0",
      "_view_name": "LayoutView",
      "align_content": null,
      "align_items": null,
      "align_self": null,
      "border": null,
      "bottom": null,
      "display": null,
      "flex": null,
      "flex_flow": null,
      "grid_area": null,
      "grid_auto_columns": null,
      "grid_auto_flow": null,
      "grid_auto_rows": null,
      "grid_column": null,
      "grid_gap": null,
      "grid_row": null,
      "grid_template_areas": null,
      "grid_template_columns": null,
      "grid_template_rows": null,
      "height": null,
      "justify_content": null,
      "justify_items": null,
      "left": null,
      "margin": null,
      "max_height": null,
      "max_width": null,
      "min_height": null,
      "min_width": null,
      "object_fit": null,
      "object_position": null,
      "order": null,
      "overflow": null,
      "overflow_x": null,
      "overflow_y": null,
      "padding": null,
      "right": null,
      "top": null,
      "visibility": null,
      "width": null
     }
    },
    "424dd7bca80c43bcad2a26efd687cf35": {
     "model_module": "@jupyter-widgets/base",
     "model_name": "LayoutModel",
     "state": {
      "_model_module": "@jupyter-widgets/base",
      "_model_module_version": "1.2.0",
      "_model_name": "LayoutModel",
      "_view_count": null,
      "_view_module": "@jupyter-widgets/base",
      "_view_module_version": "1.2.0",
      "_view_name": "LayoutView",
      "align_content": null,
      "align_items": null,
      "align_self": null,
      "border": null,
      "bottom": null,
      "display": null,
      "flex": null,
      "flex_flow": null,
      "grid_area": null,
      "grid_auto_columns": null,
      "grid_auto_flow": null,
      "grid_auto_rows": null,
      "grid_column": null,
      "grid_gap": null,
      "grid_row": null,
      "grid_template_areas": null,
      "grid_template_columns": null,
      "grid_template_rows": null,
      "height": null,
      "justify_content": null,
      "justify_items": null,
      "left": null,
      "margin": null,
      "max_height": null,
      "max_width": null,
      "min_height": null,
      "min_width": null,
      "object_fit": null,
      "object_position": null,
      "order": null,
      "overflow": null,
      "overflow_x": null,
      "overflow_y": null,
      "padding": null,
      "right": null,
      "top": null,
      "visibility": null,
      "width": null
     }
    },
    "45d2f4088fc5482c9ec3f72b3a7ad34c": {
     "model_module": "@jupyter-widgets/base",
     "model_name": "LayoutModel",
     "state": {
      "_model_module": "@jupyter-widgets/base",
      "_model_module_version": "1.2.0",
      "_model_name": "LayoutModel",
      "_view_count": null,
      "_view_module": "@jupyter-widgets/base",
      "_view_module_version": "1.2.0",
      "_view_name": "LayoutView",
      "align_content": null,
      "align_items": null,
      "align_self": null,
      "border": null,
      "bottom": null,
      "display": null,
      "flex": null,
      "flex_flow": null,
      "grid_area": null,
      "grid_auto_columns": null,
      "grid_auto_flow": null,
      "grid_auto_rows": null,
      "grid_column": null,
      "grid_gap": null,
      "grid_row": null,
      "grid_template_areas": null,
      "grid_template_columns": null,
      "grid_template_rows": null,
      "height": null,
      "justify_content": null,
      "justify_items": null,
      "left": null,
      "margin": null,
      "max_height": null,
      "max_width": null,
      "min_height": null,
      "min_width": null,
      "object_fit": null,
      "object_position": null,
      "order": null,
      "overflow": null,
      "overflow_x": null,
      "overflow_y": null,
      "padding": null,
      "right": null,
      "top": null,
      "visibility": null,
      "width": null
     }
    },
    "46ffd51377004b1785888c9eeb26f3b7": {
     "model_module": "@jupyter-widgets/controls",
     "model_name": "ProgressStyleModel",
     "state": {
      "_model_module": "@jupyter-widgets/controls",
      "_model_module_version": "1.5.0",
      "_model_name": "ProgressStyleModel",
      "_view_count": null,
      "_view_module": "@jupyter-widgets/base",
      "_view_module_version": "1.2.0",
      "_view_name": "StyleView",
      "bar_color": null,
      "description_width": "initial"
     }
    },
    "48b821cf7ca84fe59dc171348c6701b9": {
     "model_module": "@jupyter-widgets/controls",
     "model_name": "FloatProgressModel",
     "state": {
      "_dom_classes": [],
      "_model_module": "@jupyter-widgets/controls",
      "_model_module_version": "1.5.0",
      "_model_name": "FloatProgressModel",
      "_view_count": null,
      "_view_module": "@jupyter-widgets/controls",
      "_view_module_version": "1.5.0",
      "_view_name": "ProgressView",
      "bar_style": "success",
      "description": "",
      "description_tooltip": null,
      "layout": "IPY_MODEL_45d2f4088fc5482c9ec3f72b3a7ad34c",
      "max": 1,
      "min": 0,
      "orientation": "horizontal",
      "style": "IPY_MODEL_5f5c253dc6b64e48916186347186e17f",
      "value": 1
     }
    },
    "4e30042b6b2d4f4d804217ce77c156e4": {
     "model_module": "@jupyter-widgets/controls",
     "model_name": "ProgressStyleModel",
     "state": {
      "_model_module": "@jupyter-widgets/controls",
      "_model_module_version": "1.5.0",
      "_model_name": "ProgressStyleModel",
      "_view_count": null,
      "_view_module": "@jupyter-widgets/base",
      "_view_module_version": "1.2.0",
      "_view_name": "StyleView",
      "bar_color": null,
      "description_width": "initial"
     }
    },
    "5f5c253dc6b64e48916186347186e17f": {
     "model_module": "@jupyter-widgets/controls",
     "model_name": "ProgressStyleModel",
     "state": {
      "_model_module": "@jupyter-widgets/controls",
      "_model_module_version": "1.5.0",
      "_model_name": "ProgressStyleModel",
      "_view_count": null,
      "_view_module": "@jupyter-widgets/base",
      "_view_module_version": "1.2.0",
      "_view_name": "StyleView",
      "bar_color": null,
      "description_width": "initial"
     }
    },
    "62a7bf4565334a6893c2e91b339b46a1": {
     "model_module": "@jupyter-widgets/controls",
     "model_name": "HBoxModel",
     "state": {
      "_dom_classes": [],
      "_model_module": "@jupyter-widgets/controls",
      "_model_module_version": "1.5.0",
      "_model_name": "HBoxModel",
      "_view_count": null,
      "_view_module": "@jupyter-widgets/controls",
      "_view_module_version": "1.5.0",
      "_view_name": "HBoxView",
      "box_style": "",
      "children": [
       "IPY_MODEL_f6fb469a43384914aad143ee2f3811d1",
       "IPY_MODEL_16ae78af864d413fae2f9ebb578fa691"
      ],
      "layout": "IPY_MODEL_dbdd45daf5df450a8d7f94c650fc5785"
     }
    },
    "70423fcb83354cc0aa0ced8c6ce1dab0": {
     "model_module": "@jupyter-widgets/base",
     "model_name": "LayoutModel",
     "state": {
      "_model_module": "@jupyter-widgets/base",
      "_model_module_version": "1.2.0",
      "_model_name": "LayoutModel",
      "_view_count": null,
      "_view_module": "@jupyter-widgets/base",
      "_view_module_version": "1.2.0",
      "_view_name": "LayoutView",
      "align_content": null,
      "align_items": null,
      "align_self": null,
      "border": null,
      "bottom": null,
      "display": null,
      "flex": null,
      "flex_flow": null,
      "grid_area": null,
      "grid_auto_columns": null,
      "grid_auto_flow": null,
      "grid_auto_rows": null,
      "grid_column": null,
      "grid_gap": null,
      "grid_row": null,
      "grid_template_areas": null,
      "grid_template_columns": null,
      "grid_template_rows": null,
      "height": null,
      "justify_content": null,
      "justify_items": null,
      "left": null,
      "margin": null,
      "max_height": null,
      "max_width": null,
      "min_height": null,
      "min_width": null,
      "object_fit": null,
      "object_position": null,
      "order": null,
      "overflow": null,
      "overflow_x": null,
      "overflow_y": null,
      "padding": null,
      "right": null,
      "top": null,
      "visibility": null,
      "width": null
     }
    },
    "7d14f26937964464bba06a49786eb0ee": {
     "model_module": "@jupyter-widgets/controls",
     "model_name": "HTMLModel",
     "state": {
      "_dom_classes": [],
      "_model_module": "@jupyter-widgets/controls",
      "_model_module_version": "1.5.0",
      "_model_name": "HTMLModel",
      "_view_count": null,
      "_view_module": "@jupyter-widgets/controls",
      "_view_module_version": "1.5.0",
      "_view_name": "HTMLView",
      "description": "",
      "description_tooltip": null,
      "layout": "IPY_MODEL_c90f117d7e5d4a00a1fba245f229e659",
      "placeholder": "​",
      "style": "IPY_MODEL_906fb5f2a9674c4b9a77097df748b276",
      "value": " 1654784/? [00:00&lt;00:00, 7095367.45it/s]"
     }
    },
    "80c91a7abcbe476ea55b2c159ea0f2bb": {
     "model_module": "@jupyter-widgets/controls",
     "model_name": "HBoxModel",
     "state": {
      "_dom_classes": [],
      "_model_module": "@jupyter-widgets/controls",
      "_model_module_version": "1.5.0",
      "_model_name": "HBoxModel",
      "_view_count": null,
      "_view_module": "@jupyter-widgets/controls",
      "_view_module_version": "1.5.0",
      "_view_name": "HBoxView",
      "box_style": "",
      "children": [
       "IPY_MODEL_98930ac0ccc146e8bfffa6764e98f978",
       "IPY_MODEL_dd4e4e14a8df4f90b03435379270414a"
      ],
      "layout": "IPY_MODEL_d1d0527ab6904934bfb9a1f8fcc78719"
     }
    },
    "81d76bd01fa94e82af40c689a4cea9cc": {
     "model_module": "@jupyter-widgets/base",
     "model_name": "LayoutModel",
     "state": {
      "_model_module": "@jupyter-widgets/base",
      "_model_module_version": "1.2.0",
      "_model_name": "LayoutModel",
      "_view_count": null,
      "_view_module": "@jupyter-widgets/base",
      "_view_module_version": "1.2.0",
      "_view_name": "LayoutView",
      "align_content": null,
      "align_items": null,
      "align_self": null,
      "border": null,
      "bottom": null,
      "display": null,
      "flex": null,
      "flex_flow": null,
      "grid_area": null,
      "grid_auto_columns": null,
      "grid_auto_flow": null,
      "grid_auto_rows": null,
      "grid_column": null,
      "grid_gap": null,
      "grid_row": null,
      "grid_template_areas": null,
      "grid_template_columns": null,
      "grid_template_rows": null,
      "height": null,
      "justify_content": null,
      "justify_items": null,
      "left": null,
      "margin": null,
      "max_height": null,
      "max_width": null,
      "min_height": null,
      "min_width": null,
      "object_fit": null,
      "object_position": null,
      "order": null,
      "overflow": null,
      "overflow_x": null,
      "overflow_y": null,
      "padding": null,
      "right": null,
      "top": null,
      "visibility": null,
      "width": null
     }
    },
    "88a058621fb14db2a8dea8ace306262d": {
     "model_module": "@jupyter-widgets/controls",
     "model_name": "HTMLModel",
     "state": {
      "_dom_classes": [],
      "_model_module": "@jupyter-widgets/controls",
      "_model_module_version": "1.5.0",
      "_model_name": "HTMLModel",
      "_view_count": null,
      "_view_module": "@jupyter-widgets/controls",
      "_view_module_version": "1.5.0",
      "_view_name": "HTMLView",
      "description": "",
      "description_tooltip": null,
      "layout": "IPY_MODEL_70423fcb83354cc0aa0ced8c6ce1dab0",
      "placeholder": "​",
      "style": "IPY_MODEL_0a762bea95364e5592483a7ba2582074",
      "value": " 9920512/? [00:20&lt;00:00, 182826.82it/s]"
     }
    },
    "8d9d36ab060a4055b99a7d8f4347885b": {
     "model_module": "@jupyter-widgets/controls",
     "model_name": "HBoxModel",
     "state": {
      "_dom_classes": [],
      "_model_module": "@jupyter-widgets/controls",
      "_model_module_version": "1.5.0",
      "_model_name": "HBoxModel",
      "_view_count": null,
      "_view_module": "@jupyter-widgets/controls",
      "_view_module_version": "1.5.0",
      "_view_name": "HBoxView",
      "box_style": "",
      "children": [
       "IPY_MODEL_d6f86e2771944036bbd94f0c334c0255",
       "IPY_MODEL_88a058621fb14db2a8dea8ace306262d"
      ],
      "layout": "IPY_MODEL_06414e5d171b40fd9dd8bf6d1594cbdc"
     }
    },
    "906fb5f2a9674c4b9a77097df748b276": {
     "model_module": "@jupyter-widgets/controls",
     "model_name": "DescriptionStyleModel",
     "state": {
      "_model_module": "@jupyter-widgets/controls",
      "_model_module_version": "1.5.0",
      "_model_name": "DescriptionStyleModel",
      "_view_count": null,
      "_view_module": "@jupyter-widgets/base",
      "_view_module_version": "1.2.0",
      "_view_name": "StyleView",
      "description_width": ""
     }
    },
    "98930ac0ccc146e8bfffa6764e98f978": {
     "model_module": "@jupyter-widgets/controls",
     "model_name": "FloatProgressModel",
     "state": {
      "_dom_classes": [],
      "_model_module": "@jupyter-widgets/controls",
      "_model_module_version": "1.5.0",
      "_model_name": "FloatProgressModel",
      "_view_count": null,
      "_view_module": "@jupyter-widgets/controls",
      "_view_module_version": "1.5.0",
      "_view_name": "ProgressView",
      "bar_style": "info",
      "description": "",
      "description_tooltip": null,
      "layout": "IPY_MODEL_81d76bd01fa94e82af40c689a4cea9cc",
      "max": 1,
      "min": 0,
      "orientation": "horizontal",
      "style": "IPY_MODEL_4e30042b6b2d4f4d804217ce77c156e4",
      "value": 0
     }
    },
    "afc96e36db4a42d08d9c20ba605c2393": {
     "model_module": "@jupyter-widgets/base",
     "model_name": "LayoutModel",
     "state": {
      "_model_module": "@jupyter-widgets/base",
      "_model_module_version": "1.2.0",
      "_model_name": "LayoutModel",
      "_view_count": null,
      "_view_module": "@jupyter-widgets/base",
      "_view_module_version": "1.2.0",
      "_view_name": "LayoutView",
      "align_content": null,
      "align_items": null,
      "align_self": null,
      "border": null,
      "bottom": null,
      "display": null,
      "flex": null,
      "flex_flow": null,
      "grid_area": null,
      "grid_auto_columns": null,
      "grid_auto_flow": null,
      "grid_auto_rows": null,
      "grid_column": null,
      "grid_gap": null,
      "grid_row": null,
      "grid_template_areas": null,
      "grid_template_columns": null,
      "grid_template_rows": null,
      "height": null,
      "justify_content": null,
      "justify_items": null,
      "left": null,
      "margin": null,
      "max_height": null,
      "max_width": null,
      "min_height": null,
      "min_width": null,
      "object_fit": null,
      "object_position": null,
      "order": null,
      "overflow": null,
      "overflow_x": null,
      "overflow_y": null,
      "padding": null,
      "right": null,
      "top": null,
      "visibility": null,
      "width": null
     }
    },
    "c90f117d7e5d4a00a1fba245f229e659": {
     "model_module": "@jupyter-widgets/base",
     "model_name": "LayoutModel",
     "state": {
      "_model_module": "@jupyter-widgets/base",
      "_model_module_version": "1.2.0",
      "_model_name": "LayoutModel",
      "_view_count": null,
      "_view_module": "@jupyter-widgets/base",
      "_view_module_version": "1.2.0",
      "_view_name": "LayoutView",
      "align_content": null,
      "align_items": null,
      "align_self": null,
      "border": null,
      "bottom": null,
      "display": null,
      "flex": null,
      "flex_flow": null,
      "grid_area": null,
      "grid_auto_columns": null,
      "grid_auto_flow": null,
      "grid_auto_rows": null,
      "grid_column": null,
      "grid_gap": null,
      "grid_row": null,
      "grid_template_areas": null,
      "grid_template_columns": null,
      "grid_template_rows": null,
      "height": null,
      "justify_content": null,
      "justify_items": null,
      "left": null,
      "margin": null,
      "max_height": null,
      "max_width": null,
      "min_height": null,
      "min_width": null,
      "object_fit": null,
      "object_position": null,
      "order": null,
      "overflow": null,
      "overflow_x": null,
      "overflow_y": null,
      "padding": null,
      "right": null,
      "top": null,
      "visibility": null,
      "width": null
     }
    },
    "d1d0527ab6904934bfb9a1f8fcc78719": {
     "model_module": "@jupyter-widgets/base",
     "model_name": "LayoutModel",
     "state": {
      "_model_module": "@jupyter-widgets/base",
      "_model_module_version": "1.2.0",
      "_model_name": "LayoutModel",
      "_view_count": null,
      "_view_module": "@jupyter-widgets/base",
      "_view_module_version": "1.2.0",
      "_view_name": "LayoutView",
      "align_content": null,
      "align_items": null,
      "align_self": null,
      "border": null,
      "bottom": null,
      "display": null,
      "flex": null,
      "flex_flow": null,
      "grid_area": null,
      "grid_auto_columns": null,
      "grid_auto_flow": null,
      "grid_auto_rows": null,
      "grid_column": null,
      "grid_gap": null,
      "grid_row": null,
      "grid_template_areas": null,
      "grid_template_columns": null,
      "grid_template_rows": null,
      "height": null,
      "justify_content": null,
      "justify_items": null,
      "left": null,
      "margin": null,
      "max_height": null,
      "max_width": null,
      "min_height": null,
      "min_width": null,
      "object_fit": null,
      "object_position": null,
      "order": null,
      "overflow": null,
      "overflow_x": null,
      "overflow_y": null,
      "padding": null,
      "right": null,
      "top": null,
      "visibility": null,
      "width": null
     }
    },
    "d6f86e2771944036bbd94f0c334c0255": {
     "model_module": "@jupyter-widgets/controls",
     "model_name": "FloatProgressModel",
     "state": {
      "_dom_classes": [],
      "_model_module": "@jupyter-widgets/controls",
      "_model_module_version": "1.5.0",
      "_model_name": "FloatProgressModel",
      "_view_count": null,
      "_view_module": "@jupyter-widgets/controls",
      "_view_module_version": "1.5.0",
      "_view_name": "ProgressView",
      "bar_style": "info",
      "description": "",
      "description_tooltip": null,
      "layout": "IPY_MODEL_fdeb9f227a834824acbb191eb45b6fe9",
      "max": 1,
      "min": 0,
      "orientation": "horizontal",
      "style": "IPY_MODEL_46ffd51377004b1785888c9eeb26f3b7",
      "value": 1
     }
    },
    "d95ee6d717d8441997a37e89e1b1cf0f": {
     "model_module": "@jupyter-widgets/controls",
     "model_name": "HBoxModel",
     "state": {
      "_dom_classes": [],
      "_model_module": "@jupyter-widgets/controls",
      "_model_module_version": "1.5.0",
      "_model_name": "HBoxModel",
      "_view_count": null,
      "_view_module": "@jupyter-widgets/controls",
      "_view_module_version": "1.5.0",
      "_view_name": "HBoxView",
      "box_style": "",
      "children": [
       "IPY_MODEL_48b821cf7ca84fe59dc171348c6701b9",
       "IPY_MODEL_7d14f26937964464bba06a49786eb0ee"
      ],
      "layout": "IPY_MODEL_df55ec5e20f34269958e4988f669203b"
     }
    },
    "dbdd45daf5df450a8d7f94c650fc5785": {
     "model_module": "@jupyter-widgets/base",
     "model_name": "LayoutModel",
     "state": {
      "_model_module": "@jupyter-widgets/base",
      "_model_module_version": "1.2.0",
      "_model_name": "LayoutModel",
      "_view_count": null,
      "_view_module": "@jupyter-widgets/base",
      "_view_module_version": "1.2.0",
      "_view_name": "LayoutView",
      "align_content": null,
      "align_items": null,
      "align_self": null,
      "border": null,
      "bottom": null,
      "display": null,
      "flex": null,
      "flex_flow": null,
      "grid_area": null,
      "grid_auto_columns": null,
      "grid_auto_flow": null,
      "grid_auto_rows": null,
      "grid_column": null,
      "grid_gap": null,
      "grid_row": null,
      "grid_template_areas": null,
      "grid_template_columns": null,
      "grid_template_rows": null,
      "height": null,
      "justify_content": null,
      "justify_items": null,
      "left": null,
      "margin": null,
      "max_height": null,
      "max_width": null,
      "min_height": null,
      "min_width": null,
      "object_fit": null,
      "object_position": null,
      "order": null,
      "overflow": null,
      "overflow_x": null,
      "overflow_y": null,
      "padding": null,
      "right": null,
      "top": null,
      "visibility": null,
      "width": null
     }
    },
    "dd4e4e14a8df4f90b03435379270414a": {
     "model_module": "@jupyter-widgets/controls",
     "model_name": "HTMLModel",
     "state": {
      "_dom_classes": [],
      "_model_module": "@jupyter-widgets/controls",
      "_model_module_version": "1.5.0",
      "_model_name": "HTMLModel",
      "_view_count": null,
      "_view_module": "@jupyter-widgets/controls",
      "_view_module_version": "1.5.0",
      "_view_name": "HTMLView",
      "description": "",
      "description_tooltip": null,
      "layout": "IPY_MODEL_2998eaebde29480382cbd946013a4d5c",
      "placeholder": "​",
      "style": "IPY_MODEL_0a5a8acbfa93418596b8b46b40eb1ece",
      "value": " 0/? [00:00&lt;?, ?it/s]"
     }
    },
    "de7f2bbbf59d4e10bac61a6f3f5e2bdc": {
     "model_module": "@jupyter-widgets/controls",
     "model_name": "DescriptionStyleModel",
     "state": {
      "_model_module": "@jupyter-widgets/controls",
      "_model_module_version": "1.5.0",
      "_model_name": "DescriptionStyleModel",
      "_view_count": null,
      "_view_module": "@jupyter-widgets/base",
      "_view_module_version": "1.2.0",
      "_view_name": "StyleView",
      "description_width": ""
     }
    },
    "df55ec5e20f34269958e4988f669203b": {
     "model_module": "@jupyter-widgets/base",
     "model_name": "LayoutModel",
     "state": {
      "_model_module": "@jupyter-widgets/base",
      "_model_module_version": "1.2.0",
      "_model_name": "LayoutModel",
      "_view_count": null,
      "_view_module": "@jupyter-widgets/base",
      "_view_module_version": "1.2.0",
      "_view_name": "LayoutView",
      "align_content": null,
      "align_items": null,
      "align_self": null,
      "border": null,
      "bottom": null,
      "display": null,
      "flex": null,
      "flex_flow": null,
      "grid_area": null,
      "grid_auto_columns": null,
      "grid_auto_flow": null,
      "grid_auto_rows": null,
      "grid_column": null,
      "grid_gap": null,
      "grid_row": null,
      "grid_template_areas": null,
      "grid_template_columns": null,
      "grid_template_rows": null,
      "height": null,
      "justify_content": null,
      "justify_items": null,
      "left": null,
      "margin": null,
      "max_height": null,
      "max_width": null,
      "min_height": null,
      "min_width": null,
      "object_fit": null,
      "object_position": null,
      "order": null,
      "overflow": null,
      "overflow_x": null,
      "overflow_y": null,
      "padding": null,
      "right": null,
      "top": null,
      "visibility": null,
      "width": null
     }
    },
    "f6fb469a43384914aad143ee2f3811d1": {
     "model_module": "@jupyter-widgets/controls",
     "model_name": "FloatProgressModel",
     "state": {
      "_dom_classes": [],
      "_model_module": "@jupyter-widgets/controls",
      "_model_module_version": "1.5.0",
      "_model_name": "FloatProgressModel",
      "_view_count": null,
      "_view_module": "@jupyter-widgets/controls",
      "_view_module_version": "1.5.0",
      "_view_name": "ProgressView",
      "bar_style": "success",
      "description": "",
      "description_tooltip": null,
      "layout": "IPY_MODEL_afc96e36db4a42d08d9c20ba605c2393",
      "max": 1,
      "min": 0,
      "orientation": "horizontal",
      "style": "IPY_MODEL_201fb1b9b5cd41a0a903c820196f0e58",
      "value": 1
     }
    },
    "fdeb9f227a834824acbb191eb45b6fe9": {
     "model_module": "@jupyter-widgets/base",
     "model_name": "LayoutModel",
     "state": {
      "_model_module": "@jupyter-widgets/base",
      "_model_module_version": "1.2.0",
      "_model_name": "LayoutModel",
      "_view_count": null,
      "_view_module": "@jupyter-widgets/base",
      "_view_module_version": "1.2.0",
      "_view_name": "LayoutView",
      "align_content": null,
      "align_items": null,
      "align_self": null,
      "border": null,
      "bottom": null,
      "display": null,
      "flex": null,
      "flex_flow": null,
      "grid_area": null,
      "grid_auto_columns": null,
      "grid_auto_flow": null,
      "grid_auto_rows": null,
      "grid_column": null,
      "grid_gap": null,
      "grid_row": null,
      "grid_template_areas": null,
      "grid_template_columns": null,
      "grid_template_rows": null,
      "height": null,
      "justify_content": null,
      "justify_items": null,
      "left": null,
      "margin": null,
      "max_height": null,
      "max_width": null,
      "min_height": null,
      "min_width": null,
      "object_fit": null,
      "object_position": null,
      "order": null,
      "overflow": null,
      "overflow_x": null,
      "overflow_y": null,
      "padding": null,
      "right": null,
      "top": null,
      "visibility": null,
      "width": null
     }
    }
   }
  }
 },
 "nbformat": 4,
 "nbformat_minor": 1
}
