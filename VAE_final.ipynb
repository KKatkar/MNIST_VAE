{
 "cells": [
  {
   "cell_type": "code",
   "execution_count": 4,
   "metadata": {},
   "outputs": [],
   "source": [
    "import torch\n",
    "import torchvision\n",
    "import torch.optim as optim\n",
    "import argparse\n",
    "import matplotlib\n",
    "import numpy as np\n",
    "import torch.nn as nn\n",
    "import matplotlib.pyplot as plt\n",
    "import torchvision.transforms as transforms\n",
    "import model\n",
    "from tqdm import tqdm\n",
    "from torchvision import datasets\n",
    "from scipy.stats import norm\n",
    "from torch.utils.data import DataLoader\n",
    "from torchvision.utils import save_image\n",
    "\n",
    "from matplotlib import pyplot as plt\n",
    "matplotlib.style.use('ggplot')"
   ]
  },
  {
   "cell_type": "code",
   "execution_count": 5,
   "metadata": {},
   "outputs": [],
   "source": [
    "losses_train = []\n",
    "losses_val = []\n",
    "i_score_train = []\n",
    "i_score_val=[]"
   ]
  },
  {
   "cell_type": "code",
   "execution_count": 6,
   "metadata": {},
   "outputs": [],
   "source": [
    "# construct the argument parser and parser the arguments\n",
    "# parser = argparse.ArgumentParser()\n",
    "# parser.add_argument('-e', '--epochs', default=10, type=int, \n",
    "#                     help='number of epochs to train the VAE for')\n",
    "# args = vars(parser.parse_args())"
   ]
  },
  {
   "cell_type": "code",
   "execution_count": 7,
   "metadata": {},
   "outputs": [],
   "source": [
    "#Learning parameters\n",
    "epochs = 10\n",
    "batch_size = 256\n",
    "lr = 0.0002\n",
    "device = torch.device('cuda' if torch.cuda.is_available() else 'cpu')\n"
   ]
  },
  {
   "cell_type": "code",
   "execution_count": 8,
   "metadata": {},
   "outputs": [],
   "source": [
    "# transforms\n",
    "transform = transforms.Compose([\n",
    "    transforms.ToTensor(),\n",
    "])\n",
    "\n",
    "train_data = datasets.MNIST(\n",
    "    root='../input/data',\n",
    "    train=True,\n",
    "    download=True,\n",
    "    transform=transform\n",
    ")\n",
    "torch.Size([14000,28,28])\n",
    "val_data = datasets.MNIST(\n",
    "    root='../input/data',\n",
    "    train=False,\n",
    "    download=True,\n",
    "    transform=transform\n",
    ")\n",
    "torch.Size([6000,28,28])\n",
    "# training and validation data loaders\n",
    "train_loader = DataLoader(\n",
    "    train_data,\n",
    "    batch_size=batch_size,\n",
    "    shuffle=True\n",
    ")\n",
    "val_loader = DataLoader(\n",
    "    val_data,\n",
    "    batch_size=batch_size,\n",
    "    shuffle=False\n",
    ")"
   ]
  },
  {
   "cell_type": "code",
   "execution_count": 9,
   "metadata": {},
   "outputs": [
    {
     "name": "stdout",
     "output_type": "stream",
     "text": [
      "LinearVAE(\n",
      "  (fc1): Linear(in_features=784, out_features=512, bias=True)\n",
      "  (fc2): Linear(in_features=512, out_features=256, bias=True)\n",
      "  (fc31): Linear(in_features=256, out_features=2, bias=True)\n",
      "  (fc32): Linear(in_features=256, out_features=2, bias=True)\n",
      "  (fc4): Linear(in_features=2, out_features=256, bias=True)\n",
      "  (fc5): Linear(in_features=256, out_features=512, bias=True)\n",
      "  (fc6): Linear(in_features=512, out_features=784, bias=True)\n",
      ")\n"
     ]
    }
   ],
   "source": [
    "model = model.LinearVAE().to(device)\n",
    "print(model)\n",
    "optimizer = optim.Adam(model.parameters(), lr=lr)\n",
    "criterion = nn.BCELoss(reduction='sum')"
   ]
  },
  {
   "cell_type": "code",
   "execution_count": 39,
   "metadata": {},
   "outputs": [],
   "source": [
    "def final_loss(bce_loss, mu, logvar):\n",
    "    \"\"\"\n",
    "    This function will add the reconstruction loss (BCELoss) and the \n",
    "    KL-Divergence.\n",
    "    KL-Divergence = 0.5 * sum(1 + log(sigma^2) - mu^2 - sigma^2)\n",
    "    :param bce_loss: recontruction loss\n",
    "    :param mu: the mean from the latent vector\n",
    "    :param logvar: log variance from the latent vector\n",
    "    \"\"\"\n",
    "    BCE = bce_loss \n",
    "    KLD = -0.5 * torch.sum(1 + logvar - mu.pow(2) - logvar.exp())\n",
    "#     print(KLD.item())\n",
    "#     sum_kld = KLD.sum(axis=1)\n",
    "    avg_kld = np.mean(KLD.item())\n",
    "    i_score = np.exp(avg_kld)\n",
    "    return BCE + KLD, i_score"
   ]
  },
  {
   "cell_type": "code",
   "execution_count": 23,
   "metadata": {},
   "outputs": [],
   "source": [
    "def fit(model, dataloader):\n",
    "    model.train()\n",
    "    running_loss = 0.0\n",
    "    inception_score = 0.0\n",
    "    for i, data in tqdm(enumerate(dataloader), total=int(len(train_data)/dataloader.batch_size)):\n",
    "        data, _ = data\n",
    "        data = data.to(device)\n",
    "        data = data.view(data.size(0), -1)\n",
    "        optimizer.zero_grad()\n",
    "        reconstruction, mu, logvar = model(data)\n",
    "        bce_loss = criterion(reconstruction, data)\n",
    "        loss,inception_score = final_loss(bce_loss, mu, logvar)\n",
    "        running_loss += loss.item()\n",
    "        loss.backward()\n",
    "        optimizer.step()\n",
    "    train_loss = running_loss/len(dataloader.dataset)\n",
    "    losses_train.append(train_loss)\n",
    "    i_score_train.append(inception_score)\n",
    "    return train_loss"
   ]
  },
  {
   "cell_type": "code",
   "execution_count": 24,
   "metadata": {},
   "outputs": [],
   "source": [
    "def validate(model, dataloader):\n",
    "    model.eval()\n",
    "    running_loss = 0.0\n",
    "    inception_score = 0.0\n",
    "    with torch.no_grad():\n",
    "        for i, data in tqdm(enumerate(dataloader), total=int(len(val_data)/dataloader.batch_size)):\n",
    "            data, _ = data\n",
    "            data = data.to(device)\n",
    "            data = data.view(data.size(0), -1)\n",
    "            reconstruction, mu, logvar = model(data)\n",
    "            bce_loss = criterion(reconstruction, data)\n",
    "            loss,inception_score = final_loss(bce_loss, mu, logvar)\n",
    "            running_loss += loss.item()\n",
    "        \n",
    "            # save the last batch input and output of every epoch\n",
    "            if i == int(len(val_data)/dataloader.batch_size) - 1:\n",
    "                num_rows = 8\n",
    "                both = torch.cat((data.view(batch_size, 1, 28, 28)[:8], \n",
    "                                  reconstruction.view(batch_size, 1, 28, 28)[:8]))\n",
    "                save_image(both.cpu(), f\"../outputs/output{epoch}.png\", nrow=num_rows)\n",
    "    val_loss = running_loss/len(dataloader.dataset)\n",
    "    losses_val.append(val_loss)\n",
    "    i_score_val.append(inception_score)\n",
    "    return val_loss"
   ]
  },
  {
   "cell_type": "code",
   "execution_count": 40,
   "metadata": {},
   "outputs": [
    {
     "name": "stderr",
     "output_type": "stream",
     "text": [
      "  1%|█                                                                                 | 3/234 [00:00<00:09, 23.45it/s]"
     ]
    },
    {
     "name": "stdout",
     "output_type": "stream",
     "text": [
      "Epoch 1 of 10\n"
     ]
    },
    {
     "name": "stderr",
     "output_type": "stream",
     "text": [
      "  9%|███████▌                                                                         | 22/234 [00:00<00:05, 35.94it/s]<ipython-input-39-7ecc962c0675>:15: RuntimeWarning: overflow encountered in exp\n",
      "  i_score = np.exp(avg_kld)\n",
      "235it [00:05, 44.32it/s]                                                                                               \n",
      "40it [00:00, 47.18it/s]                                                                                                \n",
      "  1%|█                                                                                 | 3/234 [00:00<00:08, 28.87it/s]"
     ]
    },
    {
     "name": "stdout",
     "output_type": "stream",
     "text": [
      "Train Loss: 236.4208\n",
      "Val Loss: 191.2523\n",
      "Epoch 2 of 10\n"
     ]
    },
    {
     "name": "stderr",
     "output_type": "stream",
     "text": [
      "235it [00:05, 44.18it/s]                                                                                               \n",
      "40it [00:00, 47.63it/s]                                                                                                \n",
      "  2%|█▍                                                                                | 4/234 [00:00<00:07, 31.53it/s]"
     ]
    },
    {
     "name": "stdout",
     "output_type": "stream",
     "text": [
      "Train Loss: 180.9674\n",
      "Val Loss: 174.6276\n",
      "Epoch 3 of 10\n"
     ]
    },
    {
     "name": "stderr",
     "output_type": "stream",
     "text": [
      "235it [00:05, 43.76it/s]                                                                                               \n",
      "40it [00:00, 51.58it/s]                                                                                                \n",
      "  2%|█▍                                                                                | 4/234 [00:00<00:07, 31.27it/s]"
     ]
    },
    {
     "name": "stdout",
     "output_type": "stream",
     "text": [
      "Train Loss: 171.8795\n",
      "Val Loss: 168.9068\n",
      "Epoch 4 of 10\n"
     ]
    },
    {
     "name": "stderr",
     "output_type": "stream",
     "text": [
      "235it [00:05, 43.99it/s]                                                                                               \n",
      "40it [00:00, 51.05it/s]                                                                                                \n",
      "  2%|█▍                                                                                | 4/234 [00:00<00:06, 33.36it/s]"
     ]
    },
    {
     "name": "stdout",
     "output_type": "stream",
     "text": [
      "Train Loss: 167.4612\n",
      "Val Loss: 165.7983\n",
      "Epoch 5 of 10\n"
     ]
    },
    {
     "name": "stderr",
     "output_type": "stream",
     "text": [
      "235it [00:05, 42.76it/s]                                                                                               \n",
      "40it [00:00, 51.58it/s]                                                                                                \n",
      "  2%|█▍                                                                                | 4/234 [00:00<00:06, 33.35it/s]"
     ]
    },
    {
     "name": "stdout",
     "output_type": "stream",
     "text": [
      "Train Loss: 164.4430\n",
      "Val Loss: 163.0300\n",
      "Epoch 6 of 10\n"
     ]
    },
    {
     "name": "stderr",
     "output_type": "stream",
     "text": [
      "235it [00:05, 39.36it/s]                                                                                               \n",
      "40it [00:00, 40.26it/s]                                                                                                \n",
      "  2%|█▍                                                                                | 4/234 [00:00<00:07, 31.27it/s]"
     ]
    },
    {
     "name": "stdout",
     "output_type": "stream",
     "text": [
      "Train Loss: 162.4254\n",
      "Val Loss: 161.7179\n",
      "Epoch 7 of 10\n"
     ]
    },
    {
     "name": "stderr",
     "output_type": "stream",
     "text": [
      "235it [00:05, 41.69it/s]                                                                                               \n",
      "40it [00:00, 48.11it/s]                                                                                                \n",
      "  2%|█▍                                                                                | 4/234 [00:00<00:07, 31.26it/s]"
     ]
    },
    {
     "name": "stdout",
     "output_type": "stream",
     "text": [
      "Train Loss: 160.9419\n",
      "Val Loss: 160.5296\n",
      "Epoch 8 of 10\n"
     ]
    },
    {
     "name": "stderr",
     "output_type": "stream",
     "text": [
      "235it [00:05, 42.29it/s]                                                                                               \n",
      "40it [00:00, 50.04it/s]                                                                                                \n",
      "  2%|█▍                                                                                | 4/234 [00:00<00:06, 33.36it/s]"
     ]
    },
    {
     "name": "stdout",
     "output_type": "stream",
     "text": [
      "Train Loss: 159.7183\n",
      "Val Loss: 159.5294\n",
      "Epoch 9 of 10\n"
     ]
    },
    {
     "name": "stderr",
     "output_type": "stream",
     "text": [
      "235it [00:05, 40.54it/s]                                                                                               \n",
      "40it [00:00, 49.54it/s]                                                                                                \n",
      "  2%|█▍                                                                                | 4/234 [00:00<00:07, 31.27it/s]"
     ]
    },
    {
     "name": "stdout",
     "output_type": "stream",
     "text": [
      "Train Loss: 158.6250\n",
      "Val Loss: 158.3846\n",
      "Epoch 10 of 10\n"
     ]
    },
    {
     "name": "stderr",
     "output_type": "stream",
     "text": [
      "235it [00:05, 40.28it/s]                                                                                               \n",
      "40it [00:01, 35.23it/s]                                                                                                "
     ]
    },
    {
     "name": "stdout",
     "output_type": "stream",
     "text": [
      "Train Loss: 157.5973\n",
      "Val Loss: 157.5556\n"
     ]
    },
    {
     "name": "stderr",
     "output_type": "stream",
     "text": [
      "\n"
     ]
    }
   ],
   "source": [
    "train_loss = []\n",
    "val_loss = []\n",
    "for epoch in range(epochs):\n",
    "    print(f\"Epoch {epoch+1} of {epochs}\")\n",
    "    train_epoch_loss = fit(model, train_loader)\n",
    "    val_epoch_loss = validate(model, val_loader)\n",
    "    train_loss.append(train_epoch_loss)\n",
    "    val_loss.append(val_epoch_loss)\n",
    "    print(f\"Train Loss: {train_epoch_loss:.4f}\")\n",
    "    print(f\"Val Loss: {val_epoch_loss:.4f}\")"
   ]
  },
  {
   "cell_type": "code",
   "execution_count": 48,
   "metadata": {},
   "outputs": [
    {
     "data": {
      "image/png": "[encoded data removed]",
      "text/plain": [
       "<Figure size 432x288 with 1 Axes>"
      ]
     },
     "metadata": {},
     "output_type": "display_data"
    },
    {
     "data": {
      "image/png": "[encoded data removed]",
      "text/plain": [
       "<Figure size 432x288 with 1 Axes>"
      ]
     },
     "metadata": {},
     "output_type": "display_data"
    }
   ],
   "source": [
    "plt.figure()\n",
    "plt.plot(losses_train, label='Training loss')\n",
    "plt.plot(losses_val, label='Validation Loss')\n",
    "plt.legend()\n",
    "plt.savefig('VAE_outputs/VAEloss.png')\n",
    "\n",
    "plt.figure()\n",
    "plt.plot(i_score_train, label = \"Inception Score of Train set\")\n",
    "plt.plot(i_score_val, label = \"Inception Score of Validation set\")\n",
    "plt.title(\"Inception score\")\n",
    "plt.legend()\n",
    "#plt.show()\n",
    "plt.savefig('VAE_outputs/ISloss.png')"
   ]
  },
  {
   "cell_type": "code",
   "execution_count": 42,
   "metadata": {},
   "outputs": [
    {
     "data": {
      "text/plain": [
       "[1.3820262115032243e+119,\n",
       " 3.6898451640232145e+181,\n",
       " 1.8267382112091771e+196,\n",
       " 4.615673968741475e+219,\n",
       " 1.9451313953153009e+226,\n",
       " 2.5435422024036215e+214,\n",
       " 9.363608002199595e+208,\n",
       " 7.563709593260374e+226,\n",
       " 4.635463546796608e+208,\n",
       " 1.694941464258712e+231]"
      ]
     },
     "execution_count": 42,
     "metadata": {},
     "output_type": "execute_result"
    }
   ],
   "source": [
    "i_score_train"
   ]
  },
  {
   "cell_type": "code",
   "execution_count": 43,
   "metadata": {},
   "outputs": [
    {
     "data": {
      "text/plain": [
       "[2.9057509197555435e+29,\n",
       " 6.554291945641369e+39,\n",
       " 2.8403723349224016e+40,\n",
       " 9.067438376652991e+39,\n",
       " 7.374387176908738e+38,\n",
       " 3.472958494111199e+38,\n",
       " 1.1347535764237511e+38,\n",
       " 1.0612956417423575e+38,\n",
       " 1.031428337241723e+37,\n",
       " 7.058489062471674e+37]"
      ]
     },
     "execution_count": 43,
     "metadata": {},
     "output_type": "execute_result"
    }
   ],
   "source": [
    "i_score_val"
   ]
  },
  {
   "cell_type": "code",
   "execution_count": 46,
   "metadata": {},
   "outputs": [
    {
     "data": {
      "image/png": "[encoded data removed]",
      "text/plain": [
       "<Figure size 432x288 with 1 Axes>"
      ]
     },
     "metadata": {},
     "output_type": "display_data"
    }
   ],
   "source": [
    "plt.figure()\n",
    "plt.plot(i_score_train, label = \"Inception Score of Train set\")\n",
    "plt.plot(i_score_val, label = \"Inception Score of Validation set\")\n",
    "plt.title(\"Inception score\")\n",
    "plt.legend()\n",
    "#plt.show()\n",
    "plt.savefig('VAE_outputs/ISloss.png')"
   ]
  },
  {
   "cell_type": "code",
   "execution_count": null,
   "metadata": {},
   "outputs": [],
   "source": []
  }
 ],
 "metadata": {
  "kernelspec": {
   "display_name": "Python 3",
   "language": "python",
   "name": "python3"
  },
  "language_info": {
   "codemirror_mode": {
    "name": "ipython",
    "version": 3
   },
   "file_extension": ".py",
   "mimetype": "text/x-python",
   "name": "python",
   "nbconvert_exporter": "python",
   "pygments_lexer": "ipython3",
   "version": "3.8.3"
  }
 },
 "nbformat": 4,
 "nbformat_minor": 4
}
